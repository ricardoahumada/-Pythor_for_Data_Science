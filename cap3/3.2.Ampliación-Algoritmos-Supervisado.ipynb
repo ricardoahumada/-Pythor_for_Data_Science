{
 "cells": [
  {
   "cell_type": "code",
   "execution_count": 1,
   "id": "da81190e",
   "metadata": {},
   "outputs": [],
   "source": [
    "import warnings\n",
    "warnings.filterwarnings(\"ignore\")\n",
    "\n",
    "import pandas as pd\n",
    "import numpy as np\n",
    "import os\n",
    "\n",
    "from sklearn import preprocessing\n",
    "from sklearn.model_selection import train_test_split\n",
    "from sklearn.metrics import confusion_matrix, f1_score\n",
    "\n",
    "from sklearn.linear_model import LogisticRegression\n",
    "from sklearn.metrics import mean_squared_error, r2_score\n",
    "from sklearn import tree\n",
    "\n",
    "import matplotlib.pyplot as plt\n",
    "from itertools import product\n",
    "import seaborn as sns\n",
    "from tqdm import tqdm\n",
    "\n",
    "pd.set_option('display.float_format', lambda x: '%.3f' % x)"
   ]
  },
  {
   "cell_type": "markdown",
   "id": "e99eb169",
   "metadata": {},
   "source": [
    "# Regresión Logística"
   ]
  },
  {
   "cell_type": "markdown",
   "id": "1339d2d1",
   "metadata": {},
   "source": [
    "Algoritmo de CLASIFICACIÓN, que tradicionalmente es binario"
   ]
  },
  {
   "cell_type": "code",
   "execution_count": 3,
   "id": "f16752c4",
   "metadata": {},
   "outputs": [],
   "source": [
    "df = pd.read_csv(\"../data/2008_small.zip\",nrows=100000)\n",
    "df = df[[\"AirTime\",\"Distance\",\"TaxiOut\",\"ArrDelay\",\"DepDelay\"]].dropna()\n",
    "\n",
    "X = df[df.columns[df.columns != \"ArrDelay\"]]\n",
    "filtro = df[\"ArrDelay\"] > 10 \n",
    "df[\"ArrDelay\"][filtro] = \"Delayed\"\n",
    "df[\"ArrDelay\"][filtro== False] = \"Not Delayed\"\n",
    "Y = df[\"ArrDelay\"]\n",
    "\n",
    "X_train, X_test, y_train, y_test = train_test_split(X, Y, test_size=.2, random_state=2)"
   ]
  },
  {
   "cell_type": "code",
   "execution_count": 4,
   "id": "dc6c91cf",
   "metadata": {},
   "outputs": [
    {
     "data": {
      "text/plain": [
       "array(['Not Delayed', 'Delayed', 'Not Delayed', ..., 'Not Delayed',\n",
       "       'Not Delayed', 'Not Delayed'], dtype=object)"
      ]
     },
     "execution_count": 4,
     "metadata": {},
     "output_type": "execute_result"
    }
   ],
   "source": [
    "clf = LogisticRegression(penalty = \"none\").fit(X_train, y_train)\n",
    "predicciones = clf.predict(X_test)\n",
    "predicciones"
   ]
  },
  {
   "cell_type": "code",
   "execution_count": 5,
   "id": "31dc3290",
   "metadata": {
    "scrolled": false
   },
   "outputs": [
    {
     "data": {
      "image/png": "[encoded data removed]",
      "text/plain": [
       "<Figure size 640x480 with 2 Axes>"
      ]
     },
     "metadata": {},
     "output_type": "display_data"
    }
   ],
   "source": [
    "confusion = confusion_matrix(y_test,predicciones)\n",
    "ax = sns.heatmap( confusion, annot=True,fmt='.6g',\n",
    "            xticklabels= clf.classes_, \n",
    "            yticklabels=clf.classes_)\n",
    "\n",
    "# bottom, top = ax.get_ylim()\n",
    "# ax.set_ylim(bottom + 0.5, top - 0.5)"
   ]
  },
  {
   "cell_type": "code",
   "execution_count": 6,
   "id": "9472e18c",
   "metadata": {},
   "outputs": [
    {
     "data": {
      "text/plain": [
       "Not Delayed   0.740\n",
       "Delayed       0.260\n",
       "Name: ArrDelay, dtype: float64"
      ]
     },
     "execution_count": 6,
     "metadata": {},
     "output_type": "execute_result"
    }
   ],
   "source": [
    "y_test.value_counts() / len(y_test)"
   ]
  },
  {
   "cell_type": "code",
   "execution_count": 7,
   "id": "f9fbddb0",
   "metadata": {},
   "outputs": [
    {
     "data": {
      "text/plain": [
       "0.9189714227288993"
      ]
     },
     "execution_count": 7,
     "metadata": {},
     "output_type": "execute_result"
    }
   ],
   "source": [
    "np.mean(predicciones == y_test)"
   ]
  },
  {
   "cell_type": "markdown",
   "id": "77659bc3",
   "metadata": {},
   "source": [
    "### F1 Score \n",
    "En modelos de clasificación una métrica común para evaluar la calidad del modelo es la puntuación F1.\n",
    "\n",
    "El score F1 se define como la **media armónica de precisión y exhaustividad**.\n",
    "\n",
    "F1 Score = 2 * (Precision * Recall) / (Precision + Recall)\n",
    "\n"
   ]
  },
  {
   "cell_type": "code",
   "execution_count": 8,
   "id": "de94113e",
   "metadata": {
    "scrolled": false
   },
   "outputs": [
    {
     "data": {
      "text/plain": [
       "0.8899431386333503"
      ]
     },
     "execution_count": 8,
     "metadata": {},
     "output_type": "execute_result"
    }
   ],
   "source": [
    "f1_score(y_test, predicciones, average='macro')"
   ]
  },
  {
   "cell_type": "code",
   "execution_count": 9,
   "id": "3d6c88c9",
   "metadata": {},
   "outputs": [
    {
     "data": {
      "text/plain": [
       "array(['Delayed', 'Not Delayed'], dtype=object)"
      ]
     },
     "execution_count": 9,
     "metadata": {},
     "output_type": "execute_result"
    }
   ],
   "source": [
    "clf.classes_"
   ]
  },
  {
   "cell_type": "code",
   "execution_count": 10,
   "id": "ad498479",
   "metadata": {},
   "outputs": [
    {
     "data": {
      "text/plain": [
       "array(['Not Delayed', 'Delayed', 'Not Delayed', ..., 'Not Delayed',\n",
       "       'Not Delayed', 'Not Delayed'], dtype=object)"
      ]
     },
     "execution_count": 10,
     "metadata": {},
     "output_type": "execute_result"
    }
   ],
   "source": [
    "predicciones"
   ]
  },
  {
   "cell_type": "code",
   "execution_count": 11,
   "id": "9cb2c688",
   "metadata": {},
   "outputs": [
    {
     "data": {
      "text/plain": [
       "array([[0.0023, 0.9977],\n",
       "       [1.    , 0.    ],\n",
       "       [0.    , 1.    ],\n",
       "       ...,\n",
       "       [0.0214, 0.9786],\n",
       "       [0.1613, 0.8387],\n",
       "       [0.2137, 0.7863]])"
      ]
     },
     "execution_count": 11,
     "metadata": {},
     "output_type": "execute_result"
    }
   ],
   "source": [
    "clf.predict_proba(X_test).round(4)"
   ]
  },
  {
   "cell_type": "code",
   "execution_count": 12,
   "id": "b3a32e16",
   "metadata": {},
   "outputs": [],
   "source": [
    "prob_delayed = clf.predict_proba(X_test)[:,0]\n",
    "\n",
    "delayedseguras = prob_delayed > 0.6\n",
    "notdelayedseguras = prob_delayed < 0.4\n",
    "torevise = (prob_delayed >= 0.4) & (prob_delayed <= 0.6)"
   ]
  },
  {
   "cell_type": "code",
   "execution_count": 13,
   "id": "b646cd85",
   "metadata": {},
   "outputs": [
    {
     "data": {
      "text/html": [
       "<div>\n",
       "<style scoped>\n",
       "    .dataframe tbody tr th:only-of-type {\n",
       "        vertical-align: middle;\n",
       "    }\n",
       "\n",
       "    .dataframe tbody tr th {\n",
       "        vertical-align: top;\n",
       "    }\n",
       "\n",
       "    .dataframe thead th {\n",
       "        text-align: right;\n",
       "    }\n",
       "</style>\n",
       "<table border=\"1\" class=\"dataframe\">\n",
       "  <thead>\n",
       "    <tr style=\"text-align: right;\">\n",
       "      <th></th>\n",
       "      <th>AirTime</th>\n",
       "      <th>Distance</th>\n",
       "      <th>TaxiOut</th>\n",
       "      <th>DepDelay</th>\n",
       "    </tr>\n",
       "  </thead>\n",
       "  <tbody>\n",
       "    <tr>\n",
       "      <th>46242</th>\n",
       "      <td>137.000</td>\n",
       "      <td>1062</td>\n",
       "      <td>14.000</td>\n",
       "      <td>84.000</td>\n",
       "    </tr>\n",
       "    <tr>\n",
       "      <th>57991</th>\n",
       "      <td>106.000</td>\n",
       "      <td>694</td>\n",
       "      <td>13.000</td>\n",
       "      <td>46.000</td>\n",
       "    </tr>\n",
       "    <tr>\n",
       "      <th>36435</th>\n",
       "      <td>63.000</td>\n",
       "      <td>526</td>\n",
       "      <td>50.000</td>\n",
       "      <td>123.000</td>\n",
       "    </tr>\n",
       "    <tr>\n",
       "      <th>26472</th>\n",
       "      <td>33.000</td>\n",
       "      <td>153</td>\n",
       "      <td>22.000</td>\n",
       "      <td>85.000</td>\n",
       "    </tr>\n",
       "    <tr>\n",
       "      <th>3411</th>\n",
       "      <td>169.000</td>\n",
       "      <td>802</td>\n",
       "      <td>14.000</td>\n",
       "      <td>-4.000</td>\n",
       "    </tr>\n",
       "    <tr>\n",
       "      <th>...</th>\n",
       "      <td>...</td>\n",
       "      <td>...</td>\n",
       "      <td>...</td>\n",
       "      <td>...</td>\n",
       "    </tr>\n",
       "    <tr>\n",
       "      <th>62902</th>\n",
       "      <td>93.000</td>\n",
       "      <td>644</td>\n",
       "      <td>9.000</td>\n",
       "      <td>90.000</td>\n",
       "    </tr>\n",
       "    <tr>\n",
       "      <th>4797</th>\n",
       "      <td>203.000</td>\n",
       "      <td>1372</td>\n",
       "      <td>22.000</td>\n",
       "      <td>110.000</td>\n",
       "    </tr>\n",
       "    <tr>\n",
       "      <th>47573</th>\n",
       "      <td>107.000</td>\n",
       "      <td>802</td>\n",
       "      <td>20.000</td>\n",
       "      <td>34.000</td>\n",
       "    </tr>\n",
       "    <tr>\n",
       "      <th>22807</th>\n",
       "      <td>65.000</td>\n",
       "      <td>413</td>\n",
       "      <td>28.000</td>\n",
       "      <td>10.000</td>\n",
       "    </tr>\n",
       "    <tr>\n",
       "      <th>96963</th>\n",
       "      <td>103.000</td>\n",
       "      <td>761</td>\n",
       "      <td>19.000</td>\n",
       "      <td>22.000</td>\n",
       "    </tr>\n",
       "  </tbody>\n",
       "</table>\n",
       "<p>4094 rows × 4 columns</p>\n",
       "</div>"
      ],
      "text/plain": [
       "       AirTime  Distance  TaxiOut  DepDelay\n",
       "46242  137.000      1062   14.000    84.000\n",
       "57991  106.000       694   13.000    46.000\n",
       "36435   63.000       526   50.000   123.000\n",
       "26472   33.000       153   22.000    85.000\n",
       "3411   169.000       802   14.000    -4.000\n",
       "...        ...       ...      ...       ...\n",
       "62902   93.000       644    9.000    90.000\n",
       "4797   203.000      1372   22.000   110.000\n",
       "47573  107.000       802   20.000    34.000\n",
       "22807   65.000       413   28.000    10.000\n",
       "96963  103.000       761   19.000    22.000\n",
       "\n",
       "[4094 rows x 4 columns]"
      ]
     },
     "execution_count": 13,
     "metadata": {},
     "output_type": "execute_result"
    }
   ],
   "source": [
    "X_test[delayedseguras]"
   ]
  },
  {
   "cell_type": "markdown",
   "id": "82c6e2e5",
   "metadata": {},
   "source": [
    "# Árbol de Regresión"
   ]
  },
  {
   "cell_type": "code",
   "execution_count": 14,
   "id": "525fe1d9",
   "metadata": {},
   "outputs": [],
   "source": [
    "df = pd.read_csv(\"../data/2008_small.zip\",index_col = 0, nrows = 200000)"
   ]
  },
  {
   "cell_type": "code",
   "execution_count": 15,
   "id": "424747b1",
   "metadata": {},
   "outputs": [],
   "source": [
    "df = df.dropna(subset = [\"ArrDelay\"])\n",
    "df = df[df.AirTime > 0]\n",
    "\n",
    "X = df[['AirTime','Distance','TaxiIn','TaxiOut', 'DepDelay']]\n",
    "Y = df[[\"ArrDelay\"]]"
   ]
  },
  {
   "cell_type": "code",
   "execution_count": 16,
   "id": "c0e1e0a8",
   "metadata": {},
   "outputs": [
    {
     "name": "stdout",
     "output_type": "stream",
     "text": [
      "R2 INTERNA:  0.9999627244847715\n",
      "R2 EXTERNA:  0.8831018473857203\n"
     ]
    }
   ],
   "source": [
    "X_train, X_test, y_train, y_test = train_test_split(X, Y, test_size=.2, random_state=2)\n",
    "\n",
    "arbol = tree.DecisionTreeRegressor()\n",
    "arbol = arbol.fit(X_train, y_train)\n",
    "\n",
    "prediccionesINTERNA = arbol.predict(X_train)\n",
    "print(\"R2 INTERNA: \",r2_score(y_train, prediccionesINTERNA))\n",
    "\n",
    "prediccionesEXTERNA = arbol.predict(X_test)\n",
    "print(\"R2 EXTERNA: \",r2_score(y_test, prediccionesEXTERNA))"
   ]
  },
  {
   "cell_type": "markdown",
   "id": "a47e6432",
   "metadata": {},
   "source": [
    ">Ajuste de parámetros (ensayo y error)"
   ]
  },
  {
   "cell_type": "code",
   "execution_count": 17,
   "id": "2ef8cab3",
   "metadata": {},
   "outputs": [],
   "source": [
    "X_train, X_test, y_train, y_test = train_test_split(X, Y, test_size=.2, random_state=2)"
   ]
  },
  {
   "cell_type": "code",
   "execution_count": 18,
   "id": "978215b0",
   "metadata": {},
   "outputs": [
    {
     "name": "stdout",
     "output_type": "stream",
     "text": [
      "R2 INTERNA:  0.9335996549350403\n",
      "R2 EXTERNA:  0.919921204048641\n"
     ]
    }
   ],
   "source": [
    "arbol = tree.DecisionTreeRegressor(max_depth=10)\n",
    "arbol = arbol.fit(X_train, y_train)\n",
    "\n",
    "prediccionesINTERNA = arbol.predict(X_train)\n",
    "print(\"R2 INTERNA: \",r2_score(y_train, prediccionesINTERNA))\n",
    "\n",
    "prediccionesEXTERNA = arbol.predict(X_test)\n",
    "print(\"R2 EXTERNA: \",r2_score(y_test, prediccionesEXTERNA))"
   ]
  },
  {
   "cell_type": "markdown",
   "id": "1b46847c",
   "metadata": {},
   "source": [
    "### Ensayo de parámetros (más automatizado)"
   ]
  },
  {
   "cell_type": "markdown",
   "id": "2aad3b35",
   "metadata": {},
   "source": [
    "Estructura de guardado de datos (basada en una función de R, llamada expand.grid)"
   ]
  },
  {
   "cell_type": "code",
   "execution_count": 19,
   "id": "9246cd83",
   "metadata": {},
   "outputs": [
    {
     "data": {
      "text/html": [
       "<div>\n",
       "<style scoped>\n",
       "    .dataframe tbody tr th:only-of-type {\n",
       "        vertical-align: middle;\n",
       "    }\n",
       "\n",
       "    .dataframe tbody tr th {\n",
       "        vertical-align: top;\n",
       "    }\n",
       "\n",
       "    .dataframe thead th {\n",
       "        text-align: right;\n",
       "    }\n",
       "</style>\n",
       "<table border=\"1\" class=\"dataframe\">\n",
       "  <thead>\n",
       "    <tr style=\"text-align: right;\">\n",
       "      <th></th>\n",
       "      <th>semillas</th>\n",
       "      <th>profundidades</th>\n",
       "      <th>splitter</th>\n",
       "      <th>R2</th>\n",
       "    </tr>\n",
       "  </thead>\n",
       "  <tbody>\n",
       "    <tr>\n",
       "      <th>0</th>\n",
       "      <td>0</td>\n",
       "      <td>3</td>\n",
       "      <td>best</td>\n",
       "      <td>NaN</td>\n",
       "    </tr>\n",
       "    <tr>\n",
       "      <th>1</th>\n",
       "      <td>0</td>\n",
       "      <td>3</td>\n",
       "      <td>random</td>\n",
       "      <td>NaN</td>\n",
       "    </tr>\n",
       "    <tr>\n",
       "      <th>2</th>\n",
       "      <td>0</td>\n",
       "      <td>4</td>\n",
       "      <td>best</td>\n",
       "      <td>NaN</td>\n",
       "    </tr>\n",
       "    <tr>\n",
       "      <th>3</th>\n",
       "      <td>0</td>\n",
       "      <td>4</td>\n",
       "      <td>random</td>\n",
       "      <td>NaN</td>\n",
       "    </tr>\n",
       "    <tr>\n",
       "      <th>4</th>\n",
       "      <td>0</td>\n",
       "      <td>5</td>\n",
       "      <td>best</td>\n",
       "      <td>NaN</td>\n",
       "    </tr>\n",
       "    <tr>\n",
       "      <th>5</th>\n",
       "      <td>0</td>\n",
       "      <td>5</td>\n",
       "      <td>random</td>\n",
       "      <td>NaN</td>\n",
       "    </tr>\n",
       "    <tr>\n",
       "      <th>6</th>\n",
       "      <td>0</td>\n",
       "      <td>6</td>\n",
       "      <td>best</td>\n",
       "      <td>NaN</td>\n",
       "    </tr>\n",
       "    <tr>\n",
       "      <th>7</th>\n",
       "      <td>0</td>\n",
       "      <td>6</td>\n",
       "      <td>random</td>\n",
       "      <td>NaN</td>\n",
       "    </tr>\n",
       "    <tr>\n",
       "      <th>8</th>\n",
       "      <td>0</td>\n",
       "      <td>7</td>\n",
       "      <td>best</td>\n",
       "      <td>NaN</td>\n",
       "    </tr>\n",
       "    <tr>\n",
       "      <th>9</th>\n",
       "      <td>0</td>\n",
       "      <td>7</td>\n",
       "      <td>random</td>\n",
       "      <td>NaN</td>\n",
       "    </tr>\n",
       "  </tbody>\n",
       "</table>\n",
       "</div>"
      ],
      "text/plain": [
       "   semillas  profundidades splitter  R2\n",
       "0         0              3     best NaN\n",
       "1         0              3   random NaN\n",
       "2         0              4     best NaN\n",
       "3         0              4   random NaN\n",
       "4         0              5     best NaN\n",
       "5         0              5   random NaN\n",
       "6         0              6     best NaN\n",
       "7         0              6   random NaN\n",
       "8         0              7     best NaN\n",
       "9         0              7   random NaN"
      ]
     },
     "execution_count": 19,
     "metadata": {},
     "output_type": "execute_result"
    }
   ],
   "source": [
    "from itertools import product\n",
    "\n",
    "# Esta función no hace falta entenderla en detalle :)\n",
    "def expand_grid(dictionary):\n",
    "    return pd.DataFrame([row for row in product(*dictionary.values())], \n",
    "                       columns=dictionary.keys())\n",
    "\n",
    "parametros = {'semillas': range(0,15), # Vamos a hacer 10 conjuntos distintos de train/test\n",
    "              'profundidades': range(3,25,1), #Vamos a probar profundidades 1, 4, 7..\n",
    "              'splitter': [\"best\", \"random\"], #Y vamos a seleccionar la variable de cada partición de manera óptima / aleatoria\n",
    "              'R2': [np.nan]}\n",
    "\n",
    "dfparam = expand_grid(parametros) # Crea un dataframe con todas las combinaciones de parámetros\n",
    "dfparam.head(10)"
   ]
  },
  {
   "cell_type": "code",
   "execution_count": 20,
   "id": "6707d89f",
   "metadata": {
    "scrolled": true
   },
   "outputs": [
    {
     "name": "stderr",
     "output_type": "stream",
     "text": [
      "100%|██████████████████████████████████████████████████████████████████████████████████████████████| 15/15 [07:04<00:00, 28.27s/it]\n"
     ]
    }
   ],
   "source": [
    "for semilla in tqdm(parametros[\"semillas\"]):\n",
    "    X_train, X_test, y_train, y_test = train_test_split(X, Y, test_size=.2, random_state=semilla)\n",
    "    for prof in parametros[\"profundidades\"]:\n",
    "        for split in parametros[\"splitter\"]:\n",
    "  \n",
    "            arbol = tree.DecisionTreeRegressor(max_depth=prof, splitter=split)\n",
    "            arbol = arbol.fit(X_train, y_train)\n",
    "\n",
    "            prediccionesEXTERNA = arbol.predict(X_test)\n",
    "            dfparam.loc[(dfparam.semillas == semilla) & (dfparam.profundidades == prof) & (dfparam.splitter == split),\"R2\"] = r2_score(y_test, prediccionesEXTERNA)\n"
   ]
  },
  {
   "cell_type": "code",
   "execution_count": null,
   "id": "72083030",
   "metadata": {},
   "outputs": [],
   "source": [
    "for i in tqdm(range(dfparam.shape[0])):\n",
    "    X_train, X_test, y_train, y_test = train_test_split(X, Y, test_size=.2, \n",
    "                                                        random_state=dfparam.loc[i,\"semillas\"])\n",
    "    \n",
    "    arbol = tree.DecisionTreeRegressor(max_depth=dfparam.loc[i,\"profundidades\"], \n",
    "                                       splitter=dfparam.loc[i,\"splitter\"])\n",
    "    arbol = arbol.fit(X_train, y_train)\n",
    "\n",
    "    prediccionesEXTERNA = arbol.predict(X_test)\n",
    "    dfparam.loc[i,\"R2\"] = r2_score(y_test, prediccionesEXTERNA)\n"
   ]
  },
  {
   "cell_type": "code",
   "execution_count": 21,
   "id": "335911af",
   "metadata": {},
   "outputs": [
    {
     "data": {
      "text/html": [
       "<div>\n",
       "<style scoped>\n",
       "    .dataframe tbody tr th:only-of-type {\n",
       "        vertical-align: middle;\n",
       "    }\n",
       "\n",
       "    .dataframe tbody tr th {\n",
       "        vertical-align: top;\n",
       "    }\n",
       "\n",
       "    .dataframe thead th {\n",
       "        text-align: right;\n",
       "    }\n",
       "</style>\n",
       "<table border=\"1\" class=\"dataframe\">\n",
       "  <thead>\n",
       "    <tr style=\"text-align: right;\">\n",
       "      <th></th>\n",
       "      <th>semillas</th>\n",
       "      <th>profundidades</th>\n",
       "      <th>splitter</th>\n",
       "      <th>R2</th>\n",
       "    </tr>\n",
       "  </thead>\n",
       "  <tbody>\n",
       "    <tr>\n",
       "      <th>366</th>\n",
       "      <td>8</td>\n",
       "      <td>10</td>\n",
       "      <td>best</td>\n",
       "      <td>0.929</td>\n",
       "    </tr>\n",
       "    <tr>\n",
       "      <th>14</th>\n",
       "      <td>0</td>\n",
       "      <td>10</td>\n",
       "      <td>best</td>\n",
       "      <td>0.928</td>\n",
       "    </tr>\n",
       "    <tr>\n",
       "      <th>16</th>\n",
       "      <td>0</td>\n",
       "      <td>11</td>\n",
       "      <td>best</td>\n",
       "      <td>0.928</td>\n",
       "    </tr>\n",
       "    <tr>\n",
       "      <th>324</th>\n",
       "      <td>7</td>\n",
       "      <td>11</td>\n",
       "      <td>best</td>\n",
       "      <td>0.928</td>\n",
       "    </tr>\n",
       "    <tr>\n",
       "      <th>12</th>\n",
       "      <td>0</td>\n",
       "      <td>9</td>\n",
       "      <td>best</td>\n",
       "      <td>0.928</td>\n",
       "    </tr>\n",
       "    <tr>\n",
       "      <th>...</th>\n",
       "      <td>...</td>\n",
       "      <td>...</td>\n",
       "      <td>...</td>\n",
       "      <td>...</td>\n",
       "    </tr>\n",
       "    <tr>\n",
       "      <th>441</th>\n",
       "      <td>10</td>\n",
       "      <td>3</td>\n",
       "      <td>random</td>\n",
       "      <td>0.184</td>\n",
       "    </tr>\n",
       "    <tr>\n",
       "      <th>575</th>\n",
       "      <td>13</td>\n",
       "      <td>4</td>\n",
       "      <td>random</td>\n",
       "      <td>0.173</td>\n",
       "    </tr>\n",
       "    <tr>\n",
       "      <th>403</th>\n",
       "      <td>9</td>\n",
       "      <td>6</td>\n",
       "      <td>random</td>\n",
       "      <td>0.158</td>\n",
       "    </tr>\n",
       "    <tr>\n",
       "      <th>1</th>\n",
       "      <td>0</td>\n",
       "      <td>3</td>\n",
       "      <td>random</td>\n",
       "      <td>0.156</td>\n",
       "    </tr>\n",
       "    <tr>\n",
       "      <th>45</th>\n",
       "      <td>1</td>\n",
       "      <td>3</td>\n",
       "      <td>random</td>\n",
       "      <td>0.057</td>\n",
       "    </tr>\n",
       "  </tbody>\n",
       "</table>\n",
       "<p>660 rows × 4 columns</p>\n",
       "</div>"
      ],
      "text/plain": [
       "     semillas  profundidades splitter    R2\n",
       "366         8             10     best 0.929\n",
       "14          0             10     best 0.928\n",
       "16          0             11     best 0.928\n",
       "324         7             11     best 0.928\n",
       "12          0              9     best 0.928\n",
       "..        ...            ...      ...   ...\n",
       "441        10              3   random 0.184\n",
       "575        13              4   random 0.173\n",
       "403         9              6   random 0.158\n",
       "1           0              3   random 0.156\n",
       "45          1              3   random 0.057\n",
       "\n",
       "[660 rows x 4 columns]"
      ]
     },
     "execution_count": 21,
     "metadata": {},
     "output_type": "execute_result"
    }
   ],
   "source": [
    "dfparam.sort_values(\"R2\",ascending=False)"
   ]
  },
  {
   "cell_type": "code",
   "execution_count": 22,
   "id": "a69c15f6",
   "metadata": {},
   "outputs": [
    {
     "data": {
      "text/plain": [
       "profundidades\n",
       "3    0.638\n",
       "4    0.706\n",
       "5    0.793\n",
       "6    0.784\n",
       "7    0.864\n",
       "8    0.887\n",
       "9    0.892\n",
       "10   0.904\n",
       "11   0.914\n",
       "12   0.917\n",
       "13   0.918\n",
       "14   0.918\n",
       "15   0.917\n",
       "16   0.919\n",
       "17   0.917\n",
       "18   0.916\n",
       "19   0.914\n",
       "20   0.911\n",
       "21   0.909\n",
       "22   0.906\n",
       "23   0.904\n",
       "24   0.901\n",
       "Name: R2, dtype: float64"
      ]
     },
     "execution_count": 22,
     "metadata": {},
     "output_type": "execute_result"
    }
   ],
   "source": [
    "dfparam.groupby(\"profundidades\").mean()[\"R2\"]"
   ]
  },
  {
   "cell_type": "code",
   "execution_count": 23,
   "id": "1454df6b",
   "metadata": {},
   "outputs": [
    {
     "data": {
      "text/plain": [
       "splitter\n",
       "best     0.908\n",
       "random   0.842\n",
       "Name: R2, dtype: float64"
      ]
     },
     "execution_count": 23,
     "metadata": {},
     "output_type": "execute_result"
    }
   ],
   "source": [
    "dfparam.groupby(\"splitter\").mean()[\"R2\"].sort_values(ascending=False)"
   ]
  },
  {
   "cell_type": "code",
   "execution_count": 24,
   "id": "494796f5",
   "metadata": {},
   "outputs": [
    {
     "data": {
      "text/plain": [
       "semillas\n",
       "3    0.891\n",
       "14   0.888\n",
       "12   0.887\n",
       "11   0.886\n",
       "4    0.885\n",
       "5    0.883\n",
       "7    0.883\n",
       "8    0.880\n",
       "6    0.877\n",
       "1    0.874\n",
       "13   0.869\n",
       "0    0.864\n",
       "10   0.858\n",
       "2    0.854\n",
       "9    0.847\n",
       "Name: R2, dtype: float64"
      ]
     },
     "execution_count": 24,
     "metadata": {},
     "output_type": "execute_result"
    }
   ],
   "source": [
    "dfparam.groupby(\"semillas\").mean()[\"R2\"].sort_values(ascending=False)"
   ]
  },
  {
   "cell_type": "code",
   "execution_count": 25,
   "id": "3886ef22",
   "metadata": {},
   "outputs": [
    {
     "data": {
      "text/plain": [
       "profundidades  splitter\n",
       "3              best       0.827\n",
       "               random     0.450\n",
       "4              best       0.874\n",
       "               random     0.538\n",
       "5              best       0.899\n",
       "               random     0.688\n",
       "6              best       0.910\n",
       "               random     0.659\n",
       "7              best       0.916\n",
       "               random     0.812\n",
       "8              best       0.920\n",
       "               random     0.854\n",
       "9              best       0.922\n",
       "               random     0.861\n",
       "10             best       0.923\n",
       "               random     0.885\n",
       "11             best       0.923\n",
       "               random     0.904\n",
       "12             best       0.923\n",
       "               random     0.911\n",
       "13             best       0.922\n",
       "               random     0.915\n",
       "14             best       0.921\n",
       "               random     0.916\n",
       "15             best       0.920\n",
       "               random     0.915\n",
       "16             best       0.918\n",
       "               random     0.920\n",
       "17             best       0.916\n",
       "               random     0.918\n",
       "18             best       0.914\n",
       "               random     0.918\n",
       "19             best       0.911\n",
       "               random     0.916\n",
       "20             best       0.909\n",
       "               random     0.914\n",
       "21             best       0.906\n",
       "               random     0.913\n",
       "22             best       0.903\n",
       "               random     0.909\n",
       "23             best       0.901\n",
       "               random     0.908\n",
       "24             best       0.898\n",
       "               random     0.903\n",
       "Name: R2, dtype: float64"
      ]
     },
     "execution_count": 25,
     "metadata": {},
     "output_type": "execute_result"
    }
   ],
   "source": [
    "dfparam.groupby([\"profundidades\",\"splitter\"]).mean()[\"R2\"]"
   ]
  },
  {
   "cell_type": "code",
   "execution_count": 26,
   "id": "7372a2e0",
   "metadata": {},
   "outputs": [
    {
     "data": {
      "text/html": [
       "<div>\n",
       "<style scoped>\n",
       "    .dataframe tbody tr th:only-of-type {\n",
       "        vertical-align: middle;\n",
       "    }\n",
       "\n",
       "    .dataframe tbody tr th {\n",
       "        vertical-align: top;\n",
       "    }\n",
       "\n",
       "    .dataframe thead th {\n",
       "        text-align: right;\n",
       "    }\n",
       "</style>\n",
       "<table border=\"1\" class=\"dataframe\">\n",
       "  <thead>\n",
       "    <tr style=\"text-align: right;\">\n",
       "      <th></th>\n",
       "      <th>semillas</th>\n",
       "      <th>profundidades</th>\n",
       "      <th>splitter</th>\n",
       "      <th>R2</th>\n",
       "    </tr>\n",
       "  </thead>\n",
       "  <tbody>\n",
       "    <tr>\n",
       "      <th>366</th>\n",
       "      <td>8</td>\n",
       "      <td>10</td>\n",
       "      <td>best</td>\n",
       "      <td>0.929</td>\n",
       "    </tr>\n",
       "    <tr>\n",
       "      <th>14</th>\n",
       "      <td>0</td>\n",
       "      <td>10</td>\n",
       "      <td>best</td>\n",
       "      <td>0.928</td>\n",
       "    </tr>\n",
       "    <tr>\n",
       "      <th>16</th>\n",
       "      <td>0</td>\n",
       "      <td>11</td>\n",
       "      <td>best</td>\n",
       "      <td>0.928</td>\n",
       "    </tr>\n",
       "    <tr>\n",
       "      <th>324</th>\n",
       "      <td>7</td>\n",
       "      <td>11</td>\n",
       "      <td>best</td>\n",
       "      <td>0.928</td>\n",
       "    </tr>\n",
       "    <tr>\n",
       "      <th>12</th>\n",
       "      <td>0</td>\n",
       "      <td>9</td>\n",
       "      <td>best</td>\n",
       "      <td>0.928</td>\n",
       "    </tr>\n",
       "    <tr>\n",
       "      <th>364</th>\n",
       "      <td>8</td>\n",
       "      <td>9</td>\n",
       "      <td>best</td>\n",
       "      <td>0.928</td>\n",
       "    </tr>\n",
       "    <tr>\n",
       "      <th>322</th>\n",
       "      <td>7</td>\n",
       "      <td>10</td>\n",
       "      <td>best</td>\n",
       "      <td>0.928</td>\n",
       "    </tr>\n",
       "    <tr>\n",
       "      <th>326</th>\n",
       "      <td>7</td>\n",
       "      <td>12</td>\n",
       "      <td>best</td>\n",
       "      <td>0.928</td>\n",
       "    </tr>\n",
       "    <tr>\n",
       "      <th>368</th>\n",
       "      <td>8</td>\n",
       "      <td>11</td>\n",
       "      <td>best</td>\n",
       "      <td>0.928</td>\n",
       "    </tr>\n",
       "    <tr>\n",
       "      <th>18</th>\n",
       "      <td>0</td>\n",
       "      <td>12</td>\n",
       "      <td>best</td>\n",
       "      <td>0.928</td>\n",
       "    </tr>\n",
       "    <tr>\n",
       "      <th>370</th>\n",
       "      <td>8</td>\n",
       "      <td>12</td>\n",
       "      <td>best</td>\n",
       "      <td>0.927</td>\n",
       "    </tr>\n",
       "    <tr>\n",
       "      <th>372</th>\n",
       "      <td>8</td>\n",
       "      <td>13</td>\n",
       "      <td>best</td>\n",
       "      <td>0.927</td>\n",
       "    </tr>\n",
       "    <tr>\n",
       "      <th>320</th>\n",
       "      <td>7</td>\n",
       "      <td>9</td>\n",
       "      <td>best</td>\n",
       "      <td>0.927</td>\n",
       "    </tr>\n",
       "    <tr>\n",
       "      <th>383</th>\n",
       "      <td>8</td>\n",
       "      <td>18</td>\n",
       "      <td>random</td>\n",
       "      <td>0.926</td>\n",
       "    </tr>\n",
       "    <tr>\n",
       "      <th>146</th>\n",
       "      <td>3</td>\n",
       "      <td>10</td>\n",
       "      <td>best</td>\n",
       "      <td>0.926</td>\n",
       "    </tr>\n",
       "    <tr>\n",
       "      <th>20</th>\n",
       "      <td>0</td>\n",
       "      <td>13</td>\n",
       "      <td>best</td>\n",
       "      <td>0.926</td>\n",
       "    </tr>\n",
       "    <tr>\n",
       "      <th>328</th>\n",
       "      <td>7</td>\n",
       "      <td>13</td>\n",
       "      <td>best</td>\n",
       "      <td>0.926</td>\n",
       "    </tr>\n",
       "    <tr>\n",
       "      <th>374</th>\n",
       "      <td>8</td>\n",
       "      <td>14</td>\n",
       "      <td>best</td>\n",
       "      <td>0.926</td>\n",
       "    </tr>\n",
       "    <tr>\n",
       "      <th>10</th>\n",
       "      <td>0</td>\n",
       "      <td>8</td>\n",
       "      <td>best</td>\n",
       "      <td>0.926</td>\n",
       "    </tr>\n",
       "    <tr>\n",
       "      <th>22</th>\n",
       "      <td>0</td>\n",
       "      <td>14</td>\n",
       "      <td>best</td>\n",
       "      <td>0.925</td>\n",
       "    </tr>\n",
       "  </tbody>\n",
       "</table>\n",
       "</div>"
      ],
      "text/plain": [
       "     semillas  profundidades splitter    R2\n",
       "366         8             10     best 0.929\n",
       "14          0             10     best 0.928\n",
       "16          0             11     best 0.928\n",
       "324         7             11     best 0.928\n",
       "12          0              9     best 0.928\n",
       "364         8              9     best 0.928\n",
       "322         7             10     best 0.928\n",
       "326         7             12     best 0.928\n",
       "368         8             11     best 0.928\n",
       "18          0             12     best 0.928\n",
       "370         8             12     best 0.927\n",
       "372         8             13     best 0.927\n",
       "320         7              9     best 0.927\n",
       "383         8             18   random 0.926\n",
       "146         3             10     best 0.926\n",
       "20          0             13     best 0.926\n",
       "328         7             13     best 0.926\n",
       "374         8             14     best 0.926\n",
       "10          0              8     best 0.926\n",
       "22          0             14     best 0.925"
      ]
     },
     "execution_count": 26,
     "metadata": {},
     "output_type": "execute_result"
    }
   ],
   "source": [
    "dfparam.sort_values(\"R2\",ascending=False).head(20)"
   ]
  },
  {
   "cell_type": "code",
   "execution_count": 27,
   "id": "376cbdcb",
   "metadata": {},
   "outputs": [
    {
     "data": {
      "text/html": [
       "<div>\n",
       "<style scoped>\n",
       "    .dataframe tbody tr th:only-of-type {\n",
       "        vertical-align: middle;\n",
       "    }\n",
       "\n",
       "    .dataframe tbody tr th {\n",
       "        vertical-align: top;\n",
       "    }\n",
       "\n",
       "    .dataframe thead th {\n",
       "        text-align: right;\n",
       "    }\n",
       "</style>\n",
       "<table border=\"1\" class=\"dataframe\">\n",
       "  <thead>\n",
       "    <tr style=\"text-align: right;\">\n",
       "      <th></th>\n",
       "      <th>semillas</th>\n",
       "      <th>profundidades</th>\n",
       "      <th>splitter</th>\n",
       "      <th>R2</th>\n",
       "    </tr>\n",
       "  </thead>\n",
       "  <tbody>\n",
       "    <tr>\n",
       "      <th>177</th>\n",
       "      <td>4</td>\n",
       "      <td>3</td>\n",
       "      <td>random</td>\n",
       "      <td>0.499</td>\n",
       "    </tr>\n",
       "    <tr>\n",
       "      <th>133</th>\n",
       "      <td>3</td>\n",
       "      <td>3</td>\n",
       "      <td>random</td>\n",
       "      <td>0.492</td>\n",
       "    </tr>\n",
       "    <tr>\n",
       "      <th>353</th>\n",
       "      <td>8</td>\n",
       "      <td>3</td>\n",
       "      <td>random</td>\n",
       "      <td>0.485</td>\n",
       "    </tr>\n",
       "    <tr>\n",
       "      <th>271</th>\n",
       "      <td>6</td>\n",
       "      <td>6</td>\n",
       "      <td>random</td>\n",
       "      <td>0.465</td>\n",
       "    </tr>\n",
       "    <tr>\n",
       "      <th>397</th>\n",
       "      <td>9</td>\n",
       "      <td>3</td>\n",
       "      <td>random</td>\n",
       "      <td>0.447</td>\n",
       "    </tr>\n",
       "    <tr>\n",
       "      <th>445</th>\n",
       "      <td>10</td>\n",
       "      <td>5</td>\n",
       "      <td>random</td>\n",
       "      <td>0.383</td>\n",
       "    </tr>\n",
       "    <tr>\n",
       "      <th>399</th>\n",
       "      <td>9</td>\n",
       "      <td>4</td>\n",
       "      <td>random</td>\n",
       "      <td>0.376</td>\n",
       "    </tr>\n",
       "    <tr>\n",
       "      <th>405</th>\n",
       "      <td>9</td>\n",
       "      <td>7</td>\n",
       "      <td>random</td>\n",
       "      <td>0.372</td>\n",
       "    </tr>\n",
       "    <tr>\n",
       "      <th>447</th>\n",
       "      <td>10</td>\n",
       "      <td>6</td>\n",
       "      <td>random</td>\n",
       "      <td>0.339</td>\n",
       "    </tr>\n",
       "    <tr>\n",
       "      <th>577</th>\n",
       "      <td>13</td>\n",
       "      <td>5</td>\n",
       "      <td>random</td>\n",
       "      <td>0.287</td>\n",
       "    </tr>\n",
       "    <tr>\n",
       "      <th>91</th>\n",
       "      <td>2</td>\n",
       "      <td>4</td>\n",
       "      <td>random</td>\n",
       "      <td>0.286</td>\n",
       "    </tr>\n",
       "    <tr>\n",
       "      <th>3</th>\n",
       "      <td>0</td>\n",
       "      <td>4</td>\n",
       "      <td>random</td>\n",
       "      <td>0.260</td>\n",
       "    </tr>\n",
       "    <tr>\n",
       "      <th>311</th>\n",
       "      <td>7</td>\n",
       "      <td>4</td>\n",
       "      <td>random</td>\n",
       "      <td>0.258</td>\n",
       "    </tr>\n",
       "    <tr>\n",
       "      <th>355</th>\n",
       "      <td>8</td>\n",
       "      <td>4</td>\n",
       "      <td>random</td>\n",
       "      <td>0.242</td>\n",
       "    </tr>\n",
       "    <tr>\n",
       "      <th>89</th>\n",
       "      <td>2</td>\n",
       "      <td>3</td>\n",
       "      <td>random</td>\n",
       "      <td>0.216</td>\n",
       "    </tr>\n",
       "    <tr>\n",
       "      <th>441</th>\n",
       "      <td>10</td>\n",
       "      <td>3</td>\n",
       "      <td>random</td>\n",
       "      <td>0.184</td>\n",
       "    </tr>\n",
       "    <tr>\n",
       "      <th>575</th>\n",
       "      <td>13</td>\n",
       "      <td>4</td>\n",
       "      <td>random</td>\n",
       "      <td>0.173</td>\n",
       "    </tr>\n",
       "    <tr>\n",
       "      <th>403</th>\n",
       "      <td>9</td>\n",
       "      <td>6</td>\n",
       "      <td>random</td>\n",
       "      <td>0.158</td>\n",
       "    </tr>\n",
       "    <tr>\n",
       "      <th>1</th>\n",
       "      <td>0</td>\n",
       "      <td>3</td>\n",
       "      <td>random</td>\n",
       "      <td>0.156</td>\n",
       "    </tr>\n",
       "    <tr>\n",
       "      <th>45</th>\n",
       "      <td>1</td>\n",
       "      <td>3</td>\n",
       "      <td>random</td>\n",
       "      <td>0.057</td>\n",
       "    </tr>\n",
       "  </tbody>\n",
       "</table>\n",
       "</div>"
      ],
      "text/plain": [
       "     semillas  profundidades splitter    R2\n",
       "177         4              3   random 0.499\n",
       "133         3              3   random 0.492\n",
       "353         8              3   random 0.485\n",
       "271         6              6   random 0.465\n",
       "397         9              3   random 0.447\n",
       "445        10              5   random 0.383\n",
       "399         9              4   random 0.376\n",
       "405         9              7   random 0.372\n",
       "447        10              6   random 0.339\n",
       "577        13              5   random 0.287\n",
       "91          2              4   random 0.286\n",
       "3           0              4   random 0.260\n",
       "311         7              4   random 0.258\n",
       "355         8              4   random 0.242\n",
       "89          2              3   random 0.216\n",
       "441        10              3   random 0.184\n",
       "575        13              4   random 0.173\n",
       "403         9              6   random 0.158\n",
       "1           0              3   random 0.156\n",
       "45          1              3   random 0.057"
      ]
     },
     "execution_count": 27,
     "metadata": {},
     "output_type": "execute_result"
    }
   ],
   "source": [
    "dfparam.sort_values(\"R2\",ascending=False).tail(20)"
   ]
  },
  {
   "cell_type": "markdown",
   "id": "12a99c18",
   "metadata": {},
   "source": [
    "# Ejercicios"
   ]
  },
  {
   "cell_type": "code",
   "execution_count": null,
   "id": "96b39c7c",
   "metadata": {
    "scrolled": false
   },
   "outputs": [],
   "source": [
    "# https://github.com/mwaskom/seaborn-data\n",
    "car_data=sns.load_dataset(\"mpg\")\n",
    "car_data"
   ]
  },
  {
   "cell_type": "code",
   "execution_count": null,
   "id": "ef8692cc",
   "metadata": {
    "scrolled": true
   },
   "outputs": [],
   "source": [
    "from sklearn.preprocessing import PolynomialFeatures\n",
    "from itertools import product\n",
    "df = car_data.dropna()\n",
    "df = df.reset_index() #Evitamos que aparezcan índices sin datos en el dataframe\n",
    "\n",
    "# Importación de una función personalizada que permite conseguir un dataframe con todas las combinaciones de parámetros (requiere un diccionario)\n",
    "def expand_grid(dictionary):\n",
    "    return pd.DataFrame([row for row in product(*dictionary.values())], columns=dictionary.keys())\n",
    "\n",
    "#Dummies\n",
    "df[\"cylinders_cat\"] = df[\"cylinders\"].astype(\"str\") # Conversión a string de las variables numéricas que queremos convertir a dummies\n",
    "df[\"model_year_cat\"] = df[\"model_year\"].astype(\"str\")\n",
    "df[\"interaccion\"] =  df[\"model_year_cat\"] + \" \" + df[\"cylinders_cat\"] # Interacción entre variables categóricas\n",
    "dummies = pd.get_dummies(df[[\"origin\",\"interaccion\"]]) # Conversión a dummies de las variables categóricas\n",
    "\n",
    "Y = df[[\"mpg\"]] # Selección de la variable respuesta\n",
    "X = df[[\"displacement\",\"horsepower\",\"weight\",\"acceleration\",\"model_year\",\"cylinders\"]] #Selección de las variables numéricas explicativas\n",
    "\n",
    "# Escalado\n",
    "transformados = preprocessing.scale(X) # Escalado de datos (no se guardan)\n",
    "#X = pd.DataFrame(transformados, columns = X.columns) # Descomentar si queremos escalar datos numéricos\n",
    "\n",
    "# Polinomios\n",
    "poly = PolynomialFeatures(interaction_only=True) # Creo las interacciones entre variables numéricas\n",
    "X_poly = poly.fit_transform(X) # Creo la variable con las interacciones\n",
    "X = pd.DataFrame(X_poly, columns = poly.get_feature_names(X.columns)) #Sobreescribo X\n",
    "X = pd.concat([X,dummies],axis = 1) # Descomentar si queremos añadir dummies\n",
    "\n",
    "#Creamos el dataframe con las combinaciones de parámetros y semillas que queremos probar\n",
    "parametros = {'semillas': range(0,20),'profundidades': range(2,30,1),'splitter': [\"best\", \"random\"],'R2': [np.nan]}\n",
    "dfparam = expand_grid(parametros) \n",
    "\n",
    "# Entrenamos y evaluamos todas las combinaciones! (bucle por filas del dataframe de parámetros)\n",
    "for i in tqdm(range(dfparam.shape[0])):\n",
    "    #Creamos el conjunto train test con la semilla correspondiente\n",
    "    X_train, X_test, y_train, y_test = train_test_split(X, Y, test_size=.2, \n",
    "                                                        random_state=dfparam.loc[i,\"semillas\"])\n",
    "    \n",
    "    # Creamos el árbol con los parámetros que le corresponden\n",
    "    arbol = tree.DecisionTreeRegressor(max_depth=dfparam.loc[i,\"profundidades\"], \n",
    "                                       splitter=dfparam.loc[i,\"splitter\"],random_state=1)\n",
    "    arbol = arbol.fit(X_train, y_train) # Ajustamos el árbol con los datos\n",
    "\n",
    "    prediccionesEXTERNA = arbol.predict(X_test) # Hacemos las predicciones con los datos que el modelo aún no ha visto\n",
    "    dfparam.loc[i,\"R2\"] = r2_score(y_test, prediccionesEXTERNA) # Añadimos al dataframe los resultados del R2 externo\n",
    "\n",
    "# Mostramos las mejores combinaciones de parámetros y semilla\n",
    "resultados = dfparam.groupby([\"profundidades\",\"splitter\"]).mean().sort_values(\"R2\",ascending = False)[\"R2\"]\n",
    "resultados"
   ]
  },
  {
   "cell_type": "code",
   "execution_count": null,
   "id": "ea8425af",
   "metadata": {},
   "outputs": [],
   "source": [
    "resultados.index[0]"
   ]
  },
  {
   "cell_type": "code",
   "execution_count": null,
   "id": "43966731",
   "metadata": {},
   "outputs": [],
   "source": [
    "resultados.index[0]\n",
    "\n",
    "arbol = tree.DecisionTreeRegressor(max_depth=resultados.index[0][0], \n",
    "                                   splitter=resultados.index[0][1],\n",
    "                                   random_state=1)\n",
    "arbol = arbol.fit(X, Y)"
   ]
  },
  {
   "cell_type": "markdown",
   "id": "2553b91e",
   "metadata": {},
   "source": [
    "1. Estudia el dataframe, se llama mpg, puedes buscar qué significan exactamente las variables, y hacer una descripción (numérica y gráfica) de las que te parezcan más relevantes"
   ]
  },
  {
   "cell_type": "code",
   "execution_count": null,
   "id": "d954d449",
   "metadata": {},
   "outputs": [],
   "source": []
  },
  {
   "cell_type": "markdown",
   "id": "c6706b47",
   "metadata": {},
   "source": [
    "2. Ajusta un modelo predictivo sencillo para el el consumo del coche (mpg). Evalúa su potencial predictivo tanto interna como externamente"
   ]
  },
  {
   "cell_type": "code",
   "execution_count": null,
   "id": "6d4109a9",
   "metadata": {},
   "outputs": [],
   "source": []
  },
  {
   "cell_type": "markdown",
   "id": "680e2a02",
   "metadata": {},
   "source": [
    "3. Ajusta algunos de los parámetros que conocemos (o alguno nuevo) para intentar mejorar las predicciones"
   ]
  },
  {
   "cell_type": "code",
   "execution_count": null,
   "id": "4275279a",
   "metadata": {},
   "outputs": [],
   "source": []
  },
  {
   "cell_type": "markdown",
   "id": "e91c1325",
   "metadata": {},
   "source": [
    "4. Ajusta los parámetros que creas convenientes (o explora algunos nuevos), intenta replicar una estructura de tipo bucle para hacerlo, mostrando los mejores resultados que hayas encontrado"
   ]
  },
  {
   "cell_type": "code",
   "execution_count": null,
   "id": "4e830b44",
   "metadata": {},
   "outputs": [],
   "source": []
  },
  {
   "cell_type": "markdown",
   "id": "f2ac6e30",
   "metadata": {},
   "source": [
    "### Clasificación "
   ]
  },
  {
   "cell_type": "markdown",
   "id": "28b5033c",
   "metadata": {},
   "source": [
    "1. Ajusta un modelo predictivo para el origen de los coches, o categoriza una variable como el consumo o el peso de los coches"
   ]
  },
  {
   "cell_type": "code",
   "execution_count": null,
   "id": "6a0cc78f",
   "metadata": {},
   "outputs": [],
   "source": []
  },
  {
   "cell_type": "markdown",
   "id": "3a8c01eb",
   "metadata": {},
   "source": [
    "2. Evalúa el modelo predictivo de varias formas"
   ]
  },
  {
   "cell_type": "code",
   "execution_count": null,
   "id": "e86b28a5",
   "metadata": {},
   "outputs": [],
   "source": []
  },
  {
   "cell_type": "markdown",
   "id": "59f1cd53",
   "metadata": {},
   "source": [
    "3. Ajusta los parámetros que creas convenientes, intenta replicar una estructura de tipo bucle para hacerlo, mostrando los mejores resultados que hayas encontrado"
   ]
  },
  {
   "cell_type": "code",
   "execution_count": null,
   "id": "04caa177",
   "metadata": {},
   "outputs": [],
   "source": []
  },
  {
   "cell_type": "markdown",
   "id": "0832ed4e",
   "metadata": {},
   "source": [
    "4. Compara distintos modelos de clasificación, cuál funciona mejor?"
   ]
  },
  {
   "cell_type": "code",
   "execution_count": null,
   "id": "1e7a3a16",
   "metadata": {},
   "outputs": [],
   "source": []
  }
 ],
 "metadata": {
  "kernelspec": {
   "display_name": "Python 3 (ipykernel)",
   "language": "python",
   "name": "python3"
  },
  "language_info": {
   "codemirror_mode": {
    "name": "ipython",
    "version": 3
   },
   "file_extension": ".py",
   "mimetype": "text/x-python",
   "name": "python",
   "nbconvert_exporter": "python",
   "pygments_lexer": "ipython3",
   "version": "3.9.13"
  }
 },
 "nbformat": 4,
 "nbformat_minor": 5
}
