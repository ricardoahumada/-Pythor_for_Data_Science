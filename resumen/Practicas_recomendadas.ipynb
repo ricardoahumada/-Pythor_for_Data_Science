{
 "cells": [
  {
   "cell_type": "markdown",
   "id": "291c4ca2",
   "metadata": {},
   "source": [
    "## 18 Prácticas recomendadas para ML\n",
    "https://rubikscode.net/2021/10/18/18-machine-learning-best-practices/\n",
    "\n",
    "- Objetivos y métricas\n",
    "- Infraestructura\n",
    "- Datos\n",
    "- Modelo\n",
    "- Código"
   ]
  },
  {
   "cell_type": "markdown",
   "id": "d358524c",
   "metadata": {},
   "source": [
    "## AWS: Prácticas recomendadas para las etapas del ciclo de vida de ML\n",
    "https://docs.aws.amazon.com/whitepapers/latest/ml-best-practices-healthcare-life-sciences/best-practices-for-ml-lifecycle-stages.html\n",
    "\n",
    "- Recopilación de datos\n",
    "- Integración y preparación de datos\n",
    "- Ingeniería de features\n",
    "- Entrenamiento del modelo\n",
    "- Validación del modelo\n",
    "- Auditabilidad\n",
    "- Trazabilidad\n",
    "- Reproducibilidad\n",
    "- Interpretabilidad del modelo\n",
    "- Monitoreo de modelos"
   ]
  }
 ],
 "metadata": {
  "kernelspec": {
   "display_name": "Python 3 (ipykernel)",
   "language": "python",
   "name": "python3"
  },
  "language_info": {
   "codemirror_mode": {
    "name": "ipython",
    "version": 3
   },
   "file_extension": ".py",
   "mimetype": "text/x-python",
   "name": "python",
   "nbconvert_exporter": "python",
   "pygments_lexer": "ipython3",
   "version": "3.9.13"
  }
 },
 "nbformat": 4,
 "nbformat_minor": 5
}
