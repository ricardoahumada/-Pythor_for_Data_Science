{
 "cells": [
  {
   "cell_type": "markdown",
   "metadata": {},
   "source": [
    "Antes de arrancar... guardemos los datos!\n",
    "\n",
    "https://github.com/ricardoahumada/Python_for_Data_Science/raw/master/data/2008.zip\n",
    "\n",
    "¡El dataset es muy grande! Pero por suerte podemos cargarlo directamente desde el .zip"
   ]
  },
  {
   "cell_type": "code",
   "execution_count": null,
   "metadata": {},
   "outputs": [],
   "source": [
    "import pandas as pd\n",
    "import numpy as np\n",
    "import warnings\n",
    "warnings.filterwarnings(\"ignore\")"
   ]
  },
  {
   "cell_type": "code",
   "execution_count": null,
   "metadata": {
    "scrolled": false
   },
   "outputs": [],
   "source": [
    "df_comp = pd.read_csv(\"../data/2008.zip\",nrows=10000)\n",
    "df_comp.head()"
   ]
  },
  {
   "cell_type": "code",
   "execution_count": null,
   "metadata": {},
   "outputs": [],
   "source": [
    "df_comp.columns"
   ]
  },
  {
   "cell_type": "code",
   "execution_count": null,
   "metadata": {},
   "outputs": [],
   "source": [
    "df = df_comp[[\"ArrDelay\",\"Distance\",\"DepDelay\",\"AirTime\"]].dropna()\n",
    "df.head()"
   ]
  },
  {
   "cell_type": "markdown",
   "metadata": {},
   "source": [
    "# Introducción al Scikitlearn\n",
    "https://scikit-learn.org/stable/"
   ]
  },
  {
   "cell_type": "code",
   "execution_count": null,
   "metadata": {},
   "outputs": [],
   "source": [
    "# ! pip install --upgrade scikit-learn --user"
   ]
  },
  {
   "cell_type": "code",
   "execution_count": null,
   "metadata": {},
   "outputs": [],
   "source": [
    "import sklearn\n",
    "sklearn.__version__"
   ]
  },
  {
   "cell_type": "markdown",
   "metadata": {},
   "source": [
    "# Datos numéricos y categóricos\n",
    "### Identificar datos numéricos\n",
    "Los datos numéricos se representan con números. Están vinculados a datos medibles (cuantitativos), como la edad o el número de horas que una persona trabaja a la semana.\n",
    "\n",
    "Los modelos predictivos están diseñados de forma nativa para trabajar con datos numéricos. Además, los datos numéricos generalmente requieren muy poco trabajo antes de comenzar con el entrenamiento."
   ]
  },
  {
   "cell_type": "code",
   "execution_count": null,
   "metadata": {},
   "outputs": [],
   "source": [
    "df_comp.dtypes"
   ]
  },
  {
   "cell_type": "code",
   "execution_count": null,
   "metadata": {},
   "outputs": [],
   "source": [
    "df_comp.dtypes.unique()"
   ]
  },
  {
   "cell_type": "code",
   "execution_count": null,
   "metadata": {},
   "outputs": [],
   "source": [
    "# Podemos seleccionar las columnas que contienen números enteros y comprobar su contenido.\n",
    "\n",
    "from sklearn.compose import make_column_selector as selector\n",
    "\n",
    "numerical_columns_selector = selector(dtype_exclude=object)\n",
    "numerical_columns = numerical_columns_selector(df_comp)\n",
    "\n",
    "print(numerical_columns)\n",
    "\n",
    "df_comp[numerical_columns].head()"
   ]
  },
  {
   "cell_type": "markdown",
   "metadata": {},
   "source": [
    "### Identificar variables categóricas\n",
    "Las variables categóricas tienen **valores discretos**, normalmente representados por etiquetas de cadena (pero no solo) tomadas de una lista finita de opciones posibles. "
   ]
  },
  {
   "cell_type": "markdown",
   "metadata": {},
   "source": [
    "# ML con Python: preparación de datos\n",
    "\n",
    "Los algoritmos de ML dependen completamente de los datos porque es el aspecto más crucial que hace posible el entrenamiento del modelo. \n",
    "\n",
    "Por otro lado, si no podemos dar sentido a esos datos, antes de entregarlos a los algoritmos de ML, será inútil. En palabras simples, siempre necesitamos alimentar los datos correctos, es decir, los **datos en la escala y formato correctos y que contengan características significativas**, para el problema que queremos que la máquina resuelva.\n",
    "\n",
    "Esto hace que la preparación de datos sea **el paso más importante** en el proceso de ML. \n",
    "\n",
    "La preparación de datos puede definirse como el procedimiento que hace que nuestro conjunto de datos sea más apropiado para el proceso de ML."
   ]
  },
  {
   "cell_type": "code",
   "execution_count": null,
   "metadata": {},
   "outputs": [],
   "source": [
    "# Seleccionamos las columnas valores categoricos\n",
    "\n",
    "from sklearn.compose import make_column_selector as selector\n",
    "\n",
    "categorical_columns_selector = selector(dtype_include=object)\n",
    "categorical_columns  = categorical_columns_selector(df_comp)\n",
    "\n",
    "print(categorical_columns)\n",
    "\n",
    "df_comp[categorical_columns].head()"
   ]
  },
  {
   "cell_type": "markdown",
   "metadata": {},
   "source": [
    "# Técnicas de preprocesamiento de datos"
   ]
  },
  {
   "cell_type": "markdown",
   "metadata": {},
   "source": [
    "### Escalado\n",
    "Lo más probable es que nuestro conjunto de datos se componga de los atributos con una escala variable.\\\n",
    "No podemos proporcionar dichos datos al algoritmo ML, por lo que requiere un cambio de escala. \n",
    "\n",
    "El escalado de datos asegura que los atributos estén en la **misma escala**. Por lo general, los atributos se vuelven a escalar en el rango **de 0 y 1**. \n",
    "\n",
    "Los algoritmos de ML, como el Gradient descent y los k-Nearest Neighbors, requieren datos escalados. \n",
    "\n",
    "Podemos cambiar la escala de los datos con la ayuda de la clase MinMaxScaler de la biblioteca Python de scikit-learn."
   ]
  },
  {
   "cell_type": "code",
   "execution_count": null,
   "metadata": {},
   "outputs": [],
   "source": [
    "from sklearn import preprocessing\n",
    "\n",
    "array = df.values\n",
    "array"
   ]
  },
  {
   "cell_type": "code",
   "execution_count": null,
   "metadata": {},
   "outputs": [],
   "source": [
    "# MinMaxScaler para rescalar los datos en el rando de 0 - 1.\n",
    "\n",
    "data_scaler = preprocessing.MinMaxScaler(feature_range=(0,1))"
   ]
  },
  {
   "cell_type": "code",
   "execution_count": null,
   "metadata": {},
   "outputs": [],
   "source": [
    "# MinMaxScaler para rescalar los datos en el rando de 0 - 1.\n",
    "\n",
    "data_scaler = preprocessing.MinMaxScaler(feature_range=(0,1))\n",
    "data_rescaled = data_scaler.fit_transform(array)\n",
    "data_rescaled"
   ]
  },
  {
   "cell_type": "code",
   "execution_count": null,
   "metadata": {},
   "outputs": [],
   "source": [
    "data_scaler"
   ]
  },
  {
   "cell_type": "code",
   "execution_count": null,
   "metadata": {},
   "outputs": [],
   "source": [
    "min_max_scaler = preprocessing.MinMaxScaler([0,10])\n",
    "\n",
    "X_train_minmax = min_max_scaler.fit_transform(df)\n",
    "X_train_minmax"
   ]
  },
  {
   "cell_type": "code",
   "execution_count": null,
   "metadata": {},
   "outputs": [],
   "source": [
    "df.max()"
   ]
  },
  {
   "cell_type": "code",
   "execution_count": null,
   "metadata": {
    "scrolled": true
   },
   "outputs": [],
   "source": [
    "min_max_scaler"
   ]
  },
  {
   "cell_type": "code",
   "execution_count": null,
   "metadata": {},
   "outputs": [],
   "source": [
    "min_max_scaler.fit_transform(np.array([3,3,3,4]).reshape(-1, 1))"
   ]
  },
  {
   "cell_type": "markdown",
   "metadata": {},
   "source": [
    ">¿Qué conseguimos reescalando los datos?"
   ]
  },
  {
   "cell_type": "code",
   "execution_count": null,
   "metadata": {},
   "outputs": [],
   "source": [
    "df.iloc[2]"
   ]
  },
  {
   "cell_type": "code",
   "execution_count": null,
   "metadata": {
    "scrolled": true
   },
   "outputs": [],
   "source": [
    "X_scaled[2]"
   ]
  },
  {
   "cell_type": "markdown",
   "metadata": {},
   "source": [
    "> Otra manera: usando scale"
   ]
  },
  {
   "cell_type": "code",
   "execution_count": null,
   "metadata": {},
   "outputs": [],
   "source": [
    "from sklearn import preprocessing\n",
    "\n",
    "X_scaled = preprocessing.scale(df)\n",
    "X_scaled"
   ]
  },
  {
   "cell_type": "code",
   "execution_count": null,
   "metadata": {},
   "outputs": [],
   "source": [
    "df_scaled = pd.DataFrame(X_scaled,columns =df.columns)\n",
    "df_scaled"
   ]
  },
  {
   "cell_type": "code",
   "execution_count": null,
   "metadata": {},
   "outputs": [],
   "source": [
    "df_scaled.AirTime.plot.hist()"
   ]
  },
  {
   "cell_type": "code",
   "execution_count": null,
   "metadata": {
    "scrolled": true
   },
   "outputs": [],
   "source": [
    "df.Distance.plot.hist()"
   ]
  },
  {
   "cell_type": "code",
   "execution_count": null,
   "metadata": {},
   "outputs": [],
   "source": [
    "pd.set_option('display.float_format', lambda x: '%.4f' % x)\n",
    "df_scaled.describe()"
   ]
  },
  {
   "cell_type": "code",
   "execution_count": null,
   "metadata": {},
   "outputs": [],
   "source": [
    "# media de las filas\n",
    "X_scaled.mean(axis=0)"
   ]
  },
  {
   "cell_type": "code",
   "execution_count": null,
   "metadata": {
    "scrolled": false
   },
   "outputs": [],
   "source": [
    "# STD de las filas\n",
    "\n",
    "X_scaled.std(axis=0)"
   ]
  },
  {
   "cell_type": "markdown",
   "metadata": {},
   "source": [
    "### Normalización\n",
    "Otra técnica útil de preprocesamiento de datos es la Normalización. Esto se usa para **cambiar la escala de cada fila de datos para que tenga una longitud de 1**. \n",
    "\n",
    "Es principalmente útil en conjuntos de datos dispersos donde tenemos muchos ceros. Podemos cambiar la escala de los datos con la ayuda de la clase **Normalizer** de scikit-learn.\n",
    "\n",
    "#### Tipos de normalización\n",
    "##### Normalización L1\n",
    "Puede definirse como la técnica de normalización que modifica los valores del conjunto de datos de manera que **en cada fila la suma de los valores absolutos siempre sea igual a 1**. También se le llama Desviaciones Mínimas Absolutas."
   ]
  },
  {
   "cell_type": "code",
   "execution_count": null,
   "metadata": {},
   "outputs": [],
   "source": [
    "pd.__version__"
   ]
  },
  {
   "cell_type": "code",
   "execution_count": null,
   "metadata": {},
   "outputs": [],
   "source": [
    "from sklearn.preprocessing import Normalizer\n",
    "\n",
    "Data_normalizer = Normalizer(norm='l1').fit(array)\n",
    "Data_normalized = Data_normalizer.transform(array)"
   ]
  },
  {
   "cell_type": "code",
   "execution_count": null,
   "metadata": {},
   "outputs": [],
   "source": [
    "# También podemos resumir los datos para la salida según nuestra elección. \n",
    "\n",
    "from numpy import set_printoptions\n",
    "\n",
    "set_printoptions(precision=2)\n",
    "print (\"\\nNormalized data:\\n\", Data_normalized [0:3])"
   ]
  },
  {
   "cell_type": "markdown",
   "metadata": {},
   "source": [
    "#### Normalización L2\n",
    "Se puede definir como la técnica de normalización que modifica los valores del conjunto de datos de manera que **en cada fila la suma de los cuadrados siempre sea igual a 1**. También se le llama mínimos cuadrados."
   ]
  },
  {
   "cell_type": "code",
   "execution_count": null,
   "metadata": {},
   "outputs": [],
   "source": [
    "from sklearn.preprocessing import Normalizer\n",
    "\n",
    "array = df.values\n",
    "\n",
    "Data_normalizer = Normalizer(norm='l2').fit(array)\n",
    "Data_normalized = Data_normalizer.transform(array)"
   ]
  },
  {
   "cell_type": "code",
   "execution_count": null,
   "metadata": {},
   "outputs": [],
   "source": [
    "set_printoptions(precision=2)\n",
    "print (\"\\nNormalized data:\\n\", Data_normalized [0:3])"
   ]
  },
  {
   "cell_type": "markdown",
   "metadata": {},
   "source": [
    "#### binarización\n",
    "Esta es la técnica para hacer nuestros datos sean binarios. Para ello usaremos un umbral binario. \n",
    "\n",
    "Los valores por encima de ese valor de umbral se convertirán en 1 y por debajo de ese umbral se convertirán en 0. \n",
    "Por ejemplo, si elegimos valor de umbral = 0,5, entonces el valor del conjunto de datos por encima se convertirá en 1 y por debajo de este se convertirá en 0. \n",
    "\n",
    "**Esta técnica es útil cuando tenemos probabilidades en nuestro conjunto de datos y queremos convertirlas en valores nítidos.**\n",
    "\n",
    "Podemos binarizar los datos con la ayuda de la clase **Binarizer**."
   ]
  },
  {
   "cell_type": "code",
   "execution_count": null,
   "metadata": {},
   "outputs": [],
   "source": [
    "from sklearn.preprocessing import Binarizer\n",
    "\n",
    "array = df.values\n",
    "\n",
    "\n",
    "binarizer = Binarizer(threshold=0.5).fit(array)\n",
    "Data_binarized = binarizer.transform(array)\n",
    "\n",
    "print (\"\\nBinary data:\\n\", Data_binarized [0:5])"
   ]
  },
  {
   "cell_type": "markdown",
   "metadata": {},
   "source": [
    "#### Estandarización\n",
    "Transforma los atributos de los datos con una distribución gaussiana. Diferencia la media y la desviación estándar (SD) a una **distribución gaussiana estándar con una media de 0 y una desviación estándar de 1**. \n",
    "\n",
    "Esta técnica es útil en algoritmos de ML como la regresión lineal, la regresión logística que asume una distribución gaussiana en el conjunto de datos de entrada y produce mejores resultados con datos reescalados. \n",
    "\n",
    "Podemos estandarizar los datos (media = 0 y SD = 1) con la ayuda de la clase StandardScaler de la biblioteca Python de scikit-learn."
   ]
  },
  {
   "cell_type": "code",
   "execution_count": null,
   "metadata": {},
   "outputs": [],
   "source": [
    "from sklearn.preprocessing import StandardScaler\n",
    "\n",
    "array = df.values\n",
    "\n",
    "data_scaler = StandardScaler().fit(array)\n",
    "data_rescaled = data_scaler.transform(array)\n",
    "\n",
    "set_printoptions(precision=2)\n",
    "print (\"\\nRescaled data:\\n\", data_rescaled [0:5])"
   ]
  },
  {
   "cell_type": "markdown",
   "metadata": {},
   "source": [
    "### Etiquetado de datos\n",
    "Es muy importante enviar los datos a los algoritmos de ML con el etiquetado adecuado. Por ejemplo, en caso de problemas de clasificación, hay muchas etiquetas en forma de palabras, números, etc..\n",
    "\n",
    "#### ¿Qué es la codificación de etiquetas?\n",
    "La mayoría de las funciones de sklearn esperan que los datos tengan **etiquetas de números** en lugar de etiquetas de palabras. Por lo tanto, necesitamos convertir dichas etiquetas en etiquetas numéricas. Este proceso se denomina codificación de etiquetas. Podemos realizar la codificación de etiquetas de datos con la ayuda de la función **LabelEncoder()**."
   ]
  },
  {
   "cell_type": "code",
   "execution_count": null,
   "metadata": {},
   "outputs": [],
   "source": [
    "from sklearn import preprocessing\n",
    "\n",
    "columns = df.columns.array\n",
    "print(columns)\n",
    "\n",
    "# Crea el codificador de etiquetas y lo entrena\n",
    "encoder = preprocessing.LabelEncoder()\n",
    "encoder.fit(columns)\n",
    "\n"
   ]
  },
  {
   "cell_type": "code",
   "execution_count": null,
   "metadata": {},
   "outputs": [],
   "source": []
  },
  {
   "cell_type": "code",
   "execution_count": null,
   "metadata": {},
   "outputs": [],
   "source": [
    "# comprueba el rendimiento codificando la lista ordenada aleatoriamente:\n",
    "test_labels = ['Distance', 'DepDelay', 'AirTime']\n",
    "encoded_values = encoder.transform(test_labels)\n",
    "print(\"\\nLabels =\", test_labels)\n",
    "print(\"Encoded values =\", list(encoded_values))"
   ]
  },
  {
   "cell_type": "code",
   "execution_count": null,
   "metadata": {},
   "outputs": [],
   "source": [
    "encoded_values = [3,0,2,1]\n",
    "decoded_list = encoder.inverse_transform(encoded_values)\n",
    "print(\"\\nDecoded labels =\", list(decoded_list))"
   ]
  },
  {
   "cell_type": "markdown",
   "metadata": {},
   "source": [
    "# Datos numéricos y categóricos\n",
    "### Identificar datos numéricos\n",
    "Los datos numéricos se representan con números. Están vinculados a datos medibles (cuantitativos), como la edad o el número de horas que una persona trabaja a la semana.\n",
    "\n",
    "Los modelos predictivos están diseñados de forma nativa para trabajar con datos numéricos. Además, los datos numéricos generalmente requieren muy poco trabajo antes de comenzar con el entrenamiento."
   ]
  },
  {
   "cell_type": "code",
   "execution_count": null,
   "metadata": {},
   "outputs": [],
   "source": [
    "df_comp.dtypes"
   ]
  },
  {
   "cell_type": "code",
   "execution_count": null,
   "metadata": {},
   "outputs": [],
   "source": [
    "df_comp.dtypes.unique()"
   ]
  },
  {
   "cell_type": "code",
   "execution_count": null,
   "metadata": {},
   "outputs": [],
   "source": [
    "# Podemos seleccionar las columnas que contienen números enteros y comprobar su contenido.\n",
    "\n",
    "from sklearn.compose import make_column_selector as selector\n",
    "\n",
    "numerical_columns_selector = selector(dtype_exclude=object)\n",
    "numerical_columns = numerical_columns_selector(df_comp)\n",
    "print(numerical_columns)\n",
    "\n",
    "df_comp[numerical_columns].head()"
   ]
  },
  {
   "cell_type": "markdown",
   "metadata": {},
   "source": [
    "> Cuál sería el pre-procesado para los datos numéricos?"
   ]
  },
  {
   "cell_type": "markdown",
   "metadata": {},
   "source": [
    "### Identificar variables categóricas\n",
    "Las variables categóricas tienen **valores discretos**, normalmente representados por etiquetas de cadena (pero no solo) tomadas de una lista finita de opciones posibles. "
   ]
  },
  {
   "cell_type": "code",
   "execution_count": null,
   "metadata": {},
   "outputs": [],
   "source": [
    "# Seleccionamos las columnas valores categoricos\n",
    "\n",
    "from sklearn.compose import make_column_selector as selector\n",
    "\n",
    "categorical_columns_selector = selector(dtype_include=object)\n",
    "categorical_columns  = categorical_columns_selector(df_comp)\n",
    "\n",
    "print(categorical_columns)\n",
    "\n",
    "data_categorical=df_comp[categorical_columns]\n",
    "\n",
    "data_categorical.head()"
   ]
  },
  {
   "cell_type": "markdown",
   "metadata": {},
   "source": [
    "## Estrategias para codificar categorías"
   ]
  },
  {
   "cell_type": "markdown",
   "metadata": {},
   "source": [
    "#### Codificación de categorías ordinales\n",
    "La estrategia más intuitiva es codificar cada categoría con un número diferente. \n",
    "El **OrdinalEncoder** transformará los datos de esa manera."
   ]
  },
  {
   "cell_type": "code",
   "execution_count": null,
   "metadata": {},
   "outputs": [],
   "source": [
    "from sklearn.preprocessing import OrdinalEncoder\n",
    "\n",
    "or_column = data_categorical[[\"Origin\"]]\n",
    "\n",
    "encoder = OrdinalEncoder()\n",
    "or_encoded = encoder.fit_transform(or_column)\n",
    "or_encoded"
   ]
  },
  {
   "cell_type": "code",
   "execution_count": null,
   "metadata": {},
   "outputs": [],
   "source": [
    "encoder.categories_"
   ]
  },
  {
   "cell_type": "markdown",
   "metadata": {},
   "source": [
    "### Codificación de categorías nominales (sin asumir ningún orden)\n",
    "**OneHotEncoder** es un codificador alternativo que evita que los modelos posteriores hagan suposiciones falsas sobre el orden de las categorías. \n",
    "\n",
    "Para una característica determinada, creará tantas columnas nuevas como categorías posibles. Para una muestra dada, el valor de la columna correspondiente a la categoría se establecerá en 1 mientras que todas las columnas de las demás categorías se establecerán en 0."
   ]
  },
  {
   "cell_type": "code",
   "execution_count": null,
   "metadata": {},
   "outputs": [],
   "source": [
    "from sklearn.preprocessing import OneHotEncoder\n",
    "\n",
    "encoder = OneHotEncoder(sparse=False)\n",
    "or_encoded = encoder.fit_transform(or_column)\n",
    "or_encoded[:5]"
   ]
  },
  {
   "cell_type": "markdown",
   "metadata": {},
   "source": [
    "### Dummies\n",
    "La función **get_dummies** permite eliminar la primera de las columnas generadas para cada característica codificada para evitar la denominada colinealidad (que una de las características sea una combinación lineal de las otras), lo que dificulta el correcto funcionamiento de los algoritmos. Para ello disponemos del argumento drop_first.\n",
    "\n",
    "Una vez creadas las \"variables dummies\", solo tendríamos que sustituir la característica original en el dataset por las creadas."
   ]
  },
  {
   "cell_type": "code",
   "execution_count": null,
   "metadata": {},
   "outputs": [],
   "source": [
    "or_column"
   ]
  },
  {
   "cell_type": "code",
   "execution_count": null,
   "metadata": {
    "scrolled": true
   },
   "outputs": [],
   "source": [
    "or_dummies = pd.get_dummies(or_column)\n",
    "or_dummies"
   ]
  },
  {
   "cell_type": "code",
   "execution_count": null,
   "metadata": {},
   "outputs": [],
   "source": [
    "or_dummies.idxmax(axis=1)"
   ]
  },
  {
   "cell_type": "markdown",
   "metadata": {},
   "source": [
    "### Discretizar... si lo necesitamos... (BINNING )\n",
    "\n",
    "Algunos algoritmos de aprendizaje de máquinas pueden preferir o requerir variables de entrada categóricas u ordinales, como algunos algoritmos de árbol de decisión y basados en reglas.\n",
    "\n",
    "**KBinsDiscretizer** agrupa datos continuos en intervalos.\n",
    "\n"
   ]
  },
  {
   "cell_type": "code",
   "execution_count": null,
   "metadata": {},
   "outputs": [],
   "source": [
    "from sklearn.preprocessing import KBinsDiscretizer\n",
    "est = KBinsDiscretizer(n_bins=4, encode='ordinal', strategy='uniform') # Strategies \"uniform\""
   ]
  },
  {
   "cell_type": "code",
   "execution_count": null,
   "metadata": {},
   "outputs": [],
   "source": [
    "categorizados = est.fit_transform(df[[\"ArrDelay\"]].dropna())\n",
    "categorizados"
   ]
  },
  {
   "cell_type": "code",
   "execution_count": null,
   "metadata": {
    "scrolled": false
   },
   "outputs": [],
   "source": [
    "pd.DataFrame(categorizados,columns=[\"ArrDelay\"]).ArrDelay.value_counts()"
   ]
  },
  {
   "cell_type": "markdown",
   "metadata": {},
   "source": [
    ">Bins iguales..."
   ]
  },
  {
   "cell_type": "code",
   "execution_count": null,
   "metadata": {},
   "outputs": [],
   "source": [
    "df[\"Rango\"] = list(range(df.shape[0]))\n",
    "print(df)"
   ]
  },
  {
   "cell_type": "code",
   "execution_count": null,
   "metadata": {},
   "outputs": [],
   "source": [
    "est = KBinsDiscretizer(n_bins=4, encode='ordinal', strategy='quantile') # Strategies \"quantile\"\n",
    "est"
   ]
  },
  {
   "cell_type": "code",
   "execution_count": null,
   "metadata": {},
   "outputs": [],
   "source": [
    "categorizados = est.fit_transform(df[[\"Rango\"]].dropna())\n",
    "print(categorizados)\n",
    "pd.DataFrame(categorizados,columns=[\"Rango\"]).value_counts()"
   ]
  },
  {
   "cell_type": "markdown",
   "metadata": {},
   "source": [
    "# Usar variables numéricas y categóricas juntas"
   ]
  },
  {
   "cell_type": "code",
   "execution_count": null,
   "metadata": {},
   "outputs": [],
   "source": [
    "from sklearn.compose import make_column_selector as selector\n",
    "\n",
    "numerical_columns_selector = selector(dtype_exclude=object)\n",
    "categorical_columns_selector = selector(dtype_include=object)\n",
    "\n",
    "numerical_columns = numerical_columns_selector(df_comp)\n",
    "categorical_columns = categorical_columns_selector(df_comp)"
   ]
  },
  {
   "cell_type": "markdown",
   "metadata": {},
   "source": [
    "### Enviar columnas a un procesador específico\n",
    "- **La codificación one-hot:** se aplicará a las columnas categóricas. Además, usamos handle_unknown=\"ignore\" para resolver los posibles problemas debido a categorías raras.\n",
    "\n",
    "- **escalado numéricos:** las features numéricas serán estandarizadas."
   ]
  },
  {
   "cell_type": "code",
   "execution_count": null,
   "metadata": {},
   "outputs": [],
   "source": [
    "from sklearn.preprocessing import OneHotEncoder, StandardScaler\n",
    "\n",
    "categorical_preprocessor = OneHotEncoder(handle_unknown=\"ignore\")\n",
    "numerical_preprocessor = StandardScaler()"
   ]
  },
  {
   "cell_type": "code",
   "execution_count": null,
   "metadata": {},
   "outputs": [],
   "source": [
    "# Creamos el transformador y asociamos cada uno de estos preprocesadores con sus respectivas columnas.\n",
    "\n",
    "from sklearn.compose import ColumnTransformer\n",
    "\n",
    "preprocessor = ColumnTransformer([\n",
    "    ('one-hot-encoder', categorical_preprocessor, categorical_columns),\n",
    "    ('standard_scaler', numerical_preprocessor, numerical_columns)])"
   ]
  },
  {
   "attachments": {
    "image.png": {
     "image/png": "[encoded data removed]"
    }
   },
   "cell_type": "markdown",
   "metadata": {},
   "source": [
    "<div>\n",
    "<img src=\"attachment:image.png\" width=\"500\"/>\n",
    "</div>"
   ]
  },
  {
   "cell_type": "markdown",
   "metadata": {},
   "source": [
    ">El ColumnTransformer es como cualquier otro transformador de scikit-learn. \\\n",
    "En particular, se puede combinar con un clasificador en un Pipeline:"
   ]
  },
  {
   "cell_type": "code",
   "execution_count": null,
   "metadata": {},
   "outputs": [],
   "source": [
    "from sklearn.linear_model import LogisticRegression\n",
    "from sklearn.pipeline import make_pipeline\n",
    "\n",
    "model = make_pipeline(preprocessor, LogisticRegression(max_iter=500))\n",
    "model"
   ]
  },
  {
   "cell_type": "markdown",
   "metadata": {},
   "source": [
    "# Ingeniería de variables (features)\n",
    "\n",
    "La ingeniería de variables normalmente se define como \"la transformación para añadir valor\". \n",
    "\n",
    "Algunos ejemplos comunes de tareas de ingeniería de variabless son: **features para representar datos categóricos, features para representar texto y features para representar imágenes**. Además, es común crear **features derivadas** para aumentar la complejidad del modelo y la imputación de datos faltantes. A menudo, este proceso se conoce como **vectorización**, ya que implica convertir datos arbitrarios en vectores de buen comportamiento.\n",
    "\n",
    "Aún no estamos trabajando con algoritmos concretos, así que vamos a verlo más adelante, pero algunos ejemplos podrían ser..."
   ]
  },
  {
   "cell_type": "code",
   "execution_count": null,
   "metadata": {},
   "outputs": [],
   "source": [
    "df[\"DesviacionHora\"] = abs(df[\"ArrDelay\"])"
   ]
  },
  {
   "cell_type": "code",
   "execution_count": null,
   "metadata": {},
   "outputs": [],
   "source": [
    "df[\"ArrDelay\"].mean()"
   ]
  },
  {
   "cell_type": "code",
   "execution_count": null,
   "metadata": {},
   "outputs": [],
   "source": [
    "df[\"DesviacionHora\"].mean()"
   ]
  },
  {
   "cell_type": "code",
   "execution_count": null,
   "metadata": {},
   "outputs": [],
   "source": [
    "df[\"logAirTime\"] = np.log(df[\"AirTime\"])"
   ]
  },
  {
   "cell_type": "code",
   "execution_count": null,
   "metadata": {},
   "outputs": [],
   "source": [
    "df.shape"
   ]
  },
  {
   "cell_type": "code",
   "execution_count": null,
   "metadata": {},
   "outputs": [],
   "source": [
    "df.columns"
   ]
  },
  {
   "cell_type": "code",
   "execution_count": null,
   "metadata": {},
   "outputs": [],
   "source": [
    "df[\"CRSDepTime\"]"
   ]
  },
  {
   "cell_type": "code",
   "execution_count": null,
   "metadata": {},
   "outputs": [],
   "source": [
    "df[\"Weekends\"] = False\n",
    "df[\"Weekends\"][df.DayOfWeek.isin([6,7])] = True"
   ]
  },
  {
   "cell_type": "code",
   "execution_count": null,
   "metadata": {},
   "outputs": [],
   "source": [
    "df[\"Weekends\"]"
   ]
  },
  {
   "cell_type": "code",
   "execution_count": null,
   "metadata": {},
   "outputs": [],
   "source": [
    "df.head()"
   ]
  },
  {
   "cell_type": "code",
   "execution_count": null,
   "metadata": {
    "scrolled": true
   },
   "outputs": [],
   "source": [
    "df.columns"
   ]
  },
  {
   "cell_type": "code",
   "execution_count": null,
   "metadata": {
    "scrolled": false
   },
   "outputs": [],
   "source": [
    "df.head(5)"
   ]
  },
  {
   "cell_type": "markdown",
   "metadata": {},
   "source": [
    ">¿Se nos ocurre alguna variable adicional?"
   ]
  },
  {
   "cell_type": "code",
   "execution_count": null,
   "metadata": {},
   "outputs": [],
   "source": [
    "df.head()"
   ]
  },
  {
   "cell_type": "markdown",
   "metadata": {},
   "source": [
    "## Variables derivadas\n",
    "Otro tipo útil de feature es el que se deriva matemáticamente de algunas características de entrada."
   ]
  },
  {
   "cell_type": "code",
   "execution_count": null,
   "metadata": {},
   "outputs": [],
   "source": [
    "# Por ejemplo, estos datos claramente no se pueden describir bien con una línea recta:\n",
    "\n",
    "%matplotlib inline\n",
    "import numpy as np\n",
    "import matplotlib.pyplot as plt\n",
    "\n",
    "x = np.array([1, 2, 3, 4, 5])\n",
    "y = np.array([4, 2, 1, 3, 7])\n",
    "plt.scatter(x, y);"
   ]
  },
  {
   "cell_type": "code",
   "execution_count": null,
   "metadata": {},
   "outputs": [],
   "source": [
    "# Aún así, podemos ajustar una línea a los datos usando LinearRegression y obtener el resultado óptimo:\n",
    "\n",
    "from sklearn.linear_model import LinearRegression\n",
    "X = x[:, np.newaxis]\n",
    "model = LinearRegression().fit(X, y)\n",
    "yfit = model.predict(X)\n",
    "plt.scatter(x, y)\n",
    "plt.plot(x, yfit);"
   ]
  },
  {
   "cell_type": "code",
   "execution_count": null,
   "metadata": {},
   "outputs": [],
   "source": [
    "# Está claro que necesitamos un modelo más sofisticado para describir la relación entre x e y.\n",
    "\n",
    "from sklearn.preprocessing import PolynomialFeatures\n",
    "poly = PolynomialFeatures(degree=3, include_bias=False)\n",
    "X2 = poly.fit_transform(X)\n",
    "print(X2)"
   ]
  },
  {
   "cell_type": "markdown",
   "metadata": {},
   "source": [
    ">La matriz de features derivada tiene una columna que representa x, una segunda columna que representa x2 y una tercera columna que representa x3. \\\n",
    "Calcular una regresión lineal en esta entrada ampliada da un ajuste mucho más cercano a nuestros datos:"
   ]
  },
  {
   "cell_type": "code",
   "execution_count": null,
   "metadata": {},
   "outputs": [],
   "source": [
    "model = LinearRegression().fit(X2, y)\n",
    "yfit = model.predict(X2)\n",
    "plt.scatter(x, y)\n",
    "plt.plot(x, yfit);"
   ]
  },
  {
   "cell_type": "markdown",
   "metadata": {},
   "source": [
    "## Imputación de datos faltantes\n",
    "Otra necesidad común en la ingeniería de features es la gestión de datos faltantes.\n",
    "Al aplicar un modelo típico de ML a dichos datos, primero debemos reemplazar los datos que faltan con algún valor de relleno apropiado.\n",
    "\n",
    "Para un enfoque de imputación de referencia, utilizando la media, la mediana o el valor más frecuente, Scikit-Learn proporciona la clase Imputer:"
   ]
  },
  {
   "cell_type": "code",
   "execution_count": null,
   "metadata": {},
   "outputs": [],
   "source": [
    "from numpy import nan\n",
    "X = np.array([[ nan, 0,   3  ],\n",
    "              [ 3,   7,   9  ],\n",
    "              [ 3,   5,   2  ],\n",
    "              [ 4,   nan, 6  ],\n",
    "              [ 8,   8,   1  ]])\n",
    "y = np.array([14, 16, -1,  8, -5])"
   ]
  },
  {
   "cell_type": "code",
   "execution_count": null,
   "metadata": {},
   "outputs": [],
   "source": [
    "from sklearn.impute import SimpleImputer\n",
    "imp = SimpleImputer(strategy='mean')\n",
    "X2 = imp.fit_transform(X)\n",
    "X2"
   ]
  },
  {
   "cell_type": "markdown",
   "metadata": {},
   "source": [
    "\n",
    "## Ejercicios\n",
    "\n",
    "1. Crea algunas variables que puedan resultar de interés para su posterior análisis, por ejemplo: \n",
    "    - franja del día (mañana, tarde o noche)\n",
    "    - trimestres\n",
    "    - la velocidad\n",
    "    - ...\n"
   ]
  },
  {
   "cell_type": "code",
   "execution_count": null,
   "metadata": {},
   "outputs": [],
   "source": []
  },
  {
   "cell_type": "markdown",
   "metadata": {},
   "source": [
    "2. Transforma los datos de aerolinia (UniqueCarrier) a dummies. Usando ese nuevo objeto, da la proporción de vuelos de American Airlines"
   ]
  },
  {
   "cell_type": "code",
   "execution_count": null,
   "metadata": {
    "scrolled": true
   },
   "outputs": [],
   "source": []
  },
  {
   "cell_type": "markdown",
   "metadata": {},
   "source": [
    "3. Sin consultarlo, pon un ejemplo que haga referencia a aprendizaje supervisado y un ejemplo de no supervisado"
   ]
  },
  {
   "cell_type": "code",
   "execution_count": null,
   "metadata": {},
   "outputs": [],
   "source": []
  },
  {
   "cell_type": "markdown",
   "metadata": {},
   "source": [
    "4. Crea una lista con las edades de tu familia. Ahora rescala estos datos para que sean un porcentaje en relación al más mayor."
   ]
  },
  {
   "cell_type": "code",
   "execution_count": null,
   "metadata": {},
   "outputs": [],
   "source": []
  },
  {
   "cell_type": "markdown",
   "metadata": {},
   "source": [
    "5. Crea una lista (o usa una columna de un dataframe) y reescalala para que tenga media 0 y desviación estándard 1. "
   ]
  },
  {
   "cell_type": "code",
   "execution_count": null,
   "metadata": {},
   "outputs": [],
   "source": []
  },
  {
   "cell_type": "markdown",
   "metadata": {},
   "source": [
    "    ¿Podrías recuperar los datos originales?"
   ]
  },
  {
   "cell_type": "code",
   "execution_count": null,
   "metadata": {},
   "outputs": [],
   "source": []
  },
  {
   "cell_type": "markdown",
   "metadata": {},
   "source": [
    "6. Explora el siguiente código, y comenta su uso y utilidad"
   ]
  },
  {
   "cell_type": "code",
   "execution_count": null,
   "metadata": {},
   "outputs": [],
   "source": [
    "from sklearn.preprocessing import PolynomialFeatures\n",
    "\n",
    "df = df[[\"ArrDelay\",\"Distance\",\"DepDelay\",\"AirTime\"]].dropna()\n",
    "\n",
    "poly = PolynomialFeatures(degree=2)\n",
    "X = poly.fit_transform(df)"
   ]
  },
  {
   "cell_type": "code",
   "execution_count": null,
   "metadata": {},
   "outputs": [],
   "source": [
    "pd.DataFrame(X,columns = poly.get_feature_names(df.columns))"
   ]
  },
  {
   "cell_type": "code",
   "execution_count": null,
   "metadata": {},
   "outputs": [],
   "source": [
    "poly = PolynomialFeatures(degree=3, interaction_only=True)\n",
    "X = poly.fit_transform(df)"
   ]
  },
  {
   "cell_type": "code",
   "execution_count": null,
   "metadata": {
    "scrolled": false
   },
   "outputs": [],
   "source": [
    "pd.DataFrame(X, columns = poly.get_feature_names(df.columns))"
   ]
  },
  {
   "cell_type": "markdown",
   "metadata": {},
   "source": [
    "### Nuevo Dataset"
   ]
  },
  {
   "cell_type": "markdown",
   "metadata": {},
   "source": [
    "Usando los datos de iris (o algunos sencillos de los que dispongas, salaries, datasets de ejemplo, datos propios...) aplica los siguientes procesos:"
   ]
  },
  {
   "cell_type": "markdown",
   "metadata": {},
   "source": [
    "1. Reescala las columnas numéricas "
   ]
  },
  {
   "cell_type": "code",
   "execution_count": null,
   "metadata": {},
   "outputs": [],
   "source": []
  },
  {
   "cell_type": "markdown",
   "metadata": {},
   "source": [
    "2. Convierte a dummies las columnas categóricas"
   ]
  },
  {
   "cell_type": "code",
   "execution_count": null,
   "metadata": {},
   "outputs": [],
   "source": []
  },
  {
   "cell_type": "markdown",
   "metadata": {},
   "source": [
    "3. Genera algunas variable adicionales. Piensa algunos ejemplos en los que pueda tener algún sentido (no siempre es fácil)"
   ]
  },
  {
   "cell_type": "code",
   "execution_count": null,
   "metadata": {},
   "outputs": [],
   "source": []
  },
  {
   "cell_type": "markdown",
   "metadata": {},
   "source": [
    "4. Genera interacciones entre variables (tanto numéricas -poly- como categóricas, si se puede), y haz alguna descripción de ellas!"
   ]
  },
  {
   "cell_type": "code",
   "execution_count": null,
   "metadata": {},
   "outputs": [],
   "source": []
  },
  {
   "cell_type": "markdown",
   "metadata": {},
   "source": [
    "5. Si discretizamos variables numéricas... tienen las nuevas categorías correspondencia con las especies?"
   ]
  },
  {
   "cell_type": "code",
   "execution_count": null,
   "metadata": {},
   "outputs": [],
   "source": []
  }
 ],
 "metadata": {
  "kernelspec": {
   "display_name": "Python 3 (ipykernel)",
   "language": "python",
   "name": "python3"
  },
  "language_info": {
   "codemirror_mode": {
    "name": "ipython",
    "version": 3
   },
   "file_extension": ".py",
   "mimetype": "text/x-python",
   "name": "python",
   "nbconvert_exporter": "python",
   "pygments_lexer": "ipython3",
   "version": "3.9.13"
  }
 },
 "nbformat": 4,
 "nbformat_minor": 2
}
