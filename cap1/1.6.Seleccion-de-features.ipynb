{
 "cells": [
  {
   "cell_type": "markdown",
   "id": "3c59dc0a",
   "metadata": {},
   "source": [
    "# Selección de features "
   ]
  },
  {
   "cell_type": "markdown",
   "id": "704a93dd",
   "metadata": {},
   "source": [
    "## Tipos de datos de variables de entrada comunes:\n",
    "\n",
    "**Variables numéricas**\n",
    "- Variables enteras.\n",
    "- Variables de punto flotante.\n",
    "\n",
    "**Variables categóricas**\n",
    "- Variables booleanas (dicotómicas).\n",
    "- Variables ordinales.\n",
    "- Variables nominales.\n",
    "\n",
    "## Tipo de variables de respuesta:\n",
    "- Numérica: problema de modelado predictivo de regresión.\n",
    "- Categórica: Problema de modelado predictivo de clasificación."
   ]
  },
  {
   "cell_type": "markdown",
   "id": "e9e16ff9",
   "metadata": {},
   "source": [
    "## Métodos para selección de features\n",
    "\n",
    "#### Entrada numérica, Salida numérica\n",
    "Este es un problema de modelado predictivo de regresión con variables de entrada numéricas.\n",
    "\n",
    "Las técnicas más comunes son utilizar un coeficiente de correlación, como el de Pearson para una correlación lineal, o métodos basados en rangos para una correlación no lineal.\n",
    "\n",
    "- Coeficiente de correlación de Pearson (lineal).\n",
    "- Coeficiente de rango de Spearman (no lineal)\n",
    "\n",
    "#### Entrada numérica, salida categórica\n",
    "Este es un problema de modelado predictivo de clasificación con variables de entrada numéricas.\n",
    "\n",
    "Este podría ser el ejemplo más común de un problema de clasificación,\n",
    "\n",
    "Nuevamente, las técnicas más comunes están basadas en la correlación, aunque en este caso, deben tener en cuenta el objetivo categórico.\n",
    "\n",
    "- Coeficiente de correlación ANOVA (lineal).\n",
    "- Coeficiente de rango de Kendall (no lineal). Kendall asume que la variable categórica es ordinal.\n",
    "\n",
    "#### Entrada categórica, salida numérica\n",
    "Este es un problema de modelado predictivo de regresión con variables de entrada categóricas.\n",
    "\n",
    "Este es un ejemplo poco frequente de un problema de regresión.\n",
    "\n",
    "Se puede usar los mismos métodos de \"Entrada numérica, salida categórica\" (descritos anteriormente), pero a la inversa.\n",
    "\n",
    "#### Entrada categórica, salida categórica\n",
    "Este es un problema de modelado predictivo de clasificación con variables de entrada categóricas.\n",
    "\n",
    "La medida de correlación más común para datos categóricos es la prueba de chi-cuadrado. También puede utilizar la información mutua (ganancia de información) del campo de la teoría de la información.\n",
    "\n",
    "- Test Chi-Cuadrado (tablas de contingencia).\n",
    "- Información mutua."
   ]
  },
  {
   "cell_type": "markdown",
   "id": "cfaa86ad",
   "metadata": {},
   "source": [
    "## Selección en SKLearn\n",
    "\n",
    "##### Estadísticas de correlación\n",
    "scikit-learn proporciona implementaciones de la mayoría de las medidas estadísticas útiles.\n",
    "\n",
    "Por ejemplo:\n",
    "\n",
    "- Coeficiente de correlación de Pearson: `f_regression()`\n",
    "- ANOVA: `f_clasif()`\n",
    "- Chi-Cuadrado: `chi2()`\n",
    "- Información mutua: `mutual_info_classif()` y `mutual_info_regression()`\n",
    "\n",
    "##### Métodos de selección\n",
    "scikit-learn proporciona muchos métodos de filtrado diferentes una vez que se han calculado las estadísticas para cada variable respecto al target.\n",
    "\n",
    "Dos de los métodos más populares incluyen:\n",
    "- Seleccione las k principales variables: [SelectKBest](https://scikit-learn.org/stable/modules/generated/sklearn.feature_selection.SelectKBest.html)\n",
    "- Seleccione las variables percentiles superiores: [SelectPercentile](https://scikit-learn.org/stable/modules/generated/sklearn.feature_selection.SelectPercentile.html)"
   ]
  },
  {
   "cell_type": "markdown",
   "id": "8de157aa",
   "metadata": {},
   "source": [
    "## Ejemplos"
   ]
  },
  {
   "cell_type": "markdown",
   "id": "6ca701fe",
   "metadata": {},
   "source": [
    "####  Regresion (Entrada numérica, Salida numérica)"
   ]
  },
  {
   "cell_type": "code",
   "execution_count": null,
   "id": "b284a358",
   "metadata": {},
   "outputs": [],
   "source": [
    "# Selección de función de correlación de Pearson para entrada y salida numérica\n",
    "from sklearn.datasets import make_regression\n",
    "from sklearn.feature_selection import SelectKBest\n",
    "from sklearn.feature_selection import f_regression\n",
    "\n",
    "# generar el dataset\n",
    "X, y = make_regression(n_samples=100, n_features=100, n_informative=10)\n",
    "print('Dataframe antes:', X.shape)\n",
    "\n",
    "# definir la selección de feature\n",
    "fs = SelectKBest(score_func=f_regression, k=10)\n",
    "\n",
    "# aplicar la selección\n",
    "X_selected = fs.fit_transform(X, y)\n",
    "\n",
    "print('Dataframe con features seleccionadas:', X_selected.shape)"
   ]
  },
  {
   "cell_type": "markdown",
   "id": "83152ed4",
   "metadata": {},
   "source": [
    "#### Clasificación (Entrada numérica, Salida categórica)"
   ]
  },
  {
   "cell_type": "code",
   "execution_count": null,
   "id": "f2ad4092",
   "metadata": {},
   "outputs": [],
   "source": [
    "# Selección de características de ANOVA para entrada numérica y salida categórica\n",
    "from sklearn.datasets import make_classification\n",
    "from sklearn.feature_selection import SelectKBest\n",
    "from sklearn.feature_selection import f_classif\n",
    "\n",
    "# generar dataset\n",
    "X, y = make_classification(n_samples=100, n_features=20, n_informative=2)\n",
    "print('Dataframe antes:', X.shape)\n",
    "\n",
    "# definir selección de feature\n",
    "fs = SelectKBest(score_func=f_classif, k=2)\n",
    "\n",
    "# aplicar selección de feature\n",
    "X_selected = fs.fit_transform(X, y)\n",
    "\n",
    "print('Dataframe con features seleccionadas:', X_selected.shape)"
   ]
  }
 ],
 "metadata": {
  "kernelspec": {
   "display_name": "Python 3 (ipykernel)",
   "language": "python",
   "name": "python3"
  },
  "language_info": {
   "codemirror_mode": {
    "name": "ipython",
    "version": 3
   },
   "file_extension": ".py",
   "mimetype": "text/x-python",
   "name": "python",
   "nbconvert_exporter": "python",
   "pygments_lexer": "ipython3",
   "version": "3.9.13"
  }
 },
 "nbformat": 4,
 "nbformat_minor": 5
}
