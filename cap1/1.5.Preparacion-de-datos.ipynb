{
 "cells": [
  {
   "cell_type": "markdown",
   "id": "6997b1bc",
   "metadata": {},
   "source": [
    "# Preparación de datos\n",
    "\n",
    "En un proyecto de modelado predictivo, como clasificación o regresión, los datos sin procesar normalmente no pueden\n",
    "usarse directamente. Esto se debe a razones tales como:\n",
    "\n",
    "- Los algoritmos de ML requieren que los datos sean números.\n",
    "- Algunos algoritmos imponen requisitos a los datos.\n",
    "- Es posible que sea necesario corregir el ruido estadístico y los errores en los datos.\n",
    "- Las relaciones no lineales complejas pueden extraerse de los datos."
   ]
  },
  {
   "cell_type": "markdown",
   "id": "62e1a2c4",
   "metadata": {},
   "source": [
    "## Pasos de un proyecto de ML\n",
    "1. **Definir el problema:** aprender lo suficiente sobre el proyecto para seleccionar el encuadre de la tarea de predicción.\n",
    "2. **Preparar datos:** transformar los datos sin procesar que se recopilaron y que se pueden usar en el modelado.\n",
    "3. **Evaluar modelos:** evaluar modelos de ML en los datos. Requiere que se diseñen pruebas robustas para evaluar los modelos, y se usen para seleccionar entre los modelos evaluados.\n",
    "4. **Finalizar el modelo:** seleccionar y usar un modelo final.\n",
    "\n",
    "Es habitual ir atrás y adelante en estos paso para un proyecto determinado."
   ]
  },
  {
   "cell_type": "markdown",
   "id": "dc9590ed",
   "metadata": {},
   "source": [
    "## Definir el problema\n",
    "El paso previo a la preparación de los datos consiste en definir el problema, que puede incluir:\n",
    "- Recopilar datos del dominio del problema.\n",
    "- Discutir el proyecto con expertos en la materia.\n",
    "- Seleccionar aquellas variables que se utilizarán como entradas y salidas para un modelo predictivo.\n",
    "- Revisar los datos que se han recopilado.\n",
    "- Resumir los datos recopilados utilizando métodos estadísticos.\n",
    "- Visualizar los datos recopilados mediante diagramas y gráficos.\n"
   ]
  },
  {
   "cell_type": "markdown",
   "id": "2ee55101",
   "metadata": {},
   "source": [
    "## Tareas de preparación de datos\n",
    "- **Limpieza de datos:** Identificar y corregir faltas o errores en los datos.\n",
    "- **Selección de características:** identificar aquellas variables de entrada que son más relevantes para la tarea.\n",
    "- **Transformaciones de datos:** Cambiar la escala o distribución de variables.\n",
    "- **Ingeniería de características:** derivación de nuevas variables a partir de los datos disponibles.\n",
    "- **Reducción de dimensionalidad:** Creación de proyecciones compactas de los datos.\n",
    "\n",
    "Puede haber mucha interacción entre la definición del problema y la preparación de los datos."
   ]
  },
  {
   "cell_type": "markdown",
   "id": "53e12b51",
   "metadata": {},
   "source": [
    "## Escoger las técnicas de preparación de datos\n",
    "- La información conocida sobre los datos se puede utilizar para seleccionar y configurar métodos de preparación de datos.\n",
    "    > Por ejemplo,\\\n",
    "        - las gráficas de los datos pueden ayudar a identificar si una variable tiene valores atípicos.\n",
    "        - Esto puede ayudar en las operaciones de limpieza de datos.\n",
    "        - Puede proporcionar información sobre la distribución subyace a los datos.\n",
    "        - Y a determinar si serían apropiadas transformaciones de datos que cambian la distribución de una variable.\n",
    "- Los métodos estadísticos, como las estadísticas descriptivas, se pueden utilizar para determinar si se pueden requerir operaciones de escalado. \n",
    "- Las pruebas de hipótesis estadísticas se pueden utilizar para determinar si una variable coincide con una distribución de probabilidad dada.\n",
    "- Las gráficas y estadísticas por pares se pueden usar para determinar si las variables están relacionadas y, de ser así, en qué medida, proporcionando información sobre si una o más variables son redundantes o irrelevantes para la variable de destino."
   ]
  },
  {
   "cell_type": "markdown",
   "id": "53c036c0",
   "metadata": {},
   "source": [
    "## Evaluación del modelo\n",
    "Puede incluir tareas como:\n",
    "- Seleccionar una métrica de rendimiento para evaluar la habilidad predictiva del modelo.\n",
    "- Seleccionar un modelo de procedimiento de evaluación.\n",
    "- Seleccionar algoritmos a evaluar.\n",
    "- Tunear los Hiperparámetros del algoritmo.\n",
    "- Combinar modelos predictivos en conjuntos.\n",
    "\n",
    "También puede haber interacción entre el paso de preparación de datos y la evaluación de modelos."
   ]
  },
  {
   "cell_type": "markdown",
   "id": "6b1ea023",
   "metadata": {},
   "source": [
    "### Referencia:\n",
    "D⁠a⁠t⁠a⁠ ⁠P⁠r⁠e⁠p⁠a⁠r⁠a⁠t⁠i⁠on⁠ ⁠f⁠o⁠r⁠ ⁠⁠M⁠a⁠c⁠h⁠i⁠n⁠e⁠ ⁠L⁠e⁠a⁠r⁠n⁠i⁠n⁠g. Jason Brownlee. 2020."
   ]
  }
 ],
 "metadata": {
  "kernelspec": {
   "display_name": "Python 3 (ipykernel)",
   "language": "python",
   "name": "python3"
  },
  "language_info": {
   "codemirror_mode": {
    "name": "ipython",
    "version": 3
   },
   "file_extension": ".py",
   "mimetype": "text/x-python",
   "name": "python",
   "nbconvert_exporter": "python",
   "pygments_lexer": "ipython3",
   "version": "3.9.13"
  }
 },
 "nbformat": 4,
 "nbformat_minor": 5
}
