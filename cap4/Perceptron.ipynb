{
 "cells": [
  {
   "cell_type": "code",
   "execution_count": 1,
   "id": "14253446",
   "metadata": {},
   "outputs": [],
   "source": [
    "import numpy, random, os\n",
    "\n",
    "lr = 1 #learning rate\n",
    "bias = 1 #value of bias\n",
    "weights = [random.random(),random.random(),random.random()] #weights generated in a list (3 weights in total for 2 neurons and the bias)"
   ]
  },
  {
   "cell_type": "code",
   "execution_count": 8,
   "id": "a77beabd",
   "metadata": {},
   "outputs": [],
   "source": [
    "# create a function which defines the work of the output neuron. \n",
    "# “outputP” is the variable corresponding to the output given by the Perceptron.\n",
    "# calculate the error, used to modify the weights of every connections to the output neuron right after.\n",
    "\n",
    "def Perceptron(input1, input2, output) :\n",
    "   outputP = input1*weights[0]+input2*weights[1]+bias*weights[2]\n",
    "   if outputP > 0 : #activation function (here Heaviside)\n",
    "      outputP = 1\n",
    "   else :\n",
    "      outputP = 0\n",
    "   error = output - outputP\n",
    "   weights[0] += error * input1 * lr\n",
    "   weights[1] += error * input2 * lr\n",
    "   weights[2] += error * bias * lr"
   ]
  },
  {
   "cell_type": "code",
   "execution_count": 9,
   "id": "3eeaa309",
   "metadata": {},
   "outputs": [],
   "source": [
    "# We create a loop that makes the neural network repeat every situation several times. \n",
    "# This part is the learning phase. \n",
    "# The number of iteration is chosen according to the precision we want. \n",
    "\n",
    "for i in range(50) :\n",
    "   Perceptron(1,1,1) #True or true\n",
    "   Perceptron(1,0,1) #True or false\n",
    "   Perceptron(0,1,1) #False or true\n",
    "   Perceptron(0,0,0) #False or false"
   ]
  },
  {
   "cell_type": "code",
   "execution_count": 7,
   "id": "2ff75b0b",
   "metadata": {},
   "outputs": [
    {
     "name": "stdout",
     "output_type": "stream",
     "text": [
      "1\n",
      "0\n",
      "1 or 0 is :  1\n"
     ]
    }
   ],
   "source": [
    "# Finally, we can ask the user to enter himself the values to check if the Perceptron is working. \n",
    "# This is the testing phase.\n",
    "\n",
    "x = int(input())\n",
    "y = int(input())\n",
    "outputP = x*weights[0] + y*weights[1] + bias*weights[2]\n",
    "if outputP > 0 : #activation function\n",
    "   outputP = 1 # outputP = 1/(1+numpy.exp(-outputP)) #sigmoid function\n",
    "else :\n",
    "   outputP = 0\n",
    "print(x, \"or\", y, \"is : \", outputP)"
   ]
  },
  {
   "cell_type": "code",
   "execution_count": null,
   "id": "4aed8170",
   "metadata": {},
   "outputs": [],
   "source": []
  }
 ],
 "metadata": {
  "kernelspec": {
   "display_name": "Python 3 (ipykernel)",
   "language": "python",
   "name": "python3"
  },
  "language_info": {
   "codemirror_mode": {
    "name": "ipython",
    "version": 3
   },
   "file_extension": ".py",
   "mimetype": "text/x-python",
   "name": "python",
   "nbconvert_exporter": "python",
   "pygments_lexer": "ipython3",
   "version": "3.9.13"
  }
 },
 "nbformat": 4,
 "nbformat_minor": 5
}
