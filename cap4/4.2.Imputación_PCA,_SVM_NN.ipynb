{
 "cells": [
  {
   "cell_type": "markdown",
   "metadata": {},
   "source": [
    "# Imputación usando Machine Learning\n",
    "\n",
    "En este ejemplo, vamos a ver como podemos usar modelos de Machine Learning, por ejemplo, la regresión lineal para hacer una mejor estimación de los datos faltantes!\n",
    "\n",
    "**Saber más:** https://www.analyticsvidhya.com/blog/2021/06/defining-analysing-and-implementing-imputation-techniques/"
   ]
  },
  {
   "cell_type": "code",
   "execution_count": null,
   "metadata": {},
   "outputs": [],
   "source": [
    "#### Paquetes\n",
    "\n",
    "import os\n",
    "\n",
    "import pandas as pd\n",
    "import numpy as np\n",
    "import seaborn as sns\n",
    "import matplotlib.pyplot as plt\n",
    "\n",
    "from sklearn import svm\n",
    "from sklearn import linear_model\n",
    "from sklearn.impute import SimpleImputer\n",
    "from sklearn.decomposition import PCA\n",
    "from sklearn.preprocessing import StandardScaler \n",
    "from sklearn.model_selection import GridSearchCV\n",
    "from sklearn.model_selection import train_test_split\n",
    "from sklearn.neural_network import MLPRegressor\n",
    "from sklearn.preprocessing import PolynomialFeatures\n",
    "from sklearn.metrics import accuracy_score, r2_score\n",
    "\n",
    "import warnings\n",
    "warnings.filterwarnings(\"ignore\")"
   ]
  },
  {
   "cell_type": "markdown",
   "metadata": {},
   "source": [
    "#### Imputación simple"
   ]
  },
  {
   "cell_type": "code",
   "execution_count": null,
   "metadata": {},
   "outputs": [],
   "source": [
    "df = pd.read_csv(\"../data/2008_small.zip\",nrows = 1000000)\n",
    "\n",
    "X = df[['AirTime','Distance','TaxiIn','TaxiOut',\"DepDelay\",\"ArrDelay\",\"CarrierDelay\"]] \n",
    "X"
   ]
  },
  {
   "cell_type": "code",
   "execution_count": null,
   "metadata": {},
   "outputs": [],
   "source": [
    "X.isna().sum()"
   ]
  },
  {
   "cell_type": "code",
   "execution_count": null,
   "metadata": {},
   "outputs": [],
   "source": [
    "X.mean()"
   ]
  },
  {
   "cell_type": "code",
   "execution_count": null,
   "metadata": {},
   "outputs": [],
   "source": [
    "imp = SimpleImputer(missing_values=np.nan, strategy='mean')\n",
    "# imp.fit(X)       "
   ]
  },
  {
   "cell_type": "code",
   "execution_count": null,
   "metadata": {},
   "outputs": [],
   "source": [
    "X = imp.fit_transform(X)"
   ]
  },
  {
   "cell_type": "code",
   "execution_count": null,
   "metadata": {},
   "outputs": [],
   "source": [
    "pd.DataFrame(X).describe()"
   ]
  },
  {
   "cell_type": "markdown",
   "metadata": {},
   "source": [
    ">Una aproximación más sólida basada en las relaciones presentes en los datos..."
   ]
  },
  {
   "cell_type": "code",
   "execution_count": null,
   "metadata": {},
   "outputs": [],
   "source": [
    "X = df[['AirTime','Distance','TaxiIn','TaxiOut',\"DepDelay\",\"ArrDelay\",\"CarrierDelay\"]] \n",
    "X.corr()"
   ]
  },
  {
   "cell_type": "code",
   "execution_count": null,
   "metadata": {
    "scrolled": false
   },
   "outputs": [],
   "source": [
    "X = X.dropna(subset=[\"DepDelay\",\"ArrDelay\",\"TaxiOut\"])\n",
    "newX = X[[\"DepDelay\",\"ArrDelay\",\"TaxiOut\",\"CarrierDelay\"]] \n",
    "#Aquí no hay Nans en las 3 columnas explicativas, y sí los hay en CarrierDelay\n",
    "\n",
    "train = newX[np.isnan(X.CarrierDelay)==False] #No hay Nans\n",
    "train"
   ]
  },
  {
   "cell_type": "code",
   "execution_count": null,
   "metadata": {},
   "outputs": [],
   "source": [
    "regr = linear_model.LinearRegression()\n",
    "regr.fit(train[[\"DepDelay\",\"ArrDelay\",\"TaxiOut\"]], train[\"CarrierDelay\"])"
   ]
  },
  {
   "cell_type": "code",
   "execution_count": null,
   "metadata": {},
   "outputs": [],
   "source": [
    "regr.intercept_"
   ]
  },
  {
   "cell_type": "code",
   "execution_count": null,
   "metadata": {},
   "outputs": [],
   "source": [
    "regr.coef_"
   ]
  },
  {
   "cell_type": "code",
   "execution_count": null,
   "metadata": {},
   "outputs": [],
   "source": [
    "r2_score( train[\"CarrierDelay\"],regr.predict(train[[\"DepDelay\",\"ArrDelay\",\"TaxiOut\"]])  )"
   ]
  },
  {
   "cell_type": "markdown",
   "metadata": {},
   "source": [
    ">Los datos con los que ha aprendido el modelo"
   ]
  },
  {
   "cell_type": "code",
   "execution_count": null,
   "metadata": {
    "scrolled": true
   },
   "outputs": [],
   "source": [
    "train"
   ]
  },
  {
   "cell_type": "code",
   "execution_count": null,
   "metadata": {},
   "outputs": [],
   "source": [
    "test = newX[np.isnan(X.CarrierDelay) == True]\n",
    "test_X = test[[\"DepDelay\",\"ArrDelay\",\"TaxiOut\"]] # Solo las columnas X"
   ]
  },
  {
   "cell_type": "markdown",
   "metadata": {},
   "source": [
    ">Los datos que vamos a usar para imputar el valor de CarrierDelay"
   ]
  },
  {
   "cell_type": "code",
   "execution_count": null,
   "metadata": {},
   "outputs": [],
   "source": [
    "test"
   ]
  },
  {
   "cell_type": "code",
   "execution_count": null,
   "metadata": {
    "scrolled": true
   },
   "outputs": [],
   "source": [
    "imputacion = regr.predict(test_X)\n",
    "imputacion"
   ]
  },
  {
   "cell_type": "code",
   "execution_count": null,
   "metadata": {},
   "outputs": [],
   "source": [
    "np.mean(imputacion)"
   ]
  },
  {
   "cell_type": "markdown",
   "metadata": {},
   "source": [
    ">Sobreescribimos los datos imputados en el objeto original"
   ]
  },
  {
   "cell_type": "code",
   "execution_count": null,
   "metadata": {},
   "outputs": [],
   "source": [
    "X.loc[np.isnan(X.CarrierDelay),\"CarrierDelay\"] = imputacion"
   ]
  },
  {
   "cell_type": "code",
   "execution_count": null,
   "metadata": {},
   "outputs": [],
   "source": [
    "X.CarrierDelay[X.CarrierDelay < 0] = 0"
   ]
  },
  {
   "cell_type": "code",
   "execution_count": null,
   "metadata": {},
   "outputs": [],
   "source": [
    "X"
   ]
  },
  {
   "cell_type": "markdown",
   "metadata": {},
   "source": [
    "# Reducción de Dimensionalidad. PCA\n",
    "\n",
    "Principal Component Analysis, basado en la reestructuración de las variables (columnas) para agrupar más porcentaje de varianza.\n",
    "\n",
    "\"PCA = Reducir dimensiones, Preservar información\"\n",
    "\n",
    "**Saber más:** https://medium.com/all-about-ml/understanding-principal-component-analysis-pca-556778324b0e"
   ]
  },
  {
   "cell_type": "code",
   "execution_count": null,
   "metadata": {},
   "outputs": [],
   "source": [
    "df = pd.read_csv(\"../data/2008_small.zip\",nrows = 1000000)\n",
    "\n",
    "df = df.dropna(subset = ['AirTime','Distance','TaxiIn','TaxiOut',\"DepDelay\",\"ArrDelay\"])\n",
    "df = df.sample(frac=1).head(1000)\n",
    "\n",
    "X = df[['AirTime','Distance','TaxiIn','TaxiOut',\"DepDelay\",\"ArrDelay\"]] \n",
    "columnas = X.columns"
   ]
  },
  {
   "cell_type": "code",
   "execution_count": null,
   "metadata": {},
   "outputs": [],
   "source": [
    "X"
   ]
  },
  {
   "cell_type": "code",
   "execution_count": null,
   "metadata": {
    "scrolled": true
   },
   "outputs": [],
   "source": [
    "scaler = StandardScaler()   ## IMPORTANTISIMO ##\n",
    "scaler.fit(X)\n",
    "\n",
    "X = scaler.transform(X)\n",
    "\n",
    "pca = PCA(n_components=2) # El numero de componentes son la cantidad de nuevas columnas que quiero\n",
    "pca.fit(X)"
   ]
  },
  {
   "cell_type": "code",
   "execution_count": null,
   "metadata": {},
   "outputs": [],
   "source": [
    "pca.components_"
   ]
  },
  {
   "cell_type": "code",
   "execution_count": null,
   "metadata": {},
   "outputs": [],
   "source": [
    "columnas"
   ]
  },
  {
   "cell_type": "code",
   "execution_count": null,
   "metadata": {},
   "outputs": [],
   "source": [
    "X"
   ]
  },
  {
   "cell_type": "code",
   "execution_count": null,
   "metadata": {
    "scrolled": false
   },
   "outputs": [],
   "source": [
    "print(np.round(pca.components_,2)) # nuevas columnas x viejas columnas"
   ]
  },
  {
   "cell_type": "code",
   "execution_count": null,
   "metadata": {},
   "outputs": [],
   "source": [
    "columnas"
   ]
  },
  {
   "cell_type": "code",
   "execution_count": null,
   "metadata": {},
   "outputs": [],
   "source": [
    "pd.DataFrame(np.round(pca.components_,2),columns=columnas)\n",
    "\n",
    "# 1a componente, vuelos largos y retrasos altos (vuelos cortos, retrasos bajos)\n",
    "# 2a componente, vuelos cortos y retrasos altos (vuelos largos, retrasos bajos)"
   ]
  },
  {
   "cell_type": "markdown",
   "metadata": {},
   "source": [
    ">La interpretación de los datos se relaciona de manera directa con las columnas originales"
   ]
  },
  {
   "cell_type": "code",
   "execution_count": null,
   "metadata": {},
   "outputs": [],
   "source": [
    "print(pca.explained_variance_ratio_)"
   ]
  },
  {
   "cell_type": "code",
   "execution_count": null,
   "metadata": {},
   "outputs": [],
   "source": [
    "nuevosvalores = pca.transform(X)\n",
    "nuevosvalores"
   ]
  },
  {
   "cell_type": "markdown",
   "metadata": {},
   "source": [
    ">Visualizar la transformación del espacio"
   ]
  },
  {
   "cell_type": "code",
   "execution_count": null,
   "metadata": {},
   "outputs": [],
   "source": [
    "plt.scatter(nuevosvalores[:,0],nuevosvalores[:,1],)\n",
    "plt.xlabel(\"Primera NUEVA columna: vuelos largos y retrasos altos\")\n",
    "plt.ylabel(\"Segunda NUEVA columna: vuelos cortos y retrasos altos\")\n",
    "plt.show()"
   ]
  },
  {
   "cell_type": "markdown",
   "metadata": {},
   "source": [
    "## Ejercicios. Imputación y PCA\n"
   ]
  },
  {
   "cell_type": "markdown",
   "metadata": {},
   "source": [
    "1. Ejecuta el siguiente código para generarte unos datos de ejemplo con NAs"
   ]
  },
  {
   "cell_type": "code",
   "execution_count": null,
   "metadata": {},
   "outputs": [],
   "source": [
    "from pydataset import data\n",
    "\n",
    "iris = data('iris')\n",
    "iris[\"Petal.Length\"][np.random.uniform(0, 1, size=iris.shape[0]) >.8]= np.nan\n",
    "posicionesna = np.isnan(iris[\"Petal.Length\"])\n",
    "iris.head()"
   ]
  },
  {
   "cell_type": "code",
   "execution_count": null,
   "metadata": {},
   "outputs": [],
   "source": []
  },
  {
   "cell_type": "markdown",
   "metadata": {},
   "source": [
    "2. Utilizando las técnicas que hemos visto hasta ahora, prueba de imputar los datos faltantes usando la media o la mediana"
   ]
  },
  {
   "cell_type": "code",
   "execution_count": null,
   "metadata": {},
   "outputs": [],
   "source": []
  },
  {
   "cell_type": "markdown",
   "metadata": {},
   "source": [
    "3. Usando las demás columnas que consideres relevantes, imputa los valores faltantes mediante un modelo de regresión lineal"
   ]
  },
  {
   "cell_type": "code",
   "execution_count": null,
   "metadata": {},
   "outputs": [],
   "source": []
  },
  {
   "cell_type": "markdown",
   "metadata": {},
   "source": [
    "4. Visualiza los datos iris completos usando PCA (convirtiendo 4 columnas en 2)."
   ]
  },
  {
   "cell_type": "code",
   "execution_count": null,
   "metadata": {},
   "outputs": [],
   "source": []
  },
  {
   "cell_type": "markdown",
   "metadata": {},
   "source": [
    "5. Usando Kmeans, el clustering jerárquico o cualquier otro algoritmo de agrupación, visualiza los resultados de agrupar el dataframe iris, con los dos primeros componentes principales"
   ]
  },
  {
   "cell_type": "code",
   "execution_count": null,
   "metadata": {},
   "outputs": [],
   "source": []
  },
  {
   "cell_type": "markdown",
   "metadata": {},
   "source": [
    "6. (Extra) Ajustar un modelo de regresión/clasificación para predecir alguna variable, usando nuevas columnas PCA como variables predictoras"
   ]
  },
  {
   "cell_type": "code",
   "execution_count": null,
   "metadata": {},
   "outputs": [],
   "source": []
  },
  {
   "attachments": {
    "1_06GSco3ItM3gwW2scY6Tmg%20%281%29.png": {
     "image/png": "[encoded data removed]"
    }
   },
   "cell_type": "markdown",
   "metadata": {},
   "source": [
    "# Support Vector Machine\n",
    "\n",
    "Los SVM son algoritmos de clasificación y regresión que representan transformaciones de los datos más flexibles que las relaciones lineales.\n",
    "\n",
    "![1_06GSco3ItM3gwW2scY6Tmg%20%281%29.png](attachment:1_06GSco3ItM3gwW2scY6Tmg%20%281%29.png)"
   ]
  },
  {
   "cell_type": "markdown",
   "metadata": {},
   "source": [
    "#### Ejemplo Sencillo"
   ]
  },
  {
   "cell_type": "code",
   "execution_count": null,
   "metadata": {},
   "outputs": [],
   "source": [
    "df = pd.read_csv(\"../data/2008_small.zip\",nrows = 10000)\n",
    "\n",
    "df = df.dropna(subset =['AirTime','Distance','TaxiIn','TaxiOut'])\n",
    "df = df.sample(frac=1).head(2000)\n",
    "\n",
    "X = df[['AirTime','Distance','TaxiIn','TaxiOut']] \n",
    "Y = df['ArrDelay'] > np.median(df[\"ArrDelay\"])\n",
    "\n",
    "X_train, X_test, y_train, y_test = train_test_split(X, Y, test_size=.2)"
   ]
  },
  {
   "cell_type": "code",
   "execution_count": null,
   "metadata": {},
   "outputs": [],
   "source": [
    "np.mean(Y)"
   ]
  },
  {
   "cell_type": "code",
   "execution_count": null,
   "metadata": {},
   "outputs": [],
   "source": [
    "# Si se queda infinitamente atrapado, tenemos que rearrancar, pero con parámetros de parada.\n",
    "# max_iter // tol // cache\n",
    "\n",
    "svc = svm.SVC(C = 0.1,kernel = 'linear', tol = 1e-2)\n",
    "svc.fit(X_train, y_train)\n",
    "np.mean( svc.predict(X_test) == y_test)"
   ]
  },
  {
   "cell_type": "markdown",
   "metadata": {},
   "source": [
    "#### Parámetros de un SVM:\n",
    "    \n",
    "https://scikit-learn.org/stable/modules/generated/sklearn.svm.SVC.html \n",
    "- C: Parámetro de complejidad\n",
    "- kernel (transformación de los datos) {‘linear’, ‘poly’, ‘rbf’, ‘sigmoid’, ‘precomputed’}"
   ]
  },
  {
   "cell_type": "markdown",
   "metadata": {},
   "source": [
    "## Automatic parameter Tuning / Model estimation\n",
    "\n",
    "Not working really fast :'("
   ]
  },
  {
   "cell_type": "code",
   "execution_count": null,
   "metadata": {},
   "outputs": [],
   "source": [
    "# parameters = {'kernel':('linear', 'poly','rbf'), 'C':[1,5,10]}\n",
    "parameters = {'kernel':('linear','rbf','poly','sigmoid'), 'C':[0.001,0.01,0.05,0.1,0.5]}\n",
    "svc = svm.SVC()\n",
    "clf = GridSearchCV(svc, parameters,verbose=3,n_jobs=-1)\n",
    "clf.fit(X, Y)\n",
    "\n",
    "print(\"DONE\")"
   ]
  },
  {
   "cell_type": "markdown",
   "metadata": {},
   "source": [
    "¿Qué es la Búsqueda de cuadrícula con Cross Validation?"
   ]
  },
  {
   "cell_type": "code",
   "execution_count": null,
   "metadata": {},
   "outputs": [],
   "source": [
    "clf.cv_results_"
   ]
  },
  {
   "cell_type": "markdown",
   "metadata": {},
   "source": [
    ">Nos permite dar una **primera intuición de los parámetros que funcionan mejor**"
   ]
  },
  {
   "cell_type": "code",
   "execution_count": null,
   "metadata": {},
   "outputs": [],
   "source": [
    "clf.best_params_"
   ]
  },
  {
   "cell_type": "code",
   "execution_count": null,
   "metadata": {},
   "outputs": [],
   "source": [
    "clf.cv_results_['mean_test_score']"
   ]
  },
  {
   "cell_type": "code",
   "execution_count": null,
   "metadata": {},
   "outputs": [],
   "source": [
    "clf.best_score_"
   ]
  },
  {
   "cell_type": "markdown",
   "metadata": {},
   "source": [
    "# Neural Networks"
   ]
  },
  {
   "cell_type": "markdown",
   "metadata": {},
   "source": [
    "Una explicación visual de las redes neuronales\n",
    "\n",
    "https://playground.tensorflow.org/#activation=tanh&batchSize=10&dataset=circle&regDataset=reg-plane&learningRate=0.03&regularizationRate=0&noise=0&networkShape=4,2&seed=0.44747&showTestData=false&discretize=false&percTrainData=50&x=true&y=true&xTimesY=false&xSquared=false&ySquared=false&cosX=false&sinX=false&cosY=false&sinY=false&collectStats=false&problem=classification&initZero=false&hideText=false\n",
    "\n",
    "En resumen, se trata de un modelo clasificador/regresor que busca detectar patrones mediante la combinación de transformaciones de los datos, las llamadas \"neuronas\"."
   ]
  },
  {
   "cell_type": "code",
   "execution_count": null,
   "metadata": {
    "scrolled": true
   },
   "outputs": [],
   "source": [
    "df = pd.read_csv(\"../data/2008_small.zip\",nrows = 1000000)\n",
    "\n",
    "df = df.dropna(subset =['AirTime','Distance','TaxiIn','TaxiOut'])\n",
    "df = df.sample(frac=1).head(10000)\n",
    "\n",
    "X = df[['AirTime','Distance','TaxiIn','TaxiOut']] \n",
    "Y = df['ArrDelay']\n",
    "\n",
    "poly = PolynomialFeatures(degree=2)\n",
    "X_poly = poly.fit_transform(X)\n",
    "\n",
    "X = pd.DataFrame(X_poly, columns = poly.get_feature_names(input_features=X.columns))\n",
    "\n",
    "\n",
    "X_train, X_test, y_train, y_test = train_test_split(X, Y, test_size=.2, random_state=1)\n",
    "\n",
    "scaler = StandardScaler()  \n",
    "scaler.fit(X_train) # conocimiento\n",
    "\n",
    "X_train = scaler.transform(X_train)\n",
    "X_test = scaler.transform(X_test)"
   ]
  },
  {
   "cell_type": "code",
   "execution_count": null,
   "metadata": {},
   "outputs": [],
   "source": [
    "regr = MLPRegressor(solver='lbfgs', alpha=0.001, hidden_layer_sizes=(10,10,10)) #The ith element represents the number of neurons in the ith hidden layer.\n",
    "\n",
    "model = regr.fit(X_train, y_train)\n",
    "\n",
    "predictions = model.predict(X_test)\n",
    "print(\"R cuadrado: \",r2_score(y_test, predictions))"
   ]
  },
  {
   "cell_type": "markdown",
   "metadata": {},
   "source": [
    ">Comparamos con el modelo de regresión lineal"
   ]
  },
  {
   "cell_type": "code",
   "execution_count": null,
   "metadata": {},
   "outputs": [],
   "source": [
    "regrLin = linear_model.LinearRegression()\n",
    "regrLin.fit(X_train,y_train)\n",
    "y_pred = regrLin.predict(X_test)\n",
    "print(\"R cuadrado: \",r2_score(y_test, y_pred))"
   ]
  },
  {
   "cell_type": "markdown",
   "metadata": {},
   "source": [
    ">Algunos de los parámetros con los que podemos jugar en los modelos de red neurnal son:\n",
    ">   \n",
    ">- solver: {‘lbfgs’, ‘sgd’, ‘adam’}    \n",
    ">- activation : {‘identity’, ‘logistic’, ‘tanh’, ‘relu’}\n",
    ">- alpha : float, optional, default 0.0001 L2 penalty\n",
    ">- learning_rate : {‘constant’, ‘invscaling’, ‘adaptive’}"
   ]
  },
  {
   "cell_type": "markdown",
   "metadata": {},
   "source": [
    ">Considerar la cantidad de combinaciones posibles de parámetros...\\\n",
    ">https://scikit-learn.org/stable/modules/generated/sklearn.neural_network.MLPRegressor.html"
   ]
  },
  {
   "cell_type": "markdown",
   "metadata": {},
   "source": [
    "### Selección de parámetros automatizada (sin funciones)\n",
    "\n",
    "Más potente, más flexible, más control... pero requiere más código..."
   ]
  },
  {
   "cell_type": "code",
   "execution_count": null,
   "metadata": {
    "scrolled": true
   },
   "outputs": [],
   "source": [
    "# Modelo con 3 capas\n",
    "\n",
    "alphas = [0.0000001,0.001,0.1]\n",
    "layers = [2,5,10,20]\n",
    "solvers = [\"lbfgs\",\"adam\",\"sgd\"]\n",
    "listtodf = []\n",
    "i = 0\n",
    "print(\"Iterations:\", len(alphas)*len(layers) ** 3 *len(solvers))\n",
    "\n",
    "for alpha in alphas:\n",
    "    for layer1 in layers: \n",
    "        for layer2 in layers:\n",
    "            for layer3 in layers:\n",
    "                for solver in solvers:\n",
    "                    i += 1 # i = i + 1 // i++\n",
    "                    regr = MLPRegressor(solver=solver, alpha=alpha, hidden_layer_sizes=(layer1,layer2,layer3),warm_start=True)\n",
    "                    model = regr.fit(X_train, y_train)\n",
    "                    predictions = model.predict(X_test)\n",
    "                    print(i, \n",
    "                          \"R cuadrado: \",round(r2_score(y_test, predictions),2), \n",
    "                          \" Solver: \",solver, \n",
    "                          \" Layer size: \", (layer1,layer2,layer3),\n",
    "                          \" Alpha: \",alpha)\n",
    "                    listtodf.append([alpha,(layer1,layer2,layer3),solver,r2_score(y_test, predictions)])"
   ]
  },
  {
   "cell_type": "code",
   "execution_count": null,
   "metadata": {
    "scrolled": true
   },
   "outputs": [],
   "source": [
    "listtodf"
   ]
  },
  {
   "cell_type": "markdown",
   "metadata": {},
   "source": [
    ">Obteniendo conclusiones sobre los datos"
   ]
  },
  {
   "cell_type": "code",
   "execution_count": null,
   "metadata": {},
   "outputs": [],
   "source": [
    "parameters = pd.DataFrame(listtodf, columns =['Alphas', 'Layers','Solvers','R2']) \n",
    "parameters.to_csv(\"parameters.csv\")"
   ]
  },
  {
   "cell_type": "code",
   "execution_count": null,
   "metadata": {},
   "outputs": [],
   "source": [
    "parameters = pd.read_csv(\"parameters.csv\",index_col = 0)\n",
    "parameters"
   ]
  },
  {
   "cell_type": "code",
   "execution_count": null,
   "metadata": {},
   "outputs": [],
   "source": [
    "parameters.groupby(\"Alphas\").mean()[\"R2\"].sort_values(ascending = False)"
   ]
  },
  {
   "cell_type": "code",
   "execution_count": null,
   "metadata": {},
   "outputs": [],
   "source": [
    "parameters.groupby(\"Layers\").mean()[\"R2\"].sort_values(ascending = False)"
   ]
  },
  {
   "cell_type": "code",
   "execution_count": null,
   "metadata": {},
   "outputs": [],
   "source": [
    "parameters.groupby(\"Solvers\").mean()[\"R2\"].sort_values(ascending = False)"
   ]
  },
  {
   "cell_type": "code",
   "execution_count": null,
   "metadata": {
    "scrolled": false
   },
   "outputs": [],
   "source": [
    "parameters[parameters.R2 == max(parameters.R2)]"
   ]
  },
  {
   "cell_type": "markdown",
   "metadata": {},
   "source": [
    "## Ejercicio\n",
    "\n",
    "Intenta clasificar/predecir lo mejor que puedas los datos de iris o algún dataset sencillo, usando uno de los dos modelos que hemos visto (SVM y NN). Puedes usar una de las columnas numéricas como respuesta (regresión) o la columa \"species\" (clasificación).\n",
    "\n",
    "Aprovecha para añadir nuevas variables (feature engineering), seleccionar alguno de los parámetros que funcionan mejor con estos datos, etc."
   ]
  },
  {
   "cell_type": "code",
   "execution_count": null,
   "metadata": {},
   "outputs": [],
   "source": []
  },
  {
   "cell_type": "markdown",
   "metadata": {},
   "source": [
    "© Netmind S.L.\n",
    "\n",
    "Todos los derechos reservados. Este documento (v1.00) ha sido diseñado para el uso exclusivo del cliente que atiende a esta formación.\n",
    "\n",
    "Ninguna parte de este documento puede ser reproducida, distribuida o transmitida en cualquier forma o por cualquier medio sin el permiso previo por escrito de Netmind."
   ]
  }
 ],
 "metadata": {
  "kernelspec": {
   "display_name": "Python 3 (ipykernel)",
   "language": "python",
   "name": "python3"
  },
  "language_info": {
   "codemirror_mode": {
    "name": "ipython",
    "version": 3
   },
   "file_extension": ".py",
   "mimetype": "text/x-python",
   "name": "python",
   "nbconvert_exporter": "python",
   "pygments_lexer": "ipython3",
   "version": "3.9.13"
  }
 },
 "nbformat": 4,
 "nbformat_minor": 2
}
