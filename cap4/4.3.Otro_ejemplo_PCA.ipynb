{
 "cells": [
  {
   "cell_type": "markdown",
   "id": "a0e8426a",
   "metadata": {},
   "source": [
    "### Example\n",
    "Starting by examining a simple dataset, the Iris data available by default in scikit-learn. The data consists of measurements of three different species of irises. \n",
    "\n",
    "There are three species of iris in the dataset: 1. Iris Virginica 2. Iris Setosa 3. Iris Versicolor"
   ]
  },
  {
   "cell_type": "code",
   "execution_count": null,
   "id": "e65d4491",
   "metadata": {},
   "outputs": [],
   "source": [
    "from sklearn.datasets import load_iris\n",
    "iris = load_iris()\n",
    "iris.keys()"
   ]
  },
  {
   "cell_type": "code",
   "execution_count": null,
   "id": "929ee6f2",
   "metadata": {},
   "outputs": [],
   "source": [
    "#checking shape of data and list of features (X matrix) \n",
    "print(iris.data.shape)\n",
    "print(iris.feature_names) \n",
    "\n",
    "#checking target values \n",
    "print( iris.target_names)"
   ]
  },
  {
   "cell_type": "code",
   "execution_count": null,
   "id": "8d4c59d7",
   "metadata": {},
   "outputs": [],
   "source": [
    "#importing and instantiating PCA with 2 components. \n",
    "from sklearn.decomposition import PCA \n",
    "pca = PCA(2) \n",
    "pca"
   ]
  },
  {
   "cell_type": "code",
   "execution_count": null,
   "id": "32057f8a",
   "metadata": {},
   "outputs": [],
   "source": [
    "#Fitting PCA to the iris dataset and transforming it into 2 principal components \n",
    "X, y = iris.data, iris.target \n",
    "X_proj = pca.fit_transform(X) \n",
    "X_proj.shape"
   ]
  },
  {
   "cell_type": "code",
   "execution_count": null,
   "id": "e9b013d0",
   "metadata": {
    "scrolled": false
   },
   "outputs": [],
   "source": [
    "%matplotlib inline\n",
    "import numpy as np\n",
    "import matplotlib.pyplot as plt\n",
    "\n",
    "#Plotting the projected principal components and try to understand the data. \n",
    "#Ignoring what's in y, it looks more like 2 clusters of data points rather than 3 \n",
    "#c=y colors the scatter plot based on y (target) \n",
    "plt.scatter(X_proj[:,0], X_proj[:,1],c=y) \n",
    "plt.show()"
   ]
  },
  {
   "cell_type": "code",
   "execution_count": null,
   "id": "1c89f677",
   "metadata": {},
   "outputs": [],
   "source": [
    "#pca.components_ has the meaning of each principal component, essentially how it was derived \n",
    "#checking shape tells us it has 2 rows, one for each principal component and 4 columns, proportion of each of the 4 features \n",
    "#for each row \n",
    "print(pca.components_ )\n",
    "print(pca.components_.shape)"
   ]
  },
  {
   "cell_type": "code",
   "execution_count": null,
   "id": "ba3ce710",
   "metadata": {},
   "outputs": [],
   "source": [
    "#Trying to decipher the meaning of the principal components \n",
    "print(\"Meaning of the 2 components:\" )\n",
    "for component in pca.components_:\n",
    "    print( \" + \".join(\"%.2f x %s\" % (value, name) for value, name in zip(component, iris.feature_names)))"
   ]
  },
  {
   "cell_type": "code",
   "execution_count": null,
   "id": "52afd2c5",
   "metadata": {},
   "outputs": [],
   "source": [
    "#this tells us the extent to which each component explains the original dataset. \n",
    "#so the 1st component is able to explain ~92% of X and the second only about 5.3% \n",
    "#Together they can explain about 97.3% of the variance of X \n",
    "print( pca.explained_variance_ratio_)"
   ]
  },
  {
   "cell_type": "code",
   "execution_count": null,
   "id": "f21d9ab2",
   "metadata": {},
   "outputs": [],
   "source": [
    "#So if we only needed a 92% variance, we actually need just one component, let's verify \n",
    "pca=PCA(0.92)\n",
    "X_new=pca.fit_transform(X) \n",
    "print(X_new.shape )\n",
    "\n",
    "#If we need more than 97% variance, we begin to need more components \n",
    "pca=PCA(0.98)\n",
    "X_new=pca.fit_transform(X)\n",
    "print(X_new.shape)"
   ]
  },
  {
   "cell_type": "markdown",
   "id": "52661166",
   "metadata": {},
   "source": [
    "### Más ejemplos:\n",
    "https://shankarmsy.github.io/posts/pca-sklearn.html"
   ]
  }
 ],
 "metadata": {
  "kernelspec": {
   "display_name": "Python 3 (ipykernel)",
   "language": "python",
   "name": "python3"
  },
  "language_info": {
   "codemirror_mode": {
    "name": "ipython",
    "version": 3
   },
   "file_extension": ".py",
   "mimetype": "text/x-python",
   "name": "python",
   "nbconvert_exporter": "python",
   "pygments_lexer": "ipython3",
   "version": "3.9.13"
  }
 },
 "nbformat": 4,
 "nbformat_minor": 5
}
