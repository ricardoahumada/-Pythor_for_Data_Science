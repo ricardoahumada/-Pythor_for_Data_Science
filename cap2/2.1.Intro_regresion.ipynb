{
 "cells": [
  {
   "cell_type": "markdown",
   "metadata": {},
   "source": [
    "# Regression"
   ]
  },
  {
   "cell_type": "code",
   "execution_count": 5,
   "metadata": {},
   "outputs": [],
   "source": [
    "import pandas as pd\n",
    "import numpy as np\n",
    "import os\n",
    "from sklearn import datasets, linear_model\n",
    "from sklearn.preprocessing import PolynomialFeatures\n",
    "import matplotlib.pyplot as plt\n",
    "from sklearn import preprocessing\n",
    "import seaborn as sns\n",
    "import warnings\n",
    "warnings.filterwarnings(\"ignore\")\n",
    "pd.set_option('display.float_format', lambda x: '%.3f' % x)\n",
    "\n"
   ]
  },
  {
   "cell_type": "code",
   "execution_count": 4,
   "metadata": {},
   "outputs": [
    {
     "data": {
      "text/html": [
       "<div>\n",
       "<style scoped>\n",
       "    .dataframe tbody tr th:only-of-type {\n",
       "        vertical-align: middle;\n",
       "    }\n",
       "\n",
       "    .dataframe tbody tr th {\n",
       "        vertical-align: top;\n",
       "    }\n",
       "\n",
       "    .dataframe thead th {\n",
       "        text-align: right;\n",
       "    }\n",
       "</style>\n",
       "<table border=\"1\" class=\"dataframe\">\n",
       "  <thead>\n",
       "    <tr style=\"text-align: right;\">\n",
       "      <th></th>\n",
       "      <th>Year</th>\n",
       "      <th>Month</th>\n",
       "      <th>DayofMonth</th>\n",
       "      <th>DayOfWeek</th>\n",
       "      <th>DepTime</th>\n",
       "      <th>CRSDepTime</th>\n",
       "      <th>ArrTime</th>\n",
       "      <th>CRSArrTime</th>\n",
       "      <th>UniqueCarrier</th>\n",
       "      <th>FlightNum</th>\n",
       "      <th>...</th>\n",
       "      <th>TaxiIn</th>\n",
       "      <th>TaxiOut</th>\n",
       "      <th>Cancelled</th>\n",
       "      <th>CancellationCode</th>\n",
       "      <th>Diverted</th>\n",
       "      <th>CarrierDelay</th>\n",
       "      <th>WeatherDelay</th>\n",
       "      <th>NASDelay</th>\n",
       "      <th>SecurityDelay</th>\n",
       "      <th>LateAircraftDelay</th>\n",
       "    </tr>\n",
       "  </thead>\n",
       "  <tbody>\n",
       "    <tr>\n",
       "      <th>1000742</th>\n",
       "      <td>2008</td>\n",
       "      <td>2</td>\n",
       "      <td>12</td>\n",
       "      <td>2</td>\n",
       "      <td>1937.000</td>\n",
       "      <td>1940</td>\n",
       "      <td>2220.000</td>\n",
       "      <td>2120</td>\n",
       "      <td>MQ</td>\n",
       "      <td>4745</td>\n",
       "      <td>...</td>\n",
       "      <td>16.000</td>\n",
       "      <td>78.000</td>\n",
       "      <td>0</td>\n",
       "      <td>NaN</td>\n",
       "      <td>0</td>\n",
       "      <td>0.000</td>\n",
       "      <td>0.000</td>\n",
       "      <td>60.000</td>\n",
       "      <td>0.000</td>\n",
       "      <td>0.000</td>\n",
       "    </tr>\n",
       "    <tr>\n",
       "      <th>3014085</th>\n",
       "      <td>2008</td>\n",
       "      <td>6</td>\n",
       "      <td>8</td>\n",
       "      <td>7</td>\n",
       "      <td>1802.000</td>\n",
       "      <td>1745</td>\n",
       "      <td>1924.000</td>\n",
       "      <td>1910</td>\n",
       "      <td>WN</td>\n",
       "      <td>450</td>\n",
       "      <td>...</td>\n",
       "      <td>7.000</td>\n",
       "      <td>9.000</td>\n",
       "      <td>0</td>\n",
       "      <td>NaN</td>\n",
       "      <td>0</td>\n",
       "      <td>NaN</td>\n",
       "      <td>NaN</td>\n",
       "      <td>NaN</td>\n",
       "      <td>NaN</td>\n",
       "      <td>NaN</td>\n",
       "    </tr>\n",
       "    <tr>\n",
       "      <th>4122484</th>\n",
       "      <td>2008</td>\n",
       "      <td>7</td>\n",
       "      <td>23</td>\n",
       "      <td>3</td>\n",
       "      <td>900.000</td>\n",
       "      <td>900</td>\n",
       "      <td>947.000</td>\n",
       "      <td>955</td>\n",
       "      <td>AA</td>\n",
       "      <td>1241</td>\n",
       "      <td>...</td>\n",
       "      <td>7.000</td>\n",
       "      <td>11.000</td>\n",
       "      <td>0</td>\n",
       "      <td>NaN</td>\n",
       "      <td>0</td>\n",
       "      <td>NaN</td>\n",
       "      <td>NaN</td>\n",
       "      <td>NaN</td>\n",
       "      <td>NaN</td>\n",
       "      <td>NaN</td>\n",
       "    </tr>\n",
       "    <tr>\n",
       "      <th>3855808</th>\n",
       "      <td>2008</td>\n",
       "      <td>7</td>\n",
       "      <td>31</td>\n",
       "      <td>4</td>\n",
       "      <td>1030.000</td>\n",
       "      <td>1034</td>\n",
       "      <td>1244.000</td>\n",
       "      <td>1246</td>\n",
       "      <td>UA</td>\n",
       "      <td>751</td>\n",
       "      <td>...</td>\n",
       "      <td>8.000</td>\n",
       "      <td>27.000</td>\n",
       "      <td>0</td>\n",
       "      <td>NaN</td>\n",
       "      <td>0</td>\n",
       "      <td>NaN</td>\n",
       "      <td>NaN</td>\n",
       "      <td>NaN</td>\n",
       "      <td>NaN</td>\n",
       "      <td>NaN</td>\n",
       "    </tr>\n",
       "    <tr>\n",
       "      <th>5565463</th>\n",
       "      <td>2008</td>\n",
       "      <td>10</td>\n",
       "      <td>27</td>\n",
       "      <td>1</td>\n",
       "      <td>1618.000</td>\n",
       "      <td>1623</td>\n",
       "      <td>1839.000</td>\n",
       "      <td>1848</td>\n",
       "      <td>OO</td>\n",
       "      <td>5962</td>\n",
       "      <td>...</td>\n",
       "      <td>5.000</td>\n",
       "      <td>12.000</td>\n",
       "      <td>0</td>\n",
       "      <td>NaN</td>\n",
       "      <td>0</td>\n",
       "      <td>NaN</td>\n",
       "      <td>NaN</td>\n",
       "      <td>NaN</td>\n",
       "      <td>NaN</td>\n",
       "      <td>NaN</td>\n",
       "    </tr>\n",
       "  </tbody>\n",
       "</table>\n",
       "<p>5 rows × 29 columns</p>\n",
       "</div>"
      ],
      "text/plain": [
       "         Year  Month  DayofMonth  DayOfWeek  DepTime  CRSDepTime  ArrTime  \\\n",
       "1000742  2008      2          12          2 1937.000        1940 2220.000   \n",
       "3014085  2008      6           8          7 1802.000        1745 1924.000   \n",
       "4122484  2008      7          23          3  900.000         900  947.000   \n",
       "3855808  2008      7          31          4 1030.000        1034 1244.000   \n",
       "5565463  2008     10          27          1 1618.000        1623 1839.000   \n",
       "\n",
       "         CRSArrTime UniqueCarrier  FlightNum  ... TaxiIn  TaxiOut  Cancelled  \\\n",
       "1000742        2120            MQ       4745  ... 16.000   78.000          0   \n",
       "3014085        1910            WN        450  ...  7.000    9.000          0   \n",
       "4122484         955            AA       1241  ...  7.000   11.000          0   \n",
       "3855808        1246            UA        751  ...  8.000   27.000          0   \n",
       "5565463        1848            OO       5962  ...  5.000   12.000          0   \n",
       "\n",
       "         CancellationCode  Diverted  CarrierDelay WeatherDelay NASDelay  \\\n",
       "1000742               NaN         0         0.000        0.000   60.000   \n",
       "3014085               NaN         0           NaN          NaN      NaN   \n",
       "4122484               NaN         0           NaN          NaN      NaN   \n",
       "3855808               NaN         0           NaN          NaN      NaN   \n",
       "5565463               NaN         0           NaN          NaN      NaN   \n",
       "\n",
       "         SecurityDelay  LateAircraftDelay  \n",
       "1000742          0.000              0.000  \n",
       "3014085            NaN                NaN  \n",
       "4122484            NaN                NaN  \n",
       "3855808            NaN                NaN  \n",
       "5565463            NaN                NaN  \n",
       "\n",
       "[5 rows x 29 columns]"
      ]
     },
     "execution_count": 4,
     "metadata": {},
     "output_type": "execute_result"
    }
   ],
   "source": [
    "df = pd.read_csv('../data/2008_small.zip',index_col = 0)\n",
    "df.head()"
   ]
  },
  {
   "cell_type": "markdown",
   "metadata": {},
   "source": [
    "### Construiremos una regresión simple con dos variables que claramente están relacionadas"
   ]
  },
  {
   "cell_type": "code",
   "execution_count": null,
   "metadata": {},
   "outputs": [],
   "source": [
    "df = df.dropna(subset = [\"ArrDelay\"]) # Elimiar NAs basándose en columnas de interés\n",
    "df = df.sample(n = 100000)\n",
    "df = df.drop(columns = [\"Year\", \"Cancelled\", \"Diverted\"])\n",
    "Y = df[\"ArrDelay\"]\n",
    "X = df[[\"DepDelay\"]]"
   ]
  },
  {
   "cell_type": "code",
   "execution_count": null,
   "metadata": {},
   "outputs": [],
   "source": [
    "df.head()"
   ]
  },
  {
   "cell_type": "code",
   "execution_count": null,
   "metadata": {},
   "outputs": [],
   "source": [
    "df.isna().sum()"
   ]
  },
  {
   "cell_type": "code",
   "execution_count": null,
   "metadata": {
    "scrolled": true
   },
   "outputs": [],
   "source": [
    "df.corr()"
   ]
  },
  {
   "cell_type": "code",
   "execution_count": null,
   "metadata": {
    "scrolled": true
   },
   "outputs": [],
   "source": [
    "df.columns"
   ]
  },
  {
   "cell_type": "code",
   "execution_count": null,
   "metadata": {
    "scrolled": true
   },
   "outputs": [],
   "source": [
    "df.head().style.background_gradient(cmap='coolwarm')"
   ]
  },
  {
   "cell_type": "code",
   "execution_count": null,
   "metadata": {},
   "outputs": [],
   "source": [
    "df.corr().style.background_gradient(cmap='coolwarm')"
   ]
  },
  {
   "cell_type": "markdown",
   "metadata": {},
   "source": [
    ">Ajustamos el modelo general, que no requiere parámetros"
   ]
  },
  {
   "cell_type": "code",
   "execution_count": null,
   "metadata": {},
   "outputs": [],
   "source": [
    "regr = linear_model.LinearRegression() # Creas el modelo vacío\n",
    "regr.fit(X, Y) # Aprende de los datos\n",
    "Y_pred = regr.predict(X) # Usamos el modelo para generar predicciones "
   ]
  },
  {
   "cell_type": "code",
   "execution_count": null,
   "metadata": {},
   "outputs": [],
   "source": [
    "Y"
   ]
  },
  {
   "cell_type": "code",
   "execution_count": null,
   "metadata": {},
   "outputs": [],
   "source": [
    "Y_pred"
   ]
  },
  {
   "cell_type": "markdown",
   "metadata": {},
   "source": [
    ">Visualizamos los datos, a la vez que mostramos la recta de regresión (predicciones)"
   ]
  },
  {
   "cell_type": "code",
   "execution_count": null,
   "metadata": {},
   "outputs": [],
   "source": [
    "plt.scatter(X[0:10000],Y[0:10000],color = \"black\")\n",
    "plt.plot(X[0:10000].values,Y_pred[0:10000],color=\"Blue\")\n",
    "plt.show()"
   ]
  },
  {
   "cell_type": "code",
   "execution_count": null,
   "metadata": {},
   "outputs": [],
   "source": [
    "sns.lmplot(x=\"DepDelay\", y=\"ArrDelay\", data = df, height=6)"
   ]
  },
  {
   "cell_type": "markdown",
   "metadata": {},
   "source": [
    ">Mostramos los coeficientes del modelo, y la métrica $R^2$, que indica un porcentaje de relación"
   ]
  },
  {
   "cell_type": "code",
   "execution_count": null,
   "metadata": {
    "scrolled": true
   },
   "outputs": [],
   "source": [
    "from sklearn.metrics import mean_squared_error, r2_score\n",
    "\n",
    "print(\"Pendiente: \",regr.coef_) # Cuánto crece Y, por cada unidad de X\n",
    "print(\"Intercept\", regr.intercept_) #Punto de corte\n",
    "print(\"R cuadrado: \",r2_score(Y, Y_pred)) # % de variabilidad de Y, explicado por X  (Bondad de ajuste)\n",
    "\n",
    "\n",
    "# Y = Intercept + Pendiente * X"
   ]
  },
  {
   "cell_type": "markdown",
   "metadata": {},
   "source": [
    ">El 86 % de la **variabilidad** del retraso de llegada, viene explicado por el retraso de salida\n",
    "> - Retraso de llegada = 1.018 * retraso de salida - 1.91 min\n",
    "\n",
    "> Ejem:retraso salida: `10`\\\n",
    "retraso llegada: `1.018 * 10 - 1.91`\n",
    "\n",
    ">\\\n",
    "Flojo < 0.3\\\n",
    "Moderado < 0.7\\\n",
    "Intenso >= 0.7"
   ]
  },
  {
   "cell_type": "code",
   "execution_count": null,
   "metadata": {},
   "outputs": [],
   "source": [
    "df[[\"ArrDelay\", \"DepDelay\"]].corr().loc[\"ArrDelay\",\"DepDelay\"] ** 2"
   ]
  },
  {
   "cell_type": "code",
   "execution_count": null,
   "metadata": {},
   "outputs": [],
   "source": [
    "import seaborn as sns\n",
    "dfCorr = df.corr()\n",
    "filteredDf = dfCorr[((dfCorr >= .5) | (dfCorr <= -.5)) & (dfCorr !=1.000)]\n",
    "filteredDf = filteredDf.dropna(how=\"all\")\n",
    "filteredDf = filteredDf.T.dropna(how=\"all\")\n",
    "plt.figure(figsize=(30,10))\n",
    "sns.heatmap(filteredDf, annot=True, cmap=\"Reds\")\n",
    "plt.show()"
   ]
  },
  {
   "cell_type": "markdown",
   "metadata": {},
   "source": [
    "## Ejercicios"
   ]
  },
  {
   "cell_type": "markdown",
   "metadata": {},
   "source": [
    "1. Ajusta varios modelos lineales simples entre pares de variables que consideres relacionadas, escribiendo la ecuación correspondiente y mostrando el gráfico"
   ]
  },
  {
   "cell_type": "code",
   "execution_count": null,
   "metadata": {},
   "outputs": [],
   "source": []
  },
  {
   "cell_type": "markdown",
   "metadata": {},
   "source": [
    "2. Haz una evaluación de los modelos"
   ]
  },
  {
   "cell_type": "code",
   "execution_count": null,
   "metadata": {},
   "outputs": [],
   "source": []
  },
  {
   "cell_type": "markdown",
   "metadata": {},
   "source": [
    "3. (Difícil!!) Usando bucle(s), cruza todas las variables numéricas entre ellas, y muestra cuáles son los modelos más potentes"
   ]
  },
  {
   "cell_type": "code",
   "execution_count": null,
   "metadata": {},
   "outputs": [],
   "source": []
  },
  {
   "cell_type": "markdown",
   "metadata": {},
   "source": [
    "4. Representa gráficamente el error del modelo, cómo lo haríamos?"
   ]
  },
  {
   "cell_type": "code",
   "execution_count": null,
   "metadata": {},
   "outputs": [],
   "source": []
  },
  {
   "cell_type": "markdown",
   "metadata": {},
   "source": [
    "### Regresión Múltiple\n",
    "\n",
    "El modelo de regresión realmente potente es el que considera muchas variables simultaneamente, no solamente una"
   ]
  },
  {
   "cell_type": "code",
   "execution_count": null,
   "metadata": {},
   "outputs": [],
   "source": [
    "df[[\"DepDelay\",\"AirTime\", \"Distance\", \"TaxiIn\", \"TaxiOut\"]].corr()"
   ]
  },
  {
   "cell_type": "code",
   "execution_count": null,
   "metadata": {},
   "outputs": [],
   "source": [
    "Y = df[\"ArrDelay\"]\n",
    "X = df[[\"DepDelay\",\"AirTime\",\"TaxiIn\",\"TaxiOut\"]]\n",
    "\n",
    "regr = linear_model.LinearRegression()\n",
    "regr.fit(X, Y) \n",
    "Y_pred = regr.predict(X) \n",
    "\n",
    "print(\"Pendiente: \",regr.coef_) #Cuanto se incrementa Y, por cada incremento de X, MANTENIENDO LAS DEMÁS VARIABLES CONSTANTES\n",
    "print(\"Intercept\", regr.intercept_) \n",
    "print(\"R cuadrado: \",r2_score(Y, Y_pred)) "
   ]
  },
  {
   "cell_type": "code",
   "execution_count": null,
   "metadata": {},
   "outputs": [],
   "source": [
    "X = df[['AirTime','Distance','TaxiIn','TaxiOut']] # eliminamos DepDelay...tiene corr alto\n",
    "\n",
    "df[\"DayOfWeek\"] = df[\"DayOfWeek\"].apply(str)\n",
    "\n",
    "dummies = pd.get_dummies(data=df[['DayOfWeek']]) # Podemos añadirle Origin y Dest\n",
    "X = pd.concat([X, dummies],axis=1)"
   ]
  },
  {
   "cell_type": "code",
   "execution_count": null,
   "metadata": {},
   "outputs": [],
   "source": [
    "X"
   ]
  },
  {
   "cell_type": "code",
   "execution_count": null,
   "metadata": {},
   "outputs": [],
   "source": [
    "regr = linear_model.LinearRegression()\n",
    "regr.fit(X, Y)\n",
    "\n",
    "print(\"Coeficientes: \",regr.coef_) # Cuanto crece Y, por cada unidad de X, manteniendo el resto de variables constantes\n",
    "print(\"Intercept\", regr.intercept_)\n",
    "Y_pred = regr.predict(X)\n",
    "print(\"R cuadrado: \",r2_score(Y, Y_pred))"
   ]
  },
  {
   "cell_type": "code",
   "execution_count": null,
   "metadata": {},
   "outputs": [],
   "source": [
    "X = df[['AirTime','Distance','TaxiIn','TaxiOut']] \n",
    "\n",
    "df[\"Month\"] = df[\"Month\"].apply(str)\n",
    "df[\"DayofMonth\"] = df[\"DayofMonth\"].apply(str)\n",
    "df[\"DayOfWeek\"] = df[\"DayOfWeek\"].apply(str)\n",
    "\n",
    "dummies = pd.get_dummies(data=df[['Month', 'DayofMonth', 'DayOfWeek']]) # Podemos añadirle Origin y Dest\n",
    "X = dummies.add(X,fill_value=0)"
   ]
  },
  {
   "cell_type": "code",
   "execution_count": null,
   "metadata": {},
   "outputs": [],
   "source": [
    "X"
   ]
  },
  {
   "cell_type": "code",
   "execution_count": null,
   "metadata": {},
   "outputs": [],
   "source": [
    "X.columns"
   ]
  },
  {
   "cell_type": "code",
   "execution_count": null,
   "metadata": {
    "scrolled": true
   },
   "outputs": [],
   "source": [
    "regr = linear_model.LinearRegression()\n",
    "regr.fit(X, Y)\n",
    "\n",
    "print(\"Coeficientes: \",regr.coef_) # Cuanto crece Y, por cada unidad de X, manteniendo el resto de variables constantes\n",
    "print(\"Intercept\", regr.intercept_)\n",
    "Y_pred = regr.predict(X)\n",
    "print(\"R cuadrado: \",r2_score(Y, Y_pred))"
   ]
  },
  {
   "cell_type": "markdown",
   "metadata": {},
   "source": [
    ">¿Qué pasa cuando añadimos la variable más explicativa...?"
   ]
  },
  {
   "cell_type": "code",
   "execution_count": null,
   "metadata": {},
   "outputs": [],
   "source": [
    "X = X.add(df[[\"DepDelay\"]],fill_value=0)\n",
    "X.columns"
   ]
  },
  {
   "cell_type": "code",
   "execution_count": null,
   "metadata": {
    "scrolled": true
   },
   "outputs": [],
   "source": [
    "regr = linear_model.LinearRegression()\n",
    "regr.fit(X, Y)\n",
    "\n",
    "# print(\"Coeficientes: \",regr.coef_)\n",
    "Y_pred = regr.predict(X)\n",
    "print(\"R cuadrado: \",r2_score(Y, Y_pred))"
   ]
  },
  {
   "cell_type": "code",
   "execution_count": null,
   "metadata": {},
   "outputs": [],
   "source": [
    "print(\"Intercept\", regr.intercept_)"
   ]
  },
  {
   "cell_type": "code",
   "execution_count": null,
   "metadata": {
    "scrolled": true
   },
   "outputs": [],
   "source": [
    "print(\"Coeficientes: \",regr.coef_)"
   ]
  },
  {
   "cell_type": "code",
   "execution_count": null,
   "metadata": {},
   "outputs": [],
   "source": [
    "Y_pred"
   ]
  },
  {
   "cell_type": "code",
   "execution_count": null,
   "metadata": {},
   "outputs": [],
   "source": [
    "Y"
   ]
  },
  {
   "cell_type": "markdown",
   "metadata": {},
   "source": [
    "### Ejercicios\n",
    "\n",
    "1. Ajusta el modelo de regresión lineal simple con los datos de iris, intentando predecir la longitud del petalo"
   ]
  },
  {
   "cell_type": "code",
   "execution_count": null,
   "metadata": {},
   "outputs": [],
   "source": []
  },
  {
   "cell_type": "markdown",
   "metadata": {},
   "source": [
    "2. Mejora el modelo anterior usando todas las variables, incluida la especie"
   ]
  },
  {
   "cell_type": "code",
   "execution_count": null,
   "metadata": {},
   "outputs": [],
   "source": []
  },
  {
   "cell_type": "code",
   "execution_count": null,
   "metadata": {},
   "outputs": [],
   "source": [
    "sns.lmplot(data=df,x = \"sepal_length\" ,y = \"petal_length\")"
   ]
  },
  {
   "cell_type": "code",
   "execution_count": null,
   "metadata": {},
   "outputs": [],
   "source": [
    "sns.lmplot(data=df,x = \"sepal_length\" ,y = \"petal_length\", hue = \"species\")"
   ]
  },
  {
   "cell_type": "code",
   "execution_count": null,
   "metadata": {},
   "outputs": [],
   "source": [
    "sns.lmplot(data=df[df.species == \"setosa\"],x = \"sepal_length\" ,y = \"petal_length\")"
   ]
  },
  {
   "cell_type": "markdown",
   "metadata": {},
   "source": [
    "3. Ajusta un modelo de regresión (múltiple o simple) para cada una de las especies. Cuál funciona mejor?!\n",
    "Te atreves a hacerlo con un bucle?"
   ]
  },
  {
   "cell_type": "code",
   "execution_count": null,
   "metadata": {},
   "outputs": [],
   "source": []
  },
  {
   "cell_type": "markdown",
   "metadata": {},
   "source": [
    "(EXTRA) 3.1 Convierte este código a función para usarlo con cualquier dataframe"
   ]
  },
  {
   "cell_type": "code",
   "execution_count": null,
   "metadata": {},
   "outputs": [],
   "source": []
  },
  {
   "cell_type": "markdown",
   "metadata": {},
   "source": [
    "4. El modelo de regresión lineal está fuertemente relacionado con la correlación entre columnas. Crea una matriz de correlaciones que muestre qué columnas tienen más relación entre ellas"
   ]
  },
  {
   "cell_type": "code",
   "execution_count": null,
   "metadata": {},
   "outputs": [],
   "source": []
  },
  {
   "cell_type": "markdown",
   "metadata": {},
   "source": [
    "# Validación interna y externa de los modelos"
   ]
  },
  {
   "cell_type": "markdown",
   "metadata": {},
   "source": [
    "#### Diferencia principal\n",
    "- Con la validación interna *hacemos trampas*, ya que evaluamos el modelo con los mismos datos con el que lo hemos entrenado.\n",
    "- Con la validación externa, usamos unos datos para entrenar el modelo, y otros distintos para evaluarlo. Es mucho mejor, ya que el modelo \"no conoce\" los datos con los que va a ser evaluado"
   ]
  },
  {
   "cell_type": "code",
   "execution_count": null,
   "metadata": {},
   "outputs": [],
   "source": [
    "df = pd.read_csv('../data/2008.zip')\n",
    "df = df.dropna(subset = [\"ArrDelay\"])\n",
    "df = df.sample(frac=1).head(100000)"
   ]
  },
  {
   "cell_type": "code",
   "execution_count": null,
   "metadata": {},
   "outputs": [],
   "source": [
    "X = df[['AirTime','Distance','TaxiIn','TaxiOut']]  # Añadirle el DepDelay es hacer un poco de trampa, ya que hay mucha correlación...\n",
    "# dummies = pd.get_dummies(data=df[['Month', 'DayofMonth', 'DayOfWeek']])\n",
    "# X = dummies.add(X,fill_value=0)\n",
    "\n",
    "Y = df['ArrDelay']"
   ]
  },
  {
   "cell_type": "markdown",
   "metadata": {},
   "source": [
    ">Creación del conjunto training y el conjunto test con `train_test_split`"
   ]
  },
  {
   "cell_type": "code",
   "execution_count": 13,
   "metadata": {},
   "outputs": [],
   "source": [
    "from sklearn.model_selection import train_test_split\n",
    "\n",
    "X_train, X_test, y_train, y_test = train_test_split(X, Y, test_size=.2, random_state=1)"
   ]
  },
  {
   "cell_type": "markdown",
   "metadata": {},
   "source": [
    ">Evaluación interna"
   ]
  },
  {
   "cell_type": "code",
   "execution_count": null,
   "metadata": {},
   "outputs": [],
   "source": [
    "modelo = linear_model.LinearRegression()\n",
    "modelo.fit(X_train, y_train)\n",
    "prediccionesINTERNA = modelo.predict(X_train)\n",
    "print(\"R2: \",r2_score(y_train, prediccionesINTERNA))"
   ]
  },
  {
   "cell_type": "markdown",
   "metadata": {},
   "source": [
    ">Evaluación externa"
   ]
  },
  {
   "cell_type": "code",
   "execution_count": null,
   "metadata": {
    "scrolled": true
   },
   "outputs": [],
   "source": [
    "prediccionesEXTERNA = modelo.predict(X_test)\n",
    "print(\"R2: \",r2_score(y_test, prediccionesEXTERNA))"
   ]
  },
  {
   "cell_type": "markdown",
   "metadata": {},
   "source": [
    "### Enriquecer los modelos\n",
    "\n",
    "Juntamos algunas de las nuevas variables que hemos aprendido a generar"
   ]
  },
  {
   "cell_type": "code",
   "execution_count": 15,
   "metadata": {
    "scrolled": true
   },
   "outputs": [
    {
     "data": {
      "text/html": [
       "<div>\n",
       "<style scoped>\n",
       "    .dataframe tbody tr th:only-of-type {\n",
       "        vertical-align: middle;\n",
       "    }\n",
       "\n",
       "    .dataframe tbody tr th {\n",
       "        vertical-align: top;\n",
       "    }\n",
       "\n",
       "    .dataframe thead th {\n",
       "        text-align: right;\n",
       "    }\n",
       "</style>\n",
       "<table border=\"1\" class=\"dataframe\">\n",
       "  <thead>\n",
       "    <tr style=\"text-align: right;\">\n",
       "      <th></th>\n",
       "      <th>AirTime</th>\n",
       "      <th>Distance</th>\n",
       "      <th>TaxiIn</th>\n",
       "      <th>TaxiOut</th>\n",
       "    </tr>\n",
       "  </thead>\n",
       "  <tbody>\n",
       "    <tr>\n",
       "      <th>2191</th>\n",
       "      <td>44.000</td>\n",
       "      <td>261</td>\n",
       "      <td>4.000</td>\n",
       "      <td>11.000</td>\n",
       "    </tr>\n",
       "    <tr>\n",
       "      <th>4944</th>\n",
       "      <td>107.000</td>\n",
       "      <td>852</td>\n",
       "      <td>12.000</td>\n",
       "      <td>17.000</td>\n",
       "    </tr>\n",
       "    <tr>\n",
       "      <th>549</th>\n",
       "      <td>218.000</td>\n",
       "      <td>1972</td>\n",
       "      <td>12.000</td>\n",
       "      <td>10.000</td>\n",
       "    </tr>\n",
       "    <tr>\n",
       "      <th>4454</th>\n",
       "      <td>91.000</td>\n",
       "      <td>447</td>\n",
       "      <td>5.000</td>\n",
       "      <td>16.000</td>\n",
       "    </tr>\n",
       "    <tr>\n",
       "      <th>1298</th>\n",
       "      <td>43.000</td>\n",
       "      <td>231</td>\n",
       "      <td>13.000</td>\n",
       "      <td>18.000</td>\n",
       "    </tr>\n",
       "  </tbody>\n",
       "</table>\n",
       "</div>"
      ],
      "text/plain": [
       "      AirTime  Distance  TaxiIn  TaxiOut\n",
       "2191   44.000       261   4.000   11.000\n",
       "4944  107.000       852  12.000   17.000\n",
       "549   218.000      1972  12.000   10.000\n",
       "4454   91.000       447   5.000   16.000\n",
       "1298   43.000       231  13.000   18.000"
      ]
     },
     "execution_count": 15,
     "metadata": {},
     "output_type": "execute_result"
    }
   ],
   "source": [
    "from sklearn import preprocessing\n",
    "from sklearn.preprocessing import PolynomialFeatures\n",
    "\n",
    "# Columnas básicas\n",
    "df = pd.read_csv(\"../data/2008_small.zip\",nrows = 5e3)\n",
    "df = df.dropna(subset = [\"ArrDelay\"])\n",
    "df = df[df.AirTime > 0]\n",
    "\n",
    "df = df.sample(frac=1)\n",
    "\n",
    "X = df[['AirTime','Distance','TaxiIn','TaxiOut']]\n",
    "\n",
    "X.head()"
   ]
  },
  {
   "cell_type": "code",
   "execution_count": 16,
   "metadata": {},
   "outputs": [
    {
     "data": {
      "text/html": [
       "<div>\n",
       "<style scoped>\n",
       "    .dataframe tbody tr th:only-of-type {\n",
       "        vertical-align: middle;\n",
       "    }\n",
       "\n",
       "    .dataframe tbody tr th {\n",
       "        vertical-align: top;\n",
       "    }\n",
       "\n",
       "    .dataframe thead th {\n",
       "        text-align: right;\n",
       "    }\n",
       "</style>\n",
       "<table border=\"1\" class=\"dataframe\">\n",
       "  <thead>\n",
       "    <tr style=\"text-align: right;\">\n",
       "      <th></th>\n",
       "      <th>1</th>\n",
       "      <th>AirTime</th>\n",
       "      <th>Distance</th>\n",
       "      <th>TaxiIn</th>\n",
       "      <th>TaxiOut</th>\n",
       "      <th>AirTime^2</th>\n",
       "      <th>AirTime Distance</th>\n",
       "      <th>AirTime TaxiIn</th>\n",
       "      <th>AirTime TaxiOut</th>\n",
       "      <th>Distance^2</th>\n",
       "      <th>Distance TaxiIn</th>\n",
       "      <th>Distance TaxiOut</th>\n",
       "      <th>TaxiIn^2</th>\n",
       "      <th>TaxiIn TaxiOut</th>\n",
       "      <th>TaxiOut^2</th>\n",
       "    </tr>\n",
       "  </thead>\n",
       "  <tbody>\n",
       "    <tr>\n",
       "      <th>0</th>\n",
       "      <td>1.000</td>\n",
       "      <td>44.000</td>\n",
       "      <td>261.000</td>\n",
       "      <td>4.000</td>\n",
       "      <td>11.000</td>\n",
       "      <td>1936.000</td>\n",
       "      <td>11484.000</td>\n",
       "      <td>176.000</td>\n",
       "      <td>484.000</td>\n",
       "      <td>68121.000</td>\n",
       "      <td>1044.000</td>\n",
       "      <td>2871.000</td>\n",
       "      <td>16.000</td>\n",
       "      <td>44.000</td>\n",
       "      <td>121.000</td>\n",
       "    </tr>\n",
       "    <tr>\n",
       "      <th>1</th>\n",
       "      <td>1.000</td>\n",
       "      <td>107.000</td>\n",
       "      <td>852.000</td>\n",
       "      <td>12.000</td>\n",
       "      <td>17.000</td>\n",
       "      <td>11449.000</td>\n",
       "      <td>91164.000</td>\n",
       "      <td>1284.000</td>\n",
       "      <td>1819.000</td>\n",
       "      <td>725904.000</td>\n",
       "      <td>10224.000</td>\n",
       "      <td>14484.000</td>\n",
       "      <td>144.000</td>\n",
       "      <td>204.000</td>\n",
       "      <td>289.000</td>\n",
       "    </tr>\n",
       "    <tr>\n",
       "      <th>2</th>\n",
       "      <td>1.000</td>\n",
       "      <td>218.000</td>\n",
       "      <td>1972.000</td>\n",
       "      <td>12.000</td>\n",
       "      <td>10.000</td>\n",
       "      <td>47524.000</td>\n",
       "      <td>429896.000</td>\n",
       "      <td>2616.000</td>\n",
       "      <td>2180.000</td>\n",
       "      <td>3888784.000</td>\n",
       "      <td>23664.000</td>\n",
       "      <td>19720.000</td>\n",
       "      <td>144.000</td>\n",
       "      <td>120.000</td>\n",
       "      <td>100.000</td>\n",
       "    </tr>\n",
       "    <tr>\n",
       "      <th>3</th>\n",
       "      <td>1.000</td>\n",
       "      <td>91.000</td>\n",
       "      <td>447.000</td>\n",
       "      <td>5.000</td>\n",
       "      <td>16.000</td>\n",
       "      <td>8281.000</td>\n",
       "      <td>40677.000</td>\n",
       "      <td>455.000</td>\n",
       "      <td>1456.000</td>\n",
       "      <td>199809.000</td>\n",
       "      <td>2235.000</td>\n",
       "      <td>7152.000</td>\n",
       "      <td>25.000</td>\n",
       "      <td>80.000</td>\n",
       "      <td>256.000</td>\n",
       "    </tr>\n",
       "    <tr>\n",
       "      <th>4</th>\n",
       "      <td>1.000</td>\n",
       "      <td>43.000</td>\n",
       "      <td>231.000</td>\n",
       "      <td>13.000</td>\n",
       "      <td>18.000</td>\n",
       "      <td>1849.000</td>\n",
       "      <td>9933.000</td>\n",
       "      <td>559.000</td>\n",
       "      <td>774.000</td>\n",
       "      <td>53361.000</td>\n",
       "      <td>3003.000</td>\n",
       "      <td>4158.000</td>\n",
       "      <td>169.000</td>\n",
       "      <td>234.000</td>\n",
       "      <td>324.000</td>\n",
       "    </tr>\n",
       "  </tbody>\n",
       "</table>\n",
       "</div>"
      ],
      "text/plain": [
       "      1  AirTime  Distance  TaxiIn  TaxiOut  AirTime^2  AirTime Distance  \\\n",
       "0 1.000   44.000   261.000   4.000   11.000   1936.000         11484.000   \n",
       "1 1.000  107.000   852.000  12.000   17.000  11449.000         91164.000   \n",
       "2 1.000  218.000  1972.000  12.000   10.000  47524.000        429896.000   \n",
       "3 1.000   91.000   447.000   5.000   16.000   8281.000         40677.000   \n",
       "4 1.000   43.000   231.000  13.000   18.000   1849.000          9933.000   \n",
       "\n",
       "   AirTime TaxiIn  AirTime TaxiOut  Distance^2  Distance TaxiIn  \\\n",
       "0         176.000          484.000   68121.000         1044.000   \n",
       "1        1284.000         1819.000  725904.000        10224.000   \n",
       "2        2616.000         2180.000 3888784.000        23664.000   \n",
       "3         455.000         1456.000  199809.000         2235.000   \n",
       "4         559.000          774.000   53361.000         3003.000   \n",
       "\n",
       "   Distance TaxiOut  TaxiIn^2  TaxiIn TaxiOut  TaxiOut^2  \n",
       "0          2871.000    16.000          44.000    121.000  \n",
       "1         14484.000   144.000         204.000    289.000  \n",
       "2         19720.000   144.000         120.000    100.000  \n",
       "3          7152.000    25.000          80.000    256.000  \n",
       "4          4158.000   169.000         234.000    324.000  "
      ]
     },
     "execution_count": 16,
     "metadata": {},
     "output_type": "execute_result"
    }
   ],
   "source": [
    "# Cálculo de polinomios\n",
    "\n",
    "poly = PolynomialFeatures(degree=2)\n",
    "X_poly = poly.fit_transform(X)\n",
    "\n",
    "X = pd.DataFrame(X_poly, columns = poly.get_feature_names(input_features=X.columns))\n",
    "\n",
    "X.head()"
   ]
  },
  {
   "cell_type": "code",
   "execution_count": 17,
   "metadata": {
    "scrolled": false
   },
   "outputs": [
    {
     "data": {
      "text/html": [
       "<div>\n",
       "<style scoped>\n",
       "    .dataframe tbody tr th:only-of-type {\n",
       "        vertical-align: middle;\n",
       "    }\n",
       "\n",
       "    .dataframe tbody tr th {\n",
       "        vertical-align: top;\n",
       "    }\n",
       "\n",
       "    .dataframe thead th {\n",
       "        text-align: right;\n",
       "    }\n",
       "</style>\n",
       "<table border=\"1\" class=\"dataframe\">\n",
       "  <thead>\n",
       "    <tr style=\"text-align: right;\">\n",
       "      <th></th>\n",
       "      <th>1</th>\n",
       "      <th>AirTime</th>\n",
       "      <th>Distance</th>\n",
       "      <th>TaxiIn</th>\n",
       "      <th>TaxiOut</th>\n",
       "      <th>AirTime^2</th>\n",
       "      <th>AirTime Distance</th>\n",
       "      <th>AirTime TaxiIn</th>\n",
       "      <th>AirTime TaxiOut</th>\n",
       "      <th>Distance^2</th>\n",
       "      <th>Distance TaxiIn</th>\n",
       "      <th>Distance TaxiOut</th>\n",
       "      <th>TaxiIn^2</th>\n",
       "      <th>TaxiIn TaxiOut</th>\n",
       "      <th>TaxiOut^2</th>\n",
       "      <th>VelocidadMedia</th>\n",
       "      <th>logAirTime</th>\n",
       "    </tr>\n",
       "  </thead>\n",
       "  <tbody>\n",
       "    <tr>\n",
       "      <th>0</th>\n",
       "      <td>1.000</td>\n",
       "      <td>44.000</td>\n",
       "      <td>261.000</td>\n",
       "      <td>4.000</td>\n",
       "      <td>11.000</td>\n",
       "      <td>1936.000</td>\n",
       "      <td>11484.000</td>\n",
       "      <td>176.000</td>\n",
       "      <td>484.000</td>\n",
       "      <td>68121.000</td>\n",
       "      <td>1044.000</td>\n",
       "      <td>2871.000</td>\n",
       "      <td>16.000</td>\n",
       "      <td>44.000</td>\n",
       "      <td>121.000</td>\n",
       "      <td>355.909</td>\n",
       "      <td>3.784</td>\n",
       "    </tr>\n",
       "    <tr>\n",
       "      <th>1</th>\n",
       "      <td>1.000</td>\n",
       "      <td>107.000</td>\n",
       "      <td>852.000</td>\n",
       "      <td>12.000</td>\n",
       "      <td>17.000</td>\n",
       "      <td>11449.000</td>\n",
       "      <td>91164.000</td>\n",
       "      <td>1284.000</td>\n",
       "      <td>1819.000</td>\n",
       "      <td>725904.000</td>\n",
       "      <td>10224.000</td>\n",
       "      <td>14484.000</td>\n",
       "      <td>144.000</td>\n",
       "      <td>204.000</td>\n",
       "      <td>289.000</td>\n",
       "      <td>477.757</td>\n",
       "      <td>4.673</td>\n",
       "    </tr>\n",
       "    <tr>\n",
       "      <th>2</th>\n",
       "      <td>1.000</td>\n",
       "      <td>218.000</td>\n",
       "      <td>1972.000</td>\n",
       "      <td>12.000</td>\n",
       "      <td>10.000</td>\n",
       "      <td>47524.000</td>\n",
       "      <td>429896.000</td>\n",
       "      <td>2616.000</td>\n",
       "      <td>2180.000</td>\n",
       "      <td>3888784.000</td>\n",
       "      <td>23664.000</td>\n",
       "      <td>19720.000</td>\n",
       "      <td>144.000</td>\n",
       "      <td>120.000</td>\n",
       "      <td>100.000</td>\n",
       "      <td>542.752</td>\n",
       "      <td>5.384</td>\n",
       "    </tr>\n",
       "    <tr>\n",
       "      <th>3</th>\n",
       "      <td>1.000</td>\n",
       "      <td>91.000</td>\n",
       "      <td>447.000</td>\n",
       "      <td>5.000</td>\n",
       "      <td>16.000</td>\n",
       "      <td>8281.000</td>\n",
       "      <td>40677.000</td>\n",
       "      <td>455.000</td>\n",
       "      <td>1456.000</td>\n",
       "      <td>199809.000</td>\n",
       "      <td>2235.000</td>\n",
       "      <td>7152.000</td>\n",
       "      <td>25.000</td>\n",
       "      <td>80.000</td>\n",
       "      <td>256.000</td>\n",
       "      <td>294.725</td>\n",
       "      <td>4.511</td>\n",
       "    </tr>\n",
       "    <tr>\n",
       "      <th>4</th>\n",
       "      <td>1.000</td>\n",
       "      <td>43.000</td>\n",
       "      <td>231.000</td>\n",
       "      <td>13.000</td>\n",
       "      <td>18.000</td>\n",
       "      <td>1849.000</td>\n",
       "      <td>9933.000</td>\n",
       "      <td>559.000</td>\n",
       "      <td>774.000</td>\n",
       "      <td>53361.000</td>\n",
       "      <td>3003.000</td>\n",
       "      <td>4158.000</td>\n",
       "      <td>169.000</td>\n",
       "      <td>234.000</td>\n",
       "      <td>324.000</td>\n",
       "      <td>322.326</td>\n",
       "      <td>3.761</td>\n",
       "    </tr>\n",
       "  </tbody>\n",
       "</table>\n",
       "</div>"
      ],
      "text/plain": [
       "      1  AirTime  Distance  TaxiIn  TaxiOut  AirTime^2  AirTime Distance  \\\n",
       "0 1.000   44.000   261.000   4.000   11.000   1936.000         11484.000   \n",
       "1 1.000  107.000   852.000  12.000   17.000  11449.000         91164.000   \n",
       "2 1.000  218.000  1972.000  12.000   10.000  47524.000        429896.000   \n",
       "3 1.000   91.000   447.000   5.000   16.000   8281.000         40677.000   \n",
       "4 1.000   43.000   231.000  13.000   18.000   1849.000          9933.000   \n",
       "\n",
       "   AirTime TaxiIn  AirTime TaxiOut  Distance^2  Distance TaxiIn  \\\n",
       "0         176.000          484.000   68121.000         1044.000   \n",
       "1        1284.000         1819.000  725904.000        10224.000   \n",
       "2        2616.000         2180.000 3888784.000        23664.000   \n",
       "3         455.000         1456.000  199809.000         2235.000   \n",
       "4         559.000          774.000   53361.000         3003.000   \n",
       "\n",
       "   Distance TaxiOut  TaxiIn^2  TaxiIn TaxiOut  TaxiOut^2  VelocidadMedia  \\\n",
       "0          2871.000    16.000          44.000    121.000         355.909   \n",
       "1         14484.000   144.000         204.000    289.000         477.757   \n",
       "2         19720.000   144.000         120.000    100.000         542.752   \n",
       "3          7152.000    25.000          80.000    256.000         294.725   \n",
       "4          4158.000   169.000         234.000    324.000         322.326   \n",
       "\n",
       "   logAirTime  \n",
       "0       3.784  \n",
       "1       4.673  \n",
       "2       5.384  \n",
       "3       4.511  \n",
       "4       3.761  "
      ]
     },
     "execution_count": 17,
     "metadata": {},
     "output_type": "execute_result"
    }
   ],
   "source": [
    "# Generar Columnas de interés\n",
    "\n",
    "X[\"VelocidadMedia\"] = X[\"Distance\"] / X[\"AirTime\"] * 60\n",
    "X[\"logAirTime\"] = np.log(X[\"AirTime\"])\n",
    "df[\"Weekends\"] = False\n",
    "df[\"Weekends\"][df.DayOfWeek.isin([6,7])] = True\n",
    "# df[\"Ruta\"] = df[\"Origin\"] + \"-\" + df[\"Dest\"]\n",
    "\n",
    "X.head()"
   ]
  },
  {
   "cell_type": "code",
   "execution_count": 18,
   "metadata": {},
   "outputs": [
    {
     "data": {
      "text/html": [
       "<div>\n",
       "<style scoped>\n",
       "    .dataframe tbody tr th:only-of-type {\n",
       "        vertical-align: middle;\n",
       "    }\n",
       "\n",
       "    .dataframe tbody tr th {\n",
       "        vertical-align: top;\n",
       "    }\n",
       "\n",
       "    .dataframe thead th {\n",
       "        text-align: right;\n",
       "    }\n",
       "</style>\n",
       "<table border=\"1\" class=\"dataframe\">\n",
       "  <thead>\n",
       "    <tr style=\"text-align: right;\">\n",
       "      <th></th>\n",
       "      <th>AirTime</th>\n",
       "      <th>Distance</th>\n",
       "      <th>TaxiIn</th>\n",
       "      <th>TaxiOut</th>\n",
       "      <th>AirTime^2</th>\n",
       "      <th>AirTime Distance</th>\n",
       "      <th>AirTime TaxiIn</th>\n",
       "      <th>AirTime TaxiOut</th>\n",
       "      <th>Distance^2</th>\n",
       "      <th>Distance TaxiIn</th>\n",
       "      <th>Distance TaxiOut</th>\n",
       "      <th>TaxiIn^2</th>\n",
       "      <th>TaxiIn TaxiOut</th>\n",
       "      <th>TaxiOut^2</th>\n",
       "      <th>VelocidadMedia</th>\n",
       "      <th>logAirTime</th>\n",
       "    </tr>\n",
       "  </thead>\n",
       "  <tbody>\n",
       "    <tr>\n",
       "      <th>0</th>\n",
       "      <td>44.000</td>\n",
       "      <td>261.000</td>\n",
       "      <td>4.000</td>\n",
       "      <td>11.000</td>\n",
       "      <td>1936.000</td>\n",
       "      <td>11484.000</td>\n",
       "      <td>176.000</td>\n",
       "      <td>484.000</td>\n",
       "      <td>68121.000</td>\n",
       "      <td>1044.000</td>\n",
       "      <td>2871.000</td>\n",
       "      <td>16.000</td>\n",
       "      <td>44.000</td>\n",
       "      <td>121.000</td>\n",
       "      <td>355.909</td>\n",
       "      <td>3.784</td>\n",
       "    </tr>\n",
       "    <tr>\n",
       "      <th>1</th>\n",
       "      <td>107.000</td>\n",
       "      <td>852.000</td>\n",
       "      <td>12.000</td>\n",
       "      <td>17.000</td>\n",
       "      <td>11449.000</td>\n",
       "      <td>91164.000</td>\n",
       "      <td>1284.000</td>\n",
       "      <td>1819.000</td>\n",
       "      <td>725904.000</td>\n",
       "      <td>10224.000</td>\n",
       "      <td>14484.000</td>\n",
       "      <td>144.000</td>\n",
       "      <td>204.000</td>\n",
       "      <td>289.000</td>\n",
       "      <td>477.757</td>\n",
       "      <td>4.673</td>\n",
       "    </tr>\n",
       "    <tr>\n",
       "      <th>2</th>\n",
       "      <td>218.000</td>\n",
       "      <td>1972.000</td>\n",
       "      <td>12.000</td>\n",
       "      <td>10.000</td>\n",
       "      <td>47524.000</td>\n",
       "      <td>429896.000</td>\n",
       "      <td>2616.000</td>\n",
       "      <td>2180.000</td>\n",
       "      <td>3888784.000</td>\n",
       "      <td>23664.000</td>\n",
       "      <td>19720.000</td>\n",
       "      <td>144.000</td>\n",
       "      <td>120.000</td>\n",
       "      <td>100.000</td>\n",
       "      <td>542.752</td>\n",
       "      <td>5.384</td>\n",
       "    </tr>\n",
       "    <tr>\n",
       "      <th>3</th>\n",
       "      <td>91.000</td>\n",
       "      <td>447.000</td>\n",
       "      <td>5.000</td>\n",
       "      <td>16.000</td>\n",
       "      <td>8281.000</td>\n",
       "      <td>40677.000</td>\n",
       "      <td>455.000</td>\n",
       "      <td>1456.000</td>\n",
       "      <td>199809.000</td>\n",
       "      <td>2235.000</td>\n",
       "      <td>7152.000</td>\n",
       "      <td>25.000</td>\n",
       "      <td>80.000</td>\n",
       "      <td>256.000</td>\n",
       "      <td>294.725</td>\n",
       "      <td>4.511</td>\n",
       "    </tr>\n",
       "    <tr>\n",
       "      <th>4</th>\n",
       "      <td>43.000</td>\n",
       "      <td>231.000</td>\n",
       "      <td>13.000</td>\n",
       "      <td>18.000</td>\n",
       "      <td>1849.000</td>\n",
       "      <td>9933.000</td>\n",
       "      <td>559.000</td>\n",
       "      <td>774.000</td>\n",
       "      <td>53361.000</td>\n",
       "      <td>3003.000</td>\n",
       "      <td>4158.000</td>\n",
       "      <td>169.000</td>\n",
       "      <td>234.000</td>\n",
       "      <td>324.000</td>\n",
       "      <td>322.326</td>\n",
       "      <td>3.761</td>\n",
       "    </tr>\n",
       "  </tbody>\n",
       "</table>\n",
       "</div>"
      ],
      "text/plain": [
       "   AirTime  Distance  TaxiIn  TaxiOut  AirTime^2  AirTime Distance  \\\n",
       "0   44.000   261.000   4.000   11.000   1936.000         11484.000   \n",
       "1  107.000   852.000  12.000   17.000  11449.000         91164.000   \n",
       "2  218.000  1972.000  12.000   10.000  47524.000        429896.000   \n",
       "3   91.000   447.000   5.000   16.000   8281.000         40677.000   \n",
       "4   43.000   231.000  13.000   18.000   1849.000          9933.000   \n",
       "\n",
       "   AirTime TaxiIn  AirTime TaxiOut  Distance^2  Distance TaxiIn  \\\n",
       "0         176.000          484.000   68121.000         1044.000   \n",
       "1        1284.000         1819.000  725904.000        10224.000   \n",
       "2        2616.000         2180.000 3888784.000        23664.000   \n",
       "3         455.000         1456.000  199809.000         2235.000   \n",
       "4         559.000          774.000   53361.000         3003.000   \n",
       "\n",
       "   Distance TaxiOut  TaxiIn^2  TaxiIn TaxiOut  TaxiOut^2  VelocidadMedia  \\\n",
       "0          2871.000    16.000          44.000    121.000         355.909   \n",
       "1         14484.000   144.000         204.000    289.000         477.757   \n",
       "2         19720.000   144.000         120.000    100.000         542.752   \n",
       "3          7152.000    25.000          80.000    256.000         294.725   \n",
       "4          4158.000   169.000         234.000    324.000         322.326   \n",
       "\n",
       "   logAirTime  \n",
       "0       3.784  \n",
       "1       4.673  \n",
       "2       5.384  \n",
       "3       4.511  \n",
       "4       3.761  "
      ]
     },
     "execution_count": 18,
     "metadata": {},
     "output_type": "execute_result"
    }
   ],
   "source": [
    "# Añadir columnas dummies\n",
    "\n",
    "X[\"Month\"] = df[\"Month\"].apply(str).reset_index(drop = True)\n",
    "X[\"DayofMonth\"] = df[\"DayofMonth\"].apply(str).reset_index(drop = True)\n",
    "X[\"DayOfWeek\"] = df[\"DayOfWeek\"].apply(str).reset_index(drop = True)\n",
    "X[\"Origin\"] = df[\"Origin\"]\n",
    "X[\"Dest\"] = df[\"Dest\"]\n",
    "X[\"UniqueCarrier\"] = df['UniqueCarrier']\n",
    "# X[\"Ruta\"] = df[\"Ruta\"]\n",
    "\n",
    "dummies = pd.get_dummies(data=X[['Month', 'DayofMonth', 'DayOfWeek',\"Origin\",\"Dest\",'UniqueCarrier']])\n",
    "\n",
    "\n",
    "X = X.drop(columns = ['Month','DayOfWeek',\"DayofMonth\",\"Origin\",\"1\",\"Dest\",'UniqueCarrier']) # No podemos mantener columnas tipo string\n",
    "\n",
    "X.head()"
   ]
  },
  {
   "cell_type": "markdown",
   "metadata": {},
   "source": [
    "A veces volver a juntar dataframes puede dar algunos problemas, así que podemos solucionarlo con"
   ]
  },
  {
   "cell_type": "code",
   "execution_count": 19,
   "metadata": {},
   "outputs": [],
   "source": [
    "for col in dummies.columns:\n",
    "    X[col] = dummies[col]"
   ]
  },
  {
   "cell_type": "code",
   "execution_count": 20,
   "metadata": {
    "scrolled": true
   },
   "outputs": [
    {
     "data": {
      "text/html": [
       "<div>\n",
       "<style scoped>\n",
       "    .dataframe tbody tr th:only-of-type {\n",
       "        vertical-align: middle;\n",
       "    }\n",
       "\n",
       "    .dataframe tbody tr th {\n",
       "        vertical-align: top;\n",
       "    }\n",
       "\n",
       "    .dataframe thead th {\n",
       "        text-align: right;\n",
       "    }\n",
       "</style>\n",
       "<table border=\"1\" class=\"dataframe\">\n",
       "  <thead>\n",
       "    <tr style=\"text-align: right;\">\n",
       "      <th></th>\n",
       "      <th>AirTime</th>\n",
       "      <th>Distance</th>\n",
       "      <th>TaxiIn</th>\n",
       "      <th>TaxiOut</th>\n",
       "      <th>AirTime^2</th>\n",
       "      <th>AirTime Distance</th>\n",
       "      <th>AirTime TaxiIn</th>\n",
       "      <th>AirTime TaxiOut</th>\n",
       "      <th>Distance^2</th>\n",
       "      <th>Distance TaxiIn</th>\n",
       "      <th>...</th>\n",
       "      <th>UniqueCarrier_HA</th>\n",
       "      <th>UniqueCarrier_MQ</th>\n",
       "      <th>UniqueCarrier_NW</th>\n",
       "      <th>UniqueCarrier_OH</th>\n",
       "      <th>UniqueCarrier_OO</th>\n",
       "      <th>UniqueCarrier_UA</th>\n",
       "      <th>UniqueCarrier_US</th>\n",
       "      <th>UniqueCarrier_WN</th>\n",
       "      <th>UniqueCarrier_XE</th>\n",
       "      <th>UniqueCarrier_YV</th>\n",
       "    </tr>\n",
       "  </thead>\n",
       "  <tbody>\n",
       "    <tr>\n",
       "      <th>0</th>\n",
       "      <td>44.000</td>\n",
       "      <td>261.000</td>\n",
       "      <td>4.000</td>\n",
       "      <td>11.000</td>\n",
       "      <td>1936.000</td>\n",
       "      <td>11484.000</td>\n",
       "      <td>176.000</td>\n",
       "      <td>484.000</td>\n",
       "      <td>68121.000</td>\n",
       "      <td>1044.000</td>\n",
       "      <td>...</td>\n",
       "      <td>0</td>\n",
       "      <td>1</td>\n",
       "      <td>0</td>\n",
       "      <td>0</td>\n",
       "      <td>0</td>\n",
       "      <td>0</td>\n",
       "      <td>0</td>\n",
       "      <td>0</td>\n",
       "      <td>0</td>\n",
       "      <td>0</td>\n",
       "    </tr>\n",
       "    <tr>\n",
       "      <th>1</th>\n",
       "      <td>107.000</td>\n",
       "      <td>852.000</td>\n",
       "      <td>12.000</td>\n",
       "      <td>17.000</td>\n",
       "      <td>11449.000</td>\n",
       "      <td>91164.000</td>\n",
       "      <td>1284.000</td>\n",
       "      <td>1819.000</td>\n",
       "      <td>725904.000</td>\n",
       "      <td>10224.000</td>\n",
       "      <td>...</td>\n",
       "      <td>0</td>\n",
       "      <td>0</td>\n",
       "      <td>0</td>\n",
       "      <td>0</td>\n",
       "      <td>0</td>\n",
       "      <td>0</td>\n",
       "      <td>0</td>\n",
       "      <td>1</td>\n",
       "      <td>0</td>\n",
       "      <td>0</td>\n",
       "    </tr>\n",
       "    <tr>\n",
       "      <th>2</th>\n",
       "      <td>218.000</td>\n",
       "      <td>1972.000</td>\n",
       "      <td>12.000</td>\n",
       "      <td>10.000</td>\n",
       "      <td>47524.000</td>\n",
       "      <td>429896.000</td>\n",
       "      <td>2616.000</td>\n",
       "      <td>2180.000</td>\n",
       "      <td>3888784.000</td>\n",
       "      <td>23664.000</td>\n",
       "      <td>...</td>\n",
       "      <td>0</td>\n",
       "      <td>0</td>\n",
       "      <td>0</td>\n",
       "      <td>0</td>\n",
       "      <td>0</td>\n",
       "      <td>0</td>\n",
       "      <td>0</td>\n",
       "      <td>0</td>\n",
       "      <td>0</td>\n",
       "      <td>0</td>\n",
       "    </tr>\n",
       "    <tr>\n",
       "      <th>3</th>\n",
       "      <td>91.000</td>\n",
       "      <td>447.000</td>\n",
       "      <td>5.000</td>\n",
       "      <td>16.000</td>\n",
       "      <td>8281.000</td>\n",
       "      <td>40677.000</td>\n",
       "      <td>455.000</td>\n",
       "      <td>1456.000</td>\n",
       "      <td>199809.000</td>\n",
       "      <td>2235.000</td>\n",
       "      <td>...</td>\n",
       "      <td>0</td>\n",
       "      <td>0</td>\n",
       "      <td>0</td>\n",
       "      <td>0</td>\n",
       "      <td>0</td>\n",
       "      <td>1</td>\n",
       "      <td>0</td>\n",
       "      <td>0</td>\n",
       "      <td>0</td>\n",
       "      <td>0</td>\n",
       "    </tr>\n",
       "    <tr>\n",
       "      <th>4</th>\n",
       "      <td>43.000</td>\n",
       "      <td>231.000</td>\n",
       "      <td>13.000</td>\n",
       "      <td>18.000</td>\n",
       "      <td>1849.000</td>\n",
       "      <td>9933.000</td>\n",
       "      <td>559.000</td>\n",
       "      <td>774.000</td>\n",
       "      <td>53361.000</td>\n",
       "      <td>3003.000</td>\n",
       "      <td>...</td>\n",
       "      <td>0</td>\n",
       "      <td>0</td>\n",
       "      <td>0</td>\n",
       "      <td>0</td>\n",
       "      <td>1</td>\n",
       "      <td>0</td>\n",
       "      <td>0</td>\n",
       "      <td>0</td>\n",
       "      <td>0</td>\n",
       "      <td>0</td>\n",
       "    </tr>\n",
       "  </tbody>\n",
       "</table>\n",
       "<p>5 rows × 561 columns</p>\n",
       "</div>"
      ],
      "text/plain": [
       "   AirTime  Distance  TaxiIn  TaxiOut  AirTime^2  AirTime Distance  \\\n",
       "0   44.000   261.000   4.000   11.000   1936.000         11484.000   \n",
       "1  107.000   852.000  12.000   17.000  11449.000         91164.000   \n",
       "2  218.000  1972.000  12.000   10.000  47524.000        429896.000   \n",
       "3   91.000   447.000   5.000   16.000   8281.000         40677.000   \n",
       "4   43.000   231.000  13.000   18.000   1849.000          9933.000   \n",
       "\n",
       "   AirTime TaxiIn  AirTime TaxiOut  Distance^2  Distance TaxiIn  ...  \\\n",
       "0         176.000          484.000   68121.000         1044.000  ...   \n",
       "1        1284.000         1819.000  725904.000        10224.000  ...   \n",
       "2        2616.000         2180.000 3888784.000        23664.000  ...   \n",
       "3         455.000         1456.000  199809.000         2235.000  ...   \n",
       "4         559.000          774.000   53361.000         3003.000  ...   \n",
       "\n",
       "   UniqueCarrier_HA  UniqueCarrier_MQ  UniqueCarrier_NW  UniqueCarrier_OH  \\\n",
       "0                 0                 1                 0                 0   \n",
       "1                 0                 0                 0                 0   \n",
       "2                 0                 0                 0                 0   \n",
       "3                 0                 0                 0                 0   \n",
       "4                 0                 0                 0                 0   \n",
       "\n",
       "   UniqueCarrier_OO  UniqueCarrier_UA  UniqueCarrier_US  UniqueCarrier_WN  \\\n",
       "0                 0                 0                 0                 0   \n",
       "1                 0                 0                 0                 1   \n",
       "2                 0                 0                 0                 0   \n",
       "3                 0                 1                 0                 0   \n",
       "4                 1                 0                 0                 0   \n",
       "\n",
       "   UniqueCarrier_XE  UniqueCarrier_YV  \n",
       "0                 0                 0  \n",
       "1                 0                 0  \n",
       "2                 0                 0  \n",
       "3                 0                 0  \n",
       "4                 0                 0  \n",
       "\n",
       "[5 rows x 561 columns]"
      ]
     },
     "execution_count": 20,
     "metadata": {},
     "output_type": "execute_result"
    }
   ],
   "source": [
    "X.head()"
   ]
  },
  {
   "cell_type": "markdown",
   "metadata": {},
   "source": [
    "#### Ajuste Final del modelo\n",
    "\n",
    "Ajustamos el modelo de regresión ampliado"
   ]
  },
  {
   "cell_type": "code",
   "execution_count": 22,
   "metadata": {
    "scrolled": true
   },
   "outputs": [
    {
     "name": "stdout",
     "output_type": "stream",
     "text": [
      "R2 INTERNA:  0.23853159858947304\n",
      "R2 EXTERNA:  0.0014707402960632\n"
     ]
    }
   ],
   "source": [
    "from sklearn.metrics import mean_squared_error, r2_score\n",
    "\n",
    "Y = df['ArrDelay']\n",
    "\n",
    "X_train, X_test, y_train, y_test = train_test_split(X, Y, test_size=.2, random_state=2)\n",
    "\n",
    "regr = linear_model.LinearRegression()\n",
    "regr.fit(X_train, y_train)\n",
    "\n",
    "prediccionesINTERNA = regr.predict(X_train)\n",
    "print(\"R2 INTERNA: \",r2_score(y_train, prediccionesINTERNA))\n",
    "\n",
    "prediccionesEXTERNA = regr.predict(X_test)\n",
    "print(\"R2 EXTERNA: \",r2_score(y_test, prediccionesEXTERNA))"
   ]
  },
  {
   "cell_type": "markdown",
   "metadata": {},
   "source": [
    "### Ejercicio final\n",
    "\n",
    "Intenta aplicar algunos de los apartados que hemos visto en este ejemplo sobre los datos iris (o otro dataset de tu elección). Es especialmente importante la parte de validación interna y externa."
   ]
  },
  {
   "cell_type": "markdown",
   "metadata": {},
   "source": [
    "Puedes añadir alguna variable adicional, o algún tipo de preprocesamiento al modelo"
   ]
  },
  {
   "cell_type": "code",
   "execution_count": null,
   "metadata": {},
   "outputs": [],
   "source": []
  },
  {
   "cell_type": "markdown",
   "metadata": {},
   "source": [
    "Representa gráficamente los resultados\n",
    "\n",
    "¡Explora algunas opciones adicionales!\n",
    "\n",
    "https://seaborn.pydata.org/tutorial/regression.html"
   ]
  },
  {
   "cell_type": "markdown",
   "metadata": {},
   "source": [
    "© Netmind S.L.\n",
    "\n",
    "Todos los derechos reservados. Este documento (v1.00) ha sido diseñado para el uso exclusivo del cliente que atiende a esta formación.\n",
    "\n",
    "Ninguna parte de este documento puede ser reproducida, distribuida o transmitida en cualquier forma o por cualquier medio sin el permiso previo por escrito de Netmind."
   ]
  }
 ],
 "metadata": {
  "kernelspec": {
   "display_name": "Python 3 (ipykernel)",
   "language": "python",
   "name": "python3"
  },
  "language_info": {
   "codemirror_mode": {
    "name": "ipython",
    "version": 3
   },
   "file_extension": ".py",
   "mimetype": "text/x-python",
   "name": "python",
   "nbconvert_exporter": "python",
   "pygments_lexer": "ipython3",
   "version": "3.9.13"
  }
 },
 "nbformat": 4,
 "nbformat_minor": 2
}
