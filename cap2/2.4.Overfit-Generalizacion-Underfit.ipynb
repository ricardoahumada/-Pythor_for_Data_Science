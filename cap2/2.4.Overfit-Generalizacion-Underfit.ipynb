{
 "cells": [
  {
   "cell_type": "code",
   "execution_count": null,
   "id": "196f8e0e",
   "metadata": {},
   "outputs": [],
   "source": [
    "# Carga del dataset\n",
    "from sklearn.datasets import fetch_california_housing\n",
    "\n",
    "housing = fetch_california_housing(as_frame=True)\n",
    "data, target = housing.data, housing.target\n",
    "target *= 100  # rescalar el target en k$"
   ]
  },
  {
   "cell_type": "code",
   "execution_count": null,
   "id": "1eb660af",
   "metadata": {},
   "outputs": [],
   "source": [
    "# Modelo a entrenar\n",
    "from sklearn.tree import DecisionTreeRegressor\n",
    "from sklearn.linear_model import LinearRegression\n",
    "\n",
    "regressor = DecisionTreeRegressor()\n",
    "# regressor = LinearRegression()"
   ]
  },
  {
   "cell_type": "code",
   "execution_count": null,
   "id": "db372c15",
   "metadata": {},
   "outputs": [],
   "source": [
    "# Cálculo de errores de training y test\n",
    "import pandas as pd\n",
    "from sklearn.model_selection import cross_validate, ShuffleSplit\n",
    "\n",
    "cv = ShuffleSplit(n_splits=30, test_size=0.2)\n",
    "cv_results = cross_validate(regressor, data, target,\n",
    "                            cv=cv, scoring=\"neg_mean_absolute_error\",\n",
    "                            return_train_score=True, n_jobs=2)\n",
    "cv_results = pd.DataFrame(cv_results)\n",
    "print(cv_results)"
   ]
  },
  {
   "cell_type": "code",
   "execution_count": null,
   "id": "642fe761",
   "metadata": {},
   "outputs": [],
   "source": [
    "# La validación cruzada utiliza el error absoluto medio negativo. \n",
    "# Transformamos el error absoluto medio negativo en un error absoluto medio positivo.\n",
    "\n",
    "scores = pd.DataFrame()\n",
    "scores[[\"train error\", \"test error\"]] = -cv_results[\n",
    "    [\"train_score\", \"test_score\"]]"
   ]
  },
  {
   "cell_type": "code",
   "execution_count": null,
   "id": "287e8f96",
   "metadata": {},
   "outputs": [],
   "source": [
    "import matplotlib.pyplot as plt\n",
    "\n",
    "scores.plot.hist(bins=50, edgecolor=\"black\")\n",
    "plt.xlabel(\"Error absoluto medio (k$)\")\n",
    "_ = plt.title(\"Distribución de errores de training y prueba con CV\")"
   ]
  },
  {
   "cell_type": "markdown",
   "id": "79ccd2d6",
   "metadata": {},
   "source": [
    "Obtenemos información sobre si nuestro modelo se ajusta demasiado (**over-fitting**), se ajusta mal(**under-fitting**), o ambos.\n",
    "\n",
    "El **error de training es prácticamente cero**, lo que significa que el modelo hace under-fitting (es suficientemente flexible como para capturar cualquier variación presente en el conjunto de entrenamiento).\n",
    "\n",
    "El **error de prueba significativamente mayor** nos dice que el modelo se ajusta demasiado: ha memorizado muchas variaciones del conjunto de entrenamiento y **no generalizan** para hacer una buena predicción en el conjunto de prueba."
   ]
  },
  {
   "cell_type": "code",
   "execution_count": null,
   "id": "34df6085",
   "metadata": {},
   "outputs": [],
   "source": []
  }
 ],
 "metadata": {
  "kernelspec": {
   "display_name": "Python 3 (ipykernel)",
   "language": "python",
   "name": "python3"
  },
  "language_info": {
   "codemirror_mode": {
    "name": "ipython",
    "version": 3
   },
   "file_extension": ".py",
   "mimetype": "text/x-python",
   "name": "python",
   "nbconvert_exporter": "python",
   "pygments_lexer": "ipython3",
   "version": "3.9.13"
  }
 },
 "nbformat": 4,
 "nbformat_minor": 5
}
