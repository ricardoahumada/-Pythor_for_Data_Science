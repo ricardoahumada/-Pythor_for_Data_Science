{
 "cells": [
  {
   "cell_type": "code",
   "execution_count": null,
   "id": "7e766a4b",
   "metadata": {},
   "outputs": [],
   "source": [
    "import pandas as pd\n",
    "import numpy as np\n",
    "import matplotlib.pyplot as plt\n",
    "from sklearn import preprocessing\n",
    "import seaborn as sns\n",
    "import warnings\n",
    "warnings.filterwarnings(\"ignore\")\n",
    "pd.set_option('display.float_format', lambda x: '%.3f' % x)\n"
   ]
  },
  {
   "cell_type": "code",
   "execution_count": null,
   "id": "585267d3",
   "metadata": {},
   "outputs": [],
   "source": [
    "from sklearn.datasets import fetch_california_housing\n",
    "\n",
    "housing = fetch_california_housing(as_frame=True)\n",
    "data, target = housing.data, housing.target"
   ]
  },
  {
   "cell_type": "code",
   "execution_count": null,
   "id": "dae58598",
   "metadata": {},
   "outputs": [],
   "source": [
    "data.head()"
   ]
  },
  {
   "cell_type": "markdown",
   "id": "a1b51201",
   "metadata": {},
   "source": [
    "> El objetivo es predecir el retraso de llegada"
   ]
  },
  {
   "cell_type": "code",
   "execution_count": null,
   "id": "ba10cbeb",
   "metadata": {},
   "outputs": [],
   "source": [
    "target.describe()"
   ]
  },
  {
   "cell_type": "markdown",
   "id": "a47fef9b",
   "metadata": {},
   "source": [
    "> El objetivo es predecir el retraso de llegada"
   ]
  },
  {
   "cell_type": "markdown",
   "id": "83066041",
   "metadata": {},
   "source": [
    "# Training error vs testing error"
   ]
  },
  {
   "cell_type": "code",
   "execution_count": null,
   "id": "ad103771",
   "metadata": {},
   "outputs": [],
   "source": [
    "# Con un DecisionTreeRegressor\n",
    "from sklearn.tree import DecisionTreeRegressor\n",
    "\n",
    "regressor = DecisionTreeRegressor(random_state=0)\n",
    "regressor.fit(data, target)"
   ]
  },
  {
   "cell_type": "code",
   "execution_count": null,
   "id": "bc8f9e10",
   "metadata": {},
   "outputs": [],
   "source": [
    "# Después de entrenar el regresor, nos gustaría saber su generalización potencial\n",
    "# rendimiento una vez implementado en producción.\n",
    "# Para este propósito, usamos el error absoluto medio,\n",
    "# lo que nos da un error en la unidad nativa.\n",
    "\n",
    "from sklearn.metrics import mean_absolute_error, r2_score\n",
    "\n",
    "target_predicted = regressor.predict(data)\n",
    "score = mean_absolute_error(target, target_predicted)\n",
    "r2 = r2_score(target, target_predicted)\n",
    "print('Nuestro regresor hace:')\n",
    "print(f\"mean_absolute_error de {score:.2f}\")\n",
    "print(f\"r2 de {r2:.2f}\")"
   ]
  },
  {
   "cell_type": "markdown",
   "id": "0abee15b",
   "metadata": {},
   "source": [
    "La evaluación más básica implica:\n",
    "- dividir nuestro conjunto de datos en dos subconjuntos: un conjunto de entrenamiento y un conjunto de prueba;\n",
    "- ajuste del modelo en el conjunto de entrenamiento;\n",
    "- estimar el error de entrenamiento en el conjunto de entrenamiento;\n",
    "- estimar el error de prueba en el conjunto de prueba."
   ]
  },
  {
   "cell_type": "code",
   "execution_count": null,
   "id": "9f69db41",
   "metadata": {},
   "outputs": [],
   "source": [
    "# dividimos nuestro conjunto de datos.\n",
    "\n",
    "from sklearn.model_selection import train_test_split\n",
    "\n",
    "data_train, data_test, target_train, target_test = train_test_split(\n",
    "    data, target, random_state=0)"
   ]
  },
  {
   "cell_type": "code",
   "execution_count": null,
   "id": "a0c88ef2",
   "metadata": {},
   "outputs": [],
   "source": [
    "# entrenamos nuestro modelo.\n",
    "\n",
    "regressor.fit(data_train, target_train)"
   ]
  },
  {
   "cell_type": "code",
   "execution_count": null,
   "id": "aa1fc6a1",
   "metadata": {},
   "outputs": [],
   "source": [
    "# Finalmente, estimamos los diferentes tipos de errores.\n",
    "# el error de entrenamiento.\n",
    "\n",
    "target_predicted = regressor.predict(data_train)\n",
    "score = mean_absolute_error(target_train, target_predicted)\n",
    "print(f\"El error de entrenamiento es {score:.2f}\")"
   ]
  },
  {
   "cell_type": "code",
   "execution_count": null,
   "id": "daddc529",
   "metadata": {},
   "outputs": [],
   "source": [
    "# el error de prueba.\n",
    "\n",
    "target_predicted = regressor.predict(data_test)\n",
    "score = mean_absolute_error(target_test, target_predicted)\n",
    "print(f\"El error de prueba es {score:.2f}\")"
   ]
  },
  {
   "attachments": {
    "image.png": {
     "image/png": "[encoded data removed]"
    }
   },
   "cell_type": "markdown",
   "id": "0c41319a",
   "metadata": {},
   "source": [
    "# Estabilidad de las estimaciones de validación cruzada\n",
    "La **validación cruzada** permite estimar la **robustez de un modelo predictivo** repitiendo el procedimiento de división. Dará varios errores de entrenamiento y prueba y, por lo tanto, alguna estimación de la variabilidad del rendimiento de generalización del modelo.\n",
    "\n",
    "Existen diferentes estrategias de validación cruzada, por ahora nos vamos a centrar en una llamada **“shuffle-split”**. En cada iteración de esta estrategia:\n",
    "- mezclar aleatoriamente el orden de las muestras de una copia del conjunto de datos completo;\n",
    "- dividir el conjunto de datos barajados en un tren y un conjunto de prueba;\n",
    "- entrenar un nuevo modelo en el juego de trenes;\n",
    "- evaluar el error de prueba en el equipo de prueba.\n",
    "\n",
    "Repetimos este procedimiento n_splits veces. Hay que tener en cuenta que el coste computacional aumenta con n_splits.\n",
    "\n",
    "![image.png](attachment:image.png)\n",
    "\n",
    "En este caso estableceremos n_splits=40, lo que significa que entrenaremos 40 modelos en total y todos serán descartados: solo registramos su **desempeño de generalización en cada variante del conjunto de prueba**."
   ]
  },
  {
   "cell_type": "code",
   "execution_count": null,
   "id": "8520717b",
   "metadata": {},
   "outputs": [],
   "source": [
    "from sklearn.model_selection import cross_validate\n",
    "from sklearn.model_selection import ShuffleSplit\n",
    "\n",
    "cv = ShuffleSplit(n_splits=40, test_size=0.3, random_state=0)\n",
    "cv_results = cross_validate(\n",
    "    regressor, data, target, cv=cv, scoring=\"neg_mean_absolute_error\")"
   ]
  },
  {
   "cell_type": "code",
   "execution_count": null,
   "id": "34e1d570",
   "metadata": {},
   "outputs": [],
   "source": [
    "# Los resultados cv_results se almacenan en un diccionario Python.\n",
    "# Lo convertiremos en un marco de datos de pandas para facilitar la visualización y manipulación.\n",
    "\n",
    "import pandas as pd\n",
    "\n",
    "cv_results = pd.DataFrame(cv_results)\n",
    "cv_results.head()"
   ]
  },
  {
   "cell_type": "code",
   "execution_count": null,
   "id": "75ca06ec",
   "metadata": {},
   "outputs": [],
   "source": [
    "# revertimos los negativos\n",
    "cv_results[\"test_error\"] = -cv_results[\"test_score\"]\n",
    "\n",
    "# verificamos los resultados\n",
    "cv_results.head(10)"
   ]
  },
  {
   "cell_type": "code",
   "execution_count": null,
   "id": "4aa32783",
   "metadata": {},
   "outputs": [],
   "source": [
    "len(cv_results)"
   ]
  },
  {
   "cell_type": "code",
   "execution_count": null,
   "id": "2a94a049",
   "metadata": {},
   "outputs": [],
   "source": [
    "# Obtenemos 40 entradas en nuestro marco de datos resultante porque realizamos 40 divisiones.\n",
    "# Por lo tanto, podemos mostrar la distribución del error de prueba y así tener una estimación de su variabilidad.\n",
    "\n",
    "import matplotlib.pyplot as plt\n",
    "\n",
    "cv_results[\"test_error\"].plot.hist(bins=10, edgecolor=\"black\")\n",
    "plt.xlabel(\"Mean absolute error (k$)\")\n",
    "_ = plt.title(\"Test error distribution\")"
   ]
  },
  {
   "cell_type": "code",
   "execution_count": null,
   "id": "07ad549f",
   "metadata": {},
   "outputs": [],
   "source": [
    "print(f\"La media del cross-validated testing error es: \"\n",
    "      f\"{cv_results['test_error'].mean():.2f}\")"
   ]
  },
  {
   "cell_type": "code",
   "execution_count": null,
   "id": "26daca9e",
   "metadata": {},
   "outputs": [],
   "source": [
    "print(f\"La desviación estandar del testing error es: \"\n",
    "      f\"{cv_results['test_error'].std():.2f}\")"
   ]
  },
  {
   "cell_type": "code",
   "execution_count": null,
   "id": "6c552fa0",
   "metadata": {},
   "outputs": [],
   "source": [
    "# Tracemos la distribución de la variable target\n",
    "\n",
    "target.plot.hist(edgecolor=\"black\")\n",
    "plt.xlabel(\"Median ArrDelay\")\n",
    "_ = plt.title(\"Target distribution\")"
   ]
  },
  {
   "cell_type": "code",
   "execution_count": null,
   "id": "a33c59ec",
   "metadata": {},
   "outputs": [],
   "source": [
    "print(f\"La desviación estándar del target es: {target.std():.2f}\")"
   ]
  },
  {
   "cell_type": "code",
   "execution_count": null,
   "id": "e9a60589",
   "metadata": {},
   "outputs": [],
   "source": [
    "# En el caso de que solo esté interesado en el score de la prueba,\n",
    "# scikit-learn proporciona la función cross_val_score.\n",
    "# Es idéntico a llamar a la función cross_validate y seleccionar solo test_score.\n",
    "\n",
    "from sklearn.model_selection import cross_val_score\n",
    "\n",
    "scores = cross_val_score(regressor, data, target)\n",
    "scores"
   ]
  },
  {
   "cell_type": "code",
   "execution_count": null,
   "id": "d2bbf63b",
   "metadata": {},
   "outputs": [],
   "source": []
  }
 ],
 "metadata": {
  "kernelspec": {
   "display_name": "Python 3 (ipykernel)",
   "language": "python",
   "name": "python3"
  },
  "language_info": {
   "codemirror_mode": {
    "name": "ipython",
    "version": 3
   },
   "file_extension": ".py",
   "mimetype": "text/x-python",
   "name": "python",
   "nbconvert_exporter": "python",
   "pygments_lexer": "ipython3",
   "version": "3.9.13"
  }
 },
 "nbformat": 4,
 "nbformat_minor": 5
}
