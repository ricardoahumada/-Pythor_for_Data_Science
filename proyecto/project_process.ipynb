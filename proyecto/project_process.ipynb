{
 "cells": [
  {
   "cell_type": "markdown",
   "id": "b8bbd586",
   "metadata": {},
   "source": [
    "## PLANTEAMIENTO DEL PROBLEMA\n",
    "1. Somos parte de una empresa llamada SECOND CARS y vendemos coches usados.\n",
    "2. Durante un estudio reciente de la empresa, se observó que los vendedores no ponen el precio correctamente a los coches   'Chevrolet'. Algunos de los coches tienen un precio demasiado alto y otros tienen un precio muy bajo, lo que ha causado pérdidas sustanciales en el trimestre anterior.\n",
    "3. Para remediar esto, la dirección nos ha encargado crear un modelo que prediga de manera eficiente el precio de los automóviles con un error mínimo. De modo que sea útil para los vendedores al fijar correctamente el precio del automóvil."
   ]
  },
  {
   "cell_type": "markdown",
   "id": "866ee2f9",
   "metadata": {},
   "source": [
    "## PROCESO DE SOLUCIÓN"
   ]
  },
  {
   "cell_type": "markdown",
   "id": "b81c6235",
   "metadata": {},
   "source": [
    "###  1. Carga de datos"
   ]
  },
  {
   "cell_type": "code",
   "execution_count": 1,
   "id": "6eb3cd7c",
   "metadata": {},
   "outputs": [],
   "source": [
    "import pandas as pd\n",
    "import numpy as np"
   ]
  },
  {
   "cell_type": "code",
   "execution_count": 2,
   "id": "4263ba7f",
   "metadata": {},
   "outputs": [],
   "source": [
    "# Carga los datos\n",
    "df=pd.read_csv('car_price_data.csv')"
   ]
  },
  {
   "cell_type": "code",
   "execution_count": 4,
   "id": "5fe7b84f",
   "metadata": {},
   "outputs": [
    {
     "data": {
      "text/plain": [
       "(5101, 9)"
      ]
     },
     "execution_count": 4,
     "metadata": {},
     "output_type": "execute_result"
    }
   ],
   "source": [
    "# Entiende las dimensiones\n",
    "df.shape"
   ]
  },
  {
   "cell_type": "code",
   "execution_count": 10,
   "id": "b240ad75",
   "metadata": {},
   "outputs": [
    {
     "data": {
      "text/html": [
       "<div>\n",
       "<style scoped>\n",
       "    .dataframe tbody tr th:only-of-type {\n",
       "        vertical-align: middle;\n",
       "    }\n",
       "\n",
       "    .dataframe tbody tr th {\n",
       "        vertical-align: top;\n",
       "    }\n",
       "\n",
       "    .dataframe thead th {\n",
       "        text-align: right;\n",
       "    }\n",
       "</style>\n",
       "<table border=\"1\" class=\"dataframe\">\n",
       "  <thead>\n",
       "    <tr style=\"text-align: right;\">\n",
       "      <th></th>\n",
       "      <th>year</th>\n",
       "      <th>price</th>\n",
       "      <th>km_traveled</th>\n",
       "      <th>tax</th>\n",
       "      <th>engineSize</th>\n",
       "      <th>km_per_liters</th>\n",
       "      <th>model</th>\n",
       "      <th>transmission</th>\n",
       "      <th>fuel_type</th>\n",
       "    </tr>\n",
       "  </thead>\n",
       "  <tbody>\n",
       "    <tr>\n",
       "      <th>0</th>\n",
       "      <td>2018</td>\n",
       "      <td>9491</td>\n",
       "      <td>39842.43038</td>\n",
       "      <td>0</td>\n",
       "      <td>1.5</td>\n",
       "      <td>20.364398</td>\n",
       "      <td>Camaro</td>\n",
       "      <td>Manual</td>\n",
       "      <td>Petrol</td>\n",
       "    </tr>\n",
       "    <tr>\n",
       "      <th>1</th>\n",
       "      <td>2002</td>\n",
       "      <td>3750</td>\n",
       "      <td>18158.18322</td>\n",
       "      <td>145</td>\n",
       "      <td>3.0</td>\n",
       "      <td>30.015166</td>\n",
       "      <td>TrailBlazer</td>\n",
       "      <td>Other</td>\n",
       "      <td>Petrol</td>\n",
       "    </tr>\n",
       "    <tr>\n",
       "      <th>2</th>\n",
       "      <td>2002</td>\n",
       "      <td>27000</td>\n",
       "      <td>24391.15704</td>\n",
       "      <td>0</td>\n",
       "      <td>1.5</td>\n",
       "      <td>25.040982</td>\n",
       "      <td>Silverado 2500 Extended Cab</td>\n",
       "      <td>Manual</td>\n",
       "      <td>Diesel</td>\n",
       "    </tr>\n",
       "    <tr>\n",
       "      <th>3</th>\n",
       "      <td>2005</td>\n",
       "      <td>19200</td>\n",
       "      <td>14405.20234</td>\n",
       "      <td>0</td>\n",
       "      <td>1.8</td>\n",
       "      <td>24.530809</td>\n",
       "      <td>Astro Cargo</td>\n",
       "      <td>Semi-Auto</td>\n",
       "      <td>Hybrid</td>\n",
       "    </tr>\n",
       "    <tr>\n",
       "      <th>4</th>\n",
       "      <td>2002</td>\n",
       "      <td>11995</td>\n",
       "      <td>34639.43416</td>\n",
       "      <td>145</td>\n",
       "      <td>1.0</td>\n",
       "      <td>24.658352</td>\n",
       "      <td>S10 Extended Cab</td>\n",
       "      <td>Automatic</td>\n",
       "      <td>Diesel</td>\n",
       "    </tr>\n",
       "    <tr>\n",
       "      <th>...</th>\n",
       "      <td>...</td>\n",
       "      <td>...</td>\n",
       "      <td>...</td>\n",
       "      <td>...</td>\n",
       "      <td>...</td>\n",
       "      <td>...</td>\n",
       "      <td>...</td>\n",
       "      <td>...</td>\n",
       "      <td>...</td>\n",
       "    </tr>\n",
       "    <tr>\n",
       "      <th>95</th>\n",
       "      <td>1994</td>\n",
       "      <td>10890</td>\n",
       "      <td>22516.27594</td>\n",
       "      <td>140</td>\n",
       "      <td>1.0</td>\n",
       "      <td>31.588199</td>\n",
       "      <td>Lumina Passenger</td>\n",
       "      <td>Other</td>\n",
       "      <td>Petrol</td>\n",
       "    </tr>\n",
       "    <tr>\n",
       "      <th>96</th>\n",
       "      <td>2018</td>\n",
       "      <td>6699</td>\n",
       "      <td>10309.43204</td>\n",
       "      <td>0</td>\n",
       "      <td>2.5</td>\n",
       "      <td>27.889446</td>\n",
       "      <td>Colorado Crew Cab</td>\n",
       "      <td>Semi-Auto</td>\n",
       "      <td>Hybrid</td>\n",
       "    </tr>\n",
       "    <tr>\n",
       "      <th>97</th>\n",
       "      <td>2001</td>\n",
       "      <td>10390</td>\n",
       "      <td>38426.21118</td>\n",
       "      <td>0</td>\n",
       "      <td>1.0</td>\n",
       "      <td>26.103842</td>\n",
       "      <td>Express 2500 Cargo</td>\n",
       "      <td>Automatic</td>\n",
       "      <td>Petrol</td>\n",
       "    </tr>\n",
       "    <tr>\n",
       "      <th>98</th>\n",
       "      <td>1997</td>\n",
       "      <td>32995</td>\n",
       "      <td>18303.02382</td>\n",
       "      <td>0</td>\n",
       "      <td>1.0</td>\n",
       "      <td>30.780426</td>\n",
       "      <td>Suburban 2500</td>\n",
       "      <td>Automatic</td>\n",
       "      <td>Petrol</td>\n",
       "    </tr>\n",
       "    <tr>\n",
       "      <th>99</th>\n",
       "      <td>2002</td>\n",
       "      <td>20990</td>\n",
       "      <td>27761.11500</td>\n",
       "      <td>145</td>\n",
       "      <td>1.0</td>\n",
       "      <td>24.530809</td>\n",
       "      <td>S10 Regular Cab</td>\n",
       "      <td>Manual</td>\n",
       "      <td>Other</td>\n",
       "    </tr>\n",
       "  </tbody>\n",
       "</table>\n",
       "<p>100 rows × 9 columns</p>\n",
       "</div>"
      ],
      "text/plain": [
       "    year  price  km_traveled  tax  engineSize  km_per_liters  \\\n",
       "0   2018   9491  39842.43038    0         1.5      20.364398   \n",
       "1   2002   3750  18158.18322  145         3.0      30.015166   \n",
       "2   2002  27000  24391.15704    0         1.5      25.040982   \n",
       "3   2005  19200  14405.20234    0         1.8      24.530809   \n",
       "4   2002  11995  34639.43416  145         1.0      24.658352   \n",
       "..   ...    ...          ...  ...         ...            ...   \n",
       "95  1994  10890  22516.27594  140         1.0      31.588199   \n",
       "96  2018   6699  10309.43204    0         2.5      27.889446   \n",
       "97  2001  10390  38426.21118    0         1.0      26.103842   \n",
       "98  1997  32995  18303.02382    0         1.0      30.780426   \n",
       "99  2002  20990  27761.11500  145         1.0      24.530809   \n",
       "\n",
       "                          model transmission fuel_type  \n",
       "0                        Camaro       Manual    Petrol  \n",
       "1                   TrailBlazer        Other    Petrol  \n",
       "2   Silverado 2500 Extended Cab       Manual    Diesel  \n",
       "3                   Astro Cargo    Semi-Auto    Hybrid  \n",
       "4              S10 Extended Cab    Automatic    Diesel  \n",
       "..                          ...          ...       ...  \n",
       "95             Lumina Passenger        Other    Petrol  \n",
       "96            Colorado Crew Cab    Semi-Auto    Hybrid  \n",
       "97           Express 2500 Cargo    Automatic    Petrol  \n",
       "98                Suburban 2500    Automatic    Petrol  \n",
       "99              S10 Regular Cab       Manual     Other  \n",
       "\n",
       "[100 rows x 9 columns]"
      ]
     },
     "execution_count": 10,
     "metadata": {},
     "output_type": "execute_result"
    }
   ],
   "source": [
    "# Revisa las 100 primeras filas\n",
    "df.head(100)"
   ]
  },
  {
   "cell_type": "code",
   "execution_count": 6,
   "id": "2cc8c8b7",
   "metadata": {
    "scrolled": false
   },
   "outputs": [
    {
     "data": {
      "text/html": [
       "<div>\n",
       "<style scoped>\n",
       "    .dataframe tbody tr th:only-of-type {\n",
       "        vertical-align: middle;\n",
       "    }\n",
       "\n",
       "    .dataframe tbody tr th {\n",
       "        vertical-align: top;\n",
       "    }\n",
       "\n",
       "    .dataframe thead th {\n",
       "        text-align: right;\n",
       "    }\n",
       "</style>\n",
       "<table border=\"1\" class=\"dataframe\">\n",
       "  <thead>\n",
       "    <tr style=\"text-align: right;\">\n",
       "      <th></th>\n",
       "      <th>year</th>\n",
       "      <th>price</th>\n",
       "      <th>km_traveled</th>\n",
       "      <th>tax</th>\n",
       "      <th>engineSize</th>\n",
       "      <th>km_per_liters</th>\n",
       "    </tr>\n",
       "  </thead>\n",
       "  <tbody>\n",
       "    <tr>\n",
       "      <th>count</th>\n",
       "      <td>5101.000000</td>\n",
       "      <td>5101.000000</td>\n",
       "      <td>5101.000000</td>\n",
       "      <td>5101.000000</td>\n",
       "      <td>5101.000000</td>\n",
       "      <td>5101.000000</td>\n",
       "    </tr>\n",
       "    <tr>\n",
       "      <th>mean</th>\n",
       "      <td>2005.592629</td>\n",
       "      <td>12544.586944</td>\n",
       "      <td>36194.765202</td>\n",
       "      <td>94.577534</td>\n",
       "      <td>1.462615</td>\n",
       "      <td>26.885070</td>\n",
       "    </tr>\n",
       "    <tr>\n",
       "      <th>std</th>\n",
       "      <td>8.020091</td>\n",
       "      <td>6502.942608</td>\n",
       "      <td>30260.285298</td>\n",
       "      <td>73.438069</td>\n",
       "      <td>0.434412</td>\n",
       "      <td>6.916482</td>\n",
       "    </tr>\n",
       "    <tr>\n",
       "      <th>min</th>\n",
       "      <td>1992.000000</td>\n",
       "      <td>950.000000</td>\n",
       "      <td>4.828020</td>\n",
       "      <td>0.000000</td>\n",
       "      <td>0.000000</td>\n",
       "      <td>1.190403</td>\n",
       "    </tr>\n",
       "    <tr>\n",
       "      <th>25%</th>\n",
       "      <td>1999.000000</td>\n",
       "      <td>8190.000000</td>\n",
       "      <td>15042.500980</td>\n",
       "      <td>0.000000</td>\n",
       "      <td>1.000000</td>\n",
       "      <td>23.552978</td>\n",
       "    </tr>\n",
       "    <tr>\n",
       "      <th>50%</th>\n",
       "      <td>2005.000000</td>\n",
       "      <td>10610.000000</td>\n",
       "      <td>29186.990240</td>\n",
       "      <td>135.000000</td>\n",
       "      <td>1.500000</td>\n",
       "      <td>26.699043</td>\n",
       "    </tr>\n",
       "    <tr>\n",
       "      <th>75%</th>\n",
       "      <td>2012.000000</td>\n",
       "      <td>14995.000000</td>\n",
       "      <td>49123.494160</td>\n",
       "      <td>145.000000</td>\n",
       "      <td>1.800000</td>\n",
       "      <td>30.015166</td>\n",
       "    </tr>\n",
       "    <tr>\n",
       "      <th>max</th>\n",
       "      <td>2020.000000</td>\n",
       "      <td>59995.000000</td>\n",
       "      <td>280699.473460</td>\n",
       "      <td>330.000000</td>\n",
       "      <td>3.000000</td>\n",
       "      <td>99.908840</td>\n",
       "    </tr>\n",
       "  </tbody>\n",
       "</table>\n",
       "</div>"
      ],
      "text/plain": [
       "              year         price    km_traveled          tax   engineSize  \\\n",
       "count  5101.000000   5101.000000    5101.000000  5101.000000  5101.000000   \n",
       "mean   2005.592629  12544.586944   36194.765202    94.577534     1.462615   \n",
       "std       8.020091   6502.942608   30260.285298    73.438069     0.434412   \n",
       "min    1992.000000    950.000000       4.828020     0.000000     0.000000   \n",
       "25%    1999.000000   8190.000000   15042.500980     0.000000     1.000000   \n",
       "50%    2005.000000  10610.000000   29186.990240   135.000000     1.500000   \n",
       "75%    2012.000000  14995.000000   49123.494160   145.000000     1.800000   \n",
       "max    2020.000000  59995.000000  280699.473460   330.000000     3.000000   \n",
       "\n",
       "       km_per_liters  \n",
       "count    5101.000000  \n",
       "mean       26.885070  \n",
       "std         6.916482  \n",
       "min         1.190403  \n",
       "25%        23.552978  \n",
       "50%        26.699043  \n",
       "75%        30.015166  \n",
       "max        99.908840  "
      ]
     },
     "execution_count": 6,
     "metadata": {},
     "output_type": "execute_result"
    }
   ],
   "source": [
    "# Revisa las estadísticas\n",
    "df.describe()"
   ]
  },
  {
   "cell_type": "markdown",
   "id": "d8f18e39",
   "metadata": {},
   "source": [
    "###  2. Visualización de datos"
   ]
  },
  {
   "cell_type": "code",
   "execution_count": 9,
   "id": "0320ca72",
   "metadata": {},
   "outputs": [
    {
     "data": {
      "text/plain": [
       "year                AxesSubplot(0.125,0.53;0.168478x0.35)\n",
       "price            AxesSubplot(0.327174,0.53;0.168478x0.35)\n",
       "km_traveled      AxesSubplot(0.529348,0.53;0.168478x0.35)\n",
       "tax              AxesSubplot(0.731522,0.53;0.168478x0.35)\n",
       "engineSize          AxesSubplot(0.125,0.11;0.168478x0.35)\n",
       "km_per_liters    AxesSubplot(0.327174,0.11;0.168478x0.35)\n",
       "dtype: object"
      ]
     },
     "execution_count": 9,
     "metadata": {},
     "output_type": "execute_result"
    },
    {
     "data": {
      "image/png": "[encoded data removed]",
      "text/plain": [
       "<Figure size 640x480 with 8 Axes>"
      ]
     },
     "metadata": {},
     "output_type": "display_data"
    }
   ],
   "source": [
    "# Plots univariantes: box and whisker\n",
    "df.plot(kind='box', subplots=True, layout=(2,4), sharex=False, sharey=False)"
   ]
  },
  {
   "cell_type": "code",
   "execution_count": null,
   "id": "5c78d944",
   "metadata": {},
   "outputs": [],
   "source": [
    "# Plots univariantes: histogramas"
   ]
  },
  {
   "cell_type": "code",
   "execution_count": null,
   "id": "b45d5c48",
   "metadata": {},
   "outputs": [],
   "source": [
    "# Plots multivariantes: scattered_matrix"
   ]
  },
  {
   "cell_type": "code",
   "execution_count": null,
   "id": "9e718d93",
   "metadata": {},
   "outputs": [],
   "source": [
    "# Verifica la correlación"
   ]
  },
  {
   "cell_type": "markdown",
   "id": "783cfdc0",
   "metadata": {},
   "source": [
    "###  3. Preparación de datos"
   ]
  },
  {
   "cell_type": "code",
   "execution_count": null,
   "id": "75415fc6",
   "metadata": {},
   "outputs": [],
   "source": [
    "# Limpia los datos"
   ]
  },
  {
   "cell_type": "code",
   "execution_count": null,
   "id": "13a0a106",
   "metadata": {},
   "outputs": [],
   "source": [
    "# Completa datos"
   ]
  },
  {
   "cell_type": "code",
   "execution_count": null,
   "id": "71fbf352",
   "metadata": {},
   "outputs": [],
   "source": [
    "# Separa las features del target"
   ]
  },
  {
   "cell_type": "code",
   "execution_count": 9,
   "id": "365a0ae1",
   "metadata": {},
   "outputs": [],
   "source": [
    "# Si condiseras que hay demasiadas variables aplica PCA"
   ]
  },
  {
   "cell_type": "code",
   "execution_count": null,
   "id": "b32d7a52",
   "metadata": {},
   "outputs": [],
   "source": [
    "# Separa variables categóricas de numéricas"
   ]
  },
  {
   "cell_type": "code",
   "execution_count": null,
   "id": "9c2fa7c8",
   "metadata": {},
   "outputs": [],
   "source": [
    "# Procesa las variables categóricas:One Hot Encoding y OrdinalEncoder"
   ]
  },
  {
   "cell_type": "code",
   "execution_count": 10,
   "id": "646a87d2",
   "metadata": {},
   "outputs": [],
   "source": [
    "# Procesa las variables numéricas"
   ]
  },
  {
   "cell_type": "code",
   "execution_count": null,
   "id": "1675fdd6",
   "metadata": {},
   "outputs": [],
   "source": [
    "# Genera el dataframe global"
   ]
  },
  {
   "cell_type": "markdown",
   "id": "5a51053c",
   "metadata": {},
   "source": [
    "### 4. Selecciona un modelo"
   ]
  },
  {
   "cell_type": "code",
   "execution_count": 4,
   "id": "24619acf",
   "metadata": {},
   "outputs": [],
   "source": [
    "# Define una lista de candidatos a probar para el problema"
   ]
  },
  {
   "cell_type": "code",
   "execution_count": 11,
   "id": "e0d18fd8",
   "metadata": {},
   "outputs": [],
   "source": [
    "# Selecciona un algoritmo"
   ]
  },
  {
   "cell_type": "code",
   "execution_count": null,
   "id": "011733e3",
   "metadata": {},
   "outputs": [],
   "source": [
    "# Define las métricas"
   ]
  },
  {
   "cell_type": "code",
   "execution_count": 5,
   "id": "f43d9dd3",
   "metadata": {},
   "outputs": [],
   "source": [
    "# Genera un análisis CV"
   ]
  },
  {
   "cell_type": "code",
   "execution_count": 6,
   "id": "e3bf505b",
   "metadata": {},
   "outputs": [],
   "source": [
    "# Verifica los errores de training y testing, así como el overfitting underfitting"
   ]
  },
  {
   "cell_type": "code",
   "execution_count": null,
   "id": "13cd4ace",
   "metadata": {},
   "outputs": [],
   "source": [
    "# Si es necesario aplica ingeniería de variables"
   ]
  },
  {
   "cell_type": "code",
   "execution_count": null,
   "id": "c9a4ac91",
   "metadata": {},
   "outputs": [],
   "source": [
    "# Buscar los mejores hiperparámetros para el modelo"
   ]
  },
  {
   "cell_type": "code",
   "execution_count": 8,
   "id": "b40b5eb9",
   "metadata": {},
   "outputs": [],
   "source": [
    "# Entrena tu modelo con los mejores hiperparámetros"
   ]
  },
  {
   "cell_type": "code",
   "execution_count": null,
   "id": "ac15f488",
   "metadata": {},
   "outputs": [],
   "source": [
    "# Repite este proceso para otros modelos candidatos"
   ]
  },
  {
   "cell_type": "markdown",
   "id": "8b674cbb",
   "metadata": {},
   "source": [
    "### 5. Publica el modelo"
   ]
  },
  {
   "cell_type": "code",
   "execution_count": null,
   "id": "bb1a32dd",
   "metadata": {},
   "outputs": [],
   "source": [
    "# Serializa el modelo"
   ]
  },
  {
   "cell_type": "code",
   "execution_count": null,
   "id": "39df3526",
   "metadata": {},
   "outputs": [],
   "source": [
    "# Carga tu modelo en una aplicación"
   ]
  }
 ],
 "metadata": {
  "kernelspec": {
   "display_name": "Python 3 (ipykernel)",
   "language": "python",
   "name": "python3"
  },
  "language_info": {
   "codemirror_mode": {
    "name": "ipython",
    "version": 3
   },
   "file_extension": ".py",
   "mimetype": "text/x-python",
   "name": "python",
   "nbconvert_exporter": "python",
   "pygments_lexer": "ipython3",
   "version": "3.9.13"
  }
 },
 "nbformat": 4,
 "nbformat_minor": 5
}
