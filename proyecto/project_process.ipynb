{
 "cells": [
  {
   "cell_type": "markdown",
   "id": "b8bbd586",
   "metadata": {},
   "source": [
    "## PLANTEAMIENTO DEL PROBLEMA\n",
    "1. Somos parte de una empresa llamada SECOND CARS y vendemos coches usados.\n",
    "2. Durante un estudio reciente de la empresa, se observó que los vendedores no ponen el precio correctamente a los coches   'Chevrolet'. Algunos de los coches tienen un precio demasiado alto y otros tienen un precio muy bajo, lo que ha causado pérdidas sustanciales en el trimestre anterior.\n",
    "3. Para remediar esto, la dirección nos ha encargado crear un modelo que prediga de manera eficiente el precio de los automóviles con un error mínimo. De modo que sea útil para los vendedores al fijar correctamente el precio del automóvil."
   ]
  },
  {
   "cell_type": "markdown",
   "id": "866ee2f9",
   "metadata": {},
   "source": [
    "## PROCESO DE SOLUCIÓN"
   ]
  },
  {
   "cell_type": "markdown",
   "id": "b81c6235",
   "metadata": {},
   "source": [
    "###  1. Carga de datos"
   ]
  },
  {
   "cell_type": "code",
   "execution_count": null,
   "id": "4263ba7f",
   "metadata": {},
   "outputs": [],
   "source": [
    "# Carga los datos"
   ]
  },
  {
   "cell_type": "code",
   "execution_count": null,
   "id": "5fe7b84f",
   "metadata": {},
   "outputs": [],
   "source": [
    "# Entiende las dimensiones"
   ]
  },
  {
   "cell_type": "code",
   "execution_count": null,
   "id": "b240ad75",
   "metadata": {},
   "outputs": [],
   "source": [
    "# Revisa las 100 primeras filas"
   ]
  },
  {
   "cell_type": "code",
   "execution_count": null,
   "id": "2cc8c8b7",
   "metadata": {},
   "outputs": [],
   "source": [
    "# Revisa las estadísticas"
   ]
  },
  {
   "cell_type": "markdown",
   "id": "d8f18e39",
   "metadata": {},
   "source": [
    "###  2. Visualización de datos"
   ]
  },
  {
   "cell_type": "code",
   "execution_count": null,
   "id": "0320ca72",
   "metadata": {},
   "outputs": [],
   "source": [
    "# Plots univariantes: box and whisker"
   ]
  },
  {
   "cell_type": "code",
   "execution_count": null,
   "id": "5c78d944",
   "metadata": {},
   "outputs": [],
   "source": [
    "# Plots univariantes: histogramas"
   ]
  },
  {
   "cell_type": "code",
   "execution_count": null,
   "id": "b45d5c48",
   "metadata": {},
   "outputs": [],
   "source": [
    "# Plots multivariantes: scattered_matrix"
   ]
  },
  {
   "cell_type": "code",
   "execution_count": null,
   "id": "9e718d93",
   "metadata": {},
   "outputs": [],
   "source": [
    "# Verifica la correlación"
   ]
  },
  {
   "cell_type": "markdown",
   "id": "783cfdc0",
   "metadata": {},
   "source": [
    "###  3. Preparación de datos"
   ]
  },
  {
   "cell_type": "code",
   "execution_count": null,
   "id": "75415fc6",
   "metadata": {},
   "outputs": [],
   "source": [
    "# Limpia los datos"
   ]
  },
  {
   "cell_type": "code",
   "execution_count": null,
   "id": "13a0a106",
   "metadata": {},
   "outputs": [],
   "source": [
    "# Completa datos"
   ]
  },
  {
   "cell_type": "code",
   "execution_count": null,
   "id": "71fbf352",
   "metadata": {},
   "outputs": [],
   "source": [
    "# Separa las features del target"
   ]
  },
  {
   "cell_type": "code",
   "execution_count": 9,
   "id": "365a0ae1",
   "metadata": {},
   "outputs": [],
   "source": [
    "# Si condiseras que hay demasiadas variables aplica PCA"
   ]
  },
  {
   "cell_type": "code",
   "execution_count": null,
   "id": "b32d7a52",
   "metadata": {},
   "outputs": [],
   "source": [
    "# Separa variables categóricas de numéricas"
   ]
  },
  {
   "cell_type": "code",
   "execution_count": null,
   "id": "9c2fa7c8",
   "metadata": {},
   "outputs": [],
   "source": [
    "# Procesa las variables categóricas:One Hot Encoding y OrdinalEncoder"
   ]
  },
  {
   "cell_type": "code",
   "execution_count": 10,
   "id": "646a87d2",
   "metadata": {},
   "outputs": [],
   "source": [
    "# Procesa las variables numéricas"
   ]
  },
  {
   "cell_type": "code",
   "execution_count": null,
   "id": "1675fdd6",
   "metadata": {},
   "outputs": [],
   "source": [
    "# Genera el dataframe global"
   ]
  },
  {
   "cell_type": "markdown",
   "id": "5a51053c",
   "metadata": {},
   "source": [
    "### 4. Selecciona un modelo"
   ]
  },
  {
   "cell_type": "code",
   "execution_count": 4,
   "id": "24619acf",
   "metadata": {},
   "outputs": [],
   "source": [
    "# Define una lista de candidatos a probar para el problema"
   ]
  },
  {
   "cell_type": "code",
   "execution_count": 11,
   "id": "e0d18fd8",
   "metadata": {},
   "outputs": [],
   "source": [
    "# Selecciona un algoritmo"
   ]
  },
  {
   "cell_type": "code",
   "execution_count": null,
   "id": "011733e3",
   "metadata": {},
   "outputs": [],
   "source": [
    "# Define las métricas"
   ]
  },
  {
   "cell_type": "code",
   "execution_count": 5,
   "id": "f43d9dd3",
   "metadata": {},
   "outputs": [],
   "source": [
    "# Genera un análisis CV"
   ]
  },
  {
   "cell_type": "code",
   "execution_count": 6,
   "id": "e3bf505b",
   "metadata": {},
   "outputs": [],
   "source": [
    "# Verifica los errores de training y testing, así como el overfitting underfitting"
   ]
  },
  {
   "cell_type": "code",
   "execution_count": null,
   "id": "13cd4ace",
   "metadata": {},
   "outputs": [],
   "source": [
    "# Si es necesario aplica ingeniería de variables"
   ]
  },
  {
   "cell_type": "code",
   "execution_count": null,
   "id": "c9a4ac91",
   "metadata": {},
   "outputs": [],
   "source": [
    "# Buscar los mejores hiperparámetros para el modelo"
   ]
  },
  {
   "cell_type": "code",
   "execution_count": 8,
   "id": "b40b5eb9",
   "metadata": {},
   "outputs": [],
   "source": [
    "# Entrena tu modelo con los mejores hiperparámetros"
   ]
  },
  {
   "cell_type": "code",
   "execution_count": null,
   "id": "ac15f488",
   "metadata": {},
   "outputs": [],
   "source": [
    "# Repite este proceso para otros modelos candidatos"
   ]
  },
  {
   "cell_type": "markdown",
   "id": "8b674cbb",
   "metadata": {},
   "source": [
    "### 5. Publica el modelo"
   ]
  },
  {
   "cell_type": "code",
   "execution_count": null,
   "id": "bb1a32dd",
   "metadata": {},
   "outputs": [],
   "source": [
    "# Serializa el modelo"
   ]
  },
  {
   "cell_type": "code",
   "execution_count": null,
   "id": "39df3526",
   "metadata": {},
   "outputs": [],
   "source": [
    "# Carga tu modelo en una aplicación"
   ]
  }
 ],
 "metadata": {
  "kernelspec": {
   "display_name": "Python 3 (ipykernel)",
   "language": "python",
   "name": "python3"
  },
  "language_info": {
   "codemirror_mode": {
    "name": "ipython",
    "version": 3
   },
   "file_extension": ".py",
   "mimetype": "text/x-python",
   "name": "python",
   "nbconvert_exporter": "python",
   "pygments_lexer": "ipython3",
   "version": "3.9.13"
  }
 },
 "nbformat": 4,
 "nbformat_minor": 5
}
