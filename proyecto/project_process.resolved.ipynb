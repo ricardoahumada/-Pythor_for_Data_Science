{
 "cells": [
  {
   "cell_type": "markdown",
   "id": "b8bbd586",
   "metadata": {},
   "source": [
    "## PLANTEAMIENTO DEL PROBLEMA\n",
    "1. Somos parte de una empresa llamada SECOND CARS y vendemos coches usados.\n",
    "2. Durante un estudio reciente de la empresa, se observó que los vendedores no ponen el precio correctamente a los coches   'Chevrolet'. Algunos de los coches tienen un precio demasiado alto y otros tienen un precio muy bajo, lo que ha causado pérdidas sustanciales en el trimestre anterior.\n",
    "3. Para remediar esto, la dirección nos ha encargado crear un modelo que prediga de manera eficiente el precio de los automóviles con un error mínimo. De modo que sea útil para los vendedores al fijar correctamente el precio del automóvil."
   ]
  },
  {
   "cell_type": "markdown",
   "id": "013ca2a2",
   "metadata": {},
   "source": [
    "## PROCESO DE SOLUCIÓN"
   ]
  },
  {
   "cell_type": "markdown",
   "id": "b81c6235",
   "metadata": {},
   "source": [
    "###  1. Carga de datos"
   ]
  },
  {
   "cell_type": "code",
   "execution_count": null,
   "id": "4263ba7f",
   "metadata": {},
   "outputs": [],
   "source": [
    "import numpy as np \n",
    "import pandas as pd \n",
    "\n",
    "import warnings\n",
    "warnings.filterwarnings(\"ignore\")\n",
    "\n",
    "# Carga los datos\n",
    "df= pd.read_csv('car_price_data.csv')"
   ]
  },
  {
   "cell_type": "code",
   "execution_count": null,
   "id": "5fe7b84f",
   "metadata": {},
   "outputs": [],
   "source": [
    "# Entiende las dimensiones\n",
    "df.shape"
   ]
  },
  {
   "cell_type": "code",
   "execution_count": null,
   "id": "259b5686",
   "metadata": {},
   "outputs": [],
   "source": [
    "# Revisa las 100 primeras filas\n",
    "df.head()"
   ]
  },
  {
   "cell_type": "code",
   "execution_count": null,
   "id": "2cc8c8b7",
   "metadata": {},
   "outputs": [],
   "source": [
    "# Revisa las estadísticas\n",
    "df.describe()"
   ]
  },
  {
   "cell_type": "markdown",
   "id": "d8f18e39",
   "metadata": {},
   "source": [
    "###  2. Visualización de datos"
   ]
  },
  {
   "cell_type": "code",
   "execution_count": null,
   "id": "0320ca72",
   "metadata": {},
   "outputs": [],
   "source": [
    "# Plots univariantes: box and whisker\n",
    "df.plot(kind='box', subplots=True, layout=(2,4), sharex=False, sharey=False)"
   ]
  },
  {
   "cell_type": "code",
   "execution_count": null,
   "id": "5c78d944",
   "metadata": {},
   "outputs": [],
   "source": [
    "# Plots univariantes: histogramas\n",
    "df.hist()"
   ]
  },
  {
   "cell_type": "code",
   "execution_count": null,
   "id": "b45d5c48",
   "metadata": {},
   "outputs": [],
   "source": [
    "from pandas.plotting import scatter_matrix\n",
    "\n",
    "# Plots multivariantes: scattered_matrix\n",
    "scatter_matrix(df)"
   ]
  },
  {
   "cell_type": "code",
   "execution_count": null,
   "id": "9e718d93",
   "metadata": {},
   "outputs": [],
   "source": [
    "import matplotlib.pyplot as plt\n",
    "import seaborn as sns\n",
    "\n",
    "# Verifica la correlación\n",
    "f, ax = plt.subplots(figsize=(10, 8))\n",
    "corr = df.corr()\n",
    "sns.heatmap(corr, mask=np.zeros_like(corr, dtype=np.bool), cmap=sns.diverging_palette(220, 10, as_cmap=True),\n",
    "            square=True, ax=ax)"
   ]
  },
  {
   "cell_type": "code",
   "execution_count": null,
   "id": "f96baff2",
   "metadata": {},
   "outputs": [],
   "source": [
    "corr.style.background_gradient(cmap='coolwarm', axis=None)"
   ]
  },
  {
   "cell_type": "markdown",
   "id": "783cfdc0",
   "metadata": {},
   "source": [
    "###  3. Preparación de datos"
   ]
  },
  {
   "cell_type": "code",
   "execution_count": null,
   "id": "75415fc6",
   "metadata": {},
   "outputs": [],
   "source": [
    "# Limpia los datos\n",
    "df.isnull().sum()"
   ]
  },
  {
   "cell_type": "code",
   "execution_count": null,
   "id": "13a0a106",
   "metadata": {},
   "outputs": [],
   "source": [
    "# Completa datos"
   ]
  },
  {
   "cell_type": "code",
   "execution_count": null,
   "id": "71fbf352",
   "metadata": {},
   "outputs": [],
   "source": [
    "# Separa las features del target\n",
    "target = df[['price']]\n",
    "X = df[df.columns.drop('price')]"
   ]
  },
  {
   "cell_type": "code",
   "execution_count": null,
   "id": "d41be10c",
   "metadata": {},
   "outputs": [],
   "source": [
    "target.head()"
   ]
  },
  {
   "cell_type": "code",
   "execution_count": null,
   "id": "e3ea6daa",
   "metadata": {},
   "outputs": [],
   "source": [
    "X.head()"
   ]
  },
  {
   "cell_type": "code",
   "execution_count": null,
   "id": "365a0ae1",
   "metadata": {},
   "outputs": [],
   "source": [
    "# Si consideras que hay demasiadas variables aplica PCA"
   ]
  },
  {
   "cell_type": "code",
   "execution_count": null,
   "id": "d54d46f4",
   "metadata": {},
   "outputs": [],
   "source": [
    "# Separa variables categóricas de numéricas\n",
    "num_columns = X.select_dtypes(exclude='object').columns\n",
    "num_columns=num_columns.drop(pd.Index(['year']))\n",
    "cat_columns = X.select_dtypes(include='object').columns\n",
    "cat_columns=cat_columns.append(pd.Index(['year']))"
   ]
  },
  {
   "cell_type": "code",
   "execution_count": null,
   "id": "358bdeb9",
   "metadata": {},
   "outputs": [],
   "source": [
    "num_columns, cat_columns"
   ]
  },
  {
   "cell_type": "code",
   "execution_count": null,
   "id": "687e2830",
   "metadata": {},
   "outputs": [],
   "source": [
    "unordered_columns =['transmission', 'fuel_type']\n",
    "ordered_columns = ['year', 'model']"
   ]
  },
  {
   "cell_type": "code",
   "execution_count": null,
   "id": "9c2fa7c8",
   "metadata": {},
   "outputs": [],
   "source": [
    "from sklearn.preprocessing import OneHotEncoder \n",
    "\n",
    "# Procesa las variables categóricas:One Hot Encoding y OrdinalEncoder\n",
    "oh_encoder = OneHotEncoder(handle_unknown='ignore', sparse=False)\n",
    "oh_cols = pd.DataFrame(oh_encoder.fit_transform(df[unordered_columns]))\n",
    "oh_cols"
   ]
  },
  {
   "cell_type": "code",
   "execution_count": null,
   "id": "be486edc",
   "metadata": {},
   "outputs": [],
   "source": [
    "from sklearn.preprocessing import OrdinalEncoder\n",
    "\n",
    "ord_encoder = OrdinalEncoder()\n",
    "ord_cols = pd.DataFrame(ord_encoder.fit_transform(df[ordered_columns]))\n",
    "ord_cols"
   ]
  },
  {
   "cell_type": "code",
   "execution_count": null,
   "id": "646a87d2",
   "metadata": {},
   "outputs": [],
   "source": [
    "from sklearn.preprocessing import StandardScaler\n",
    "\n",
    "# Procesa las variables numéricas: StandardScaler\n",
    "df_num=df[num_columns]\n",
    "sc = StandardScaler()\n",
    "sc_cols = pd.DataFrame(sc.fit_transform(df[num_columns]),columns=num_columns)\n",
    "sc_cols"
   ]
  },
  {
   "cell_type": "code",
   "execution_count": null,
   "id": "a9c4d7b6",
   "metadata": {},
   "outputs": [],
   "source": [
    "# Genera el dataframe global\n",
    "X = pd.concat([oh_cols, ord_cols, sc_cols], axis = 1)\n",
    "X.head()"
   ]
  },
  {
   "cell_type": "markdown",
   "id": "5a51053c",
   "metadata": {},
   "source": [
    "### 4. Selecciona un modelo"
   ]
  },
  {
   "cell_type": "code",
   "execution_count": null,
   "id": "24619acf",
   "metadata": {},
   "outputs": [],
   "source": [
    "# Define una lista de candidatos a probar para el problema\n",
    "from sklearn.linear_model import LinearRegression\n",
    "from sklearn.ensemble import RandomForestRegressor \n",
    "from sklearn.tree import DecisionTreeRegressor\n",
    "from sklearn.svm import SVR\n",
    "from sklearn.svm import LinearSVR\n",
    "from sklearn.ensemble import GradientBoostingRegressor\n",
    "from sklearn.linear_model import ElasticNet"
   ]
  },
  {
   "cell_type": "code",
   "execution_count": null,
   "id": "e0d18fd8",
   "metadata": {},
   "outputs": [],
   "source": [
    "# Selecciona un algoritmo\n",
    "model = LinearRegression()"
   ]
  },
  {
   "cell_type": "code",
   "execution_count": null,
   "id": "011733e3",
   "metadata": {},
   "outputs": [],
   "source": [
    "# Define las métricas"
   ]
  },
  {
   "cell_type": "code",
   "execution_count": null,
   "id": "f43d9dd3",
   "metadata": {},
   "outputs": [],
   "source": [
    "from sklearn.model_selection import cross_validate,ShuffleSplit\n",
    "\n",
    "# Genera un análisis CV\n",
    "cv = ShuffleSplit(n_splits=30, test_size=0.2)\n",
    "\n",
    "metrics = ['neg_mean_absolute_error', 'r2']\n",
    "cv_results = cross_validate(model, X, target, cv=cv, scoring=metrics, return_train_score=True)\n",
    "cv_results = pd.DataFrame(cv_results)\n",
    "cv_results"
   ]
  },
  {
   "cell_type": "code",
   "execution_count": null,
   "id": "e3bf505b",
   "metadata": {},
   "outputs": [],
   "source": [
    "# Verifica los errores de training y testing, así como el overfitting underfitting\n",
    "import matplotlib.pyplot as plt\n",
    "\n",
    "scores = pd.DataFrame()\n",
    "scores[[\"train error\", \"test error\"]] = cv_results[[\"train_r2\", \"test_r2\"]]\n",
    "\n",
    "scores.plot.hist(bins=50, edgecolor=\"black\")\n",
    "plt.xlabel(\"r2\")\n",
    "_ = plt.title(\"Distribución de errores de training y prueba con CV\")"
   ]
  },
  {
   "cell_type": "markdown",
   "id": "86b5bee0",
   "metadata": {},
   "source": [
    "#### Otra manera"
   ]
  },
  {
   "cell_type": "code",
   "execution_count": null,
   "id": "f347649a",
   "metadata": {},
   "outputs": [],
   "source": [
    "from sklearn.model_selection import train_test_split\n",
    "\n",
    "X_train, X_test, y_train, y_test = train_test_split(X, target, test_size=0.2, random_state=1)"
   ]
  },
  {
   "cell_type": "code",
   "execution_count": null,
   "id": "36f8eb8e",
   "metadata": {},
   "outputs": [],
   "source": [
    "from sklearn.metrics import mean_squared_error\n",
    "\n",
    "### Function to test various models\n",
    "def score_dataset(X_train,X_valid,y_train,y_valid, input_model):\n",
    "    model = input_model\n",
    "    model.fit(X_train,y_train)\n",
    "    preds = model.predict(X_valid)\n",
    "    return np.sqrt(mean_squared_error(y_valid, preds))\n",
    "\n",
    "\n",
    "input_model = LinearRegression()\n",
    "print('LinearRegression:', score_dataset(X_train,X_test,y_train,y_test, input_model))\n",
    "\n",
    "input_model = RandomForestRegressor()\n",
    "print('RandomForestRegressor',score_dataset(X_train,X_test,y_train,y_test, input_model))\n",
    "\n",
    "input_model = DecisionTreeRegressor()\n",
    "print('DecisionTreeRegressor',score_dataset(X_train,X_test,y_train,y_test, input_model))\n",
    "\n",
    "input_model = SVR()\n",
    "print('SVR',score_dataset(X_train,X_test,y_train,y_test, input_model))\n",
    "\n",
    "input_model = LinearSVR()\n",
    "print('LinearSVR',score_dataset(X_train,X_test,y_train,y_test, input_model))\n",
    "\n",
    "input_model = GradientBoostingRegressor()\n",
    "print('GradientBoostingRegressor',score_dataset(X_train,X_test,y_train,y_test, input_model))\n",
    "\n",
    "input_model = ElasticNet()\n",
    "print('ElasticNet',score_dataset(X_train,X_test,y_train,y_test, input_model))\n"
   ]
  },
  {
   "cell_type": "code",
   "execution_count": null,
   "id": "13cd4ace",
   "metadata": {},
   "outputs": [],
   "source": [
    "# Si es necesario aplica ingeniería de variables"
   ]
  },
  {
   "cell_type": "code",
   "execution_count": null,
   "id": "c9a4ac91",
   "metadata": {},
   "outputs": [],
   "source": [
    "from sklearn.model_selection import GridSearchCV\n",
    "# Buscar los mejores hiperparámetros para el modelo\n",
    "elastic_net_parag_grid =  {\n",
    "                'alpha'     : [0.1,1,10,0.01,0.01,5],\n",
    "                'l1_ratio'  :  np.arange(0.40,1.00,0.10),\n",
    "            }\n",
    "\n",
    "elastic_net_regressor = ElasticNet()\n",
    "\n",
    "elastic_net_grid_search = GridSearchCV(\n",
    "    elastic_net_regressor,\n",
    "    param_grid=elastic_net_parag_grid,\n",
    "    cv = 5,\n",
    "    n_jobs=-1,\n",
    "    verbose=1\n",
    ")\n",
    "\n",
    "elastic_net_grid_search.fit(X_train,y_train)\n",
    "print('params:',elastic_net_grid_search.best_params_)\n",
    "\n",
    "preds = elastic_net_grid_search.best_estimator_.predict(X_test)\n",
    "\n",
    "final_test_score = np.sqrt(mean_squared_error(y_test, preds))\n",
    "\n",
    "print('final_test_score:',final_test_score)"
   ]
  },
  {
   "cell_type": "code",
   "execution_count": null,
   "id": "b40b5eb9",
   "metadata": {},
   "outputs": [],
   "source": [
    "# Entrena tu modelo con los mejores hiperparámetros\n",
    "final_model=elastic_net_regressor = ElasticNet(alpha=1,l1_ratio=0.6)\n",
    "final_model.fit(X_train,y_train)"
   ]
  },
  {
   "cell_type": "code",
   "execution_count": null,
   "id": "ac15f488",
   "metadata": {},
   "outputs": [],
   "source": [
    "# Repite este proceso para otros modelos candidatos"
   ]
  },
  {
   "cell_type": "markdown",
   "id": "8b674cbb",
   "metadata": {},
   "source": [
    "### 5. Publica el modelo"
   ]
  },
  {
   "cell_type": "code",
   "execution_count": null,
   "id": "bb1a32dd",
   "metadata": {},
   "outputs": [],
   "source": [
    "# Serializa el modelo\n",
    "import pickle\n",
    "pickle.dump(final_model, open('final_model.pkl','wb'))"
   ]
  },
  {
   "cell_type": "code",
   "execution_count": null,
   "id": "39df3526",
   "metadata": {},
   "outputs": [],
   "source": [
    "# Carga tu modelo en una aplicación\n",
    "model = pickle.load(open('final_model.pkl','rb'))\n",
    "model"
   ]
  }
 ],
 "metadata": {
  "kernelspec": {
   "display_name": "Python 3 (ipykernel)",
   "language": "python",
   "name": "python3"
  },
  "language_info": {
   "codemirror_mode": {
    "name": "ipython",
    "version": 3
   },
   "file_extension": ".py",
   "mimetype": "text/x-python",
   "name": "python",
   "nbconvert_exporter": "python",
   "pygments_lexer": "ipython3",
   "version": "3.9.13"
  }
 },
 "nbformat": 4,
 "nbformat_minor": 5
}
