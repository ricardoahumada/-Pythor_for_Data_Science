{
 "cells": [
  {
   "cell_type": "code",
   "execution_count": null,
   "id": "da81190e",
   "metadata": {},
   "outputs": [],
   "source": [
    "import warnings\n",
    "warnings.filterwarnings(\"ignore\")\n",
    "\n",
    "import pandas as pd\n",
    "import numpy as np\n",
    "import os\n",
    "\n",
    "from sklearn import preprocessing\n",
    "from sklearn.model_selection import train_test_split\n",
    "from sklearn.metrics import confusion_matrix, f1_score\n",
    "\n",
    "from sklearn.linear_model import LogisticRegression\n",
    "from sklearn.metrics import mean_squared_error, r2_score\n",
    "from sklearn import tree\n",
    "\n",
    "import matplotlib.pyplot as plt\n",
    "from itertools import product\n",
    "import seaborn as sns\n",
    "from tqdm import tqdm\n",
    "\n",
    "pd.set_option('display.float_format', lambda x: '%.3f' % x)"
   ]
  },
  {
   "cell_type": "markdown",
   "id": "e99eb169",
   "metadata": {},
   "source": [
    "# Regresión Logística"
   ]
  },
  {
   "cell_type": "markdown",
   "id": "1339d2d1",
   "metadata": {},
   "source": [
    "Algoritmo de CLASIFICACIÓN, que tradicionalmente es binario"
   ]
  },
  {
   "cell_type": "code",
   "execution_count": null,
   "id": "f16752c4",
   "metadata": {},
   "outputs": [],
   "source": [
    "df = pd.read_csv(os.getcwd() + \"\\\\data\\\\2008_small.csv\",nrows=100000)\n",
    "df = df[[\"AirTime\",\"Distance\",\"TaxiOut\",\"ArrDelay\",\"DepDelay\"]].dropna()\n",
    "\n",
    "X = df[df.columns[df.columns != \"ArrDelay\"]]\n",
    "filtro = df[\"ArrDelay\"] > 10 \n",
    "df[\"ArrDelay\"][filtro] = \"Delayed\"\n",
    "df[\"ArrDelay\"][filtro== False] = \"Not Delayed\"\n",
    "Y = df[\"ArrDelay\"]\n",
    "\n",
    "X_train, X_test, y_train, y_test = train_test_split(X, Y, test_size=.2, random_state=2)"
   ]
  },
  {
   "cell_type": "code",
   "execution_count": null,
   "id": "dc6c91cf",
   "metadata": {},
   "outputs": [],
   "source": [
    "clf = LogisticRegression(penalty = \"none\").fit(X_train, y_train)\n",
    "predicciones = clf.predict(X_test)"
   ]
  },
  {
   "cell_type": "code",
   "execution_count": null,
   "id": "31dc3290",
   "metadata": {
    "scrolled": false
   },
   "outputs": [],
   "source": [
    "confusion = confusion_matrix(y_test,predicciones)\n",
    "ax = sns.heatmap( confusion, annot=True,fmt='.6g',\n",
    "            xticklabels= clf.classes_, \n",
    "            yticklabels=clf.classes_)\n",
    "\n",
    "# bottom, top = ax.get_ylim()\n",
    "# ax.set_ylim(bottom + 0.5, top - 0.5)"
   ]
  },
  {
   "cell_type": "code",
   "execution_count": null,
   "id": "9472e18c",
   "metadata": {},
   "outputs": [],
   "source": [
    "y_test.value_counts() / len(y_test)"
   ]
  },
  {
   "cell_type": "code",
   "execution_count": null,
   "id": "f9fbddb0",
   "metadata": {},
   "outputs": [],
   "source": [
    "np.mean(predicciones == y_test)"
   ]
  },
  {
   "cell_type": "code",
   "execution_count": null,
   "id": "de94113e",
   "metadata": {
    "scrolled": false
   },
   "outputs": [],
   "source": [
    "f1_score(y_test, predicciones, average='macro')"
   ]
  },
  {
   "cell_type": "code",
   "execution_count": null,
   "id": "3d6c88c9",
   "metadata": {},
   "outputs": [],
   "source": [
    "clf.classes_"
   ]
  },
  {
   "cell_type": "code",
   "execution_count": null,
   "id": "ad498479",
   "metadata": {},
   "outputs": [],
   "source": [
    "predicciones"
   ]
  },
  {
   "cell_type": "code",
   "execution_count": null,
   "id": "9cb2c688",
   "metadata": {},
   "outputs": [],
   "source": [
    "clf.predict_proba(X_test).round(4)"
   ]
  },
  {
   "cell_type": "code",
   "execution_count": null,
   "id": "b3a32e16",
   "metadata": {},
   "outputs": [],
   "source": [
    "prob_delayed = clf.predict_proba(X_test)[:,0]\n",
    "\n",
    "delayedseguras = prob_delayed > 0.6\n",
    "notdelayedseguras = prob_delayed < 0.4\n",
    "torevise = (prob_delayed >= 0.4) & (prob_delayed <= 0.6)"
   ]
  },
  {
   "cell_type": "code",
   "execution_count": null,
   "id": "b646cd85",
   "metadata": {},
   "outputs": [],
   "source": [
    "X_test[delayedseguras]"
   ]
  },
  {
   "cell_type": "markdown",
   "id": "82c6e2e5",
   "metadata": {},
   "source": [
    "# Árbol de Regresión"
   ]
  },
  {
   "cell_type": "code",
   "execution_count": null,
   "id": "525fe1d9",
   "metadata": {},
   "outputs": [],
   "source": [
    "df = pd.read_csv(os.getcwd() + \"\\\\data\\\\2008_small.csv\",index_col = 0, nrows = 200000)"
   ]
  },
  {
   "cell_type": "code",
   "execution_count": null,
   "id": "424747b1",
   "metadata": {},
   "outputs": [],
   "source": [
    "df = df.dropna(subset = [\"ArrDelay\"])\n",
    "df = df[df.AirTime > 0]\n",
    "\n",
    "X = df[['AirTime','Distance','TaxiIn','TaxiOut', 'DepDelay']]\n",
    "Y = df[[\"ArrDelay\"]]"
   ]
  },
  {
   "cell_type": "code",
   "execution_count": null,
   "id": "c0e1e0a8",
   "metadata": {},
   "outputs": [],
   "source": [
    "X_train, X_test, y_train, y_test = train_test_split(X, Y, test_size=.2, random_state=2)\n",
    "\n",
    "arbol = tree.DecisionTreeRegressor()\n",
    "arbol = arbol.fit(X_train, y_train)\n",
    "\n",
    "prediccionesINTERNA = arbol.predict(X_train)\n",
    "print(\"R2 INTERNA: \",r2_score(y_train, prediccionesINTERNA))\n",
    "\n",
    "prediccionesEXTERNA = arbol.predict(X_test)\n",
    "print(\"R2 EXTERNA: \",r2_score(y_test, prediccionesEXTERNA))"
   ]
  },
  {
   "cell_type": "markdown",
   "id": "a47e6432",
   "metadata": {},
   "source": [
    "Ajuste de parámetros (ensayo y error)"
   ]
  },
  {
   "cell_type": "code",
   "execution_count": null,
   "id": "2ef8cab3",
   "metadata": {},
   "outputs": [],
   "source": [
    "X_train, X_test, y_train, y_test = train_test_split(X, Y, test_size=.2, random_state=2)"
   ]
  },
  {
   "cell_type": "code",
   "execution_count": null,
   "id": "978215b0",
   "metadata": {},
   "outputs": [],
   "source": [
    "arbol = tree.DecisionTreeRegressor(max_depth=10)\n",
    "arbol = arbol.fit(X_train, y_train)\n",
    "\n",
    "prediccionesINTERNA = arbol.predict(X_train)\n",
    "print(\"R2 INTERNA: \",r2_score(y_train, prediccionesINTERNA))\n",
    "\n",
    "prediccionesEXTERNA = arbol.predict(X_test)\n",
    "print(\"R2 EXTERNA: \",r2_score(y_test, prediccionesEXTERNA))"
   ]
  },
  {
   "cell_type": "markdown",
   "id": "1b46847c",
   "metadata": {},
   "source": [
    "### Ensayo de parámetros (más automatizado)"
   ]
  },
  {
   "cell_type": "markdown",
   "id": "2aad3b35",
   "metadata": {},
   "source": [
    "Estructura de guardado de datos (basada en una función de R, llamada expand.grid)"
   ]
  },
  {
   "cell_type": "code",
   "execution_count": null,
   "id": "9246cd83",
   "metadata": {},
   "outputs": [],
   "source": [
    "from itertools import product\n",
    "\n",
    "# Esta función no hace falta entenderla en detalle :)\n",
    "def expand_grid(dictionary):\n",
    "    return pd.DataFrame([row for row in product(*dictionary.values())], \n",
    "                       columns=dictionary.keys())\n",
    "\n",
    "parametros = {'semillas': range(0,15), # Vamos a hacer 10 conjuntos distintos de train/test\n",
    "              'profundidades': range(3,25,1), #Vamos a probar profundidades 1, 4, 7..\n",
    "              'splitter': [\"best\", \"random\"], #Y vamos a seleccionar la variable de cada partición de manera óptima / aleatoria\n",
    "              'R2': [np.nan]}\n",
    "\n",
    "dfparam = expand_grid(parametros) # Crea un dataframe con todas las combinaciones de parámetros\n",
    "dfparam.head(10)"
   ]
  },
  {
   "cell_type": "code",
   "execution_count": null,
   "id": "6707d89f",
   "metadata": {
    "scrolled": true
   },
   "outputs": [],
   "source": [
    "for semilla in tqdm(parametros[\"semillas\"]):\n",
    "    X_train, X_test, y_train, y_test = train_test_split(X, Y, test_size=.2, random_state=semilla)\n",
    "    for prof in parametros[\"profundidades\"]:\n",
    "        for split in parametros[\"splitter\"]:\n",
    "  \n",
    "            arbol = tree.DecisionTreeRegressor(max_depth=prof, splitter=split)\n",
    "            arbol = arbol.fit(X_train, y_train)\n",
    "\n",
    "            prediccionesEXTERNA = arbol.predict(X_test)\n",
    "            dfparam.loc[(dfparam.semillas == semilla) & (dfparam.profundidades == prof) & (dfparam.splitter == split),\"R2\"] = r2_score(y_test, prediccionesEXTERNA)\n"
   ]
  },
  {
   "cell_type": "code",
   "execution_count": null,
   "id": "72083030",
   "metadata": {},
   "outputs": [],
   "source": [
    "for i in tqdm(range(dfparam.shape[0])):\n",
    "    X_train, X_test, y_train, y_test = train_test_split(X, Y, test_size=.2, \n",
    "                                                        random_state=dfparam.loc[i,\"semillas\"])\n",
    "    \n",
    "    arbol = tree.DecisionTreeRegressor(max_depth=dfparam.loc[i,\"profundidades\"], \n",
    "                                       splitter=dfparam.loc[i,\"splitter\"])\n",
    "    arbol = arbol.fit(X_train, y_train)\n",
    "\n",
    "    prediccionesEXTERNA = arbol.predict(X_test)\n",
    "    dfparam.loc[i,\"R2\"] = r2_score(y_test, prediccionesEXTERNA)\n"
   ]
  },
  {
   "cell_type": "code",
   "execution_count": null,
   "id": "335911af",
   "metadata": {},
   "outputs": [],
   "source": [
    "dfparam.sort_values(\"R2\",ascending=False)"
   ]
  },
  {
   "cell_type": "code",
   "execution_count": null,
   "id": "a69c15f6",
   "metadata": {},
   "outputs": [],
   "source": [
    "dfparam.groupby(\"profundidades\").mean()[\"R2\"]"
   ]
  },
  {
   "cell_type": "code",
   "execution_count": null,
   "id": "1454df6b",
   "metadata": {},
   "outputs": [],
   "source": [
    "dfparam.groupby(\"splitter\").mean()[\"R2\"].sort_values(ascending=False)"
   ]
  },
  {
   "cell_type": "code",
   "execution_count": null,
   "id": "494796f5",
   "metadata": {},
   "outputs": [],
   "source": [
    "dfparam.groupby(\"semillas\").mean()[\"R2\"].sort_values(ascending=False)"
   ]
  },
  {
   "cell_type": "code",
   "execution_count": null,
   "id": "3886ef22",
   "metadata": {},
   "outputs": [],
   "source": [
    "dfparam.groupby([\"profundidades\",\"splitter\"]).mean()[\"R2\"]"
   ]
  },
  {
   "cell_type": "code",
   "execution_count": null,
   "id": "7372a2e0",
   "metadata": {},
   "outputs": [],
   "source": [
    "dfparam.sort_values(\"R2\",ascending=False).head(20)"
   ]
  },
  {
   "cell_type": "code",
   "execution_count": null,
   "id": "376cbdcb",
   "metadata": {},
   "outputs": [],
   "source": [
    "dfparam.sort_values(\"R2\",ascending=False).tail(20)"
   ]
  },
  {
   "cell_type": "markdown",
   "id": "12a99c18",
   "metadata": {},
   "source": [
    "# Ejercicios"
   ]
  },
  {
   "cell_type": "code",
   "execution_count": null,
   "id": "96b39c7c",
   "metadata": {
    "scrolled": false
   },
   "outputs": [],
   "source": [
    "sns.load_dataset(\"mpg\")"
   ]
  },
  {
   "cell_type": "code",
   "execution_count": null,
   "id": "ef8692cc",
   "metadata": {
    "scrolled": true
   },
   "outputs": [],
   "source": [
    "from sklearn.preprocessing import PolynomialFeatures\n",
    "from itertools import product\n",
    "df = pd.read_excel(\"data\\cars.xlsx\", index_col=0).dropna() #Carga de datos (limpios)\n",
    "df = df.reset_index() #Evitamos que aparezcan índices sin datos en el dataframe\n",
    "\n",
    "# Importación de una función personalizada que permite conseguir un dataframe con todas las combinaciones de parámetros (requiere un diccionario)\n",
    "def expand_grid(dictionary):\n",
    "    return pd.DataFrame([row for row in product(*dictionary.values())], columns=dictionary.keys())\n",
    "\n",
    "#Dummies\n",
    "df[\"cylinders_cat\"] = df[\"cylinders\"].astype(\"str\") # Conversión a string de las variables numéricas que queremos convertir a dummies\n",
    "df[\"model_year_cat\"] = df[\"model_year\"].astype(\"str\")\n",
    "df[\"interaccion\"] =  df[\"model_year_cat\"] + \" \" + df[\"cylinders_cat\"] # Interacción entre variables categóricas\n",
    "dummies = pd.get_dummies(df[[\"origin\",\"interaccion\"]]) # Conversión a dummies de las variables categóricas\n",
    "\n",
    "Y = df[[\"mpg\"]] # Selección de la variable respuesta\n",
    "X = df[[\"displacement\",\"horsepower\",\"weight\",\"acceleration\",\"model_year\",\"cylinders\"]] #Selección de las variables numéricas explicativas\n",
    "\n",
    "# Escalado\n",
    "transformados = preprocessing.scale(X) # Escalado de datos (no se guardan)\n",
    "#X = pd.DataFrame(transformados, columns = X.columns) # Descomentar si queremos escalar datos numéricos\n",
    "\n",
    "# Polinomios\n",
    "poly = PolynomialFeatures(interaction_only=True) # Creo las interacciones entre variables numéricas\n",
    "X_poly = poly.fit_transform(X) # Creo la variable con las interacciones\n",
    "X = pd.DataFrame(X_poly, columns = poly.get_feature_names(X.columns)) #Sobreescribo X\n",
    "X = pd.concat([X,dummies],axis = 1) # Descomentar si queremos añadir dummies\n",
    "\n",
    "#Creamos el dataframe con las combinaciones de parámetros y semillas que queremos probar\n",
    "parametros = {'semillas': range(0,20),'profundidades': range(2,30,1),'splitter': [\"best\", \"random\"],'R2': [np.nan]}\n",
    "dfparam = expand_grid(parametros) \n",
    "\n",
    "# Entrenamos y evaluamos todas las combinaciones! (bucle por filas del dataframe de parámetros)\n",
    "for i in tqdm(range(dfparam.shape[0])):\n",
    "    #Creamos el conjunto train test con la semilla correspondiente\n",
    "    X_train, X_test, y_train, y_test = train_test_split(X, Y, test_size=.2, \n",
    "                                                        random_state=dfparam.loc[i,\"semillas\"])\n",
    "    \n",
    "    # Creamos el árbol con los parámetros que le corresponden\n",
    "    arbol = tree.DecisionTreeRegressor(max_depth=dfparam.loc[i,\"profundidades\"], \n",
    "                                       splitter=dfparam.loc[i,\"splitter\"],random_state=1)\n",
    "    arbol = arbol.fit(X_train, y_train) # Ajustamos el árbol con los datos\n",
    "\n",
    "    prediccionesEXTERNA = arbol.predict(X_test) # Hacemos las predicciones con los datos que el modelo aún no ha visto\n",
    "    dfparam.loc[i,\"R2\"] = r2_score(y_test, prediccionesEXTERNA) # Añadimos al dataframe los resultados del R2 externo\n",
    "\n",
    "# Mostramos las mejores combinaciones de parámetros y semilla\n",
    "resultados = dfparam.groupby([\"profundidades\",\"splitter\"]).mean().sort_values(\"R2\",ascending = False)[\"R2\"]\n",
    "resultados"
   ]
  },
  {
   "cell_type": "code",
   "execution_count": null,
   "id": "ea8425af",
   "metadata": {},
   "outputs": [],
   "source": [
    "resultados.index[0]"
   ]
  },
  {
   "cell_type": "code",
   "execution_count": null,
   "id": "43966731",
   "metadata": {},
   "outputs": [],
   "source": [
    "resultados.index[0]\n",
    "\n",
    "arbol = tree.DecisionTreeRegressor(max_depth=resultados.index[0][0], \n",
    "                                   splitter=resultados.index[0][1],\n",
    "                                   random_state=1)\n",
    "arbol = arbol.fit(X, Y)"
   ]
  },
  {
   "cell_type": "markdown",
   "id": "2553b91e",
   "metadata": {},
   "source": [
    "1. Estudia el dataframe, se llama mpg, puedes buscar qué significan exactamente las variables, y hacer una descripción (numérica y gráfica) de las que te parezcan más relevantes"
   ]
  },
  {
   "cell_type": "code",
   "execution_count": null,
   "id": "d954d449",
   "metadata": {},
   "outputs": [],
   "source": []
  },
  {
   "cell_type": "markdown",
   "id": "c6706b47",
   "metadata": {},
   "source": [
    "2. Ajusta un modelo predictivo sencillo para el el consumo del coche (mpg). Evalúa su potencial predictivo tanto interna como externamente"
   ]
  },
  {
   "cell_type": "code",
   "execution_count": null,
   "id": "6d4109a9",
   "metadata": {},
   "outputs": [],
   "source": []
  },
  {
   "cell_type": "markdown",
   "id": "680e2a02",
   "metadata": {},
   "source": [
    "3. Ajusta algunos de los parámetros que conocemos (o alguno nuevo) para intentar mejorar las predicciones"
   ]
  },
  {
   "cell_type": "code",
   "execution_count": null,
   "id": "4275279a",
   "metadata": {},
   "outputs": [],
   "source": []
  },
  {
   "cell_type": "markdown",
   "id": "e91c1325",
   "metadata": {},
   "source": [
    "4. Ajusta los parámetros que creas convenientes (o explora algunos nuevos), intenta replicar una estructura de tipo bucle para hacerlo, mostrando los mejores resultados que hayas encontrado"
   ]
  },
  {
   "cell_type": "code",
   "execution_count": null,
   "id": "4e830b44",
   "metadata": {},
   "outputs": [],
   "source": []
  },
  {
   "cell_type": "markdown",
   "id": "f2ac6e30",
   "metadata": {},
   "source": [
    "### Clasificación "
   ]
  },
  {
   "cell_type": "markdown",
   "id": "28b5033c",
   "metadata": {},
   "source": [
    "1. Ajusta un modelo predictivo para el origen de los coches, o categoriza una variable como el consumo o el peso de los coches"
   ]
  },
  {
   "cell_type": "code",
   "execution_count": null,
   "id": "6a0cc78f",
   "metadata": {},
   "outputs": [],
   "source": []
  },
  {
   "cell_type": "markdown",
   "id": "3a8c01eb",
   "metadata": {},
   "source": [
    "2. Evalúa el modelo predictivo de varias formas"
   ]
  },
  {
   "cell_type": "code",
   "execution_count": null,
   "id": "e86b28a5",
   "metadata": {},
   "outputs": [],
   "source": []
  },
  {
   "cell_type": "markdown",
   "id": "59f1cd53",
   "metadata": {},
   "source": [
    "3. Ajusta los parámetros que creas convenientes, intenta replicar una estructura de tipo bucle para hacerlo, mostrando los mejores resultados que hayas encontrado"
   ]
  },
  {
   "cell_type": "code",
   "execution_count": null,
   "id": "04caa177",
   "metadata": {},
   "outputs": [],
   "source": []
  },
  {
   "cell_type": "markdown",
   "id": "0832ed4e",
   "metadata": {},
   "source": [
    "4. Compara distintos modelos de clasificación, cuál funciona mejor?"
   ]
  },
  {
   "cell_type": "code",
   "execution_count": null,
   "id": "1e7a3a16",
   "metadata": {},
   "outputs": [],
   "source": []
  },
  {
   "cell_type": "markdown",
   "id": "182e74a4",
   "metadata": {},
   "source": [
    "### Clustering"
   ]
  },
  {
   "cell_type": "markdown",
   "id": "6fd83bc3",
   "metadata": {},
   "source": [
    "1. Intenta agrupar los coches usando el algoritmo DBSCAN"
   ]
  },
  {
   "cell_type": "code",
   "execution_count": null,
   "id": "aade2917",
   "metadata": {},
   "outputs": [],
   "source": []
  },
  {
   "cell_type": "markdown",
   "id": "d08d9c78",
   "metadata": {},
   "source": [
    "2. Representa gráficamente los resultados, qué cantidad de grupos te parecen razonables?"
   ]
  },
  {
   "cell_type": "code",
   "execution_count": null,
   "id": "a8ee0b0a",
   "metadata": {},
   "outputs": [],
   "source": []
  },
  {
   "cell_type": "markdown",
   "id": "d8e594bf",
   "metadata": {},
   "source": [
    "3. Juega con el parámetro eps a ver qué diferencias se observan"
   ]
  },
  {
   "cell_type": "code",
   "execution_count": null,
   "id": "9bb56637",
   "metadata": {},
   "outputs": [],
   "source": []
  },
  {
   "cell_type": "markdown",
   "id": "ab3601c5",
   "metadata": {},
   "source": [
    "4. Compara con los demás algoritmos de clústering que hemos visto!"
   ]
  },
  {
   "cell_type": "code",
   "execution_count": null,
   "id": "eba75ee0",
   "metadata": {},
   "outputs": [],
   "source": []
  },
  {
   "cell_type": "markdown",
   "id": "7e13732a",
   "metadata": {},
   "source": [
    "5. Hay alguna correspondencia entre los grupos generados y la variable \"origin\"?"
   ]
  },
  {
   "cell_type": "code",
   "execution_count": null,
   "id": "bb5a067b",
   "metadata": {},
   "outputs": [],
   "source": []
  }
 ],
 "metadata": {
  "kernelspec": {
   "display_name": "Python 3 (ipykernel)",
   "language": "python",
   "name": "python3"
  },
  "language_info": {
   "codemirror_mode": {
    "name": "ipython",
    "version": 3
   },
   "file_extension": ".py",
   "mimetype": "text/x-python",
   "name": "python",
   "nbconvert_exporter": "python",
   "pygments_lexer": "ipython3",
   "version": "3.9.13"
  }
 },
 "nbformat": 4,
 "nbformat_minor": 5
}
