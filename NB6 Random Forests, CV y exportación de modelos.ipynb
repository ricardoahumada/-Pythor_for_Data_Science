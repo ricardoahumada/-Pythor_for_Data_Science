{
 "cells": [
  {
   "cell_type": "code",
   "execution_count": 1,
   "metadata": {},
   "outputs": [],
   "source": [
    "#### Paquetes\n",
    "\n",
    "import pandas as pd\n",
    "import numpy as np\n",
    "import seaborn as sns\n",
    "import matplotlib.pyplot as plt\n",
    "import pickle\n",
    "import os\n",
    "\n",
    "from sklearn import tree\n",
    "from sklearn.preprocessing import StandardScaler \n",
    "from sklearn.model_selection import GridSearchCV\n",
    "from sklearn.preprocessing import PolynomialFeatures\n",
    "from sklearn.ensemble import RandomForestClassifier\n",
    "from sklearn.model_selection import train_test_split\n",
    "\n",
    "\n",
    "import warnings\n",
    "warnings.filterwarnings(\"ignore\")"
   ]
  },
  {
   "cell_type": "markdown",
   "metadata": {},
   "source": [
    "# Random Forests\n",
    "\n",
    "A continuación vamos a ver uno de los algoritmos de clasificación/regresión más populares, que sin ser de los más avanzados, como redes neuronales/xgboost, permite buenos resultados, basados en la aleatorización de árboles de decisión binarios, tanto por filas (registros) como por columnas (variables). El conjunto de árboles, llamado bosque, permite un poder predictivo muy alto a la vez que evita el sobreajuste."
   ]
  },
  {
   "cell_type": "code",
   "execution_count": 3,
   "metadata": {},
   "outputs": [
    {
     "data": {
      "text/plain": [
       "0.42916666666666664"
      ]
     },
     "execution_count": 3,
     "metadata": {},
     "output_type": "execute_result"
    }
   ],
   "source": [
    "dfcomplete = pd.read_csv(os.getcwd() + \"\\\\data\\\\2008_small.csv\", nrows = 200000)\n",
    "\n",
    "dfcomplete = dfcomplete.dropna(subset = ['AirTime','Distance','TaxiIn','TaxiOut',\"DepDelay\",\"ArrDelay\"])\n",
    "df = dfcomplete.sample(frac=1).head(30000)\n",
    "\n",
    "X = df[['AirTime','Distance','TaxiIn','TaxiOut',\"DepDelay\"]]\n",
    "Y = df[\"ArrDelay\"] > 0\n",
    "\n",
    "X_train, X_test, y_train, y_test = train_test_split(X, Y, test_size=.2, random_state=1)\n",
    "\n",
    "np.mean(y_test) # 43.33 % vuelos tarde // 56.67 % vuelos pronto"
   ]
  },
  {
   "cell_type": "markdown",
   "metadata": {},
   "source": [
    "#### Caso sencillo. Árbol de clasificación\n",
    "Un solo árbol, determinista para hacer la predicción"
   ]
  },
  {
   "cell_type": "code",
   "execution_count": 12,
   "metadata": {
    "scrolled": true
   },
   "outputs": [
    {
     "data": {
      "text/plain": [
       "0.7986666666666666"
      ]
     },
     "execution_count": 12,
     "metadata": {},
     "output_type": "execute_result"
    }
   ],
   "source": [
    "clf = tree.DecisionTreeClassifier()\n",
    "clf.fit(X_train,y_train)\n",
    "predictions = clf.predict(X_test)\n",
    "np.mean(predictions == y_test)"
   ]
  },
  {
   "cell_type": "markdown",
   "metadata": {},
   "source": [
    "#### Random forest\n",
    "\n",
    "https://scikit-learn.org/stable/modules/generated/sklearn.ensemble.RandomForestClassifier.html"
   ]
  },
  {
   "cell_type": "code",
   "execution_count": 13,
   "metadata": {},
   "outputs": [
    {
     "data": {
      "text/plain": [
       "0.85"
      ]
     },
     "execution_count": 13,
     "metadata": {},
     "output_type": "execute_result"
    }
   ],
   "source": [
    "clf = RandomForestClassifier(n_estimators=1000, max_depth = None, n_jobs= -1)\n",
    "clf.fit(X_train,y_train)\n",
    "predictions = clf.predict(X_test)\n",
    "np.mean(predictions == y_test)"
   ]
  },
  {
   "cell_type": "markdown",
   "metadata": {},
   "source": [
    "Clasificar la importancia de las variables"
   ]
  },
  {
   "cell_type": "code",
   "execution_count": 14,
   "metadata": {},
   "outputs": [
    {
     "data": {
      "text/plain": [
       "Index(['AirTime', 'Distance', 'TaxiIn', 'TaxiOut', 'DepDelay'], dtype='object')"
      ]
     },
     "execution_count": 14,
     "metadata": {},
     "output_type": "execute_result"
    }
   ],
   "source": [
    "X.columns"
   ]
  },
  {
   "cell_type": "code",
   "execution_count": 15,
   "metadata": {},
   "outputs": [
    {
     "data": {
      "text/plain": [
       "array([0.14062443, 0.156222  , 0.08850011, 0.17407964, 0.44057383])"
      ]
     },
     "execution_count": 15,
     "metadata": {},
     "output_type": "execute_result"
    }
   ],
   "source": [
    "clf.feature_importances_"
   ]
  },
  {
   "cell_type": "code",
   "execution_count": 16,
   "metadata": {},
   "outputs": [
    {
     "data": {
      "text/plain": [
       "0.9999999999999998"
      ]
     },
     "execution_count": 16,
     "metadata": {},
     "output_type": "execute_result"
    }
   ],
   "source": [
    "clf.feature_importances_.sum()"
   ]
  },
  {
   "cell_type": "markdown",
   "metadata": {},
   "source": [
    "Ranking de variables"
   ]
  },
  {
   "cell_type": "code",
   "execution_count": 17,
   "metadata": {},
   "outputs": [
    {
     "data": {
      "text/plain": [
       "Index(['DepDelay', 'TaxiOut', 'Distance', 'AirTime', 'TaxiIn'], dtype='object')"
      ]
     },
     "execution_count": 17,
     "metadata": {},
     "output_type": "execute_result"
    }
   ],
   "source": [
    "X.columns[np.argsort(-clf.feature_importances_)]"
   ]
  },
  {
   "cell_type": "code",
   "execution_count": 18,
   "metadata": {},
   "outputs": [
    {
     "data": {
      "text/html": [
       "<div>\n",
       "<style scoped>\n",
       "    .dataframe tbody tr th:only-of-type {\n",
       "        vertical-align: middle;\n",
       "    }\n",
       "\n",
       "    .dataframe tbody tr th {\n",
       "        vertical-align: top;\n",
       "    }\n",
       "\n",
       "    .dataframe thead th {\n",
       "        text-align: right;\n",
       "    }\n",
       "</style>\n",
       "<table border=\"1\" class=\"dataframe\">\n",
       "  <thead>\n",
       "    <tr style=\"text-align: right;\">\n",
       "      <th></th>\n",
       "      <th>Col</th>\n",
       "      <th>Imp</th>\n",
       "    </tr>\n",
       "  </thead>\n",
       "  <tbody>\n",
       "    <tr>\n",
       "      <th>4</th>\n",
       "      <td>DepDelay</td>\n",
       "      <td>0.440574</td>\n",
       "    </tr>\n",
       "    <tr>\n",
       "      <th>3</th>\n",
       "      <td>TaxiOut</td>\n",
       "      <td>0.174080</td>\n",
       "    </tr>\n",
       "    <tr>\n",
       "      <th>1</th>\n",
       "      <td>Distance</td>\n",
       "      <td>0.156222</td>\n",
       "    </tr>\n",
       "    <tr>\n",
       "      <th>0</th>\n",
       "      <td>AirTime</td>\n",
       "      <td>0.140624</td>\n",
       "    </tr>\n",
       "    <tr>\n",
       "      <th>2</th>\n",
       "      <td>TaxiIn</td>\n",
       "      <td>0.088500</td>\n",
       "    </tr>\n",
       "  </tbody>\n",
       "</table>\n",
       "</div>"
      ],
      "text/plain": [
       "        Col       Imp\n",
       "4  DepDelay  0.440574\n",
       "3   TaxiOut  0.174080\n",
       "1  Distance  0.156222\n",
       "0   AirTime  0.140624\n",
       "2    TaxiIn  0.088500"
      ]
     },
     "execution_count": 18,
     "metadata": {},
     "output_type": "execute_result"
    }
   ],
   "source": [
    "pd.DataFrame({\"Col\":X.columns,\"Imp\":clf.feature_importances_}).sort_values(\"Imp\", ascending = False)"
   ]
  },
  {
   "cell_type": "code",
   "execution_count": 10,
   "metadata": {},
   "outputs": [
    {
     "data": {
      "text/plain": [
       "array([[0.802, 0.198],\n",
       "       [0.04 , 0.96 ],\n",
       "       [0.678, 0.322],\n",
       "       ...,\n",
       "       [0.816, 0.184],\n",
       "       [0.899, 0.101],\n",
       "       [0.995, 0.005]])"
      ]
     },
     "execution_count": 10,
     "metadata": {},
     "output_type": "execute_result"
    }
   ],
   "source": [
    "clf.predict_proba(X_test).round(3)"
   ]
  },
  {
   "cell_type": "markdown",
   "metadata": {},
   "source": [
    "### Ajuste automático del random forest"
   ]
  },
  {
   "cell_type": "markdown",
   "metadata": {},
   "source": [
    "Una optimización de parámetros más eficiente que en los ejemplos anteriores"
   ]
  },
  {
   "cell_type": "code",
   "execution_count": 22,
   "metadata": {
    "scrolled": true
   },
   "outputs": [
    {
     "name": "stdout",
     "output_type": "stream",
     "text": [
      "Fitting 5 folds for each of 48 candidates, totalling 240 fits\n",
      "[CV 1/5] END bootstrap=True, max_depth=5, max_features=1, n_estimators=50;, score=0.830 total time=   0.0s\n",
      "[CV 2/5] END bootstrap=True, max_depth=5, max_features=1, n_estimators=50;, score=0.837 total time=   0.0s\n",
      "[CV 3/5] END bootstrap=True, max_depth=5, max_features=1, n_estimators=50;, score=0.829 total time=   0.0s\n",
      "[CV 4/5] END bootstrap=True, max_depth=5, max_features=1, n_estimators=50;, score=0.828 total time=   0.0s\n",
      "[CV 5/5] END bootstrap=True, max_depth=5, max_features=1, n_estimators=50;, score=0.838 total time=   0.0s\n",
      "[CV 1/5] END bootstrap=True, max_depth=5, max_features=1, n_estimators=200;, score=0.830 total time=   0.2s\n",
      "[CV 2/5] END bootstrap=True, max_depth=5, max_features=1, n_estimators=200;, score=0.842 total time=   0.2s\n",
      "[CV 3/5] END bootstrap=True, max_depth=5, max_features=1, n_estimators=200;, score=0.830 total time=   0.2s\n",
      "[CV 4/5] END bootstrap=True, max_depth=5, max_features=1, n_estimators=200;, score=0.828 total time=   0.2s\n",
      "[CV 5/5] END bootstrap=True, max_depth=5, max_features=1, n_estimators=200;, score=0.837 total time=   0.1s\n",
      "[CV 1/5] END bootstrap=True, max_depth=5, max_features=1, n_estimators=500;, score=0.832 total time=   0.5s\n",
      "[CV 2/5] END bootstrap=True, max_depth=5, max_features=1, n_estimators=500;, score=0.842 total time=   0.4s\n",
      "[CV 3/5] END bootstrap=True, max_depth=5, max_features=1, n_estimators=500;, score=0.830 total time=   0.4s\n",
      "[CV 4/5] END bootstrap=True, max_depth=5, max_features=1, n_estimators=500;, score=0.829 total time=   0.4s\n",
      "[CV 5/5] END bootstrap=True, max_depth=5, max_features=1, n_estimators=500;, score=0.836 total time=   0.5s\n",
      "[CV 1/5] END bootstrap=True, max_depth=5, max_features=3, n_estimators=50;, score=0.834 total time=   0.0s\n",
      "[CV 2/5] END bootstrap=True, max_depth=5, max_features=3, n_estimators=50;, score=0.843 total time=   0.0s\n",
      "[CV 3/5] END bootstrap=True, max_depth=5, max_features=3, n_estimators=50;, score=0.833 total time=   0.0s\n",
      "[CV 4/5] END bootstrap=True, max_depth=5, max_features=3, n_estimators=50;, score=0.827 total time=   0.0s\n",
      "[CV 5/5] END bootstrap=True, max_depth=5, max_features=3, n_estimators=50;, score=0.838 total time=   0.0s\n",
      "[CV 1/5] END bootstrap=True, max_depth=5, max_features=3, n_estimators=200;, score=0.836 total time=   0.2s\n",
      "[CV 2/5] END bootstrap=True, max_depth=5, max_features=3, n_estimators=200;, score=0.842 total time=   0.2s\n",
      "[CV 3/5] END bootstrap=True, max_depth=5, max_features=3, n_estimators=200;, score=0.833 total time=   0.2s\n",
      "[CV 4/5] END bootstrap=True, max_depth=5, max_features=3, n_estimators=200;, score=0.829 total time=   0.2s\n",
      "[CV 5/5] END bootstrap=True, max_depth=5, max_features=3, n_estimators=200;, score=0.839 total time=   0.2s\n",
      "[CV 1/5] END bootstrap=True, max_depth=5, max_features=3, n_estimators=500;, score=0.836 total time=   0.7s\n",
      "[CV 2/5] END bootstrap=True, max_depth=5, max_features=3, n_estimators=500;, score=0.842 total time=   0.6s\n",
      "[CV 3/5] END bootstrap=True, max_depth=5, max_features=3, n_estimators=500;, score=0.832 total time=   0.6s\n",
      "[CV 4/5] END bootstrap=True, max_depth=5, max_features=3, n_estimators=500;, score=0.829 total time=   0.6s\n",
      "[CV 5/5] END bootstrap=True, max_depth=5, max_features=3, n_estimators=500;, score=0.838 total time=   0.6s\n",
      "[CV 1/5] END bootstrap=True, max_depth=10, max_features=1, n_estimators=50;, score=0.841 total time=   0.0s\n",
      "[CV 2/5] END bootstrap=True, max_depth=10, max_features=1, n_estimators=50;, score=0.847 total time=   0.0s\n",
      "[CV 3/5] END bootstrap=True, max_depth=10, max_features=1, n_estimators=50;, score=0.839 total time=   0.0s\n",
      "[CV 4/5] END bootstrap=True, max_depth=10, max_features=1, n_estimators=50;, score=0.835 total time=   0.0s\n",
      "[CV 5/5] END bootstrap=True, max_depth=10, max_features=1, n_estimators=50;, score=0.843 total time=   0.0s\n",
      "[CV 1/5] END bootstrap=True, max_depth=10, max_features=1, n_estimators=200;, score=0.840 total time=   0.2s\n",
      "[CV 2/5] END bootstrap=True, max_depth=10, max_features=1, n_estimators=200;, score=0.849 total time=   0.2s\n",
      "[CV 3/5] END bootstrap=True, max_depth=10, max_features=1, n_estimators=200;, score=0.839 total time=   0.2s\n",
      "[CV 4/5] END bootstrap=True, max_depth=10, max_features=1, n_estimators=200;, score=0.838 total time=   0.2s\n",
      "[CV 5/5] END bootstrap=True, max_depth=10, max_features=1, n_estimators=200;, score=0.846 total time=   0.2s\n",
      "[CV 1/5] END bootstrap=True, max_depth=10, max_features=1, n_estimators=500;, score=0.841 total time=   0.5s\n",
      "[CV 2/5] END bootstrap=True, max_depth=10, max_features=1, n_estimators=500;, score=0.847 total time=   0.5s\n",
      "[CV 3/5] END bootstrap=True, max_depth=10, max_features=1, n_estimators=500;, score=0.842 total time=   0.5s\n",
      "[CV 4/5] END bootstrap=True, max_depth=10, max_features=1, n_estimators=500;, score=0.836 total time=   0.5s\n",
      "[CV 5/5] END bootstrap=True, max_depth=10, max_features=1, n_estimators=500;, score=0.846 total time=   0.6s\n",
      "[CV 1/5] END bootstrap=True, max_depth=10, max_features=3, n_estimators=50;, score=0.841 total time=   0.0s\n",
      "[CV 2/5] END bootstrap=True, max_depth=10, max_features=3, n_estimators=50;, score=0.847 total time=   0.0s\n",
      "[CV 3/5] END bootstrap=True, max_depth=10, max_features=3, n_estimators=50;, score=0.841 total time=   0.0s\n",
      "[CV 4/5] END bootstrap=True, max_depth=10, max_features=3, n_estimators=50;, score=0.841 total time=   0.0s\n",
      "[CV 5/5] END bootstrap=True, max_depth=10, max_features=3, n_estimators=50;, score=0.841 total time=   0.0s\n",
      "[CV 1/5] END bootstrap=True, max_depth=10, max_features=3, n_estimators=200;, score=0.842 total time=   0.3s\n",
      "[CV 2/5] END bootstrap=True, max_depth=10, max_features=3, n_estimators=200;, score=0.848 total time=   0.3s\n",
      "[CV 3/5] END bootstrap=True, max_depth=10, max_features=3, n_estimators=200;, score=0.842 total time=   0.3s\n",
      "[CV 4/5] END bootstrap=True, max_depth=10, max_features=3, n_estimators=200;, score=0.840 total time=   0.3s\n",
      "[CV 5/5] END bootstrap=True, max_depth=10, max_features=3, n_estimators=200;, score=0.842 total time=   0.3s\n",
      "[CV 1/5] END bootstrap=True, max_depth=10, max_features=3, n_estimators=500;, score=0.841 total time=   0.8s\n",
      "[CV 2/5] END bootstrap=True, max_depth=10, max_features=3, n_estimators=500;, score=0.848 total time=   0.9s\n",
      "[CV 3/5] END bootstrap=True, max_depth=10, max_features=3, n_estimators=500;, score=0.842 total time=   0.8s\n",
      "[CV 4/5] END bootstrap=True, max_depth=10, max_features=3, n_estimators=500;, score=0.841 total time=   0.9s\n",
      "[CV 5/5] END bootstrap=True, max_depth=10, max_features=3, n_estimators=500;, score=0.842 total time=   0.9s\n",
      "[CV 1/5] END bootstrap=True, max_depth=20, max_features=1, n_estimators=50;, score=0.844 total time=   0.0s\n",
      "[CV 2/5] END bootstrap=True, max_depth=20, max_features=1, n_estimators=50;, score=0.852 total time=   0.0s\n",
      "[CV 3/5] END bootstrap=True, max_depth=20, max_features=1, n_estimators=50;, score=0.843 total time=   0.0s\n",
      "[CV 4/5] END bootstrap=True, max_depth=20, max_features=1, n_estimators=50;, score=0.842 total time=   0.0s\n",
      "[CV 5/5] END bootstrap=True, max_depth=20, max_features=1, n_estimators=50;, score=0.842 total time=   0.0s\n",
      "[CV 1/5] END bootstrap=True, max_depth=20, max_features=1, n_estimators=200;, score=0.847 total time=   0.3s\n",
      "[CV 2/5] END bootstrap=True, max_depth=20, max_features=1, n_estimators=200;, score=0.854 total time=   0.3s\n",
      "[CV 3/5] END bootstrap=True, max_depth=20, max_features=1, n_estimators=200;, score=0.843 total time=   0.3s\n",
      "[CV 4/5] END bootstrap=True, max_depth=20, max_features=1, n_estimators=200;, score=0.842 total time=   0.3s\n",
      "[CV 5/5] END bootstrap=True, max_depth=20, max_features=1, n_estimators=200;, score=0.846 total time=   0.3s\n",
      "[CV 1/5] END bootstrap=True, max_depth=20, max_features=1, n_estimators=500;, score=0.847 total time=   0.9s\n",
      "[CV 2/5] END bootstrap=True, max_depth=20, max_features=1, n_estimators=500;, score=0.852 total time=   1.0s\n",
      "[CV 3/5] END bootstrap=True, max_depth=20, max_features=1, n_estimators=500;, score=0.845 total time=   1.0s\n",
      "[CV 4/5] END bootstrap=True, max_depth=20, max_features=1, n_estimators=500;, score=0.843 total time=   0.9s\n",
      "[CV 5/5] END bootstrap=True, max_depth=20, max_features=1, n_estimators=500;, score=0.845 total time=   0.8s\n",
      "[CV 1/5] END bootstrap=True, max_depth=20, max_features=3, n_estimators=50;, score=0.843 total time=   0.1s\n"
     ]
    },
    {
     "name": "stdout",
     "output_type": "stream",
     "text": [
      "[CV 2/5] END bootstrap=True, max_depth=20, max_features=3, n_estimators=50;, score=0.849 total time=   0.1s\n",
      "[CV 3/5] END bootstrap=True, max_depth=20, max_features=3, n_estimators=50;, score=0.839 total time=   0.1s\n",
      "[CV 4/5] END bootstrap=True, max_depth=20, max_features=3, n_estimators=50;, score=0.837 total time=   0.1s\n",
      "[CV 5/5] END bootstrap=True, max_depth=20, max_features=3, n_estimators=50;, score=0.843 total time=   0.1s\n",
      "[CV 1/5] END bootstrap=True, max_depth=20, max_features=3, n_estimators=200;, score=0.847 total time=   0.4s\n",
      "[CV 2/5] END bootstrap=True, max_depth=20, max_features=3, n_estimators=200;, score=0.852 total time=   0.4s\n",
      "[CV 3/5] END bootstrap=True, max_depth=20, max_features=3, n_estimators=200;, score=0.840 total time=   0.4s\n",
      "[CV 4/5] END bootstrap=True, max_depth=20, max_features=3, n_estimators=200;, score=0.840 total time=   0.4s\n",
      "[CV 5/5] END bootstrap=True, max_depth=20, max_features=3, n_estimators=200;, score=0.840 total time=   0.5s\n",
      "[CV 1/5] END bootstrap=True, max_depth=20, max_features=3, n_estimators=500;, score=0.845 total time=   1.2s\n",
      "[CV 2/5] END bootstrap=True, max_depth=20, max_features=3, n_estimators=500;, score=0.852 total time=   1.3s\n",
      "[CV 3/5] END bootstrap=True, max_depth=20, max_features=3, n_estimators=500;, score=0.840 total time=   1.2s\n",
      "[CV 4/5] END bootstrap=True, max_depth=20, max_features=3, n_estimators=500;, score=0.841 total time=   1.2s\n",
      "[CV 5/5] END bootstrap=True, max_depth=20, max_features=3, n_estimators=500;, score=0.843 total time=   1.2s\n",
      "[CV 1/5] END bootstrap=True, max_depth=None, max_features=1, n_estimators=50;, score=0.840 total time=   0.0s\n",
      "[CV 2/5] END bootstrap=True, max_depth=None, max_features=1, n_estimators=50;, score=0.851 total time=   0.0s\n",
      "[CV 3/5] END bootstrap=True, max_depth=None, max_features=1, n_estimators=50;, score=0.846 total time=   0.0s\n",
      "[CV 4/5] END bootstrap=True, max_depth=None, max_features=1, n_estimators=50;, score=0.838 total time=   0.0s\n",
      "[CV 5/5] END bootstrap=True, max_depth=None, max_features=1, n_estimators=50;, score=0.839 total time=   0.0s\n",
      "[CV 1/5] END bootstrap=True, max_depth=None, max_features=1, n_estimators=200;, score=0.848 total time=   0.3s\n",
      "[CV 2/5] END bootstrap=True, max_depth=None, max_features=1, n_estimators=200;, score=0.854 total time=   0.3s\n",
      "[CV 3/5] END bootstrap=True, max_depth=None, max_features=1, n_estimators=200;, score=0.844 total time=   0.3s\n",
      "[CV 4/5] END bootstrap=True, max_depth=None, max_features=1, n_estimators=200;, score=0.842 total time=   0.3s\n",
      "[CV 5/5] END bootstrap=True, max_depth=None, max_features=1, n_estimators=200;, score=0.845 total time=   0.3s\n",
      "[CV 1/5] END bootstrap=True, max_depth=None, max_features=1, n_estimators=500;, score=0.846 total time=   0.9s\n",
      "[CV 2/5] END bootstrap=True, max_depth=None, max_features=1, n_estimators=500;, score=0.852 total time=   0.9s\n",
      "[CV 3/5] END bootstrap=True, max_depth=None, max_features=1, n_estimators=500;, score=0.846 total time=   0.9s\n",
      "[CV 4/5] END bootstrap=True, max_depth=None, max_features=1, n_estimators=500;, score=0.842 total time=   0.9s\n",
      "[CV 5/5] END bootstrap=True, max_depth=None, max_features=1, n_estimators=500;, score=0.843 total time=   0.9s\n",
      "[CV 1/5] END bootstrap=True, max_depth=None, max_features=3, n_estimators=50;, score=0.841 total time=   0.1s\n",
      "[CV 2/5] END bootstrap=True, max_depth=None, max_features=3, n_estimators=50;, score=0.851 total time=   0.1s\n",
      "[CV 3/5] END bootstrap=True, max_depth=None, max_features=3, n_estimators=50;, score=0.840 total time=   0.1s\n",
      "[CV 4/5] END bootstrap=True, max_depth=None, max_features=3, n_estimators=50;, score=0.835 total time=   0.1s\n",
      "[CV 5/5] END bootstrap=True, max_depth=None, max_features=3, n_estimators=50;, score=0.839 total time=   0.1s\n",
      "[CV 1/5] END bootstrap=True, max_depth=None, max_features=3, n_estimators=200;, score=0.843 total time=   0.5s\n",
      "[CV 2/5] END bootstrap=True, max_depth=None, max_features=3, n_estimators=200;, score=0.852 total time=   0.5s\n",
      "[CV 3/5] END bootstrap=True, max_depth=None, max_features=3, n_estimators=200;, score=0.840 total time=   0.5s\n",
      "[CV 4/5] END bootstrap=True, max_depth=None, max_features=3, n_estimators=200;, score=0.841 total time=   0.5s\n",
      "[CV 5/5] END bootstrap=True, max_depth=None, max_features=3, n_estimators=200;, score=0.840 total time=   0.5s\n",
      "[CV 1/5] END bootstrap=True, max_depth=None, max_features=3, n_estimators=500;, score=0.847 total time=   1.3s\n",
      "[CV 2/5] END bootstrap=True, max_depth=None, max_features=3, n_estimators=500;, score=0.852 total time=   1.3s\n",
      "[CV 3/5] END bootstrap=True, max_depth=None, max_features=3, n_estimators=500;, score=0.840 total time=   1.3s\n",
      "[CV 4/5] END bootstrap=True, max_depth=None, max_features=3, n_estimators=500;, score=0.839 total time=   1.2s\n",
      "[CV 5/5] END bootstrap=True, max_depth=None, max_features=3, n_estimators=500;, score=0.842 total time=   1.2s\n",
      "[CV 1/5] END bootstrap=False, max_depth=5, max_features=1, n_estimators=50;, score=0.829 total time=   0.0s\n",
      "[CV 2/5] END bootstrap=False, max_depth=5, max_features=1, n_estimators=50;, score=0.840 total time=   0.0s\n",
      "[CV 3/5] END bootstrap=False, max_depth=5, max_features=1, n_estimators=50;, score=0.833 total time=   0.0s\n",
      "[CV 4/5] END bootstrap=False, max_depth=5, max_features=1, n_estimators=50;, score=0.828 total time=   0.0s\n",
      "[CV 5/5] END bootstrap=False, max_depth=5, max_features=1, n_estimators=50;, score=0.839 total time=   0.0s\n",
      "[CV 1/5] END bootstrap=False, max_depth=5, max_features=1, n_estimators=200;, score=0.832 total time=   0.1s\n",
      "[CV 2/5] END bootstrap=False, max_depth=5, max_features=1, n_estimators=200;, score=0.840 total time=   0.1s\n",
      "[CV 3/5] END bootstrap=False, max_depth=5, max_features=1, n_estimators=200;, score=0.833 total time=   0.1s\n",
      "[CV 4/5] END bootstrap=False, max_depth=5, max_features=1, n_estimators=200;, score=0.826 total time=   0.1s\n",
      "[CV 5/5] END bootstrap=False, max_depth=5, max_features=1, n_estimators=200;, score=0.838 total time=   0.1s\n",
      "[CV 1/5] END bootstrap=False, max_depth=5, max_features=1, n_estimators=500;, score=0.831 total time=   0.4s\n",
      "[CV 2/5] END bootstrap=False, max_depth=5, max_features=1, n_estimators=500;, score=0.840 total time=   0.4s\n",
      "[CV 3/5] END bootstrap=False, max_depth=5, max_features=1, n_estimators=500;, score=0.832 total time=   0.4s\n",
      "[CV 4/5] END bootstrap=False, max_depth=5, max_features=1, n_estimators=500;, score=0.829 total time=   0.4s\n",
      "[CV 5/5] END bootstrap=False, max_depth=5, max_features=1, n_estimators=500;, score=0.839 total time=   0.4s\n",
      "[CV 1/5] END bootstrap=False, max_depth=5, max_features=3, n_estimators=50;, score=0.832 total time=   0.0s\n",
      "[CV 2/5] END bootstrap=False, max_depth=5, max_features=3, n_estimators=50;, score=0.840 total time=   0.0s\n",
      "[CV 3/5] END bootstrap=False, max_depth=5, max_features=3, n_estimators=50;, score=0.832 total time=   0.0s\n",
      "[CV 4/5] END bootstrap=False, max_depth=5, max_features=3, n_estimators=50;, score=0.828 total time=   0.0s\n",
      "[CV 5/5] END bootstrap=False, max_depth=5, max_features=3, n_estimators=50;, score=0.836 total time=   0.0s\n",
      "[CV 1/5] END bootstrap=False, max_depth=5, max_features=3, n_estimators=200;, score=0.833 total time=   0.3s\n",
      "[CV 2/5] END bootstrap=False, max_depth=5, max_features=3, n_estimators=200;, score=0.841 total time=   0.2s\n",
      "[CV 3/5] END bootstrap=False, max_depth=5, max_features=3, n_estimators=200;, score=0.830 total time=   0.3s\n",
      "[CV 4/5] END bootstrap=False, max_depth=5, max_features=3, n_estimators=200;, score=0.827 total time=   0.2s\n",
      "[CV 5/5] END bootstrap=False, max_depth=5, max_features=3, n_estimators=200;, score=0.837 total time=   0.2s\n",
      "[CV 1/5] END bootstrap=False, max_depth=5, max_features=3, n_estimators=500;, score=0.835 total time=   0.7s\n",
      "[CV 2/5] END bootstrap=False, max_depth=5, max_features=3, n_estimators=500;, score=0.840 total time=   0.7s\n",
      "[CV 3/5] END bootstrap=False, max_depth=5, max_features=3, n_estimators=500;, score=0.831 total time=   0.7s\n",
      "[CV 4/5] END bootstrap=False, max_depth=5, max_features=3, n_estimators=500;, score=0.828 total time=   0.7s\n",
      "[CV 5/5] END bootstrap=False, max_depth=5, max_features=3, n_estimators=500;, score=0.836 total time=   0.7s\n",
      "[CV 1/5] END bootstrap=False, max_depth=10, max_features=1, n_estimators=50;, score=0.840 total time=   0.0s\n",
      "[CV 2/5] END bootstrap=False, max_depth=10, max_features=1, n_estimators=50;, score=0.849 total time=   0.0s\n"
     ]
    },
    {
     "name": "stdout",
     "output_type": "stream",
     "text": [
      "[CV 3/5] END bootstrap=False, max_depth=10, max_features=1, n_estimators=50;, score=0.837 total time=   0.0s\n",
      "[CV 4/5] END bootstrap=False, max_depth=10, max_features=1, n_estimators=50;, score=0.834 total time=   0.0s\n",
      "[CV 5/5] END bootstrap=False, max_depth=10, max_features=1, n_estimators=50;, score=0.842 total time=   0.0s\n",
      "[CV 1/5] END bootstrap=False, max_depth=10, max_features=1, n_estimators=200;, score=0.839 total time=   0.2s\n",
      "[CV 2/5] END bootstrap=False, max_depth=10, max_features=1, n_estimators=200;, score=0.848 total time=   0.2s\n",
      "[CV 3/5] END bootstrap=False, max_depth=10, max_features=1, n_estimators=200;, score=0.838 total time=   0.2s\n",
      "[CV 4/5] END bootstrap=False, max_depth=10, max_features=1, n_estimators=200;, score=0.835 total time=   0.2s\n",
      "[CV 5/5] END bootstrap=False, max_depth=10, max_features=1, n_estimators=200;, score=0.844 total time=   0.2s\n",
      "[CV 1/5] END bootstrap=False, max_depth=10, max_features=1, n_estimators=500;, score=0.839 total time=   0.6s\n",
      "[CV 2/5] END bootstrap=False, max_depth=10, max_features=1, n_estimators=500;, score=0.848 total time=   0.6s\n",
      "[CV 3/5] END bootstrap=False, max_depth=10, max_features=1, n_estimators=500;, score=0.839 total time=   0.6s\n",
      "[CV 4/5] END bootstrap=False, max_depth=10, max_features=1, n_estimators=500;, score=0.835 total time=   0.6s\n",
      "[CV 5/5] END bootstrap=False, max_depth=10, max_features=1, n_estimators=500;, score=0.845 total time=   0.6s\n",
      "[CV 1/5] END bootstrap=False, max_depth=10, max_features=3, n_estimators=50;, score=0.841 total time=   0.1s\n",
      "[CV 2/5] END bootstrap=False, max_depth=10, max_features=3, n_estimators=50;, score=0.843 total time=   0.1s\n",
      "[CV 3/5] END bootstrap=False, max_depth=10, max_features=3, n_estimators=50;, score=0.835 total time=   0.1s\n",
      "[CV 4/5] END bootstrap=False, max_depth=10, max_features=3, n_estimators=50;, score=0.838 total time=   0.1s\n",
      "[CV 5/5] END bootstrap=False, max_depth=10, max_features=3, n_estimators=50;, score=0.838 total time=   0.1s\n",
      "[CV 1/5] END bootstrap=False, max_depth=10, max_features=3, n_estimators=200;, score=0.840 total time=   0.4s\n",
      "[CV 2/5] END bootstrap=False, max_depth=10, max_features=3, n_estimators=200;, score=0.845 total time=   0.4s\n",
      "[CV 3/5] END bootstrap=False, max_depth=10, max_features=3, n_estimators=200;, score=0.838 total time=   0.4s\n",
      "[CV 4/5] END bootstrap=False, max_depth=10, max_features=3, n_estimators=200;, score=0.839 total time=   0.4s\n",
      "[CV 5/5] END bootstrap=False, max_depth=10, max_features=3, n_estimators=200;, score=0.837 total time=   0.4s\n",
      "[CV 1/5] END bootstrap=False, max_depth=10, max_features=3, n_estimators=500;, score=0.840 total time=   1.2s\n",
      "[CV 2/5] END bootstrap=False, max_depth=10, max_features=3, n_estimators=500;, score=0.845 total time=   1.2s\n",
      "[CV 3/5] END bootstrap=False, max_depth=10, max_features=3, n_estimators=500;, score=0.837 total time=   1.3s\n",
      "[CV 4/5] END bootstrap=False, max_depth=10, max_features=3, n_estimators=500;, score=0.840 total time=   1.2s\n",
      "[CV 5/5] END bootstrap=False, max_depth=10, max_features=3, n_estimators=500;, score=0.838 total time=   1.2s\n",
      "[CV 1/5] END bootstrap=False, max_depth=20, max_features=1, n_estimators=50;, score=0.844 total time=   0.0s\n",
      "[CV 2/5] END bootstrap=False, max_depth=20, max_features=1, n_estimators=50;, score=0.851 total time=   0.1s\n",
      "[CV 3/5] END bootstrap=False, max_depth=20, max_features=1, n_estimators=50;, score=0.839 total time=   0.0s\n",
      "[CV 4/5] END bootstrap=False, max_depth=20, max_features=1, n_estimators=50;, score=0.838 total time=   0.0s\n",
      "[CV 5/5] END bootstrap=False, max_depth=20, max_features=1, n_estimators=50;, score=0.839 total time=   0.1s\n",
      "[CV 1/5] END bootstrap=False, max_depth=20, max_features=1, n_estimators=200;, score=0.842 total time=   0.4s\n",
      "[CV 2/5] END bootstrap=False, max_depth=20, max_features=1, n_estimators=200;, score=0.852 total time=   0.4s\n",
      "[CV 3/5] END bootstrap=False, max_depth=20, max_features=1, n_estimators=200;, score=0.838 total time=   0.5s\n",
      "[CV 4/5] END bootstrap=False, max_depth=20, max_features=1, n_estimators=200;, score=0.839 total time=   0.4s\n",
      "[CV 5/5] END bootstrap=False, max_depth=20, max_features=1, n_estimators=200;, score=0.843 total time=   0.5s\n",
      "[CV 1/5] END bootstrap=False, max_depth=20, max_features=1, n_estimators=500;, score=0.845 total time=   1.3s\n",
      "[CV 2/5] END bootstrap=False, max_depth=20, max_features=1, n_estimators=500;, score=0.850 total time=   1.2s\n",
      "[CV 3/5] END bootstrap=False, max_depth=20, max_features=1, n_estimators=500;, score=0.838 total time=   1.2s\n",
      "[CV 4/5] END bootstrap=False, max_depth=20, max_features=1, n_estimators=500;, score=0.840 total time=   1.2s\n",
      "[CV 5/5] END bootstrap=False, max_depth=20, max_features=1, n_estimators=500;, score=0.844 total time=   1.2s\n",
      "[CV 1/5] END bootstrap=False, max_depth=20, max_features=3, n_estimators=50;, score=0.834 total time=   0.1s\n",
      "[CV 2/5] END bootstrap=False, max_depth=20, max_features=3, n_estimators=50;, score=0.837 total time=   0.1s\n",
      "[CV 3/5] END bootstrap=False, max_depth=20, max_features=3, n_estimators=50;, score=0.827 total time=   0.1s\n",
      "[CV 4/5] END bootstrap=False, max_depth=20, max_features=3, n_estimators=50;, score=0.828 total time=   0.1s\n",
      "[CV 5/5] END bootstrap=False, max_depth=20, max_features=3, n_estimators=50;, score=0.834 total time=   0.1s\n",
      "[CV 1/5] END bootstrap=False, max_depth=20, max_features=3, n_estimators=200;, score=0.836 total time=   0.7s\n",
      "[CV 2/5] END bootstrap=False, max_depth=20, max_features=3, n_estimators=200;, score=0.842 total time=   0.6s\n",
      "[CV 3/5] END bootstrap=False, max_depth=20, max_features=3, n_estimators=200;, score=0.829 total time=   0.7s\n",
      "[CV 4/5] END bootstrap=False, max_depth=20, max_features=3, n_estimators=200;, score=0.833 total time=   0.6s\n",
      "[CV 5/5] END bootstrap=False, max_depth=20, max_features=3, n_estimators=200;, score=0.835 total time=   0.7s\n",
      "[CV 1/5] END bootstrap=False, max_depth=20, max_features=3, n_estimators=500;, score=0.835 total time=   1.9s\n",
      "[CV 2/5] END bootstrap=False, max_depth=20, max_features=3, n_estimators=500;, score=0.841 total time=   1.8s\n",
      "[CV 3/5] END bootstrap=False, max_depth=20, max_features=3, n_estimators=500;, score=0.829 total time=   1.9s\n",
      "[CV 4/5] END bootstrap=False, max_depth=20, max_features=3, n_estimators=500;, score=0.831 total time=   1.9s\n",
      "[CV 5/5] END bootstrap=False, max_depth=20, max_features=3, n_estimators=500;, score=0.838 total time=   1.9s\n",
      "[CV 1/5] END bootstrap=False, max_depth=None, max_features=1, n_estimators=50;, score=0.835 total time=   0.0s\n",
      "[CV 2/5] END bootstrap=False, max_depth=None, max_features=1, n_estimators=50;, score=0.846 total time=   0.1s\n",
      "[CV 3/5] END bootstrap=False, max_depth=None, max_features=1, n_estimators=50;, score=0.838 total time=   0.0s\n",
      "[CV 4/5] END bootstrap=False, max_depth=None, max_features=1, n_estimators=50;, score=0.836 total time=   0.0s\n",
      "[CV 5/5] END bootstrap=False, max_depth=None, max_features=1, n_estimators=50;, score=0.837 total time=   0.0s\n",
      "[CV 1/5] END bootstrap=False, max_depth=None, max_features=1, n_estimators=200;, score=0.842 total time=   0.4s\n",
      "[CV 2/5] END bootstrap=False, max_depth=None, max_features=1, n_estimators=200;, score=0.850 total time=   0.4s\n",
      "[CV 3/5] END bootstrap=False, max_depth=None, max_features=1, n_estimators=200;, score=0.838 total time=   0.5s\n",
      "[CV 4/5] END bootstrap=False, max_depth=None, max_features=1, n_estimators=200;, score=0.835 total time=   0.4s\n",
      "[CV 5/5] END bootstrap=False, max_depth=None, max_features=1, n_estimators=200;, score=0.840 total time=   0.5s\n",
      "[CV 1/5] END bootstrap=False, max_depth=None, max_features=1, n_estimators=500;, score=0.840 total time=   1.2s\n",
      "[CV 2/5] END bootstrap=False, max_depth=None, max_features=1, n_estimators=500;, score=0.850 total time=   1.2s\n",
      "[CV 3/5] END bootstrap=False, max_depth=None, max_features=1, n_estimators=500;, score=0.836 total time=   1.4s\n",
      "[CV 4/5] END bootstrap=False, max_depth=None, max_features=1, n_estimators=500;, score=0.836 total time=   1.3s\n",
      "[CV 5/5] END bootstrap=False, max_depth=None, max_features=1, n_estimators=500;, score=0.840 total time=   1.3s\n",
      "[CV 1/5] END bootstrap=False, max_depth=None, max_features=3, n_estimators=50;, score=0.832 total time=   0.1s\n",
      "[CV 2/5] END bootstrap=False, max_depth=None, max_features=3, n_estimators=50;, score=0.837 total time=   0.1s\n"
     ]
    },
    {
     "name": "stdout",
     "output_type": "stream",
     "text": [
      "[CV 3/5] END bootstrap=False, max_depth=None, max_features=3, n_estimators=50;, score=0.829 total time=   0.1s\n",
      "[CV 4/5] END bootstrap=False, max_depth=None, max_features=3, n_estimators=50;, score=0.829 total time=   0.2s\n",
      "[CV 5/5] END bootstrap=False, max_depth=None, max_features=3, n_estimators=50;, score=0.830 total time=   0.1s\n",
      "[CV 1/5] END bootstrap=False, max_depth=None, max_features=3, n_estimators=200;, score=0.832 total time=   0.8s\n",
      "[CV 2/5] END bootstrap=False, max_depth=None, max_features=3, n_estimators=200;, score=0.839 total time=   0.7s\n",
      "[CV 3/5] END bootstrap=False, max_depth=None, max_features=3, n_estimators=200;, score=0.826 total time=   0.6s\n",
      "[CV 4/5] END bootstrap=False, max_depth=None, max_features=3, n_estimators=200;, score=0.830 total time=   0.7s\n",
      "[CV 5/5] END bootstrap=False, max_depth=None, max_features=3, n_estimators=200;, score=0.830 total time=   0.6s\n",
      "[CV 1/5] END bootstrap=False, max_depth=None, max_features=3, n_estimators=500;, score=0.831 total time=   1.7s\n",
      "[CV 2/5] END bootstrap=False, max_depth=None, max_features=3, n_estimators=500;, score=0.840 total time=   1.7s\n",
      "[CV 3/5] END bootstrap=False, max_depth=None, max_features=3, n_estimators=500;, score=0.828 total time=   1.8s\n",
      "[CV 4/5] END bootstrap=False, max_depth=None, max_features=3, n_estimators=500;, score=0.830 total time=   1.7s\n",
      "[CV 5/5] END bootstrap=False, max_depth=None, max_features=3, n_estimators=500;, score=0.830 total time=   1.8s\n"
     ]
    },
    {
     "data": {
      "text/html": [
       "<style>#sk-container-id-2 {color: black;background-color: white;}#sk-container-id-2 pre{padding: 0;}#sk-container-id-2 div.sk-toggleable {background-color: white;}#sk-container-id-2 label.sk-toggleable__label {cursor: pointer;display: block;width: 100%;margin-bottom: 0;padding: 0.3em;box-sizing: border-box;text-align: center;}#sk-container-id-2 label.sk-toggleable__label-arrow:before {content: \"▸\";float: left;margin-right: 0.25em;color: #696969;}#sk-container-id-2 label.sk-toggleable__label-arrow:hover:before {color: black;}#sk-container-id-2 div.sk-estimator:hover label.sk-toggleable__label-arrow:before {color: black;}#sk-container-id-2 div.sk-toggleable__content {max-height: 0;max-width: 0;overflow: hidden;text-align: left;background-color: #f0f8ff;}#sk-container-id-2 div.sk-toggleable__content pre {margin: 0.2em;color: black;border-radius: 0.25em;background-color: #f0f8ff;}#sk-container-id-2 input.sk-toggleable__control:checked~div.sk-toggleable__content {max-height: 200px;max-width: 100%;overflow: auto;}#sk-container-id-2 input.sk-toggleable__control:checked~label.sk-toggleable__label-arrow:before {content: \"▾\";}#sk-container-id-2 div.sk-estimator input.sk-toggleable__control:checked~label.sk-toggleable__label {background-color: #d4ebff;}#sk-container-id-2 div.sk-label input.sk-toggleable__control:checked~label.sk-toggleable__label {background-color: #d4ebff;}#sk-container-id-2 input.sk-hidden--visually {border: 0;clip: rect(1px 1px 1px 1px);clip: rect(1px, 1px, 1px, 1px);height: 1px;margin: -1px;overflow: hidden;padding: 0;position: absolute;width: 1px;}#sk-container-id-2 div.sk-estimator {font-family: monospace;background-color: #f0f8ff;border: 1px dotted black;border-radius: 0.25em;box-sizing: border-box;margin-bottom: 0.5em;}#sk-container-id-2 div.sk-estimator:hover {background-color: #d4ebff;}#sk-container-id-2 div.sk-parallel-item::after {content: \"\";width: 100%;border-bottom: 1px solid gray;flex-grow: 1;}#sk-container-id-2 div.sk-label:hover label.sk-toggleable__label {background-color: #d4ebff;}#sk-container-id-2 div.sk-serial::before {content: \"\";position: absolute;border-left: 1px solid gray;box-sizing: border-box;top: 0;bottom: 0;left: 50%;z-index: 0;}#sk-container-id-2 div.sk-serial {display: flex;flex-direction: column;align-items: center;background-color: white;padding-right: 0.2em;padding-left: 0.2em;position: relative;}#sk-container-id-2 div.sk-item {position: relative;z-index: 1;}#sk-container-id-2 div.sk-parallel {display: flex;align-items: stretch;justify-content: center;background-color: white;position: relative;}#sk-container-id-2 div.sk-item::before, #sk-container-id-2 div.sk-parallel-item::before {content: \"\";position: absolute;border-left: 1px solid gray;box-sizing: border-box;top: 0;bottom: 0;left: 50%;z-index: -1;}#sk-container-id-2 div.sk-parallel-item {display: flex;flex-direction: column;z-index: 1;position: relative;background-color: white;}#sk-container-id-2 div.sk-parallel-item:first-child::after {align-self: flex-end;width: 50%;}#sk-container-id-2 div.sk-parallel-item:last-child::after {align-self: flex-start;width: 50%;}#sk-container-id-2 div.sk-parallel-item:only-child::after {width: 0;}#sk-container-id-2 div.sk-dashed-wrapped {border: 1px dashed gray;margin: 0 0.4em 0.5em 0.4em;box-sizing: border-box;padding-bottom: 0.4em;background-color: white;}#sk-container-id-2 div.sk-label label {font-family: monospace;font-weight: bold;display: inline-block;line-height: 1.2em;}#sk-container-id-2 div.sk-label-container {text-align: center;}#sk-container-id-2 div.sk-container {/* jupyter's `normalize.less` sets `[hidden] { display: none; }` but bootstrap.min.css set `[hidden] { display: none !important; }` so we also need the `!important` here to be able to override the default hidden behavior on the sphinx rendered scikit-learn.org. See: https://github.com/scikit-learn/scikit-learn/issues/21755 */display: inline-block !important;position: relative;}#sk-container-id-2 div.sk-text-repr-fallback {display: none;}</style><div id=\"sk-container-id-2\" class=\"sk-top-container\"><div class=\"sk-text-repr-fallback\"><pre>GridSearchCV(estimator=RandomForestClassifier(n_jobs=-1),\n",
       "             param_grid={&#x27;bootstrap&#x27;: (True, False),\n",
       "                         &#x27;max_depth&#x27;: [5, 10, 20, None], &#x27;max_features&#x27;: [1, 3],\n",
       "                         &#x27;n_estimators&#x27;: [50, 200, 500]},\n",
       "             scoring=&#x27;accuracy&#x27;, verbose=3)</pre><b>In a Jupyter environment, please rerun this cell to show the HTML representation or trust the notebook. <br />On GitHub, the HTML representation is unable to render, please try loading this page with nbviewer.org.</b></div><div class=\"sk-container\" hidden><div class=\"sk-item sk-dashed-wrapped\"><div class=\"sk-label-container\"><div class=\"sk-label sk-toggleable\"><input class=\"sk-toggleable__control sk-hidden--visually\" id=\"sk-estimator-id-4\" type=\"checkbox\" ><label for=\"sk-estimator-id-4\" class=\"sk-toggleable__label sk-toggleable__label-arrow\">GridSearchCV</label><div class=\"sk-toggleable__content\"><pre>GridSearchCV(estimator=RandomForestClassifier(n_jobs=-1),\n",
       "             param_grid={&#x27;bootstrap&#x27;: (True, False),\n",
       "                         &#x27;max_depth&#x27;: [5, 10, 20, None], &#x27;max_features&#x27;: [1, 3],\n",
       "                         &#x27;n_estimators&#x27;: [50, 200, 500]},\n",
       "             scoring=&#x27;accuracy&#x27;, verbose=3)</pre></div></div></div><div class=\"sk-parallel\"><div class=\"sk-parallel-item\"><div class=\"sk-item\"><div class=\"sk-label-container\"><div class=\"sk-label sk-toggleable\"><input class=\"sk-toggleable__control sk-hidden--visually\" id=\"sk-estimator-id-5\" type=\"checkbox\" ><label for=\"sk-estimator-id-5\" class=\"sk-toggleable__label sk-toggleable__label-arrow\">estimator: RandomForestClassifier</label><div class=\"sk-toggleable__content\"><pre>RandomForestClassifier(n_jobs=-1)</pre></div></div></div><div class=\"sk-serial\"><div class=\"sk-item\"><div class=\"sk-estimator sk-toggleable\"><input class=\"sk-toggleable__control sk-hidden--visually\" id=\"sk-estimator-id-6\" type=\"checkbox\" ><label for=\"sk-estimator-id-6\" class=\"sk-toggleable__label sk-toggleable__label-arrow\">RandomForestClassifier</label><div class=\"sk-toggleable__content\"><pre>RandomForestClassifier(n_jobs=-1)</pre></div></div></div></div></div></div></div></div></div></div>"
      ],
      "text/plain": [
       "GridSearchCV(estimator=RandomForestClassifier(n_jobs=-1),\n",
       "             param_grid={'bootstrap': (True, False),\n",
       "                         'max_depth': [5, 10, 20, None], 'max_features': [1, 3],\n",
       "                         'n_estimators': [50, 200, 500]},\n",
       "             scoring='accuracy', verbose=3)"
      ]
     },
     "execution_count": 22,
     "metadata": {},
     "output_type": "execute_result"
    }
   ],
   "source": [
    "# EJECUTAR MEJOR SIN n_estimators = 200 y max_depth = 50\n",
    "parameters = {'bootstrap':(True,False), \n",
    "              'n_estimators':[50,200, 500],\n",
    "              'max_depth':[5,10,20,None], \n",
    "              'max_features':[1,3] #Más útil con datasets grandes\n",
    "             }\n",
    "\n",
    "clf = RandomForestClassifier(n_jobs= -1)\n",
    "clfcv = GridSearchCV(clf, parameters,verbose=3,scoring = \"accuracy\")\n",
    "# https://scikit-learn.org/stable/modules/model_evaluation.html#scoring-parameter\n",
    "clfcv.fit(X, Y)"
   ]
  },
  {
   "cell_type": "code",
   "execution_count": 20,
   "metadata": {
    "collapsed": true
   },
   "outputs": [
    {
     "data": {
      "text/plain": [
       "{'mean_fit_time': array([0.31371508, 0.07367129, 0.19698901, 0.0436398 , 0.06926322,\n",
       "        0.21119227, 0.04143782, 0.07867193, 0.26013861, 0.03303022,\n",
       "        0.06626015, 0.19267578, 0.04163756, 0.08059993, 0.26778669,\n",
       "        0.05224729, 0.11150146, 0.33390431, 0.03763423, 0.07606912,\n",
       "        0.23106875, 0.05605097, 0.11229658, 0.37207232, 0.0763103 ,\n",
       "        0.16214743, 0.51476932, 0.04844379, 0.09828944, 0.35830131,\n",
       "        0.07215953, 0.14352102, 0.49935718, 0.09808917, 0.1989656 ,\n",
       "        0.69221401, 0.04664259, 0.09528666, 0.39455957, 0.07687016,\n",
       "        0.15845008, 0.54415174, 0.09709358, 0.20378566, 0.73423457,\n",
       "        0.03182907, 0.06549873, 0.19311929, 0.03643332, 0.07786903,\n",
       "        0.2381011 , 0.04744182, 0.09308462, 0.30467706, 0.03122835,\n",
       "        0.06365786, 0.19184456, 0.04644256, 0.08998356, 0.3063961 ,\n",
       "        0.06325784, 0.12451329, 0.43484821, 0.04444051, 0.0786716 ,\n",
       "        0.26286449, 0.07186041, 0.14717684, 0.48731971, 0.10489531,\n",
       "        0.21099181, 0.70575438, 0.0601562 , 0.12591367, 0.48154883,\n",
       "        0.09646497, 0.19637885, 0.71002655, 0.14413128, 0.28906279,\n",
       "        0.96760244, 0.06046872, 0.12094846, 0.47433386, 0.09869037,\n",
       "        0.20118294, 0.7004343 , 0.14052787, 0.28726125, 0.98884649]),\n",
       " 'std_fit_time': array([0.56337209, 0.01061264, 0.01805266, 0.0041316 , 0.00172205,\n",
       "        0.0022823 , 0.00102088, 0.00162652, 0.02110217, 0.00063309,\n",
       "        0.00194057, 0.00369156, 0.00135772, 0.00244141, 0.00887045,\n",
       "        0.00147107, 0.00927314, 0.00265594, 0.00120095, 0.00245136,\n",
       "        0.0012523 , 0.00141573, 0.00135761, 0.0027104 , 0.00199887,\n",
       "        0.01578774, 0.00160077, 0.001745  , 0.00440412, 0.01218485,\n",
       "        0.00195645, 0.00324964, 0.00618319, 0.0010965 , 0.00172928,\n",
       "        0.02993058, 0.00135762, 0.00285941, 0.0295536 , 0.00549721,\n",
       "        0.00368766, 0.04167423, 0.00063302, 0.00393289, 0.01201053,\n",
       "        0.00319054, 0.00450079, 0.00942703, 0.00102143, 0.00417253,\n",
       "        0.01957406, 0.00149638, 0.00296922, 0.00441309, 0.00194082,\n",
       "        0.00224702, 0.00615864, 0.00102084, 0.00185469, 0.0099664 ,\n",
       "        0.00147073, 0.00265535, 0.02557735, 0.00135785, 0.0021562 ,\n",
       "        0.00951341, 0.00318251, 0.00358979, 0.00848745, 0.00231744,\n",
       "        0.00878035, 0.01806611, 0.00156398, 0.00736581, 0.02369159,\n",
       "        0.00103071, 0.00392286, 0.02145277, 0.00597186, 0.00571136,\n",
       "        0.00815591, 0.00197267, 0.00126234, 0.0223957 , 0.00372437,\n",
       "        0.00322776, 0.0066932 , 0.00287311, 0.00400364, 0.00738092]),\n",
       " 'mean_score_time': array([0.00960879, 0.01541405, 0.0420383 , 0.01121078, 0.01461353,\n",
       "        0.04023681, 0.00880766, 0.01461325, 0.04023657, 0.00960851,\n",
       "        0.01461339, 0.04043665, 0.0098093 , 0.01441321, 0.04203572,\n",
       "        0.00960898, 0.01501393, 0.04003668, 0.0096086 , 0.01461353,\n",
       "        0.04263897, 0.00920839, 0.01468344, 0.04064426, 0.00980878,\n",
       "        0.01441326, 0.03883514, 0.00960894, 0.01541438, 0.04565105,\n",
       "        0.01121016, 0.01561441, 0.04444036, 0.00980892, 0.01549654,\n",
       "        0.04524059, 0.00980892, 0.01561413, 0.05044594, 0.01120973,\n",
       "        0.01741633, 0.04932184, 0.01000881, 0.01661501, 0.050178  ,\n",
       "        0.00980887, 0.01721601, 0.04504843, 0.00960879, 0.01721592,\n",
       "        0.04484277, 0.01021066, 0.0162148 , 0.04404025, 0.0096086 ,\n",
       "        0.01501379, 0.04223804, 0.00980864, 0.01481357, 0.05522728,\n",
       "        0.00880833, 0.01521392, 0.04043694, 0.00920792, 0.01418157,\n",
       "        0.04083729, 0.00935798, 0.01521406, 0.04103789, 0.01101027,\n",
       "        0.01481361, 0.03983622, 0.01040955, 0.01561399, 0.04804029,\n",
       "        0.00940852, 0.01561422, 0.06421628, 0.01141024, 0.01653376,\n",
       "        0.04501276, 0.01020889, 0.01661501, 0.04733691, 0.01120958,\n",
       "        0.01601472, 0.0460917 , 0.01040988, 0.01661525, 0.04802618]),\n",
       " 'std_score_time': array([4.90310237e-04, 1.02032870e-03, 1.09597516e-03, 1.16722665e-03,\n",
       "        8.00681247e-04, 7.49386021e-04, 4.00781816e-04, 4.90252017e-04,\n",
       "        1.16718540e-03, 4.90563292e-04, 4.90466250e-04, 8.00895861e-04,\n",
       "        7.48914684e-04, 4.89998769e-04, 2.08520524e-03, 8.01146142e-04,\n",
       "        6.32259047e-04, 3.37174788e-07, 8.00836198e-04, 4.90388537e-04,\n",
       "        2.06084792e-03, 4.00209668e-04, 4.19943135e-04, 1.98116020e-03,\n",
       "        9.80639828e-04, 4.90349310e-04, 4.00471982e-04, 4.90621721e-04,\n",
       "        8.00895705e-04, 1.73130699e-03, 2.40232986e-03, 8.00740781e-04,\n",
       "        8.01038763e-04, 7.49067430e-04, 7.69502535e-04, 1.16761961e-03,\n",
       "        4.00018706e-04, 4.90349171e-04, 3.82963683e-03, 1.47117069e-03,\n",
       "        1.02124507e-03, 4.32465875e-03, 6.33465647e-04, 1.49760594e-03,\n",
       "        3.22982332e-03, 7.48990919e-04, 2.92805544e-03, 1.67489612e-03,\n",
       "        4.90699573e-04, 1.72194786e-03, 1.33140863e-03, 1.16644656e-03,\n",
       "        9.80990254e-04, 1.67476611e-03, 1.02066523e-03, 1.90734863e-07,\n",
       "        9.81360278e-04, 7.48863498e-04, 4.00495657e-04, 2.44492203e-02,\n",
       "        7.49271350e-04, 1.16700541e-03, 8.01050696e-04, 4.00686278e-04,\n",
       "        4.20419656e-04, 1.16703811e-03, 4.35543890e-04, 9.80912398e-04,\n",
       "        2.61027172e-03, 3.03596454e-03, 4.00877070e-04, 4.00567065e-04,\n",
       "        1.49807105e-03, 8.00824242e-04, 3.89883077e-03, 4.90524575e-04,\n",
       "        8.00645463e-04, 2.05469684e-02, 2.33475097e-03, 1.58704369e-03,\n",
       "        6.35520890e-04, 4.00161772e-04, 8.00716900e-04, 1.07435370e-03,\n",
       "        2.40154266e-03, 6.33088375e-04, 8.71413959e-04, 1.35836438e-03,\n",
       "        4.90349194e-04, 6.98941892e-04]),\n",
       " 'param_bootstrap': masked_array(data=[True, True, True, True, True, True, True, True, True,\n",
       "                    True, True, True, True, True, True, True, True, True,\n",
       "                    True, True, True, True, True, True, True, True, True,\n",
       "                    True, True, True, True, True, True, True, True, True,\n",
       "                    True, True, True, True, True, True, True, True, True,\n",
       "                    False, False, False, False, False, False, False, False,\n",
       "                    False, False, False, False, False, False, False, False,\n",
       "                    False, False, False, False, False, False, False, False,\n",
       "                    False, False, False, False, False, False, False, False,\n",
       "                    False, False, False, False, False, False, False, False,\n",
       "                    False, False, False, False, False],\n",
       "              mask=[False, False, False, False, False, False, False, False,\n",
       "                    False, False, False, False, False, False, False, False,\n",
       "                    False, False, False, False, False, False, False, False,\n",
       "                    False, False, False, False, False, False, False, False,\n",
       "                    False, False, False, False, False, False, False, False,\n",
       "                    False, False, False, False, False, False, False, False,\n",
       "                    False, False, False, False, False, False, False, False,\n",
       "                    False, False, False, False, False, False, False, False,\n",
       "                    False, False, False, False, False, False, False, False,\n",
       "                    False, False, False, False, False, False, False, False,\n",
       "                    False, False, False, False, False, False, False, False,\n",
       "                    False, False],\n",
       "        fill_value='?',\n",
       "             dtype=object),\n",
       " 'param_max_depth': masked_array(data=[3, 3, 3, 3, 3, 3, 3, 3, 3, 5, 5, 5, 5, 5, 5, 5, 5, 5,\n",
       "                    10, 10, 10, 10, 10, 10, 10, 10, 10, 20, 20, 20, 20, 20,\n",
       "                    20, 20, 20, 20, None, None, None, None, None, None,\n",
       "                    None, None, None, 3, 3, 3, 3, 3, 3, 3, 3, 3, 5, 5, 5,\n",
       "                    5, 5, 5, 5, 5, 5, 10, 10, 10, 10, 10, 10, 10, 10, 10,\n",
       "                    20, 20, 20, 20, 20, 20, 20, 20, 20, None, None, None,\n",
       "                    None, None, None, None, None, None],\n",
       "              mask=[False, False, False, False, False, False, False, False,\n",
       "                    False, False, False, False, False, False, False, False,\n",
       "                    False, False, False, False, False, False, False, False,\n",
       "                    False, False, False, False, False, False, False, False,\n",
       "                    False, False, False, False, False, False, False, False,\n",
       "                    False, False, False, False, False, False, False, False,\n",
       "                    False, False, False, False, False, False, False, False,\n",
       "                    False, False, False, False, False, False, False, False,\n",
       "                    False, False, False, False, False, False, False, False,\n",
       "                    False, False, False, False, False, False, False, False,\n",
       "                    False, False, False, False, False, False, False, False,\n",
       "                    False, False],\n",
       "        fill_value='?',\n",
       "             dtype=object),\n",
       " 'param_max_features': masked_array(data=[1, 1, 1, 3, 3, 3, 5, 5, 5, 1, 1, 1, 3, 3, 3, 5, 5, 5,\n",
       "                    1, 1, 1, 3, 3, 3, 5, 5, 5, 1, 1, 1, 3, 3, 3, 5, 5, 5,\n",
       "                    1, 1, 1, 3, 3, 3, 5, 5, 5, 1, 1, 1, 3, 3, 3, 5, 5, 5,\n",
       "                    1, 1, 1, 3, 3, 3, 5, 5, 5, 1, 1, 1, 3, 3, 3, 5, 5, 5,\n",
       "                    1, 1, 1, 3, 3, 3, 5, 5, 5, 1, 1, 1, 3, 3, 3, 5, 5, 5],\n",
       "              mask=[False, False, False, False, False, False, False, False,\n",
       "                    False, False, False, False, False, False, False, False,\n",
       "                    False, False, False, False, False, False, False, False,\n",
       "                    False, False, False, False, False, False, False, False,\n",
       "                    False, False, False, False, False, False, False, False,\n",
       "                    False, False, False, False, False, False, False, False,\n",
       "                    False, False, False, False, False, False, False, False,\n",
       "                    False, False, False, False, False, False, False, False,\n",
       "                    False, False, False, False, False, False, False, False,\n",
       "                    False, False, False, False, False, False, False, False,\n",
       "                    False, False, False, False, False, False, False, False,\n",
       "                    False, False],\n",
       "        fill_value='?',\n",
       "             dtype=object),\n",
       " 'param_n_estimators': masked_array(data=[20, 50, 200, 20, 50, 200, 20, 50, 200, 20, 50, 200, 20,\n",
       "                    50, 200, 20, 50, 200, 20, 50, 200, 20, 50, 200, 20, 50,\n",
       "                    200, 20, 50, 200, 20, 50, 200, 20, 50, 200, 20, 50,\n",
       "                    200, 20, 50, 200, 20, 50, 200, 20, 50, 200, 20, 50,\n",
       "                    200, 20, 50, 200, 20, 50, 200, 20, 50, 200, 20, 50,\n",
       "                    200, 20, 50, 200, 20, 50, 200, 20, 50, 200, 20, 50,\n",
       "                    200, 20, 50, 200, 20, 50, 200, 20, 50, 200, 20, 50,\n",
       "                    200, 20, 50, 200],\n",
       "              mask=[False, False, False, False, False, False, False, False,\n",
       "                    False, False, False, False, False, False, False, False,\n",
       "                    False, False, False, False, False, False, False, False,\n",
       "                    False, False, False, False, False, False, False, False,\n",
       "                    False, False, False, False, False, False, False, False,\n",
       "                    False, False, False, False, False, False, False, False,\n",
       "                    False, False, False, False, False, False, False, False,\n",
       "                    False, False, False, False, False, False, False, False,\n",
       "                    False, False, False, False, False, False, False, False,\n",
       "                    False, False, False, False, False, False, False, False,\n",
       "                    False, False, False, False, False, False, False, False,\n",
       "                    False, False],\n",
       "        fill_value='?',\n",
       "             dtype=object),\n",
       " 'params': [{'bootstrap': True,\n",
       "   'max_depth': 3,\n",
       "   'max_features': 1,\n",
       "   'n_estimators': 20},\n",
       "  {'bootstrap': True, 'max_depth': 3, 'max_features': 1, 'n_estimators': 50},\n",
       "  {'bootstrap': True, 'max_depth': 3, 'max_features': 1, 'n_estimators': 200},\n",
       "  {'bootstrap': True, 'max_depth': 3, 'max_features': 3, 'n_estimators': 20},\n",
       "  {'bootstrap': True, 'max_depth': 3, 'max_features': 3, 'n_estimators': 50},\n",
       "  {'bootstrap': True, 'max_depth': 3, 'max_features': 3, 'n_estimators': 200},\n",
       "  {'bootstrap': True, 'max_depth': 3, 'max_features': 5, 'n_estimators': 20},\n",
       "  {'bootstrap': True, 'max_depth': 3, 'max_features': 5, 'n_estimators': 50},\n",
       "  {'bootstrap': True, 'max_depth': 3, 'max_features': 5, 'n_estimators': 200},\n",
       "  {'bootstrap': True, 'max_depth': 5, 'max_features': 1, 'n_estimators': 20},\n",
       "  {'bootstrap': True, 'max_depth': 5, 'max_features': 1, 'n_estimators': 50},\n",
       "  {'bootstrap': True, 'max_depth': 5, 'max_features': 1, 'n_estimators': 200},\n",
       "  {'bootstrap': True, 'max_depth': 5, 'max_features': 3, 'n_estimators': 20},\n",
       "  {'bootstrap': True, 'max_depth': 5, 'max_features': 3, 'n_estimators': 50},\n",
       "  {'bootstrap': True, 'max_depth': 5, 'max_features': 3, 'n_estimators': 200},\n",
       "  {'bootstrap': True, 'max_depth': 5, 'max_features': 5, 'n_estimators': 20},\n",
       "  {'bootstrap': True, 'max_depth': 5, 'max_features': 5, 'n_estimators': 50},\n",
       "  {'bootstrap': True, 'max_depth': 5, 'max_features': 5, 'n_estimators': 200},\n",
       "  {'bootstrap': True, 'max_depth': 10, 'max_features': 1, 'n_estimators': 20},\n",
       "  {'bootstrap': True, 'max_depth': 10, 'max_features': 1, 'n_estimators': 50},\n",
       "  {'bootstrap': True, 'max_depth': 10, 'max_features': 1, 'n_estimators': 200},\n",
       "  {'bootstrap': True, 'max_depth': 10, 'max_features': 3, 'n_estimators': 20},\n",
       "  {'bootstrap': True, 'max_depth': 10, 'max_features': 3, 'n_estimators': 50},\n",
       "  {'bootstrap': True, 'max_depth': 10, 'max_features': 3, 'n_estimators': 200},\n",
       "  {'bootstrap': True, 'max_depth': 10, 'max_features': 5, 'n_estimators': 20},\n",
       "  {'bootstrap': True, 'max_depth': 10, 'max_features': 5, 'n_estimators': 50},\n",
       "  {'bootstrap': True, 'max_depth': 10, 'max_features': 5, 'n_estimators': 200},\n",
       "  {'bootstrap': True, 'max_depth': 20, 'max_features': 1, 'n_estimators': 20},\n",
       "  {'bootstrap': True, 'max_depth': 20, 'max_features': 1, 'n_estimators': 50},\n",
       "  {'bootstrap': True, 'max_depth': 20, 'max_features': 1, 'n_estimators': 200},\n",
       "  {'bootstrap': True, 'max_depth': 20, 'max_features': 3, 'n_estimators': 20},\n",
       "  {'bootstrap': True, 'max_depth': 20, 'max_features': 3, 'n_estimators': 50},\n",
       "  {'bootstrap': True, 'max_depth': 20, 'max_features': 3, 'n_estimators': 200},\n",
       "  {'bootstrap': True, 'max_depth': 20, 'max_features': 5, 'n_estimators': 20},\n",
       "  {'bootstrap': True, 'max_depth': 20, 'max_features': 5, 'n_estimators': 50},\n",
       "  {'bootstrap': True, 'max_depth': 20, 'max_features': 5, 'n_estimators': 200},\n",
       "  {'bootstrap': True,\n",
       "   'max_depth': None,\n",
       "   'max_features': 1,\n",
       "   'n_estimators': 20},\n",
       "  {'bootstrap': True,\n",
       "   'max_depth': None,\n",
       "   'max_features': 1,\n",
       "   'n_estimators': 50},\n",
       "  {'bootstrap': True,\n",
       "   'max_depth': None,\n",
       "   'max_features': 1,\n",
       "   'n_estimators': 200},\n",
       "  {'bootstrap': True,\n",
       "   'max_depth': None,\n",
       "   'max_features': 3,\n",
       "   'n_estimators': 20},\n",
       "  {'bootstrap': True,\n",
       "   'max_depth': None,\n",
       "   'max_features': 3,\n",
       "   'n_estimators': 50},\n",
       "  {'bootstrap': True,\n",
       "   'max_depth': None,\n",
       "   'max_features': 3,\n",
       "   'n_estimators': 200},\n",
       "  {'bootstrap': True,\n",
       "   'max_depth': None,\n",
       "   'max_features': 5,\n",
       "   'n_estimators': 20},\n",
       "  {'bootstrap': True,\n",
       "   'max_depth': None,\n",
       "   'max_features': 5,\n",
       "   'n_estimators': 50},\n",
       "  {'bootstrap': True,\n",
       "   'max_depth': None,\n",
       "   'max_features': 5,\n",
       "   'n_estimators': 200},\n",
       "  {'bootstrap': False, 'max_depth': 3, 'max_features': 1, 'n_estimators': 20},\n",
       "  {'bootstrap': False, 'max_depth': 3, 'max_features': 1, 'n_estimators': 50},\n",
       "  {'bootstrap': False, 'max_depth': 3, 'max_features': 1, 'n_estimators': 200},\n",
       "  {'bootstrap': False, 'max_depth': 3, 'max_features': 3, 'n_estimators': 20},\n",
       "  {'bootstrap': False, 'max_depth': 3, 'max_features': 3, 'n_estimators': 50},\n",
       "  {'bootstrap': False, 'max_depth': 3, 'max_features': 3, 'n_estimators': 200},\n",
       "  {'bootstrap': False, 'max_depth': 3, 'max_features': 5, 'n_estimators': 20},\n",
       "  {'bootstrap': False, 'max_depth': 3, 'max_features': 5, 'n_estimators': 50},\n",
       "  {'bootstrap': False, 'max_depth': 3, 'max_features': 5, 'n_estimators': 200},\n",
       "  {'bootstrap': False, 'max_depth': 5, 'max_features': 1, 'n_estimators': 20},\n",
       "  {'bootstrap': False, 'max_depth': 5, 'max_features': 1, 'n_estimators': 50},\n",
       "  {'bootstrap': False, 'max_depth': 5, 'max_features': 1, 'n_estimators': 200},\n",
       "  {'bootstrap': False, 'max_depth': 5, 'max_features': 3, 'n_estimators': 20},\n",
       "  {'bootstrap': False, 'max_depth': 5, 'max_features': 3, 'n_estimators': 50},\n",
       "  {'bootstrap': False, 'max_depth': 5, 'max_features': 3, 'n_estimators': 200},\n",
       "  {'bootstrap': False, 'max_depth': 5, 'max_features': 5, 'n_estimators': 20},\n",
       "  {'bootstrap': False, 'max_depth': 5, 'max_features': 5, 'n_estimators': 50},\n",
       "  {'bootstrap': False, 'max_depth': 5, 'max_features': 5, 'n_estimators': 200},\n",
       "  {'bootstrap': False, 'max_depth': 10, 'max_features': 1, 'n_estimators': 20},\n",
       "  {'bootstrap': False, 'max_depth': 10, 'max_features': 1, 'n_estimators': 50},\n",
       "  {'bootstrap': False,\n",
       "   'max_depth': 10,\n",
       "   'max_features': 1,\n",
       "   'n_estimators': 200},\n",
       "  {'bootstrap': False, 'max_depth': 10, 'max_features': 3, 'n_estimators': 20},\n",
       "  {'bootstrap': False, 'max_depth': 10, 'max_features': 3, 'n_estimators': 50},\n",
       "  {'bootstrap': False,\n",
       "   'max_depth': 10,\n",
       "   'max_features': 3,\n",
       "   'n_estimators': 200},\n",
       "  {'bootstrap': False, 'max_depth': 10, 'max_features': 5, 'n_estimators': 20},\n",
       "  {'bootstrap': False, 'max_depth': 10, 'max_features': 5, 'n_estimators': 50},\n",
       "  {'bootstrap': False,\n",
       "   'max_depth': 10,\n",
       "   'max_features': 5,\n",
       "   'n_estimators': 200},\n",
       "  {'bootstrap': False, 'max_depth': 20, 'max_features': 1, 'n_estimators': 20},\n",
       "  {'bootstrap': False, 'max_depth': 20, 'max_features': 1, 'n_estimators': 50},\n",
       "  {'bootstrap': False,\n",
       "   'max_depth': 20,\n",
       "   'max_features': 1,\n",
       "   'n_estimators': 200},\n",
       "  {'bootstrap': False, 'max_depth': 20, 'max_features': 3, 'n_estimators': 20},\n",
       "  {'bootstrap': False, 'max_depth': 20, 'max_features': 3, 'n_estimators': 50},\n",
       "  {'bootstrap': False,\n",
       "   'max_depth': 20,\n",
       "   'max_features': 3,\n",
       "   'n_estimators': 200},\n",
       "  {'bootstrap': False, 'max_depth': 20, 'max_features': 5, 'n_estimators': 20},\n",
       "  {'bootstrap': False, 'max_depth': 20, 'max_features': 5, 'n_estimators': 50},\n",
       "  {'bootstrap': False,\n",
       "   'max_depth': 20,\n",
       "   'max_features': 5,\n",
       "   'n_estimators': 200},\n",
       "  {'bootstrap': False,\n",
       "   'max_depth': None,\n",
       "   'max_features': 1,\n",
       "   'n_estimators': 20},\n",
       "  {'bootstrap': False,\n",
       "   'max_depth': None,\n",
       "   'max_features': 1,\n",
       "   'n_estimators': 50},\n",
       "  {'bootstrap': False,\n",
       "   'max_depth': None,\n",
       "   'max_features': 1,\n",
       "   'n_estimators': 200},\n",
       "  {'bootstrap': False,\n",
       "   'max_depth': None,\n",
       "   'max_features': 3,\n",
       "   'n_estimators': 20},\n",
       "  {'bootstrap': False,\n",
       "   'max_depth': None,\n",
       "   'max_features': 3,\n",
       "   'n_estimators': 50},\n",
       "  {'bootstrap': False,\n",
       "   'max_depth': None,\n",
       "   'max_features': 3,\n",
       "   'n_estimators': 200},\n",
       "  {'bootstrap': False,\n",
       "   'max_depth': None,\n",
       "   'max_features': 5,\n",
       "   'n_estimators': 20},\n",
       "  {'bootstrap': False,\n",
       "   'max_depth': None,\n",
       "   'max_features': 5,\n",
       "   'n_estimators': 50},\n",
       "  {'bootstrap': False,\n",
       "   'max_depth': None,\n",
       "   'max_features': 5,\n",
       "   'n_estimators': 200}],\n",
       " 'split0_test_score': array([0.80433333, 0.81966667, 0.821     , 0.8235    , 0.81966667,\n",
       "        0.82016667, 0.81683333, 0.81716667, 0.81716667, 0.8305    ,\n",
       "        0.81966667, 0.82966667, 0.8325    , 0.83633333, 0.83466667,\n",
       "        0.8345    , 0.836     , 0.8345    , 0.835     , 0.8395    ,\n",
       "        0.8395    , 0.84016667, 0.84016667, 0.84233333, 0.84      ,\n",
       "        0.84316667, 0.84316667, 0.8395    , 0.84633333, 0.846     ,\n",
       "        0.83666667, 0.84266667, 0.84683333, 0.83816667, 0.84183333,\n",
       "        0.8445    , 0.84083333, 0.83966667, 0.8475    , 0.84      ,\n",
       "        0.8405    , 0.84233333, 0.83383333, 0.8425    , 0.84333333,\n",
       "        0.8255    , 0.81516667, 0.81983333, 0.81866667, 0.82233333,\n",
       "        0.82183333, 0.81216667, 0.81216667, 0.81216667, 0.83033333,\n",
       "        0.831     , 0.8305    , 0.82983333, 0.83366667, 0.83466667,\n",
       "        0.82916667, 0.82916667, 0.82916667, 0.839     , 0.83733333,\n",
       "        0.83966667, 0.84083333, 0.83916667, 0.83833333, 0.82366667,\n",
       "        0.82483333, 0.8245    , 0.84083333, 0.83766667, 0.84283333,\n",
       "        0.83316667, 0.83333333, 0.8365    , 0.80283333, 0.802     ,\n",
       "        0.8035    , 0.83616667, 0.83616667, 0.84133333, 0.82866667,\n",
       "        0.83333333, 0.83366667, 0.79983333, 0.79966667, 0.79966667]),\n",
       " 'split1_test_score': array([0.82683333, 0.826     , 0.83716667, 0.832     , 0.8295    ,\n",
       "        0.831     , 0.82916667, 0.829     , 0.82883333, 0.83583333,\n",
       "        0.84366667, 0.84166667, 0.84366667, 0.8435    , 0.84216667,\n",
       "        0.84316667, 0.8435    , 0.84366667, 0.8425    , 0.84683333,\n",
       "        0.848     , 0.8445    , 0.84683333, 0.84933333, 0.84533333,\n",
       "        0.8475    , 0.84666667, 0.84516667, 0.853     , 0.85266667,\n",
       "        0.8465    , 0.85416667, 0.85      , 0.84383333, 0.84283333,\n",
       "        0.85066667, 0.84883333, 0.85133333, 0.8525    , 0.8435    ,\n",
       "        0.84583333, 0.85233333, 0.84333333, 0.8485    , 0.85      ,\n",
       "        0.835     , 0.83483333, 0.82066667, 0.83316667, 0.83066667,\n",
       "        0.83066667, 0.82933333, 0.82933333, 0.82933333, 0.83183333,\n",
       "        0.83933333, 0.84233333, 0.839     , 0.84016667, 0.8405    ,\n",
       "        0.83416667, 0.83416667, 0.83416667, 0.8465    , 0.8505    ,\n",
       "        0.84983333, 0.846     , 0.84616667, 0.8455    , 0.8345    ,\n",
       "        0.8345    , 0.835     , 0.84533333, 0.8495    , 0.85016667,\n",
       "        0.83483333, 0.84033333, 0.8405    , 0.80716667, 0.80666667,\n",
       "        0.80616667, 0.84866667, 0.84633333, 0.84816667, 0.83816667,\n",
       "        0.837     , 0.83583333, 0.80116667, 0.802     , 0.8025    ]),\n",
       " 'split2_test_score': array([0.81933333, 0.8115    , 0.8155    , 0.819     , 0.82216667,\n",
       "        0.81833333, 0.82233333, 0.81883333, 0.8185    , 0.82883333,\n",
       "        0.82683333, 0.82783333, 0.83216667, 0.83083333, 0.83183333,\n",
       "        0.83366667, 0.835     , 0.8335    , 0.84083333, 0.84166667,\n",
       "        0.8385    , 0.84066667, 0.84133333, 0.841     , 0.84      ,\n",
       "        0.84016667, 0.84166667, 0.838     , 0.83916667, 0.8455    ,\n",
       "        0.83283333, 0.8405    , 0.84216667, 0.83683333, 0.839     ,\n",
       "        0.84      , 0.84116667, 0.8425    , 0.842     , 0.83583333,\n",
       "        0.84183333, 0.84233333, 0.8375    , 0.83533333, 0.839     ,\n",
       "        0.81166667, 0.8245    , 0.81033333, 0.82266667, 0.82416667,\n",
       "        0.82483333, 0.81733333, 0.81733333, 0.81733333, 0.83133333,\n",
       "        0.832     , 0.83083333, 0.831     , 0.832     , 0.83083333,\n",
       "        0.83083333, 0.83083333, 0.83083333, 0.839     , 0.8375    ,\n",
       "        0.83866667, 0.83333333, 0.836     , 0.838     , 0.8275    ,\n",
       "        0.82733333, 0.82766667, 0.83583333, 0.83366667, 0.83983333,\n",
       "        0.82666667, 0.82783333, 0.83083333, 0.79466667, 0.79566667,\n",
       "        0.79366667, 0.8325    , 0.8335    , 0.83583333, 0.82533333,\n",
       "        0.82716667, 0.82633333, 0.79316667, 0.79133333, 0.78983333]),\n",
       " 'split3_test_score': array([0.79166667, 0.82483333, 0.8115    , 0.81933333, 0.82016667,\n",
       "        0.821     , 0.81233333, 0.8185    , 0.818     , 0.81316667,\n",
       "        0.827     , 0.82783333, 0.82766667, 0.82766667, 0.82783333,\n",
       "        0.82566667, 0.82566667, 0.82666667, 0.83183333, 0.83866667,\n",
       "        0.83566667, 0.83833333, 0.83783333, 0.84066667, 0.841     ,\n",
       "        0.84083333, 0.83983333, 0.838     , 0.845     , 0.84283333,\n",
       "        0.836     , 0.83966667, 0.84166667, 0.836     , 0.83716667,\n",
       "        0.8405    , 0.83733333, 0.8415    , 0.84266667, 0.83166667,\n",
       "        0.83316667, 0.83883333, 0.83533333, 0.83716667, 0.83416667,\n",
       "        0.79216667, 0.78983333, 0.80833333, 0.81766667, 0.82366667,\n",
       "        0.82183333, 0.8105    , 0.8105    , 0.8105    , 0.81766667,\n",
       "        0.82516667, 0.82766667, 0.8265    , 0.82716667, 0.827     ,\n",
       "        0.82233333, 0.82233333, 0.82233333, 0.83016667, 0.83316667,\n",
       "        0.83516667, 0.83633333, 0.83733333, 0.8385    , 0.825     ,\n",
       "        0.82566667, 0.82516667, 0.83383333, 0.83833333, 0.83933333,\n",
       "        0.82616667, 0.83183333, 0.83266667, 0.79983333, 0.8015    ,\n",
       "        0.79983333, 0.83483333, 0.83483333, 0.83816667, 0.82366667,\n",
       "        0.82683333, 0.82766667, 0.79866667, 0.79766667, 0.7965    ]),\n",
       " 'split4_test_score': array([0.83166667, 0.80716667, 0.82733333, 0.82433333, 0.8285    ,\n",
       "        0.82633333, 0.822     , 0.822     , 0.82216667, 0.8305    ,\n",
       "        0.83683333, 0.83683333, 0.83766667, 0.83933333, 0.83783333,\n",
       "        0.839     , 0.83733333, 0.838     , 0.84016667, 0.84283333,\n",
       "        0.84533333, 0.84116667, 0.84083333, 0.841     , 0.841     ,\n",
       "        0.84133333, 0.84033333, 0.843     , 0.84316667, 0.84616667,\n",
       "        0.8385    , 0.84      , 0.83966667, 0.837     , 0.83783333,\n",
       "        0.8425    , 0.83916667, 0.84033333, 0.84216667, 0.83683333,\n",
       "        0.84083333, 0.8395    , 0.835     , 0.84133333, 0.84133333,\n",
       "        0.81116667, 0.82866667, 0.8265    , 0.83066667, 0.825     ,\n",
       "        0.82766667, 0.8175    , 0.8175    , 0.8175    , 0.8365    ,\n",
       "        0.835     , 0.83666667, 0.8385    , 0.8355    , 0.836     ,\n",
       "        0.83383333, 0.83383333, 0.83383333, 0.84183333, 0.84616667,\n",
       "        0.84633333, 0.83666667, 0.83716667, 0.83833333, 0.82666667,\n",
       "        0.82683333, 0.82716667, 0.83783333, 0.83983333, 0.84133333,\n",
       "        0.83083333, 0.833     , 0.8345    , 0.79133333, 0.7925    ,\n",
       "        0.79083333, 0.83416667, 0.83966667, 0.8395    , 0.83083333,\n",
       "        0.82566667, 0.83066667, 0.78883333, 0.79016667, 0.79      ]),\n",
       " 'mean_test_score': array([0.81476667, 0.81783333, 0.8225    , 0.82363333, 0.824     ,\n",
       "        0.82336667, 0.82053333, 0.8211    , 0.82093333, 0.82776667,\n",
       "        0.8308    , 0.83276667, 0.83473333, 0.83553333, 0.83486667,\n",
       "        0.8352    , 0.8355    , 0.83526667, 0.83806667, 0.8419    ,\n",
       "        0.8414    , 0.84096667, 0.8414    , 0.84286667, 0.84146667,\n",
       "        0.8426    , 0.84233333, 0.84073333, 0.84533333, 0.84663333,\n",
       "        0.8381    , 0.8434    , 0.84406667, 0.83836667, 0.83973333,\n",
       "        0.84363333, 0.84146667, 0.84306667, 0.84536667, 0.83756667,\n",
       "        0.84043333, 0.84306667, 0.837     , 0.84096667, 0.84156667,\n",
       "        0.8151    , 0.8186    , 0.81713333, 0.82456667, 0.82516667,\n",
       "        0.82536667, 0.81736667, 0.81736667, 0.81736667, 0.82953333,\n",
       "        0.8325    , 0.8336    , 0.83296667, 0.8337    , 0.8338    ,\n",
       "        0.83006667, 0.83006667, 0.83006667, 0.8393    , 0.84093333,\n",
       "        0.84193333, 0.83863333, 0.83916667, 0.83973333, 0.82746667,\n",
       "        0.82783333, 0.8279    , 0.83873333, 0.8398    , 0.8427    ,\n",
       "        0.83033333, 0.83326667, 0.835     , 0.79916667, 0.79966667,\n",
       "        0.7988    , 0.83726667, 0.8381    , 0.8406    , 0.82933333,\n",
       "        0.83      , 0.83083333, 0.79633333, 0.79616667, 0.7957    ]),\n",
       " 'std_test_score': array([0.01479549, 0.00738843, 0.00906336, 0.00470035, 0.00417931,\n",
       "        0.00465284, 0.00567196, 0.0042565 , 0.00430452, 0.00767217,\n",
       "        0.00843893, 0.00555038, 0.00547581, 0.00570127, 0.00491528,\n",
       "        0.0058589 , 0.00573682, 0.00558032, 0.00399944, 0.0028802 ,\n",
       "        0.004559  , 0.00200942, 0.00296947, 0.00328363, 0.00198438,\n",
       "        0.00264491, 0.00245628, 0.00287247, 0.00453015, 0.00324791,\n",
       "        0.00458088, 0.00548392, 0.00378388, 0.00281938, 0.00222511,\n",
       "        0.00386063, 0.00392768, 0.00424604, 0.00410609, 0.00398692,\n",
       "        0.00410095, 0.00484951, 0.00338132, 0.00459154, 0.00520854,\n",
       "        0.01454212, 0.01574152, 0.00679984, 0.00628013, 0.0028829 ,\n",
       "        0.00342442, 0.00659411, 0.00659411, 0.00659411, 0.00630115,\n",
       "        0.0046738 , 0.00525632, 0.0049502 , 0.00425754, 0.00459396,\n",
       "        0.00429418, 0.00429418, 0.00429418, 0.00532645, 0.00638714,\n",
       "        0.00535475, 0.00438989, 0.00364387, 0.00288791, 0.00375855,\n",
       "        0.00344642, 0.00374255, 0.00402989, 0.00526139, 0.00392909,\n",
       "        0.0034448 , 0.00403953, 0.00333333, 0.00564801, 0.00500333,\n",
       "        0.0057835 , 0.00582103, 0.00460024, 0.00418675, 0.00507609,\n",
       "        0.00440328, 0.00355903, 0.00463321, 0.00464519, 0.00508964]),\n",
       " 'rank_test_score': array([84, 78, 73, 71, 70, 72, 76, 74, 75, 65, 55, 52, 46, 40, 45, 43, 41,\n",
       "        42, 36, 14, 18, 20, 18,  9, 16, 11, 12, 23,  3,  1, 34,  6,  4, 33,\n",
       "        27,  5, 16,  7,  2, 37, 25,  7, 39, 20, 15, 83, 77, 82, 69, 68, 67,\n",
       "        79, 79, 79, 61, 53, 49, 51, 48, 47, 57, 57, 57, 29, 22, 13, 32, 30,\n",
       "        28, 66, 64, 63, 31, 26, 10, 56, 50, 44, 86, 85, 87, 38, 34, 24, 62,\n",
       "        60, 54, 88, 89, 90])}"
      ]
     },
     "execution_count": 20,
     "metadata": {},
     "output_type": "execute_result"
    }
   ],
   "source": [
    "clfcv.cv_results_"
   ]
  },
  {
   "cell_type": "code",
   "execution_count": 23,
   "metadata": {},
   "outputs": [
    {
     "data": {
      "text/plain": [
       "{'bootstrap': True, 'max_depth': None, 'max_features': 1, 'n_estimators': 200}"
      ]
     },
     "execution_count": 23,
     "metadata": {},
     "output_type": "execute_result"
    }
   ],
   "source": [
    "clfcv.best_params_"
   ]
  },
  {
   "cell_type": "markdown",
   "metadata": {},
   "source": [
    "Ajustar el mejor modelo, con todos los datos:"
   ]
  },
  {
   "cell_type": "code",
   "execution_count": 24,
   "metadata": {},
   "outputs": [
    {
     "data": {
      "text/plain": [
       "0.8526081733841082"
      ]
     },
     "execution_count": 24,
     "metadata": {},
     "output_type": "execute_result"
    }
   ],
   "source": [
    "X = dfcomplete[['AirTime','Distance','TaxiIn','TaxiOut',\"DepDelay\"]]\n",
    "Y = dfcomplete[\"ArrDelay\"] > 0\n",
    "\n",
    "X_train, X_test, y_train, y_test = train_test_split(X, Y, test_size=.2)\n",
    "\n",
    "\n",
    "clf = RandomForestClassifier(n_estimators = clfcv.best_params_[\"n_estimators\"], \n",
    "                             bootstrap = clfcv.best_params_[\"bootstrap\"], \n",
    "                             max_depth = clfcv.best_params_[\"max_depth\"], \n",
    "                             max_features= clfcv.best_params_[\"max_features\"],\n",
    "                             n_jobs = -1)\n",
    "\n",
    "clf.fit(X_train,y_train)\n",
    "predictions = clf.predict(X_test)\n",
    "np.mean(predictions == y_test)"
   ]
  },
  {
   "cell_type": "markdown",
   "metadata": {},
   "source": [
    "Ahora estoy convencido que el modelo funciona."
   ]
  },
  {
   "cell_type": "markdown",
   "metadata": {},
   "source": [
    "#### Exportar un modelo al disco"
   ]
  },
  {
   "cell_type": "code",
   "execution_count": 25,
   "metadata": {},
   "outputs": [
    {
     "name": "stdout",
     "output_type": "stream",
     "text": [
      "Modelo Guardado\n",
      "Modelo Borrado del Jupyter Notebook\n"
     ]
    }
   ],
   "source": [
    "# Entrenar con TODOS los datos\n",
    "\n",
    "clf = RandomForestClassifier(n_estimators = clfcv.best_params_[\"n_estimators\"], \n",
    "                             bootstrap = clfcv.best_params_[\"bootstrap\"], \n",
    "                             max_depth = clfcv.best_params_[\"max_depth\"],\n",
    "                             max_features= clfcv.best_params_[\"max_features\"],\n",
    "                             n_jobs = -1)\n",
    "\n",
    "clf.fit(X,Y)\n",
    "\n",
    "# Guardar el modelo en disco\n",
    "filename = 'mirandomforest.sav'\n",
    "pickle.dump(clf, open(filename, 'wb'))\n",
    " \n",
    "print(\"Modelo Guardado\")\n",
    "\n",
    "del(clf)\n",
    "    \n",
    "print(\"Modelo Borrado del Jupyter Notebook\")"
   ]
  },
  {
   "cell_type": "markdown",
   "metadata": {},
   "source": [
    "#### Cargar el modelo\n",
    "Y lo usamos con nuevos datos que entramos directamente"
   ]
  },
  {
   "cell_type": "code",
   "execution_count": 28,
   "metadata": {},
   "outputs": [],
   "source": [
    "modelo = pickle.load(open('mirandomforest.sav', 'rb'))"
   ]
  },
  {
   "cell_type": "markdown",
   "metadata": {},
   "source": [
    "Crearemos un objeto vacío aprovechando el objeto X"
   ]
  },
  {
   "cell_type": "markdown",
   "metadata": {},
   "source": [
    "#### Opción 1. Input"
   ]
  },
  {
   "cell_type": "code",
   "execution_count": 29,
   "metadata": {},
   "outputs": [
    {
     "data": {
      "text/html": [
       "<div>\n",
       "<style scoped>\n",
       "    .dataframe tbody tr th:only-of-type {\n",
       "        vertical-align: middle;\n",
       "    }\n",
       "\n",
       "    .dataframe tbody tr th {\n",
       "        vertical-align: top;\n",
       "    }\n",
       "\n",
       "    .dataframe thead th {\n",
       "        text-align: right;\n",
       "    }\n",
       "</style>\n",
       "<table border=\"1\" class=\"dataframe\">\n",
       "  <thead>\n",
       "    <tr style=\"text-align: right;\">\n",
       "      <th></th>\n",
       "      <th>AirTime</th>\n",
       "      <th>Distance</th>\n",
       "      <th>TaxiIn</th>\n",
       "      <th>TaxiOut</th>\n",
       "      <th>DepDelay</th>\n",
       "    </tr>\n",
       "  </thead>\n",
       "  <tbody>\n",
       "    <tr>\n",
       "      <th>0</th>\n",
       "      <td>NaN</td>\n",
       "      <td>NaN</td>\n",
       "      <td>NaN</td>\n",
       "      <td>NaN</td>\n",
       "      <td>NaN</td>\n",
       "    </tr>\n",
       "  </tbody>\n",
       "</table>\n",
       "</div>"
      ],
      "text/plain": [
       "  AirTime Distance TaxiIn TaxiOut DepDelay\n",
       "0     NaN      NaN    NaN     NaN      NaN"
      ]
     },
     "execution_count": 29,
     "metadata": {},
     "output_type": "execute_result"
    }
   ],
   "source": [
    "newflight = pd.DataFrame(columns=X.columns, index=range(1))\n",
    "newflight"
   ]
  },
  {
   "cell_type": "code",
   "execution_count": 30,
   "metadata": {},
   "outputs": [
    {
     "name": "stdout",
     "output_type": "stream",
     "text": [
      "Airtime60\n",
      "Distance200\n",
      "TaxiIn4\n",
      "TaxiOut0\n",
      "DepDelay30\n",
      "Prediccion: [0.045 0.955]\n"
     ]
    }
   ],
   "source": [
    "newflight = pd.DataFrame(columns=['AirTime','Distance','TaxiIn','TaxiOut',\"DepDelay\"], index=range(1))\n",
    "\n",
    "newflight[\"AirTime\"] = int(input(\"Airtime\"))\n",
    "newflight[\"Distance\"] = int(input(\"Distance\"))\n",
    "newflight[\"TaxiIn\"] = int(input(\"TaxiIn\"))\n",
    "newflight[\"TaxiOut\"] = int(input(\"TaxiOut\"))\n",
    "newflight[\"DepDelay\"] = int(input(\"DepDelay\"))\n",
    "\n",
    "print(\"Prediccion:\",modelo.predict_proba(newflight)[0])"
   ]
  },
  {
   "cell_type": "markdown",
   "metadata": {},
   "source": [
    "#### Opción 2. GUI"
   ]
  },
  {
   "cell_type": "code",
   "execution_count": 19,
   "metadata": {
    "scrolled": true
   },
   "outputs": [],
   "source": [
    "# ! pip install tk"
   ]
  },
  {
   "cell_type": "code",
   "execution_count": 31,
   "metadata": {},
   "outputs": [],
   "source": [
    "from tkinter import *\n",
    "from tkinter.ttk import *\n",
    "from tkinter import messagebox"
   ]
  },
  {
   "cell_type": "code",
   "execution_count": 32,
   "metadata": {},
   "outputs": [],
   "source": [
    "def validate():\n",
    "    global t, d, ti, to, r\n",
    "    \n",
    "    newflight = pd.DataFrame(columns=['AirTime','Distance','TaxiIn','TaxiOut',\"DepDelay\"], index=range(1))\n",
    "\n",
    "    t, d, ti, to, r = tiempo_value.get(), distancia_value.get(), taxiin_value.get(), taxiout_value.get(), retraso_value.get()\n",
    "    newflight[\"AirTime\"] = int(t)\n",
    "    newflight[\"Distance\"] = int(d)\n",
    "    newflight[\"TaxiIn\"] = int(ti)\n",
    "    newflight[\"TaxiOut\"] = int(to)\n",
    "    newflight[\"DepDelay\"] = int(r)\n",
    "    \n",
    "    print(\"prediccion\",modelo.predict(newflight)[0])\n",
    "    \n",
    "    if modelo.predict(newflight)[0]:\n",
    "        messagebox.showinfo(\"PREDICCION\",\"Vuelo con retraso esperado\")\n",
    "    else:\n",
    "        messagebox.showinfo(\"PREDICCION\",\"Vuelo sin retraso esperado\")\n",
    "\n",
    "    return \"\""
   ]
  },
  {
   "cell_type": "code",
   "execution_count": 33,
   "metadata": {},
   "outputs": [
    {
     "name": "stdout",
     "output_type": "stream",
     "text": [
      "prediccion True\n"
     ]
    }
   ],
   "source": [
    "window = Tk()\n",
    "\n",
    "window.title(\"RandomForest\")\n",
    "window.geometry('350x700')\n",
    "\n",
    "tiempo = Label(window, text=\"Tiempo de vuelo\",font=(\"Arial Bold\", 30))\n",
    "tiempo.grid(column=0, row=6)\n",
    "\n",
    "tiempo_value = Entry(window,width=30)\n",
    "tiempo_value.grid(column=0, row=7,pady=5)\n",
    "\n",
    "distancia = Label(window, text=\"Distancia\",font=(\"Arial Bold\", 30))\n",
    "distancia.grid(column=0, row=8)\n",
    "\n",
    "distancia_value = Entry(window,width=30)\n",
    "distancia_value.grid(column=0, row=9,pady=5)\n",
    "\n",
    "\n",
    "taxiin = Label(window, text=\"Taxi In\",font=(\"Arial Bold\", 30))\n",
    "taxiin.grid(column=0, row=10)\n",
    "\n",
    "taxiin_value = Entry(window,width=30)\n",
    "taxiin_value.grid(column=0, row=11,pady=5)\n",
    "\n",
    "\n",
    "taxiout = Label(window, text=\"Taxi Out\",font=(\"Arial Bold\", 30))\n",
    "taxiout.grid(column=0, row=12)\n",
    "\n",
    "taxiout_value = Entry(window,width=30)\n",
    "taxiout_value.grid(column=0, row=13,pady=5)\n",
    "\n",
    "retraso = Label(window, text=\"Retraso de Salida\",font=(\"Arial Bold\", 30))\n",
    "retraso.grid(column=0, row=14)\n",
    "\n",
    "retraso_value = Entry(window,width=30)\n",
    "retraso_value.grid(column=0, row=15,pady=5)\n",
    "\n",
    "btn = Button(window, text=\"Predecir\",command = validate)\n",
    "btn.grid(column=0, row=18)\n",
    "\n",
    "window.mainloop()"
   ]
  },
  {
   "cell_type": "markdown",
   "metadata": {},
   "source": [
    "# Ejercicios"
   ]
  },
  {
   "cell_type": "markdown",
   "metadata": {},
   "source": [
    "Explora el dataframe breastCancer.csv, el de cars o el de iris (lo importante aquí es la técnica, no los datos concretos)\n",
    "\n",
    "https://www.kaggle.com/datasets/nancyalaswad90/breast-cancer-dataset?resource=download&select=data.csv"
   ]
  },
  {
   "cell_type": "code",
   "execution_count": 2,
   "metadata": {},
   "outputs": [
    {
     "data": {
      "text/html": [
       "<div>\n",
       "<style scoped>\n",
       "    .dataframe tbody tr th:only-of-type {\n",
       "        vertical-align: middle;\n",
       "    }\n",
       "\n",
       "    .dataframe tbody tr th {\n",
       "        vertical-align: top;\n",
       "    }\n",
       "\n",
       "    .dataframe thead th {\n",
       "        text-align: right;\n",
       "    }\n",
       "</style>\n",
       "<table border=\"1\" class=\"dataframe\">\n",
       "  <thead>\n",
       "    <tr style=\"text-align: right;\">\n",
       "      <th></th>\n",
       "      <th>id</th>\n",
       "      <th>diagnosis</th>\n",
       "      <th>radius_mean</th>\n",
       "      <th>texture_mean</th>\n",
       "      <th>perimeter_mean</th>\n",
       "      <th>area_mean</th>\n",
       "      <th>smoothness_mean</th>\n",
       "      <th>compactness_mean</th>\n",
       "      <th>concavity_mean</th>\n",
       "      <th>concave_points_mean</th>\n",
       "      <th>...</th>\n",
       "      <th>radius_worst</th>\n",
       "      <th>texture_worst</th>\n",
       "      <th>perimeter_worst</th>\n",
       "      <th>area_worst</th>\n",
       "      <th>smoothness_worst</th>\n",
       "      <th>compactness_worst</th>\n",
       "      <th>concavity_worst</th>\n",
       "      <th>concave_points_worst</th>\n",
       "      <th>symmetry_worst</th>\n",
       "      <th>fractal_dimension_worst</th>\n",
       "    </tr>\n",
       "  </thead>\n",
       "  <tbody>\n",
       "    <tr>\n",
       "      <th>0</th>\n",
       "      <td>842302</td>\n",
       "      <td>M</td>\n",
       "      <td>17.99</td>\n",
       "      <td>10.38</td>\n",
       "      <td>122.80</td>\n",
       "      <td>1001.0</td>\n",
       "      <td>0.11840</td>\n",
       "      <td>0.27760</td>\n",
       "      <td>0.3001</td>\n",
       "      <td>0.14710</td>\n",
       "      <td>...</td>\n",
       "      <td>25.38</td>\n",
       "      <td>17.33</td>\n",
       "      <td>184.60</td>\n",
       "      <td>2019.0</td>\n",
       "      <td>0.1622</td>\n",
       "      <td>0.6656</td>\n",
       "      <td>0.7119</td>\n",
       "      <td>0.2654</td>\n",
       "      <td>0.4601</td>\n",
       "      <td>0.11890</td>\n",
       "    </tr>\n",
       "    <tr>\n",
       "      <th>1</th>\n",
       "      <td>842517</td>\n",
       "      <td>M</td>\n",
       "      <td>20.57</td>\n",
       "      <td>17.77</td>\n",
       "      <td>132.90</td>\n",
       "      <td>1326.0</td>\n",
       "      <td>0.08474</td>\n",
       "      <td>0.07864</td>\n",
       "      <td>0.0869</td>\n",
       "      <td>0.07017</td>\n",
       "      <td>...</td>\n",
       "      <td>24.99</td>\n",
       "      <td>23.41</td>\n",
       "      <td>158.80</td>\n",
       "      <td>1956.0</td>\n",
       "      <td>0.1238</td>\n",
       "      <td>0.1866</td>\n",
       "      <td>0.2416</td>\n",
       "      <td>0.1860</td>\n",
       "      <td>0.2750</td>\n",
       "      <td>0.08902</td>\n",
       "    </tr>\n",
       "    <tr>\n",
       "      <th>2</th>\n",
       "      <td>84300903</td>\n",
       "      <td>M</td>\n",
       "      <td>19.69</td>\n",
       "      <td>21.25</td>\n",
       "      <td>130.00</td>\n",
       "      <td>1203.0</td>\n",
       "      <td>0.10960</td>\n",
       "      <td>0.15990</td>\n",
       "      <td>0.1974</td>\n",
       "      <td>0.12790</td>\n",
       "      <td>...</td>\n",
       "      <td>23.57</td>\n",
       "      <td>25.53</td>\n",
       "      <td>152.50</td>\n",
       "      <td>1709.0</td>\n",
       "      <td>0.1444</td>\n",
       "      <td>0.4245</td>\n",
       "      <td>0.4504</td>\n",
       "      <td>0.2430</td>\n",
       "      <td>0.3613</td>\n",
       "      <td>0.08758</td>\n",
       "    </tr>\n",
       "    <tr>\n",
       "      <th>3</th>\n",
       "      <td>84348301</td>\n",
       "      <td>M</td>\n",
       "      <td>11.42</td>\n",
       "      <td>20.38</td>\n",
       "      <td>77.58</td>\n",
       "      <td>386.1</td>\n",
       "      <td>0.14250</td>\n",
       "      <td>0.28390</td>\n",
       "      <td>0.2414</td>\n",
       "      <td>0.10520</td>\n",
       "      <td>...</td>\n",
       "      <td>14.91</td>\n",
       "      <td>26.50</td>\n",
       "      <td>98.87</td>\n",
       "      <td>567.7</td>\n",
       "      <td>0.2098</td>\n",
       "      <td>0.8663</td>\n",
       "      <td>0.6869</td>\n",
       "      <td>0.2575</td>\n",
       "      <td>0.6638</td>\n",
       "      <td>0.17300</td>\n",
       "    </tr>\n",
       "    <tr>\n",
       "      <th>4</th>\n",
       "      <td>84358402</td>\n",
       "      <td>M</td>\n",
       "      <td>20.29</td>\n",
       "      <td>14.34</td>\n",
       "      <td>135.10</td>\n",
       "      <td>1297.0</td>\n",
       "      <td>0.10030</td>\n",
       "      <td>0.13280</td>\n",
       "      <td>0.1980</td>\n",
       "      <td>0.10430</td>\n",
       "      <td>...</td>\n",
       "      <td>22.54</td>\n",
       "      <td>16.67</td>\n",
       "      <td>152.20</td>\n",
       "      <td>1575.0</td>\n",
       "      <td>0.1374</td>\n",
       "      <td>0.2050</td>\n",
       "      <td>0.4000</td>\n",
       "      <td>0.1625</td>\n",
       "      <td>0.2364</td>\n",
       "      <td>0.07678</td>\n",
       "    </tr>\n",
       "  </tbody>\n",
       "</table>\n",
       "<p>5 rows × 32 columns</p>\n",
       "</div>"
      ],
      "text/plain": [
       "         id diagnosis  radius_mean  texture_mean  perimeter_mean  area_mean  \\\n",
       "0    842302         M        17.99         10.38          122.80     1001.0   \n",
       "1    842517         M        20.57         17.77          132.90     1326.0   \n",
       "2  84300903         M        19.69         21.25          130.00     1203.0   \n",
       "3  84348301         M        11.42         20.38           77.58      386.1   \n",
       "4  84358402         M        20.29         14.34          135.10     1297.0   \n",
       "\n",
       "   smoothness_mean  compactness_mean  concavity_mean  concave_points_mean  \\\n",
       "0          0.11840           0.27760          0.3001              0.14710   \n",
       "1          0.08474           0.07864          0.0869              0.07017   \n",
       "2          0.10960           0.15990          0.1974              0.12790   \n",
       "3          0.14250           0.28390          0.2414              0.10520   \n",
       "4          0.10030           0.13280          0.1980              0.10430   \n",
       "\n",
       "   ...  radius_worst  texture_worst  perimeter_worst  area_worst  \\\n",
       "0  ...         25.38          17.33           184.60      2019.0   \n",
       "1  ...         24.99          23.41           158.80      1956.0   \n",
       "2  ...         23.57          25.53           152.50      1709.0   \n",
       "3  ...         14.91          26.50            98.87       567.7   \n",
       "4  ...         22.54          16.67           152.20      1575.0   \n",
       "\n",
       "   smoothness_worst  compactness_worst  concavity_worst  concave_points_worst  \\\n",
       "0            0.1622             0.6656           0.7119                0.2654   \n",
       "1            0.1238             0.1866           0.2416                0.1860   \n",
       "2            0.1444             0.4245           0.4504                0.2430   \n",
       "3            0.2098             0.8663           0.6869                0.2575   \n",
       "4            0.1374             0.2050           0.4000                0.1625   \n",
       "\n",
       "   symmetry_worst  fractal_dimension_worst  \n",
       "0          0.4601                  0.11890  \n",
       "1          0.2750                  0.08902  \n",
       "2          0.3613                  0.08758  \n",
       "3          0.6638                  0.17300  \n",
       "4          0.2364                  0.07678  \n",
       "\n",
       "[5 rows x 32 columns]"
      ]
     },
     "execution_count": 2,
     "metadata": {},
     "output_type": "execute_result"
    }
   ],
   "source": [
    "df = pd.read_csv(\"data\\\\breastCancer.csv\")\n",
    "df.head()"
   ]
  },
  {
   "cell_type": "code",
   "execution_count": 24,
   "metadata": {},
   "outputs": [
    {
     "data": {
      "text/plain": [
       "Index(['id', 'diagnosis', 'radius_mean', 'texture_mean', 'perimeter_mean',\n",
       "       'area_mean', 'smoothness_mean', 'compactness_mean', 'concavity_mean',\n",
       "       'concave_points_mean', 'symmetry_mean', 'fractal_dimension_mean',\n",
       "       'radius_se', 'texture_se', 'perimeter_se', 'area_se', 'smoothness_se',\n",
       "       'compactness_se', 'concavity_se', 'concave_points_se', 'symmetry_se',\n",
       "       'fractal_dimension_se', 'radius_worst', 'texture_worst',\n",
       "       'perimeter_worst', 'area_worst', 'smoothness_worst',\n",
       "       'compactness_worst', 'concavity_worst', 'concave_points_worst',\n",
       "       'symmetry_worst', 'fractal_dimension_worst'],\n",
       "      dtype='object')"
      ]
     },
     "execution_count": 24,
     "metadata": {},
     "output_type": "execute_result"
    }
   ],
   "source": [
    "df.columns"
   ]
  },
  {
   "cell_type": "markdown",
   "metadata": {},
   "source": [
    "Añade algunas variables adicionales que puedan servirnos posteriormente. ¿Con qué criterio lo podemos hacer, si desconocemos el campo?"
   ]
  },
  {
   "cell_type": "code",
   "execution_count": null,
   "metadata": {},
   "outputs": [],
   "source": []
  },
  {
   "cell_type": "markdown",
   "metadata": {},
   "source": [
    "**Ajusta un modelo predictivo para anticipar el diagnóstico.** \n",
    "\n",
    "Utiliza una estrategia de validación que te permita estar seguro que estamos haciendo unas buenas predicciones. Prueba primero algunos ejemplos simples de modelos, que te permitan seleccionar cuales pueden funcionar mejor."
   ]
  },
  {
   "cell_type": "code",
   "execution_count": null,
   "metadata": {},
   "outputs": [],
   "source": []
  },
  {
   "cell_type": "markdown",
   "metadata": {},
   "source": [
    "Mejora tanto como puedas el modelo, usando varias de las técnicas que hemos trabajado (Transformaciones, ingeniería de variables, gridsearch...)"
   ]
  },
  {
   "cell_type": "code",
   "execution_count": null,
   "metadata": {},
   "outputs": [],
   "source": []
  },
  {
   "cell_type": "markdown",
   "metadata": {},
   "source": [
    "¿Qué variables son las más útiles para hacer un buen diagnóstico?"
   ]
  },
  {
   "cell_type": "code",
   "execution_count": null,
   "metadata": {},
   "outputs": [],
   "source": []
  },
  {
   "cell_type": "markdown",
   "metadata": {},
   "source": [
    "Crea una aplicación con GUI que, usando las variables más relevantes, te de una predicción. ¿Qué harías con las menos relevantes?"
   ]
  },
  {
   "cell_type": "code",
   "execution_count": null,
   "metadata": {},
   "outputs": [],
   "source": []
  },
  {
   "cell_type": "markdown",
   "metadata": {},
   "source": [
    "##### © Netmind S.L.\n",
    "\n",
    "Todos los derechos reservados. Este documento (v1.00) ha sido diseñado para el uso exclusivo del cliente que atiende a esta formación.\n",
    "\n",
    "Ninguna parte de este documento puede ser reproducida, distribuida o transmitida en cualquier forma o por cualquier medio sin el permiso previo por escrito de Netmind."
   ]
  }
 ],
 "metadata": {
  "kernelspec": {
   "display_name": "Python 3 (ipykernel)",
   "language": "python",
   "name": "python3"
  },
  "language_info": {
   "codemirror_mode": {
    "name": "ipython",
    "version": 3
   },
   "file_extension": ".py",
   "mimetype": "text/x-python",
   "name": "python",
   "nbconvert_exporter": "python",
   "pygments_lexer": "ipython3",
   "version": "3.8.12"
  }
 },
 "nbformat": 4,
 "nbformat_minor": 2
}
