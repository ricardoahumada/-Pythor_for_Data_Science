{
 "cells": [
  {
   "cell_type": "code",
   "execution_count": null,
   "metadata": {},
   "outputs": [],
   "source": [
    "#### Paquetes\n",
    "\n",
    "import pandas as pd\n",
    "import numpy as np\n",
    "import seaborn as sns\n",
    "import matplotlib.pyplot as plt\n",
    "import pickle\n",
    "import os\n",
    "\n",
    "from sklearn import tree\n",
    "from sklearn.preprocessing import StandardScaler \n",
    "from sklearn.model_selection import GridSearchCV\n",
    "from sklearn.preprocessing import PolynomialFeatures\n",
    "from sklearn.ensemble import RandomForestClassifier\n",
    "from sklearn.model_selection import train_test_split\n",
    "\n",
    "\n",
    "import warnings\n",
    "warnings.filterwarnings(\"ignore\")"
   ]
  },
  {
   "cell_type": "markdown",
   "metadata": {},
   "source": [
    "# Random Forests\n",
    "\n",
    "A continuación vamos a ver uno de los algoritmos de clasificación/regresión más populares, que sin ser de los más avanzados, como redes neuronales/xgboost, permite buenos resultados, basados en la aleatorización de árboles de decisión binarios, tanto por filas (registros) como por columnas (variables). El conjunto de árboles, llamado bosque, permite un poder predictivo muy alto a la vez que evita el sobreajuste."
   ]
  },
  {
   "cell_type": "code",
   "execution_count": null,
   "metadata": {},
   "outputs": [],
   "source": [
    "dfcomplete = pd.read_csv(os.getcwd() + \"\\\\data\\\\2008_small.csv\", nrows = 200000)\n",
    "\n",
    "dfcomplete = dfcomplete.dropna(subset = ['AirTime','Distance','TaxiIn','TaxiOut',\"DepDelay\",\"ArrDelay\"])\n",
    "df = dfcomplete.sample(frac=1).head(30000)\n",
    "\n",
    "X = df[['AirTime','Distance','TaxiIn','TaxiOut',\"DepDelay\"]]\n",
    "Y = df[\"ArrDelay\"] > 0\n",
    "\n",
    "X_train, X_test, y_train, y_test = train_test_split(X, Y, test_size=.2, random_state=1)\n",
    "\n",
    "np.mean(y_test) # 43.33 % vuelos tarde // 56.67 % vuelos pronto"
   ]
  },
  {
   "cell_type": "markdown",
   "metadata": {},
   "source": [
    "#### Caso sencillo. Árbol de clasificación\n",
    "Un solo árbol, determinista para hacer la predicción"
   ]
  },
  {
   "cell_type": "code",
   "execution_count": null,
   "metadata": {
    "scrolled": true
   },
   "outputs": [],
   "source": [
    "clf = tree.DecisionTreeClassifier()\n",
    "clf.fit(X_train,y_train)\n",
    "predictions = clf.predict(X_test)\n",
    "np.mean(predictions == y_test)"
   ]
  },
  {
   "cell_type": "markdown",
   "metadata": {},
   "source": [
    "#### Random forest\n",
    "\n",
    "https://scikit-learn.org/stable/modules/generated/sklearn.ensemble.RandomForestClassifier.html"
   ]
  },
  {
   "cell_type": "code",
   "execution_count": null,
   "metadata": {},
   "outputs": [],
   "source": [
    "clf = RandomForestClassifier(n_estimators=1000, max_depth = None, n_jobs= -1)\n",
    "clf.fit(X_train,y_train)\n",
    "predictions = clf.predict(X_test)\n",
    "np.mean(predictions == y_test)"
   ]
  },
  {
   "cell_type": "markdown",
   "metadata": {},
   "source": [
    "Clasificar la importancia de las variables"
   ]
  },
  {
   "cell_type": "code",
   "execution_count": null,
   "metadata": {},
   "outputs": [],
   "source": [
    "X.columns"
   ]
  },
  {
   "cell_type": "code",
   "execution_count": null,
   "metadata": {},
   "outputs": [],
   "source": [
    "clf.feature_importances_"
   ]
  },
  {
   "cell_type": "code",
   "execution_count": null,
   "metadata": {},
   "outputs": [],
   "source": [
    "clf.feature_importances_.sum()"
   ]
  },
  {
   "cell_type": "markdown",
   "metadata": {},
   "source": [
    "Ranking de variables"
   ]
  },
  {
   "cell_type": "code",
   "execution_count": null,
   "metadata": {},
   "outputs": [],
   "source": [
    "X.columns[np.argsort(-clf.feature_importances_)]"
   ]
  },
  {
   "cell_type": "code",
   "execution_count": null,
   "metadata": {},
   "outputs": [],
   "source": [
    "pd.DataFrame({\"Col\":X.columns,\"Imp\":clf.feature_importances_}).sort_values(\"Imp\", ascending = False)"
   ]
  },
  {
   "cell_type": "code",
   "execution_count": null,
   "metadata": {},
   "outputs": [],
   "source": [
    "clf.predict_proba(X_test).round(3)"
   ]
  },
  {
   "cell_type": "markdown",
   "metadata": {},
   "source": [
    "### Ajuste automático del random forest"
   ]
  },
  {
   "cell_type": "markdown",
   "metadata": {},
   "source": [
    "Una optimización de parámetros más eficiente que en los ejemplos anteriores"
   ]
  },
  {
   "cell_type": "code",
   "execution_count": null,
   "metadata": {
    "scrolled": true
   },
   "outputs": [],
   "source": [
    "# EJECUTAR MEJOR SIN n_estimators = 200 y max_depth = 50\n",
    "parameters = {'bootstrap':(True,False), \n",
    "              'n_estimators':[50,200, 500],\n",
    "              'max_depth':[5,10,20,None], \n",
    "              'max_features':[1,3] #Más útil con datasets grandes\n",
    "             }\n",
    "\n",
    "clf = RandomForestClassifier(n_jobs= -1)\n",
    "clfcv = GridSearchCV(clf, parameters,verbose=3,scoring = \"accuracy\")\n",
    "# https://scikit-learn.org/stable/modules/model_evaluation.html#scoring-parameter\n",
    "clfcv.fit(X, Y)"
   ]
  },
  {
   "cell_type": "code",
   "execution_count": null,
   "metadata": {},
   "outputs": [],
   "source": [
    "clfcv.cv_results_"
   ]
  },
  {
   "cell_type": "code",
   "execution_count": null,
   "metadata": {},
   "outputs": [],
   "source": [
    "clfcv.best_params_"
   ]
  },
  {
   "cell_type": "markdown",
   "metadata": {},
   "source": [
    "Ajustar el mejor modelo, con todos los datos:"
   ]
  },
  {
   "cell_type": "code",
   "execution_count": null,
   "metadata": {},
   "outputs": [],
   "source": [
    "X = dfcomplete[['AirTime','Distance','TaxiIn','TaxiOut',\"DepDelay\"]]\n",
    "Y = dfcomplete[\"ArrDelay\"] > 0\n",
    "\n",
    "X_train, X_test, y_train, y_test = train_test_split(X, Y, test_size=.2)\n",
    "\n",
    "\n",
    "clf = RandomForestClassifier(n_estimators = clfcv.best_params_[\"n_estimators\"], \n",
    "                             bootstrap = clfcv.best_params_[\"bootstrap\"], \n",
    "                             max_depth = clfcv.best_params_[\"max_depth\"], \n",
    "                             max_features= clfcv.best_params_[\"max_features\"],\n",
    "                             n_jobs = -1)\n",
    "\n",
    "clf.fit(X_train,y_train)\n",
    "predictions = clf.predict(X_test)\n",
    "np.mean(predictions == y_test)"
   ]
  },
  {
   "cell_type": "markdown",
   "metadata": {},
   "source": [
    "Ahora estoy convencido que el modelo funciona."
   ]
  },
  {
   "cell_type": "markdown",
   "metadata": {},
   "source": [
    "#### Exportar un modelo al disco"
   ]
  },
  {
   "cell_type": "code",
   "execution_count": null,
   "metadata": {},
   "outputs": [],
   "source": [
    "# Entrenar con TODOS los datos\n",
    "\n",
    "clf = RandomForestClassifier(n_estimators = clfcv.best_params_[\"n_estimators\"], \n",
    "                             bootstrap = clfcv.best_params_[\"bootstrap\"], \n",
    "                             max_depth = clfcv.best_params_[\"max_depth\"],\n",
    "                             max_features= clfcv.best_params_[\"max_features\"],\n",
    "                             n_jobs = -1)\n",
    "\n",
    "clf.fit(X,Y)\n",
    "\n",
    "# Guardar el modelo en disco\n",
    "filename = 'mirandomforest.sav'\n",
    "pickle.dump(clf, open(filename, 'wb'))\n",
    " \n",
    "print(\"Modelo Guardado\")\n",
    "\n",
    "del(clf)\n",
    "    \n",
    "print(\"Modelo Borrado del Jupyter Notebook\")"
   ]
  },
  {
   "cell_type": "markdown",
   "metadata": {},
   "source": [
    "#### Cargar el modelo\n",
    "Y lo usamos con nuevos datos que entramos directamente"
   ]
  },
  {
   "cell_type": "code",
   "execution_count": null,
   "metadata": {},
   "outputs": [],
   "source": [
    "modelo = pickle.load(open('mirandomforest.sav', 'rb'))"
   ]
  },
  {
   "cell_type": "markdown",
   "metadata": {},
   "source": [
    "Crearemos un objeto vacío aprovechando el objeto X"
   ]
  },
  {
   "cell_type": "markdown",
   "metadata": {},
   "source": [
    "#### Opción 1. Input"
   ]
  },
  {
   "cell_type": "code",
   "execution_count": null,
   "metadata": {},
   "outputs": [],
   "source": [
    "newflight = pd.DataFrame(columns=X.columns, index=range(1))\n",
    "newflight"
   ]
  },
  {
   "cell_type": "code",
   "execution_count": null,
   "metadata": {},
   "outputs": [],
   "source": [
    "newflight = pd.DataFrame(columns=['AirTime','Distance','TaxiIn','TaxiOut',\"DepDelay\"], index=range(1))\n",
    "\n",
    "newflight[\"AirTime\"] = int(input(\"Airtime\"))\n",
    "newflight[\"Distance\"] = int(input(\"Distance\"))\n",
    "newflight[\"TaxiIn\"] = int(input(\"TaxiIn\"))\n",
    "newflight[\"TaxiOut\"] = int(input(\"TaxiOut\"))\n",
    "newflight[\"DepDelay\"] = int(input(\"DepDelay\"))\n",
    "\n",
    "print(\"Prediccion:\",modelo.predict_proba(newflight)[0])"
   ]
  },
  {
   "cell_type": "markdown",
   "metadata": {},
   "source": [
    "#### Opción 2. GUI"
   ]
  },
  {
   "cell_type": "code",
   "execution_count": null,
   "metadata": {
    "scrolled": true
   },
   "outputs": [],
   "source": [
    "# ! pip install tk"
   ]
  },
  {
   "cell_type": "code",
   "execution_count": null,
   "metadata": {},
   "outputs": [],
   "source": [
    "from tkinter import *\n",
    "from tkinter.ttk import *\n",
    "from tkinter import messagebox"
   ]
  },
  {
   "cell_type": "code",
   "execution_count": null,
   "metadata": {},
   "outputs": [],
   "source": [
    "def validate():\n",
    "    global t, d, ti, to, r\n",
    "    \n",
    "    newflight = pd.DataFrame(columns=['AirTime','Distance','TaxiIn','TaxiOut',\"DepDelay\"], index=range(1))\n",
    "\n",
    "    t, d, ti, to, r = tiempo_value.get(), distancia_value.get(), taxiin_value.get(), taxiout_value.get(), retraso_value.get()\n",
    "    newflight[\"AirTime\"] = int(t)\n",
    "    newflight[\"Distance\"] = int(d)\n",
    "    newflight[\"TaxiIn\"] = int(ti)\n",
    "    newflight[\"TaxiOut\"] = int(to)\n",
    "    newflight[\"DepDelay\"] = int(r)\n",
    "    \n",
    "    print(\"prediccion\",modelo.predict(newflight)[0])\n",
    "    \n",
    "    if modelo.predict(newflight)[0]:\n",
    "        messagebox.showinfo(\"PREDICCION\",\"Vuelo con retraso esperado\")\n",
    "    else:\n",
    "        messagebox.showinfo(\"PREDICCION\",\"Vuelo sin retraso esperado\")\n",
    "\n",
    "    return \"\""
   ]
  },
  {
   "cell_type": "code",
   "execution_count": null,
   "metadata": {},
   "outputs": [],
   "source": [
    "window = Tk()\n",
    "\n",
    "window.title(\"RandomForest\")\n",
    "window.geometry('350x700')\n",
    "\n",
    "tiempo = Label(window, text=\"Tiempo de vuelo\",font=(\"Arial Bold\", 30))\n",
    "tiempo.grid(column=0, row=6)\n",
    "\n",
    "tiempo_value = Entry(window,width=30)\n",
    "tiempo_value.grid(column=0, row=7,pady=5)\n",
    "\n",
    "distancia = Label(window, text=\"Distancia\",font=(\"Arial Bold\", 30))\n",
    "distancia.grid(column=0, row=8)\n",
    "\n",
    "distancia_value = Entry(window,width=30)\n",
    "distancia_value.grid(column=0, row=9,pady=5)\n",
    "\n",
    "\n",
    "taxiin = Label(window, text=\"Taxi In\",font=(\"Arial Bold\", 30))\n",
    "taxiin.grid(column=0, row=10)\n",
    "\n",
    "taxiin_value = Entry(window,width=30)\n",
    "taxiin_value.grid(column=0, row=11,pady=5)\n",
    "\n",
    "\n",
    "taxiout = Label(window, text=\"Taxi Out\",font=(\"Arial Bold\", 30))\n",
    "taxiout.grid(column=0, row=12)\n",
    "\n",
    "taxiout_value = Entry(window,width=30)\n",
    "taxiout_value.grid(column=0, row=13,pady=5)\n",
    "\n",
    "retraso = Label(window, text=\"Retraso de Salida\",font=(\"Arial Bold\", 30))\n",
    "retraso.grid(column=0, row=14)\n",
    "\n",
    "retraso_value = Entry(window,width=30)\n",
    "retraso_value.grid(column=0, row=15,pady=5)\n",
    "\n",
    "btn = Button(window, text=\"Predecir\",command = validate)\n",
    "btn.grid(column=0, row=18)\n",
    "\n",
    "window.mainloop()"
   ]
  },
  {
   "cell_type": "markdown",
   "metadata": {},
   "source": [
    "# Ejercicios"
   ]
  },
  {
   "cell_type": "markdown",
   "metadata": {},
   "source": [
    "Explora el dataframe breastCancer.csv, el de cars o el de iris (lo importante aquí es la técnica, no los datos concretos)\n",
    "\n",
    "https://www.kaggle.com/datasets/nancyalaswad90/breast-cancer-dataset?resource=download&select=data.csv"
   ]
  },
  {
   "cell_type": "code",
   "execution_count": null,
   "metadata": {},
   "outputs": [],
   "source": []
  },
  {
   "cell_type": "markdown",
   "metadata": {},
   "source": [
    "Añade algunas variables adicionales que puedan servirnos posteriormente. ¿Con qué criterio lo podemos hacer, si desconocemos el campo?"
   ]
  },
  {
   "cell_type": "code",
   "execution_count": null,
   "metadata": {},
   "outputs": [],
   "source": []
  },
  {
   "cell_type": "markdown",
   "metadata": {},
   "source": [
    "**Ajusta un modelo predictivo para anticipar el diagnóstico.** \n",
    "\n",
    "Utiliza una estrategia de validación que te permita estar seguro que estamos haciendo unas buenas predicciones. Prueba primero algunos ejemplos simples de modelos, que te permitan seleccionar cuales pueden funcionar mejor."
   ]
  },
  {
   "cell_type": "code",
   "execution_count": null,
   "metadata": {},
   "outputs": [],
   "source": []
  },
  {
   "cell_type": "markdown",
   "metadata": {},
   "source": [
    "Mejora tanto como puedas el modelo, usando varias de las técnicas que hemos trabajado (Transformaciones, ingeniería de variables, gridsearch...)"
   ]
  },
  {
   "cell_type": "code",
   "execution_count": null,
   "metadata": {},
   "outputs": [],
   "source": []
  },
  {
   "cell_type": "markdown",
   "metadata": {},
   "source": [
    "¿Qué variables son las más útiles para hacer un buen diagnóstico?"
   ]
  },
  {
   "cell_type": "code",
   "execution_count": null,
   "metadata": {},
   "outputs": [],
   "source": []
  },
  {
   "cell_type": "markdown",
   "metadata": {},
   "source": [
    "Crea una aplicación con GUI que, usando las variables más relevantes, te de una predicción. ¿Qué harías con las menos relevantes?"
   ]
  },
  {
   "cell_type": "code",
   "execution_count": null,
   "metadata": {},
   "outputs": [],
   "source": []
  },
  {
   "cell_type": "markdown",
   "metadata": {},
   "source": [
    "##### © Netmind S.L.\n",
    "\n",
    "Todos los derechos reservados. Este documento (v1.00) ha sido diseñado para el uso exclusivo del cliente que atiende a esta formación.\n",
    "\n",
    "Ninguna parte de este documento puede ser reproducida, distribuida o transmitida en cualquier forma o por cualquier medio sin el permiso previo por escrito de Netmind."
   ]
  }
 ],
 "metadata": {
  "kernelspec": {
   "display_name": "Python 3 (ipykernel)",
   "language": "python",
   "name": "python3"
  },
  "language_info": {
   "codemirror_mode": {
    "name": "ipython",
    "version": 3
   },
   "file_extension": ".py",
   "mimetype": "text/x-python",
   "name": "python",
   "nbconvert_exporter": "python",
   "pygments_lexer": "ipython3",
   "version": "3.9.13"
  }
 },
 "nbformat": 4,
 "nbformat_minor": 2
}
