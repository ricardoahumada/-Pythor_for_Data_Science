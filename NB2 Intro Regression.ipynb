{
 "cells": [
  {
   "cell_type": "markdown",
   "metadata": {},
   "source": [
    "# Regression"
   ]
  },
  {
   "cell_type": "code",
   "execution_count": null,
   "metadata": {},
   "outputs": [],
   "source": [
    "import pandas as pd\n",
    "import numpy as np\n",
    "import os\n",
    "from sklearn import datasets, linear_model\n",
    "from sklearn.preprocessing import PolynomialFeatures\n",
    "from sklearn.model_selection import train_test_split\n",
    "from sklearn.metrics import mean_squared_error, r2_score\n",
    "import matplotlib.pyplot as plt\n",
    "from sklearn import preprocessing\n",
    "import seaborn as sns\n",
    "import warnings\n",
    "warnings.filterwarnings(\"ignore\")\n",
    "pd.set_option('display.float_format', lambda x: '%.3f' % x)\n",
    "\n",
    "\n",
    "df = pd.read_csv(os.getcwd() + \"\\\\data\\\\2008_small.csv\",index_col = 0)"
   ]
  },
  {
   "cell_type": "markdown",
   "metadata": {},
   "source": [
    "Construiremos una regresión simple con dos variables que claramente están relacionadas"
   ]
  },
  {
   "cell_type": "code",
   "execution_count": null,
   "metadata": {},
   "outputs": [],
   "source": [
    "df = df.dropna(subset = [\"ArrDelay\"]) # Elimiar NAs basándose en columnas de interés\n",
    "df = df.sample(n = 100000)\n",
    "df = df.drop(columns = [\"Year\", \"Cancelled\", \"Diverted\"])\n",
    "Y = df[\"ArrDelay\"]\n",
    "X = df[[\"DepDelay\"]]"
   ]
  },
  {
   "cell_type": "code",
   "execution_count": null,
   "metadata": {},
   "outputs": [],
   "source": [
    "df.head()"
   ]
  },
  {
   "cell_type": "code",
   "execution_count": null,
   "metadata": {},
   "outputs": [],
   "source": [
    "df.isna().sum()"
   ]
  },
  {
   "cell_type": "code",
   "execution_count": null,
   "metadata": {
    "scrolled": true
   },
   "outputs": [],
   "source": [
    "df.corr()"
   ]
  },
  {
   "cell_type": "code",
   "execution_count": null,
   "metadata": {
    "scrolled": true
   },
   "outputs": [],
   "source": [
    "df.columns"
   ]
  },
  {
   "cell_type": "code",
   "execution_count": null,
   "metadata": {
    "scrolled": true
   },
   "outputs": [],
   "source": [
    "df.head().style.background_gradient(cmap='coolwarm')"
   ]
  },
  {
   "cell_type": "code",
   "execution_count": null,
   "metadata": {},
   "outputs": [],
   "source": [
    "df.corr().style.background_gradient(cmap='coolwarm')"
   ]
  },
  {
   "cell_type": "markdown",
   "metadata": {},
   "source": [
    "Ajustamos el modelo general, que no requiere parámetros"
   ]
  },
  {
   "cell_type": "code",
   "execution_count": null,
   "metadata": {},
   "outputs": [],
   "source": [
    "regr = linear_model.LinearRegression() # Creas el modelo vacío\n",
    "regr.fit(X, Y) # Aprende de los datos\n",
    "Y_pred = regr.predict(X) # Usamos el modelo para generar predicciones "
   ]
  },
  {
   "cell_type": "code",
   "execution_count": null,
   "metadata": {},
   "outputs": [],
   "source": [
    "Y"
   ]
  },
  {
   "cell_type": "code",
   "execution_count": null,
   "metadata": {},
   "outputs": [],
   "source": [
    "Y"
   ]
  },
  {
   "cell_type": "code",
   "execution_count": null,
   "metadata": {},
   "outputs": [],
   "source": [
    "Y_pred"
   ]
  },
  {
   "cell_type": "markdown",
   "metadata": {},
   "source": [
    "Visualizamos los datos, a la vez que mostramos la recta de regresión (predicciones)"
   ]
  },
  {
   "cell_type": "code",
   "execution_count": null,
   "metadata": {},
   "outputs": [],
   "source": [
    "plt.scatter(X[0:10000],Y[0:10000],color = \"black\")\n",
    "plt.plot(X[0:10000].values,Y_pred[0:10000],color=\"Blue\")\n",
    "plt.show()"
   ]
  },
  {
   "cell_type": "code",
   "execution_count": null,
   "metadata": {},
   "outputs": [],
   "source": [
    "sns.lmplot(x=\"DepDelay\", y=\"ArrDelay\", data = df, height=6)"
   ]
  },
  {
   "cell_type": "markdown",
   "metadata": {},
   "source": [
    "Mostramos los coeficientes del modelo, y la métrica $R^2$, que indica un porcentaje de relación"
   ]
  },
  {
   "cell_type": "code",
   "execution_count": null,
   "metadata": {
    "scrolled": true
   },
   "outputs": [],
   "source": [
    "print(\"Pendiente: \",regr.coef_) # Cuanto crece Y, por cada unidad de X\n",
    "print(\"Intercept\", regr.intercept_) #Punto de corte\n",
    "print(\"R cuadrado: \",r2_score(Y, Y_pred)) # % de variabilidad de Y, explicado por X  (Bondad de ajuste)\n",
    "\n",
    "# Y = Intercept + Pendiente * X"
   ]
  },
  {
   "cell_type": "markdown",
   "metadata": {},
   "source": [
    "El 86 % de la variabilidad del retraso de llegada, viene explicado por el retraso de salida"
   ]
  },
  {
   "cell_type": "markdown",
   "metadata": {},
   "source": [
    "Retraso de llegada = 1.018 * retraso de salida - 1.91 min"
   ]
  },
  {
   "cell_type": "code",
   "execution_count": null,
   "metadata": {},
   "outputs": [],
   "source": [
    "retraso salida: 10\n",
    "retraso llegada: 1.018 * 10 - 1.91"
   ]
  },
  {
   "cell_type": "markdown",
   "metadata": {},
   "source": [
    "Flojo < 0.3\n",
    "\n",
    "Moderado < 0.7\n",
    "\n",
    "Intenso >= 0.7"
   ]
  },
  {
   "cell_type": "code",
   "execution_count": null,
   "metadata": {},
   "outputs": [],
   "source": [
    "df[[\"ArrDelay\", \"DepDelay\"]].corr().loc[\"ArrDelay\",\"DepDelay\"] ** 2"
   ]
  },
  {
   "cell_type": "markdown",
   "metadata": {},
   "source": [
    "## Ejercicios"
   ]
  },
  {
   "cell_type": "code",
   "execution_count": null,
   "metadata": {},
   "outputs": [],
   "source": [
    "import seaborn as sns\n",
    "dfCorr = df.corr()\n",
    "filteredDf = dfCorr[((dfCorr >= .5) | (dfCorr <= -.5)) & (dfCorr !=1.000)]\n",
    "filteredDf = filteredDf.dropna(how=\"all\")\n",
    "filteredDf = filteredDf.T.dropna(how=\"all\")\n",
    "plt.figure(figsize=(30,10))\n",
    "sns.heatmap(filteredDf, annot=True, cmap=\"Reds\")\n",
    "plt.show()"
   ]
  },
  {
   "cell_type": "markdown",
   "metadata": {},
   "source": [
    "1. Ajusta varios modelos lineales simples entre pares de variables que consideres relacionadas, escribiendo la ecuación correspondiente y mostrando el gráfico"
   ]
  },
  {
   "cell_type": "code",
   "execution_count": null,
   "metadata": {},
   "outputs": [],
   "source": []
  },
  {
   "cell_type": "markdown",
   "metadata": {},
   "source": [
    "2. Haz una evaluación de los modelos"
   ]
  },
  {
   "cell_type": "code",
   "execution_count": null,
   "metadata": {},
   "outputs": [],
   "source": []
  },
  {
   "cell_type": "markdown",
   "metadata": {},
   "source": [
    "3. (Difícil!!) Usando bucle(s), cruza todas las variables numéricas entre ellas, y muestra cuáles son los modelos más potentes"
   ]
  },
  {
   "cell_type": "code",
   "execution_count": null,
   "metadata": {},
   "outputs": [],
   "source": []
  },
  {
   "cell_type": "markdown",
   "metadata": {},
   "source": [
    "4. Representa gráficamente el error del modelo, cómo lo haríamos?"
   ]
  },
  {
   "cell_type": "code",
   "execution_count": null,
   "metadata": {},
   "outputs": [],
   "source": []
  },
  {
   "cell_type": "markdown",
   "metadata": {},
   "source": [
    "### Regresión Múltiple\n",
    "\n",
    "El modelo de regresión realmente potente es el que considera muchas variables simultaneamente, no solamente una"
   ]
  },
  {
   "cell_type": "code",
   "execution_count": null,
   "metadata": {},
   "outputs": [],
   "source": [
    "df[[\"DepDelay\",\"AirTime\", \"Distance\", \"TaxiIn\", \"TaxiOut\"]].corr()"
   ]
  },
  {
   "cell_type": "code",
   "execution_count": null,
   "metadata": {},
   "outputs": [],
   "source": [
    "Y = df[\"ArrDelay\"]\n",
    "X = df[[\"DepDelay\",\"AirTime\",\"TaxiIn\",\"TaxiOut\"]]\n",
    "\n",
    "regr = linear_model.LinearRegression()\n",
    "regr.fit(X, Y) \n",
    "Y_pred = regr.predict(X) \n",
    "\n",
    "print(\"Pendiente: \",regr.coef_) #Cuanto se incrementa Y, por cada incremento de X, MANTENIENDO LAS DEMÁS VARIABLES CONSTANTES\n",
    "print(\"Intercept\", regr.intercept_) \n",
    "print(\"R cuadrado: \",r2_score(Y, Y_pred)) "
   ]
  },
  {
   "cell_type": "code",
   "execution_count": null,
   "metadata": {},
   "outputs": [],
   "source": [
    "X = df[['AirTime','Distance','TaxiIn','TaxiOut']] \n",
    "\n",
    "df[\"DayOfWeek\"] = df[\"DayOfWeek\"].apply(str)\n",
    "\n",
    "dummies = pd.get_dummies(data=df[['DayOfWeek']]) # Podemos añadirle Origin y Dest\n",
    "X = pd.concat([X, dummies],axis=1)"
   ]
  },
  {
   "cell_type": "code",
   "execution_count": null,
   "metadata": {},
   "outputs": [],
   "source": [
    "X"
   ]
  },
  {
   "cell_type": "code",
   "execution_count": null,
   "metadata": {},
   "outputs": [],
   "source": [
    "regr = linear_model.LinearRegression()\n",
    "regr.fit(X, Y)\n",
    "\n",
    "print(\"Coeficientes: \",regr.coef_) # Cuanto crece Y, por cada unidad de X, manteniendo el resto de variables constantes\n",
    "print(\"Intercept\", regr.intercept_)\n",
    "Y_pred = regr.predict(X)\n",
    "print(\"R cuadrado: \",r2_score(Y, Y_pred))"
   ]
  },
  {
   "cell_type": "code",
   "execution_count": null,
   "metadata": {},
   "outputs": [],
   "source": [
    "X = df[['AirTime','Distance','TaxiIn','TaxiOut']] \n",
    "\n",
    "df[\"Month\"] = df[\"Month\"].apply(str)\n",
    "df[\"DayofMonth\"] = df[\"DayofMonth\"].apply(str)\n",
    "df[\"DayOfWeek\"] = df[\"DayOfWeek\"].apply(str)\n",
    "\n",
    "dummies = pd.get_dummies(data=df[['Month', 'DayofMonth', 'DayOfWeek']]) # Podemos añadirle Origin y Dest\n",
    "X = dummies.add(X,fill_value=0)"
   ]
  },
  {
   "cell_type": "code",
   "execution_count": null,
   "metadata": {},
   "outputs": [],
   "source": [
    "X"
   ]
  },
  {
   "cell_type": "code",
   "execution_count": null,
   "metadata": {},
   "outputs": [],
   "source": [
    "X.columns"
   ]
  },
  {
   "cell_type": "code",
   "execution_count": null,
   "metadata": {
    "scrolled": true
   },
   "outputs": [],
   "source": [
    "regr = linear_model.LinearRegression()\n",
    "regr.fit(X, Y)\n",
    "\n",
    "print(\"Coeficientes: \",regr.coef_) # Cuanto crece Y, por cada unidad de X, manteniendo el resto de variables constantes\n",
    "print(\"Intercept\", regr.intercept_)\n",
    "Y_pred = regr.predict(X)\n",
    "print(\"R cuadrado: \",r2_score(Y, Y_pred))"
   ]
  },
  {
   "cell_type": "markdown",
   "metadata": {},
   "source": [
    "¿Qué pasa cuando añadimos la variable más explicativa...?"
   ]
  },
  {
   "cell_type": "code",
   "execution_count": null,
   "metadata": {},
   "outputs": [],
   "source": [
    "X = X.add(df[[\"DepDelay\"]],fill_value=0)"
   ]
  },
  {
   "cell_type": "code",
   "execution_count": null,
   "metadata": {
    "scrolled": true
   },
   "outputs": [],
   "source": [
    "regr = linear_model.LinearRegression()\n",
    "regr.fit(X, Y)\n",
    "\n",
    "# print(\"Coeficientes: \",regr.coef_)\n",
    "Y_pred = regr.predict(X)\n",
    "print(\"R cuadrado: \",r2_score(Y, Y_pred))"
   ]
  },
  {
   "cell_type": "code",
   "execution_count": null,
   "metadata": {},
   "outputs": [],
   "source": [
    "print(\"Intercept\", regr.intercept_)"
   ]
  },
  {
   "cell_type": "code",
   "execution_count": null,
   "metadata": {
    "scrolled": true
   },
   "outputs": [],
   "source": [
    "print(\"Coeficientes: \",regr.coef_)"
   ]
  },
  {
   "cell_type": "code",
   "execution_count": null,
   "metadata": {},
   "outputs": [],
   "source": [
    "Y_pred"
   ]
  },
  {
   "cell_type": "code",
   "execution_count": null,
   "metadata": {},
   "outputs": [],
   "source": [
    "Y"
   ]
  },
  {
   "cell_type": "markdown",
   "metadata": {},
   "source": [
    "### Ejercicios\n",
    "\n",
    "1. Ajusta el modelo de regresión lineal simple con los datos de iris, intentando predecir la longitud del petalo"
   ]
  },
  {
   "cell_type": "code",
   "execution_count": null,
   "metadata": {},
   "outputs": [],
   "source": []
  },
  {
   "cell_type": "markdown",
   "metadata": {},
   "source": [
    "2. Mejora el modelo anterior usando todas las variables, incluida la especie"
   ]
  },
  {
   "cell_type": "code",
   "execution_count": null,
   "metadata": {},
   "outputs": [],
   "source": []
  },
  {
   "cell_type": "code",
   "execution_count": null,
   "metadata": {},
   "outputs": [],
   "source": [
    "sns.lmplot(data=df,x = \"sepal_length\" ,y = \"petal_length\")"
   ]
  },
  {
   "cell_type": "code",
   "execution_count": null,
   "metadata": {},
   "outputs": [],
   "source": [
    "sns.lmplot(data=df,x = \"sepal_length\" ,y = \"petal_length\", hue = \"species\")"
   ]
  },
  {
   "cell_type": "code",
   "execution_count": null,
   "metadata": {},
   "outputs": [],
   "source": [
    "sns.lmplot(data=df[df.species == \"setosa\"],x = \"sepal_length\" ,y = \"petal_length\")"
   ]
  },
  {
   "cell_type": "markdown",
   "metadata": {},
   "source": [
    "3. Ajusta un modelo de regresión (múltiple o simple) para cada una de las especies. Cuál funciona mejor?!\n",
    "Te atreves a hacerlo con un bucle?"
   ]
  },
  {
   "cell_type": "code",
   "execution_count": null,
   "metadata": {},
   "outputs": [],
   "source": []
  },
  {
   "cell_type": "markdown",
   "metadata": {},
   "source": [
    "(EXTRA) 3.1 Convierte este código a función para usarlo con cualquier dataframe"
   ]
  },
  {
   "cell_type": "code",
   "execution_count": null,
   "metadata": {},
   "outputs": [],
   "source": []
  },
  {
   "cell_type": "markdown",
   "metadata": {},
   "source": [
    "4. El modelo de regresión lineal está fuertemente relacionado con la correlación entre columnas. Crea una matriz de correlaciones que muestre qué columnas tienen más relación entre ellas"
   ]
  },
  {
   "cell_type": "code",
   "execution_count": null,
   "metadata": {},
   "outputs": [],
   "source": []
  },
  {
   "cell_type": "markdown",
   "metadata": {},
   "source": [
    "# Validación interna y externa de los modelos"
   ]
  },
  {
   "cell_type": "markdown",
   "metadata": {},
   "source": [
    "#### Diferencia principal\n",
    "- Con la validación interna *hacemos trampas*, ya que evaluamos el modelo con los mismos datos con el que lo hemos entrenado.\n",
    "- Con la validación externa, usamos unos datos para entrenar el modelo, y otros distintos para evaluarlo. Es mucho mejor, ya que el modelo \"no conoce\" los datos con los que va a ser evaluado"
   ]
  },
  {
   "cell_type": "code",
   "execution_count": null,
   "metadata": {},
   "outputs": [],
   "source": [
    "from sklearn.model_selection import train_test_split\n",
    "\n",
    "df = pd.read_csv(os.getcwd() + \"\\\\data\\\\2008.csv\")\n",
    "df = df.dropna(subset = [\"ArrDelay\"])\n",
    "df = df.sample(frac=1).head(100000)"
   ]
  },
  {
   "cell_type": "code",
   "execution_count": null,
   "metadata": {},
   "outputs": [],
   "source": [
    "X = df[['AirTime','Distance','TaxiIn','TaxiOut']]  # Añadirle el DepDelay es hacer un poco de trampa, ya que hay mucha correlación...\n",
    "# dummies = pd.get_dummies(data=df[['Month', 'DayofMonth', 'DayOfWeek']])\n",
    "# X = dummies.add(X,fill_value=0)\n",
    "\n",
    "Y = df['ArrDelay']"
   ]
  },
  {
   "cell_type": "markdown",
   "metadata": {},
   "source": [
    "Creación del conjunto training y el conjunto test"
   ]
  },
  {
   "cell_type": "code",
   "execution_count": null,
   "metadata": {},
   "outputs": [],
   "source": [
    "X_train, X_test, y_train, y_test = train_test_split(X, Y, test_size=.2, random_state=1)"
   ]
  },
  {
   "cell_type": "markdown",
   "metadata": {},
   "source": [
    "Evaluación interna"
   ]
  },
  {
   "cell_type": "code",
   "execution_count": null,
   "metadata": {},
   "outputs": [],
   "source": [
    "modelo = linear_model.LinearRegression()\n",
    "modelo.fit(X_train, y_train)\n",
    "prediccionesINTERNA = modelo.predict(X_train)\n",
    "print(\"R2: \",r2_score(y_train, prediccionesINTERNA))"
   ]
  },
  {
   "cell_type": "markdown",
   "metadata": {},
   "source": [
    "Evaluación externa"
   ]
  },
  {
   "cell_type": "code",
   "execution_count": null,
   "metadata": {
    "scrolled": true
   },
   "outputs": [],
   "source": [
    "prediccionesEXTERNA = modelo.predict(X_test)\n",
    "print(\"R2: \",r2_score(y_test, prediccionesEXTERNA))"
   ]
  },
  {
   "cell_type": "markdown",
   "metadata": {},
   "source": [
    "PASO FINAL"
   ]
  },
  {
   "cell_type": "code",
   "execution_count": null,
   "metadata": {},
   "outputs": [],
   "source": [
    "regr = linear_model.LinearRegression()\n",
    "regr.fit(X, Y)"
   ]
  },
  {
   "cell_type": "markdown",
   "metadata": {},
   "source": [
    "### Enriquecer los modelos\n",
    "\n",
    "Juntamos algunas de las nuevas variables que hemos aprendido a generar"
   ]
  },
  {
   "cell_type": "code",
   "execution_count": null,
   "metadata": {
    "scrolled": true
   },
   "outputs": [],
   "source": [
    "from sklearn import preprocessing\n",
    "from sklearn.preprocessing import PolynomialFeatures\n",
    "\n",
    "# Columnas básicas\n",
    "df = pd.read_csv(os.getcwd() + \"\\\\data\\\\2008_small.csv\",nrows = 5e5)\n",
    "df = df.dropna(subset = [\"ArrDelay\"])\n",
    "df = df[df.AirTime > 0]\n",
    "\n",
    "df = df.sample(frac=1)\n",
    "\n",
    "X = df[['AirTime','Distance','TaxiIn','TaxiOut']]\n",
    "\n",
    "X.head()"
   ]
  },
  {
   "cell_type": "code",
   "execution_count": null,
   "metadata": {},
   "outputs": [],
   "source": [
    "# Cálculo de polinomios\n",
    "\n",
    "poly = PolynomialFeatures(degree=2)\n",
    "X_poly = poly.fit_transform(X)\n",
    "\n",
    "X = pd.DataFrame(X_poly, columns = poly.get_feature_names(input_features=X.columns))\n",
    "\n",
    "X.head()"
   ]
  },
  {
   "cell_type": "code",
   "execution_count": null,
   "metadata": {
    "scrolled": false
   },
   "outputs": [],
   "source": [
    "# Generar Columnas de interés\n",
    "\n",
    "X[\"VelocidadMedia\"] = X[\"Distance\"] / X[\"AirTime\"] * 60\n",
    "X[\"logAirTime\"] = np.log(X[\"AirTime\"])\n",
    "df[\"Weekends\"] = False\n",
    "df[\"Weekends\"][df.DayOfWeek.isin([6,7])] = True\n",
    "# df[\"Ruta\"] = df[\"Origin\"] + \"-\" + df[\"Dest\"]\n",
    "\n",
    "X.head()"
   ]
  },
  {
   "cell_type": "code",
   "execution_count": null,
   "metadata": {},
   "outputs": [],
   "source": [
    "# Añadir columnas dummies\n",
    "\n",
    "X[\"Month\"] = df[\"Month\"].apply(str).reset_index(drop = True)\n",
    "X[\"DayofMonth\"] = df[\"DayofMonth\"].apply(str).reset_index(drop = True)\n",
    "X[\"DayOfWeek\"] = df[\"DayOfWeek\"].apply(str).reset_index(drop = True)\n",
    "X[\"Origin\"] = df[\"Origin\"]\n",
    "X[\"Dest\"] = df[\"Dest\"]\n",
    "X[\"UniqueCarrier\"] = df['UniqueCarrier']\n",
    "# X[\"Ruta\"] = df[\"Ruta\"]\n",
    "\n",
    "dummies = pd.get_dummies(data=X[['Month', 'DayofMonth', 'DayOfWeek',\"Origin\",\"Dest\",'UniqueCarrier']])\n",
    "\n",
    "\n",
    "X = X.drop(columns = ['Month','DayOfWeek',\"DayofMonth\",\"Origin\",\"1\",\"Dest\",'UniqueCarrier']) # No podemos mantener columnas tipo string\n",
    "\n",
    "X.head()"
   ]
  },
  {
   "cell_type": "markdown",
   "metadata": {},
   "source": [
    "A veces volver a juntar dataframes puede dar algunos problemas, así que podemos solucionarlo con"
   ]
  },
  {
   "cell_type": "code",
   "execution_count": null,
   "metadata": {},
   "outputs": [],
   "source": [
    "for col in dummies.columns:\n",
    "    X[col] = dummies[col]"
   ]
  },
  {
   "cell_type": "code",
   "execution_count": null,
   "metadata": {
    "scrolled": true
   },
   "outputs": [],
   "source": [
    "X.head()"
   ]
  },
  {
   "cell_type": "markdown",
   "metadata": {},
   "source": [
    "#### Ajuste Final del modelo\n",
    "\n",
    "Ajustamos el modelo de regresión ampliado"
   ]
  },
  {
   "cell_type": "code",
   "execution_count": null,
   "metadata": {
    "scrolled": true
   },
   "outputs": [],
   "source": [
    "Y = df['ArrDelay']\n",
    "\n",
    "X_train, X_test, y_train, y_test = train_test_split(X, Y, test_size=.2, random_state=2)\n",
    "\n",
    "regr = linear_model.LinearRegression()\n",
    "regr.fit(X_train, y_train)\n",
    "\n",
    "prediccionesINTERNA = regr.predict(X_train)\n",
    "print(\"R2 INTERNA: \",r2_score(y_train, prediccionesINTERNA))\n",
    "\n",
    "prediccionesEXTERNA = regr.predict(X_test)\n",
    "print(\"R2 EXTERNA: \",r2_score(y_test, prediccionesEXTERNA))"
   ]
  },
  {
   "cell_type": "markdown",
   "metadata": {},
   "source": [
    "### Ejercicio final\n",
    "\n",
    "Intenta aplicar algunos de los apartados que hemos visto en este ejemplo sobre los datos iris (o otro dataset de tu elección). Es especialmente importante la parte de validación interna y externa."
   ]
  },
  {
   "cell_type": "markdown",
   "metadata": {},
   "source": [
    "Puedes añadir alguna variable adicional, o algún tipo de preprocesamiento al modelo"
   ]
  },
  {
   "cell_type": "code",
   "execution_count": null,
   "metadata": {},
   "outputs": [],
   "source": []
  },
  {
   "cell_type": "markdown",
   "metadata": {},
   "source": [
    "Representa gráficamente los resultados\n",
    "\n",
    "¡Explora algunas opciones adicionales!\n",
    "\n",
    "https://seaborn.pydata.org/tutorial/regression.html"
   ]
  },
  {
   "cell_type": "markdown",
   "metadata": {},
   "source": [
    "© Netmind S.L.\n",
    "\n",
    "Todos los derechos reservados. Este documento (v1.00) ha sido diseñado para el uso exclusivo del cliente que atiende a esta formación.\n",
    "\n",
    "Ninguna parte de este documento puede ser reproducida, distribuida o transmitida en cualquier forma o por cualquier medio sin el permiso previo por escrito de Netmind."
   ]
  }
 ],
 "metadata": {
  "kernelspec": {
   "display_name": "Python 3 (ipykernel)",
   "language": "python",
   "name": "python3"
  },
  "language_info": {
   "codemirror_mode": {
    "name": "ipython",
    "version": 3
   },
   "file_extension": ".py",
   "mimetype": "text/x-python",
   "name": "python",
   "nbconvert_exporter": "python",
   "pygments_lexer": "ipython3",
   "version": "3.9.13"
  }
 },
 "nbformat": 4,
 "nbformat_minor": 2
}
